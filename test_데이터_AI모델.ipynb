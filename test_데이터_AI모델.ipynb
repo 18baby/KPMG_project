{
 "cells": [
  {
   "cell_type": "code",
   "execution_count": 1,
   "id": "5a4aa67c",
   "metadata": {},
   "outputs": [],
   "source": [
    "import re\n",
    "import numpy as np\n",
    "import pandas as pd\n",
    "import pickle\n",
    "import joblib\n",
    "import torch\n",
    "import torch.nn as nn\n",
    "from torch.utils.data import Dataset, DataLoader\n",
    "from transformers import AutoTokenizer, AdamW, get_linear_schedule_with_warmup\n",
    "from torch.optim import AdamW\n",
    "from tqdm import tqdm\n",
    "from sklearn.utils.class_weight import compute_class_weight\n",
    "from sklearn.preprocessing import LabelEncoder\n",
    "from sklearn.metrics import accuracy_score, confusion_matrix, precision_score, recall_score, f1_score, classification_report\n",
    "\n",
    "# 사용 모델\n",
    "from sklearn.ensemble import RandomForestClassifier\n",
    "import lib.EncoderModel as mm\n",
    "\n",
    "# 함수들 불러오기\n",
    "import lib.functions as f"
   ]
  },
  {
   "cell_type": "markdown",
   "id": "c0d24d4e",
   "metadata": {},
   "source": [
    "# 평가에 이용되는 함수 정의"
   ]
  },
  {
   "cell_type": "code",
   "execution_count": 2,
   "id": "c750827c",
   "metadata": {},
   "outputs": [],
   "source": [
    "# 1차 filter용 데이터셋 정의 -> (조문 + 조문제목) [embedding vector화 + 배치화]\n",
    "class CustomDataset1(Dataset):\n",
    "    def __init__(self, dataframe, tokenizer):\n",
    "        self.data = dataframe\n",
    "        self.tokenizer = tokenizer\n",
    "\n",
    "    def __len__(self):\n",
    "        return len(self.data)\n",
    "\n",
    "    def __getitem__(self, idx):\n",
    "        # '조문'과 '법령명' 칼럼의 데이터를 안전하게 문자열로 변환하고 결합\n",
    "        text1 = str(self.data.iloc[idx]['조문'])\n",
    "        text2 = str(self.data.iloc[idx]['조문제목'])\n",
    "        text_data = text1 + \" // \" + text2\n",
    "        label = torch.tensor(self.data.iloc[idx]['사무판단'], dtype=torch.long)\n",
    "\n",
    "        # 결합된 텍스트를 토크나이징\n",
    "        tokenized_data = tokenizer([text_data], padding='max_length', max_length=512, truncation=True, return_tensors='pt')\n",
    "\n",
    "        return {\n",
    "            'input_ids': tokenized_data['input_ids'].squeeze(),\n",
    "            'attention_mask': tokenized_data['attention_mask'].squeeze(),\n",
    "            'labels': label\n",
    "        }"
   ]
  },
  {
   "cell_type": "code",
   "execution_count": 3,
   "id": "249c83e9",
   "metadata": {},
   "outputs": [],
   "source": [
    "# 2차 filter용 데이터셋 정의 -> (법령명 + 조문제목 + 수행주체) [embedding vector화 + 배치화]\n",
    "class CustomDataset2(Dataset):\n",
    "    def __init__(self, dataframe, tokenizer):\n",
    "        self.data = dataframe\n",
    "        self.tokenizer = tokenizer\n",
    "\n",
    "    def __len__(self):\n",
    "        return len(self.data)\n",
    "\n",
    "    def __getitem__(self, idx):\n",
    "        # '조문'과 '법령명' 칼럼의 데이터를 안전하게 문자열로 변환하고 결합\n",
    "        text1 = str(self.data.iloc[idx]['법령명'])\n",
    "        text2 = str(self.data.iloc[idx]['조문제목'])\n",
    "        text3 = str(self.data.iloc[idx]['수행주체(문자열)'])\n",
    "        text_data = text1 + \" // \" + text2 + \" // \" + text3\n",
    "        label = torch.tensor(self.data.iloc[idx]['사무유형(대분류)'], dtype=torch.long)\n",
    "\n",
    "        # 결합된 텍스트를 토크나이징\n",
    "        tokenized_data = tokenizer([text_data], padding='max_length', max_length=128, truncation=True, return_tensors='pt')\n",
    "\n",
    "        return {\n",
    "            'input_ids': tokenized_data['input_ids'].squeeze(),\n",
    "            'attention_mask': tokenized_data['attention_mask'].squeeze(),\n",
    "            'labels': label\n",
    "        }"
   ]
  },
  {
   "cell_type": "code",
   "execution_count": 4,
   "id": "a6dc55bc",
   "metadata": {},
   "outputs": [],
   "source": [
    "# 각 배치의 텍스트 길이를 맞추기\n",
    "def collate_fn(batch):\n",
    "    input_ids = [item['input_ids'] for item in batch]\n",
    "    attention_mask = [item['attention_mask'] for item in batch]\n",
    "    labels = [item['labels'] for item in batch]\n",
    "\n",
    "    # 패딩 적용\n",
    "    input_ids = torch.nn.utils.rnn.pad_sequence(input_ids, batch_first=True, padding_value=tokenizer.pad_token_id)\n",
    "    attention_mask = torch.nn.utils.rnn.pad_sequence(attention_mask, batch_first=True, padding_value=0)\n",
    "\n",
    "    return {'input_ids': input_ids, 'attention_mask': attention_mask, 'labels': torch.stack(labels)}\n"
   ]
  },
  {
   "cell_type": "code",
   "execution_count": 5,
   "id": "cec7ebbe",
   "metadata": {},
   "outputs": [],
   "source": [
    "# 평가 결과 확인\n",
    "def cal_result(preds, y):\n",
    "    conf_matrix = confusion_matrix(y, preds)\n",
    "    accuracy = accuracy_score(y, preds)\n",
    "    precision = precision_score(y, preds)\n",
    "    recall = recall_score(y, preds)\n",
    "    f1 = f1_score(y, preds)\n",
    "    \n",
    "    # 결과 출력\n",
    "    print(f\"Accuracy: {accuracy}\")\n",
    "    print(f\"Precision: {precision}\")\n",
    "    print(f\"Recall: {recall}\")\n",
    "    print(f\"F1-Score: {f1}\")\n",
    "    print(\"Confusion Matrix:\")\n",
    "    print(conf_matrix)"
   ]
  },
  {
   "cell_type": "code",
   "execution_count": 6,
   "id": "4c2408da",
   "metadata": {},
   "outputs": [],
   "source": [
    "def cal_result2(preds, y):\n",
    "    conf_matrix = confusion_matrix(y, preds)\n",
    "    print('혼동행렬')\n",
    "    print(conf_matrix)\n",
    "    accuracy = accuracy_score(y, preds)\n",
    "    print(f'정확도: {accuracy}')\n",
    "    class_report = classification_report(y, preds)\n",
    "    print('Classification Report:')\n",
    "    print(class_report)\n",
    "    \n",
    "    return conf_matrix"
   ]
  },
  {
   "cell_type": "code",
   "execution_count": 7,
   "id": "736193f1",
   "metadata": {},
   "outputs": [],
   "source": [
    "# 대분류 라벨 생성\n",
    "def make_large_type_else(df):\n",
    "    type1 = ['국가사무']\n",
    "    type2 = ['시도사무', '시군구사무', '시도-시군구 공동사무']\n",
    "    type3 = ['국가-시도-시군구 공동사무', '국가-시군구공동사무', '국가-시도 공동사무']\n",
    "    df['사무유형(대분류)'] = 0    # 0, NaN 값들은 0으로 초기화\n",
    "    \n",
    "    for name in type1:\n",
    "        df.loc[(df['사무유형(국가사무, 시도사무, 시군구사무)']==name), '사무유형(대분류)'] = 1\n",
    "    for name in type2:\n",
    "        df.loc[(df['사무유형(국가사무, 시도사무, 시군구사무)']==name), '사무유형(대분류)'] = 2\n",
    "    for name in type3:\n",
    "        df.loc[(df['사무유형(국가사무, 시도사무, 시군구사무)']==name), '사무유형(대분류)'] = 3\n",
    "    return df"
   ]
  },
  {
   "cell_type": "markdown",
   "id": "cd4368b7",
   "metadata": {},
   "source": [
    "# 1. 데이터 입력"
   ]
  },
  {
   "cell_type": "code",
   "execution_count": 8,
   "id": "082e6feb",
   "metadata": {},
   "outputs": [
    {
     "name": "stdout",
     "output_type": "stream",
     "text": [
      "<class 'pandas.core.frame.DataFrame'>\n",
      "RangeIndex: 956 entries, 0 to 955\n",
      "Data columns (total 26 columns):\n",
      " #   Column                       Non-Null Count  Dtype  \n",
      "---  ------                       --------------  -----  \n",
      " 0   부처                           924 non-null    object \n",
      " 1   법령명                          924 non-null    object \n",
      " 2   법령구분                         924 non-null    float64\n",
      " 3   조번호                          924 non-null    float64\n",
      " 4   항번호                          924 non-null    object \n",
      " 5   호번호                          924 non-null    float64\n",
      " 6   조문제목                         924 non-null    object \n",
      " 7   조                            924 non-null    object \n",
      " 8   조문                           924 non-null    object \n",
      " 9   사무판단                         574 non-null    float64\n",
      " 10  사무판단근거                       286 non-null    object \n",
      " 11  사무명                          151 non-null    object \n",
      " 12  수행주체(수행기관)(국가, 지방자치단체, 기관)   348 non-null    object \n",
      " 13  사무유형(국가사무, 시도사무, 시군구사무)      352 non-null    object \n",
      " 14  사무유형(소분류)(직접처리사무,공동사무,위탁사무)  348 non-null    object \n",
      " 15  위임사무판단                       4 non-null      object \n",
      " 16  위임근거규정                       2 non-null      object \n",
      " 17  수임기관                         0 non-null      float64\n",
      " 18  특행기관                         7 non-null      object \n",
      " 19  재위임사무판단                      0 non-null      float64\n",
      " 20  재위임근거규정                      0 non-null      float64\n",
      " 21  재수임기관                        0 non-null      float64\n",
      " 22  위탁사무판단                       11 non-null     float64\n",
      " 23  위탁근거규정                       2 non-null      object \n",
      " 24  수탁기관                         12 non-null     object \n",
      " 25  Unnamed: 25                  14 non-null     object \n",
      "dtypes: float64(9), object(17)\n",
      "memory usage: 194.3+ KB\n"
     ]
    }
   ],
   "source": [
    "test_df = pd.read_excel('data/2023 update law_1027_1214_예측대상.xlsx')\n",
    "test_df.info()"
   ]
  },
  {
   "cell_type": "markdown",
   "id": "850112c6",
   "metadata": {},
   "source": [
    "# 2. 데이터 전처리"
   ]
  },
  {
   "cell_type": "code",
   "execution_count": 9,
   "id": "d0807217",
   "metadata": {},
   "outputs": [],
   "source": [
    "test_df = make_large_type_else(test_df)\n",
    "test_df = f.x_null_drop(test_df)\n",
    "test_df = f.x_wrong_drop(test_df)\n",
    "test_df = f.no_work_check(test_df)\n",
    "test_df = f.make_large_type(test_df)"
   ]
  },
  {
   "cell_type": "code",
   "execution_count": 10,
   "id": "6a4d9d31",
   "metadata": {},
   "outputs": [
    {
     "data": {
      "text/plain": [
       "(905, 5)"
      ]
     },
     "execution_count": 10,
     "metadata": {},
     "output_type": "execute_result"
    }
   ],
   "source": [
    "# 결과 저장 데이터 프레임 생성\n",
    "check_cols = ['법령명' ,'조문제목', '조문', '사무판단', '사무유형(대분류)']\n",
    "sub_df = test_df.loc[:, check_cols].copy()\n",
    "sub_df.shape"
   ]
  },
  {
   "cell_type": "markdown",
   "id": "0eb3c763",
   "metadata": {},
   "source": [
    "# 3. Rule-Base 적용"
   ]
  },
  {
   "cell_type": "code",
   "execution_count": 11,
   "id": "b02eb96d",
   "metadata": {},
   "outputs": [],
   "source": [
    "sub_df = f.rule_based(sub_df)  # rule_base 조문 확인\n",
    "\n",
    "# rule_base로 걸러낸 조문들\n",
    "rule_base_filter_idx = sub_df.loc[sub_df['rule_based']==0, :].index"
   ]
  },
  {
   "cell_type": "markdown",
   "id": "5da44c2d",
   "metadata": {},
   "source": [
    "# 4. 1차 사무판단\n",
    "## encoder 모델"
   ]
  },
  {
   "cell_type": "markdown",
   "id": "b2168e11",
   "metadata": {},
   "source": [
    "* encoder 구조 생성"
   ]
  },
  {
   "cell_type": "code",
   "execution_count": 12,
   "id": "26a00c91",
   "metadata": {},
   "outputs": [
    {
     "data": {
      "text/plain": [
       "MyModel(\n",
       "  (encoder): MyEncoder(\n",
       "    (layers): ModuleList(\n",
       "      (0): MyEncoderLayer(\n",
       "        (self_attention): MultiheadAttention(\n",
       "          (out_proj): NonDynamicallyQuantizableLinear(in_features=512, out_features=512, bias=True)\n",
       "        )\n",
       "        (feedforward): Sequential(\n",
       "          (0): Linear(in_features=512, out_features=1024, bias=True)\n",
       "          (1): ReLU()\n",
       "          (2): Linear(in_features=1024, out_features=512, bias=True)\n",
       "        )\n",
       "        (layer_norm1): LayerNorm((512,), eps=1e-05, elementwise_affine=True)\n",
       "        (layer_norm2): LayerNorm((512,), eps=1e-05, elementwise_affine=True)\n",
       "        (dropout): Dropout(p=0.1, inplace=False)\n",
       "      )\n",
       "    )\n",
       "  )\n",
       "  (layer1): Linear(in_features=512, out_features=256, bias=True)\n",
       "  (batch_norm): BatchNorm1d(256, eps=1e-05, momentum=0.1, affine=True, track_running_stats=True)\n",
       "  (relu): ReLU()\n",
       "  (layer2): Linear(in_features=256, out_features=2, bias=True)\n",
       ")"
      ]
     },
     "execution_count": 12,
     "metadata": {},
     "output_type": "execute_result"
    }
   ],
   "source": [
    "# 모델 및 토크나이저 불러오기\n",
    "model_name = 'klue/roberta-large'\n",
    "tokenizer = AutoTokenizer.from_pretrained(model_name)\n",
    "\n",
    "# 모델 기본 구조 설정\n",
    "input_size = 512\n",
    "hidden_size = 256\n",
    "output_size = 2\n",
    "num_encoder_layers = 1\n",
    "device = torch.device('cuda' if torch.cuda.is_available() else 'cpu')\n",
    "\n",
    "model = mm.MyModel(input_size, hidden_size, output_size, num_encoder_layers)\n",
    "model.to(device)"
   ]
  },
  {
   "cell_type": "markdown",
   "id": "e2f1a0c1",
   "metadata": {},
   "source": [
    "* 학습된 encoder 불러오기"
   ]
  },
  {
   "cell_type": "code",
   "execution_count": 13,
   "id": "b0ded757",
   "metadata": {},
   "outputs": [
    {
     "data": {
      "text/plain": [
       "<All keys matched successfully>"
      ]
     },
     "execution_count": 13,
     "metadata": {},
     "output_type": "execute_result"
    }
   ],
   "source": [
    "model_path = 'pickles/encoder_model_f1_all.pth'  # Provide the correct path\n",
    "model.load_state_dict(torch.load(model_path, map_location=device))"
   ]
  },
  {
   "cell_type": "markdown",
   "id": "57b32871",
   "metadata": {},
   "source": [
    "* 모델 평가"
   ]
  },
  {
   "cell_type": "code",
   "execution_count": 14,
   "id": "6e626039",
   "metadata": {},
   "outputs": [],
   "source": [
    "# 데이터로더 생성\n",
    "batch_size = 16  # 배치크기 조절\n",
    "\n",
    "test_dataset = CustomDataset1(sub_df, tokenizer)\n",
    "test_loader = DataLoader(test_dataset, batch_size=batch_size, shuffle=False, collate_fn=collate_fn)"
   ]
  },
  {
   "cell_type": "code",
   "execution_count": 15,
   "id": "a4c6f90b",
   "metadata": {},
   "outputs": [
    {
     "name": "stderr",
     "output_type": "stream",
     "text": [
      "Validation: 100%|██████████████████████████████| 57/57 [00:00<00:00, 154.04it/s]"
     ]
    },
    {
     "name": "stdout",
     "output_type": "stream",
     "text": [
      "tensor(0.6586)\n"
     ]
    },
    {
     "name": "stderr",
     "output_type": "stream",
     "text": [
      "\n"
     ]
    }
   ],
   "source": [
    "model.eval()\n",
    "\n",
    "test_loss = 0\n",
    "probs = []\n",
    "\n",
    "with torch.no_grad():\n",
    "    for batch in tqdm(test_loader, desc=f'Validation'):\n",
    "        inputs = {key: value.to(device) for key, value in batch.items() if key != 'labels'}\n",
    "        labels = batch['labels'].to(device)\n",
    "\n",
    "        # 모델에 토큰화된 입력 데이터 전달\n",
    "        outputs = model(**inputs).float()\n",
    "        test_loss += torch.nn.functional.cross_entropy(outputs, labels.long())\n",
    "        \n",
    "        # 소프트맥스를 적용하여 확률값 얻기\n",
    "        probs_batch = torch.nn.functional.softmax(outputs, dim=1)\n",
    "        probs.append(probs_batch.cpu().numpy())\n",
    "\n",
    "# 손실 계산\n",
    "avg_test_loss = test_loss / len(test_loader)\n",
    "\n",
    "# 확률값을 하나의 배열로 통합\n",
    "probs = np.concatenate(probs, axis=0)\n",
    "\n",
    "print(avg_test_loss)"
   ]
  },
  {
   "cell_type": "code",
   "execution_count": 16,
   "id": "7161f217",
   "metadata": {},
   "outputs": [],
   "source": [
    "# 결과 확률 저장\n",
    "prob_1 = probs[:, 1]\n",
    "prob_1 = [round(prob, 5) for prob in prob_1]"
   ]
  },
  {
   "cell_type": "code",
   "execution_count": 17,
   "id": "042a696b",
   "metadata": {},
   "outputs": [
    {
     "data": {
      "text/html": [
       "<div>\n",
       "<style scoped>\n",
       "    .dataframe tbody tr th:only-of-type {\n",
       "        vertical-align: middle;\n",
       "    }\n",
       "\n",
       "    .dataframe tbody tr th {\n",
       "        vertical-align: top;\n",
       "    }\n",
       "\n",
       "    .dataframe thead th {\n",
       "        text-align: right;\n",
       "    }\n",
       "</style>\n",
       "<table border=\"1\" class=\"dataframe\">\n",
       "  <thead>\n",
       "    <tr style=\"text-align: right;\">\n",
       "      <th></th>\n",
       "      <th>법령명</th>\n",
       "      <th>조문제목</th>\n",
       "      <th>조문</th>\n",
       "      <th>사무판단</th>\n",
       "      <th>사무유형(대분류)</th>\n",
       "      <th>rule_based</th>\n",
       "    </tr>\n",
       "  </thead>\n",
       "  <tbody>\n",
       "    <tr>\n",
       "      <th>0</th>\n",
       "      <td>개인정보 보호법</td>\n",
       "      <td>국가 등의 책무</td>\n",
       "      <td>③ 국가와 지방자치단체는 만 14세 미만 아동이 개인정보 처리가 미치는 영향과 ...</td>\n",
       "      <td>1</td>\n",
       "      <td>3</td>\n",
       "      <td>1</td>\n",
       "    </tr>\n",
       "  </tbody>\n",
       "</table>\n",
       "</div>"
      ],
      "text/plain": [
       "        법령명      조문제목                                                 조문  \\\n",
       "0  개인정보 보호법  국가 등의 책무    ③ 국가와 지방자치단체는 만 14세 미만 아동이 개인정보 처리가 미치는 영향과 ...   \n",
       "\n",
       "   사무판단  사무유형(대분류)  rule_based  \n",
       "0     1          3           1  "
      ]
     },
     "execution_count": 17,
     "metadata": {},
     "output_type": "execute_result"
    }
   ],
   "source": [
    "sub_df.head(1)"
   ]
  },
  {
   "cell_type": "markdown",
   "id": "11ca4784",
   "metadata": {},
   "source": [
    "## 1차 사무판단 진행"
   ]
  },
  {
   "cell_type": "code",
   "execution_count": 18,
   "id": "c4493e6c",
   "metadata": {},
   "outputs": [],
   "source": [
    "threshold = 0.251    # test 결과로 확인한 threshold\n",
    "\n",
    "sub_df['사무판단 예측'] = 0\n",
    "sub_df['사무판단 예측확률'] = prob_1\n",
    "\n",
    "# 1차 사무판단\n",
    "sub_df.loc[sub_df['사무판단 예측확률'] >= threshold, '사무판단 예측'] = 1\n",
    "\n",
    "sub_df.loc[rule_base_filter_idx, '사무판단 예측'] = 0   # rule-base 결과 적용"
   ]
  },
  {
   "cell_type": "code",
   "execution_count": 19,
   "id": "8d721294",
   "metadata": {},
   "outputs": [],
   "source": [
    "#sub_df.loc[(sub_df['사무예측 결과']==0)&(sub_df['사무판단']!=0), :]    # 모델 예측 결과 틀린 부분"
   ]
  },
  {
   "cell_type": "code",
   "execution_count": 20,
   "id": "ebd40751",
   "metadata": {},
   "outputs": [
    {
     "name": "stdout",
     "output_type": "stream",
     "text": [
      "Accuracy: 0.46519337016574586\n",
      "Precision: 0.39974937343358397\n",
      "Recall: 0.9845679012345679\n",
      "F1-Score: 0.5686274509803921\n",
      "Confusion Matrix:\n",
      "[[102 479]\n",
      " [  5 319]]\n"
     ]
    }
   ],
   "source": [
    "# 1차 필터링 결과\n",
    "cal_result(sub_df['사무판단 예측'], sub_df['사무판단'])"
   ]
  },
  {
   "cell_type": "markdown",
   "id": "af3fc551",
   "metadata": {},
   "source": [
    "## 1차 filtering 결과"
   ]
  },
  {
   "cell_type": "code",
   "execution_count": 21,
   "id": "b88f8cad",
   "metadata": {},
   "outputs": [
    {
     "data": {
      "text/html": [
       "<div>\n",
       "<style scoped>\n",
       "    .dataframe tbody tr th:only-of-type {\n",
       "        vertical-align: middle;\n",
       "    }\n",
       "\n",
       "    .dataframe tbody tr th {\n",
       "        vertical-align: top;\n",
       "    }\n",
       "\n",
       "    .dataframe thead th {\n",
       "        text-align: right;\n",
       "    }\n",
       "</style>\n",
       "<table border=\"1\" class=\"dataframe\">\n",
       "  <thead>\n",
       "    <tr style=\"text-align: right;\">\n",
       "      <th></th>\n",
       "      <th>법령명</th>\n",
       "      <th>조문제목</th>\n",
       "      <th>조문</th>\n",
       "      <th>사무판단</th>\n",
       "      <th>사무유형(대분류)</th>\n",
       "      <th>rule_based</th>\n",
       "      <th>사무판단 예측</th>\n",
       "      <th>사무판단 예측확률</th>\n",
       "    </tr>\n",
       "  </thead>\n",
       "  <tbody>\n",
       "    <tr>\n",
       "      <th>0</th>\n",
       "      <td>개인정보 보호법</td>\n",
       "      <td>국가 등의 책무</td>\n",
       "      <td>③ 국가와 지방자치단체는 만 14세 미만 아동이 개인정보 처리가 미치는 영향과 ...</td>\n",
       "      <td>1</td>\n",
       "      <td>3</td>\n",
       "      <td>1</td>\n",
       "      <td>1</td>\n",
       "      <td>0.71948</td>\n",
       "    </tr>\n",
       "  </tbody>\n",
       "</table>\n",
       "</div>"
      ],
      "text/plain": [
       "        법령명      조문제목                                                 조문  \\\n",
       "0  개인정보 보호법  국가 등의 책무    ③ 국가와 지방자치단체는 만 14세 미만 아동이 개인정보 처리가 미치는 영향과 ...   \n",
       "\n",
       "   사무판단  사무유형(대분류)  rule_based  사무판단 예측  사무판단 예측확률  \n",
       "0     1          3           1        1    0.71948  "
      ]
     },
     "execution_count": 21,
     "metadata": {},
     "output_type": "execute_result"
    }
   ],
   "source": [
    "# 1차 filter 결과\n",
    "first_filtered_df = sub_df.loc[sub_df['사무판단 예측']==1, :].copy()\n",
    "first_filtered_df.head(1)"
   ]
  },
  {
   "cell_type": "markdown",
   "id": "1dee57fa",
   "metadata": {},
   "source": [
    "# 4. 2차 사무판단 + 사무유형 판단\n",
    "* 사무로 판단되었을때 실행"
   ]
  },
  {
   "cell_type": "markdown",
   "id": "9727123b",
   "metadata": {},
   "source": [
    "## Encoder Model"
   ]
  },
  {
   "cell_type": "code",
   "execution_count": 22,
   "id": "72e9486e",
   "metadata": {},
   "outputs": [],
   "source": [
    "input_size = 128\n",
    "hidden_size = 64\n",
    "output_size = 4\n",
    "\n",
    "total_encoder = mm.MyModel(input_size, hidden_size, output_size)"
   ]
  },
  {
   "cell_type": "code",
   "execution_count": 23,
   "id": "129929ac",
   "metadata": {},
   "outputs": [
    {
     "data": {
      "text/plain": [
       "<All keys matched successfully>"
      ]
     },
     "execution_count": 23,
     "metadata": {},
     "output_type": "execute_result"
    }
   ],
   "source": [
    "model_path2 = 'pickles/encoder_model_f2_all.pth'  # Provide the correct path\n",
    "total_encoder.load_state_dict(torch.load(model_path2, map_location=device))"
   ]
  },
  {
   "cell_type": "markdown",
   "id": "05df11f2",
   "metadata": {},
   "source": [
    "* 수행주체 추출"
   ]
  },
  {
   "cell_type": "code",
   "execution_count": 24,
   "id": "5aaa4270",
   "metadata": {},
   "outputs": [],
   "source": [
    "# 수행주체 종류 불러오기\n",
    "with open('pickles/subject_list.pkl', 'rb') as file:\n",
    "    subject_list = pickle.load(file)"
   ]
  },
  {
   "cell_type": "code",
   "execution_count": 25,
   "id": "9d1cfc4e",
   "metadata": {},
   "outputs": [
    {
     "name": "stderr",
     "output_type": "stream",
     "text": [
      "Processing rows: 100%|██████████████████████| 798/798 [00:00<00:00, 5606.53it/s]\n"
     ]
    }
   ],
   "source": [
    "# 수행주체(문자열, 리스트 추가)\n",
    "first_filtered_df = f.new_subject_make(first_filtered_df, subject_list, tqdm)"
   ]
  },
  {
   "cell_type": "code",
   "execution_count": 26,
   "id": "fba93a5d",
   "metadata": {},
   "outputs": [
    {
     "name": "stdout",
     "output_type": "stream",
     "text": [
      "<class 'pandas.core.frame.DataFrame'>\n",
      "Int64Index: 798 entries, 0 to 955\n",
      "Data columns (total 10 columns):\n",
      " #   Column      Non-Null Count  Dtype  \n",
      "---  ------      --------------  -----  \n",
      " 0   법령명         798 non-null    object \n",
      " 1   조문제목        798 non-null    object \n",
      " 2   조문          798 non-null    object \n",
      " 3   사무판단        798 non-null    int64  \n",
      " 4   사무유형(대분류)   798 non-null    int64  \n",
      " 5   rule_based  798 non-null    int64  \n",
      " 6   사무판단 예측     798 non-null    int64  \n",
      " 7   사무판단 예측확률   798 non-null    float32\n",
      " 8   수행주체(리스트)   798 non-null    object \n",
      " 9   수행주체(문자열)   798 non-null    object \n",
      "dtypes: float32(1), int64(4), object(5)\n",
      "memory usage: 97.8+ KB\n"
     ]
    }
   ],
   "source": [
    "first_filtered_df.info()"
   ]
  },
  {
   "cell_type": "code",
   "execution_count": 27,
   "id": "a0b11f0d",
   "metadata": {},
   "outputs": [],
   "source": [
    "# 데이터로더 생성\n",
    "batch_size = 16  # 배치크기 조절\n",
    "\n",
    "total_dataset = CustomDataset2(first_filtered_df, tokenizer)\n",
    "total_loader = DataLoader(total_dataset, batch_size=batch_size, shuffle=False, collate_fn=collate_fn)"
   ]
  },
  {
   "cell_type": "code",
   "execution_count": 28,
   "id": "8d4a7202",
   "metadata": {},
   "outputs": [],
   "source": [
    "# 2차 인코더 가중치 학습\n",
    "class_weights = [0.2969,  2.2733,  9.0880, 12.1487]\n",
    "class_weights = torch.tensor(class_weights, dtype=torch.float32)"
   ]
  },
  {
   "cell_type": "code",
   "execution_count": 29,
   "id": "753613fc",
   "metadata": {},
   "outputs": [
    {
     "name": "stderr",
     "output_type": "stream",
     "text": [
      "Test: 100%|████████████████████████████████████| 50/50 [00:00<00:00, 283.56it/s]"
     ]
    },
    {
     "name": "stdout",
     "output_type": "stream",
     "text": [
      "Test Loss: 1.3529672622680664\n"
     ]
    },
    {
     "name": "stderr",
     "output_type": "stream",
     "text": [
      "\n"
     ]
    }
   ],
   "source": [
    "total_encoder.eval()\n",
    "val_loss = 0.0\n",
    "y_true = []  # 실제 레이블을 저장할 리스트\n",
    "y_pred = []  # 모델의 예측 결과를 저장할 리스트\n",
    "y_probs = [] # 사무유형별 확률 저장할 리스트\n",
    "with torch.no_grad():\n",
    "    for batch in tqdm(total_loader, desc=f'Test'):\n",
    "        inputs = {key: value.to(device) for key, value in batch.items() if key != 'labels'}\n",
    "        labels = batch['labels'].to(device)\n",
    "\n",
    "        # 모델에 토큰화된 입력 데이터 전달\n",
    "        outputs = total_encoder(**inputs).float()\n",
    "        \n",
    "        probs = torch.nn.functional.softmax(outputs, dim=1)\n",
    "        y_probs.extend(probs.cpu().numpy())\n",
    "        _, predictions = torch.max(outputs, 1)\n",
    "        y_true.extend(labels.cpu().numpy())\n",
    "        y_pred.extend(predictions.cpu().numpy())\n",
    "        val_loss += torch.nn.functional.cross_entropy(outputs, labels, weight=class_weights)\n",
    "\n",
    "avg_val_loss = val_loss / len(total_loader)\n",
    "print(f'Test Loss: {avg_val_loss}')"
   ]
  },
  {
   "cell_type": "code",
   "execution_count": 30,
   "id": "924d2608",
   "metadata": {},
   "outputs": [],
   "source": [
    "probs = pd.DataFrame(y_probs)\n",
    "probs = probs.set_index(first_filtered_df.index)\n",
    "\n",
    "# 인코더 결과 저장\n",
    "encoder_result_df = f.make_result_df(pd, y_true, y_pred, probs[0], probs[1], probs[2], probs[3])"
   ]
  },
  {
   "cell_type": "code",
   "execution_count": 31,
   "id": "58e2f961",
   "metadata": {},
   "outputs": [
    {
     "data": {
      "text/html": [
       "<div>\n",
       "<style scoped>\n",
       "    .dataframe tbody tr th:only-of-type {\n",
       "        vertical-align: middle;\n",
       "    }\n",
       "\n",
       "    .dataframe tbody tr th {\n",
       "        vertical-align: top;\n",
       "    }\n",
       "\n",
       "    .dataframe thead th {\n",
       "        text-align: right;\n",
       "    }\n",
       "</style>\n",
       "<table border=\"1\" class=\"dataframe\">\n",
       "  <thead>\n",
       "    <tr style=\"text-align: right;\">\n",
       "      <th></th>\n",
       "      <th>사무유형(대분류)</th>\n",
       "      <th>사무유형(대분류) 예측</th>\n",
       "      <th>비사무 확률</th>\n",
       "      <th>국가 확률</th>\n",
       "      <th>지방 확률</th>\n",
       "      <th>공동 확률</th>\n",
       "    </tr>\n",
       "  </thead>\n",
       "  <tbody>\n",
       "    <tr>\n",
       "      <th>0</th>\n",
       "      <td>3</td>\n",
       "      <td>0</td>\n",
       "      <td>0.34137</td>\n",
       "      <td>0.30984</td>\n",
       "      <td>0.13518</td>\n",
       "      <td>0.21361</td>\n",
       "    </tr>\n",
       "    <tr>\n",
       "      <th>1</th>\n",
       "      <td>0</td>\n",
       "      <td>0</td>\n",
       "      <td>0.53890</td>\n",
       "      <td>0.21358</td>\n",
       "      <td>0.08057</td>\n",
       "      <td>0.16695</td>\n",
       "    </tr>\n",
       "    <tr>\n",
       "      <th>2</th>\n",
       "      <td>0</td>\n",
       "      <td>0</td>\n",
       "      <td>0.42994</td>\n",
       "      <td>0.24136</td>\n",
       "      <td>0.13480</td>\n",
       "      <td>0.19389</td>\n",
       "    </tr>\n",
       "    <tr>\n",
       "      <th>3</th>\n",
       "      <td>0</td>\n",
       "      <td>0</td>\n",
       "      <td>0.50787</td>\n",
       "      <td>0.24565</td>\n",
       "      <td>0.08548</td>\n",
       "      <td>0.16100</td>\n",
       "    </tr>\n",
       "    <tr>\n",
       "      <th>4</th>\n",
       "      <td>0</td>\n",
       "      <td>0</td>\n",
       "      <td>0.53112</td>\n",
       "      <td>0.20586</td>\n",
       "      <td>0.08917</td>\n",
       "      <td>0.17385</td>\n",
       "    </tr>\n",
       "    <tr>\n",
       "      <th>...</th>\n",
       "      <td>...</td>\n",
       "      <td>...</td>\n",
       "      <td>...</td>\n",
       "      <td>...</td>\n",
       "      <td>...</td>\n",
       "      <td>...</td>\n",
       "    </tr>\n",
       "    <tr>\n",
       "      <th>951</th>\n",
       "      <td>2</td>\n",
       "      <td>1</td>\n",
       "      <td>0.25254</td>\n",
       "      <td>0.32641</td>\n",
       "      <td>0.26755</td>\n",
       "      <td>0.15351</td>\n",
       "    </tr>\n",
       "    <tr>\n",
       "      <th>952</th>\n",
       "      <td>1</td>\n",
       "      <td>0</td>\n",
       "      <td>0.53202</td>\n",
       "      <td>0.22297</td>\n",
       "      <td>0.14500</td>\n",
       "      <td>0.10001</td>\n",
       "    </tr>\n",
       "    <tr>\n",
       "      <th>953</th>\n",
       "      <td>1</td>\n",
       "      <td>1</td>\n",
       "      <td>0.20129</td>\n",
       "      <td>0.32805</td>\n",
       "      <td>0.22061</td>\n",
       "      <td>0.25005</td>\n",
       "    </tr>\n",
       "    <tr>\n",
       "      <th>954</th>\n",
       "      <td>1</td>\n",
       "      <td>2</td>\n",
       "      <td>0.24101</td>\n",
       "      <td>0.26328</td>\n",
       "      <td>0.27869</td>\n",
       "      <td>0.21701</td>\n",
       "    </tr>\n",
       "    <tr>\n",
       "      <th>955</th>\n",
       "      <td>0</td>\n",
       "      <td>0</td>\n",
       "      <td>0.56589</td>\n",
       "      <td>0.16846</td>\n",
       "      <td>0.12900</td>\n",
       "      <td>0.13665</td>\n",
       "    </tr>\n",
       "  </tbody>\n",
       "</table>\n",
       "<p>798 rows × 6 columns</p>\n",
       "</div>"
      ],
      "text/plain": [
       "     사무유형(대분류)  사무유형(대분류) 예측   비사무 확률    국가 확률    지방 확률    공동 확률\n",
       "0            3             0  0.34137  0.30984  0.13518  0.21361\n",
       "1            0             0  0.53890  0.21358  0.08057  0.16695\n",
       "2            0             0  0.42994  0.24136  0.13480  0.19389\n",
       "3            0             0  0.50787  0.24565  0.08548  0.16100\n",
       "4            0             0  0.53112  0.20586  0.08917  0.17385\n",
       "..         ...           ...      ...      ...      ...      ...\n",
       "951          2             1  0.25254  0.32641  0.26755  0.15351\n",
       "952          1             0  0.53202  0.22297  0.14500  0.10001\n",
       "953          1             1  0.20129  0.32805  0.22061  0.25005\n",
       "954          1             2  0.24101  0.26328  0.27869  0.21701\n",
       "955          0             0  0.56589  0.16846  0.12900  0.13665\n",
       "\n",
       "[798 rows x 6 columns]"
      ]
     },
     "execution_count": 31,
     "metadata": {},
     "output_type": "execute_result"
    }
   ],
   "source": [
    "encoder_result_df"
   ]
  },
  {
   "cell_type": "code",
   "execution_count": 32,
   "id": "a419f967",
   "metadata": {},
   "outputs": [
    {
     "name": "stdout",
     "output_type": "stream",
     "text": [
      "혼동행렬\n",
      "[[357  87  24   7]\n",
      " [120  73  27   1]\n",
      " [ 26  19  16   2]\n",
      " [ 12  13  11   3]]\n",
      "정확도: 0.5626566416040101\n",
      "Classification Report:\n",
      "              precision    recall  f1-score   support\n",
      "\n",
      "           0       0.69      0.75      0.72       475\n",
      "           1       0.38      0.33      0.35       221\n",
      "           2       0.21      0.25      0.23        63\n",
      "           3       0.23      0.08      0.12        39\n",
      "\n",
      "    accuracy                           0.56       798\n",
      "   macro avg       0.38      0.35      0.35       798\n",
      "weighted avg       0.55      0.56      0.55       798\n",
      "\n"
     ]
    },
    {
     "data": {
      "text/plain": [
       "array([[357,  87,  24,   7],\n",
       "       [120,  73,  27,   1],\n",
       "       [ 26,  19,  16,   2],\n",
       "       [ 12,  13,  11,   3]])"
      ]
     },
     "execution_count": 32,
     "metadata": {},
     "output_type": "execute_result"
    }
   ],
   "source": [
    "# 결과 확인\n",
    "cal_result2(encoder_result_df['사무유형(대분류) 예측'], encoder_result_df['사무유형(대분류)'])"
   ]
  },
  {
   "cell_type": "markdown",
   "id": "bfd094b4",
   "metadata": {},
   "source": [
    "## Random Forest"
   ]
  },
  {
   "cell_type": "code",
   "execution_count": 33,
   "id": "a29add8d",
   "metadata": {},
   "outputs": [],
   "source": [
    "rf_2_filtered_df = first_filtered_df.copy()"
   ]
  },
  {
   "cell_type": "code",
   "execution_count": 34,
   "id": "20dbcd71",
   "metadata": {},
   "outputs": [],
   "source": [
    "# RF 모델 불러오기\n",
    "with open('pickles/rf_model_f2_all.pkl', 'rb') as file:\n",
    "    model_2_rf = pickle.load(file)"
   ]
  },
  {
   "cell_type": "code",
   "execution_count": 35,
   "id": "5aa0afe8",
   "metadata": {},
   "outputs": [
    {
     "data": {
      "text/html": [
       "<div>\n",
       "<style scoped>\n",
       "    .dataframe tbody tr th:only-of-type {\n",
       "        vertical-align: middle;\n",
       "    }\n",
       "\n",
       "    .dataframe tbody tr th {\n",
       "        vertical-align: top;\n",
       "    }\n",
       "\n",
       "    .dataframe thead th {\n",
       "        text-align: right;\n",
       "    }\n",
       "</style>\n",
       "<table border=\"1\" class=\"dataframe\">\n",
       "  <thead>\n",
       "    <tr style=\"text-align: right;\">\n",
       "      <th></th>\n",
       "      <th>법령명</th>\n",
       "      <th>조문제목</th>\n",
       "      <th>조문</th>\n",
       "      <th>사무판단</th>\n",
       "      <th>사무유형(대분류)</th>\n",
       "      <th>rule_based</th>\n",
       "      <th>사무판단 예측</th>\n",
       "      <th>사무판단 예측확률</th>\n",
       "      <th>수행주체(리스트)</th>\n",
       "      <th>수행주체(문자열)</th>\n",
       "    </tr>\n",
       "  </thead>\n",
       "  <tbody>\n",
       "    <tr>\n",
       "      <th>0</th>\n",
       "      <td>개인정보 보호법</td>\n",
       "      <td>국가 등의 책무</td>\n",
       "      <td>③ 국가와 지방자치단체는 만 14세 미만 아동이 개인정보 처리가 미치는 영향과 ...</td>\n",
       "      <td>1</td>\n",
       "      <td>3</td>\n",
       "      <td>1</td>\n",
       "      <td>1</td>\n",
       "      <td>0.71948</td>\n",
       "      <td>[국가, 단체, 지방자치단체]</td>\n",
       "      <td>국가 단체 지방자치단체</td>\n",
       "    </tr>\n",
       "  </tbody>\n",
       "</table>\n",
       "</div>"
      ],
      "text/plain": [
       "        법령명      조문제목                                                 조문  \\\n",
       "0  개인정보 보호법  국가 등의 책무    ③ 국가와 지방자치단체는 만 14세 미만 아동이 개인정보 처리가 미치는 영향과 ...   \n",
       "\n",
       "   사무판단  사무유형(대분류)  rule_based  사무판단 예측  사무판단 예측확률         수행주체(리스트)  \\\n",
       "0     1          3           1        1    0.71948  [국가, 단체, 지방자치단체]   \n",
       "\n",
       "      수행주체(문자열)  \n",
       "0  국가 단체 지방자치단체  "
      ]
     },
     "execution_count": 35,
     "metadata": {},
     "output_type": "execute_result"
    }
   ],
   "source": [
    "rf_2_filtered_df.head(1)"
   ]
  },
  {
   "cell_type": "code",
   "execution_count": 36,
   "id": "04f4c9ba",
   "metadata": {},
   "outputs": [],
   "source": [
    "# 법령명 통합\n",
    "rf_2_filtered_df['법령명'] = rf_2_filtered_df['법령명'].apply(lambda x: re.sub(r'\\s?시행령|\\s?시행규칙', '', x))"
   ]
  },
  {
   "cell_type": "code",
   "execution_count": 37,
   "id": "08720889",
   "metadata": {},
   "outputs": [],
   "source": [
    "# 새로운 컬럼을 이용하기 위한 수행주체 count dictionary\n",
    "with open('pickles/subject_dic_f2_all.pkl', 'rb') as file:\n",
    "    subject_dic = pickle.load(file)"
   ]
  },
  {
   "cell_type": "code",
   "execution_count": 38,
   "id": "8c8ef009",
   "metadata": {},
   "outputs": [
    {
     "name": "stderr",
     "output_type": "stream",
     "text": [
      "Processing rows: 100%|██████████████████████| 798/798 [00:00<00:00, 5855.80it/s]\n"
     ]
    }
   ],
   "source": [
    "# 수행주체 기준 새로운 열 생성\n",
    "rf_2_filtered_df = f.score_subject(rf_2_filtered_df,subject_dic,tqdm)"
   ]
  },
  {
   "cell_type": "code",
   "execution_count": 39,
   "id": "feb2b581",
   "metadata": {},
   "outputs": [],
   "source": [
    "select_column = ['법령명', 'score_subject_nan', 'score_subject_n', 'score_subject_r', 'score_subject_p']\n",
    "rf_2_filtered_label = rf_2_filtered_df['사무유형(대분류)']\n",
    "rf_2_filtered_input = rf_2_filtered_df[select_column]"
   ]
  },
  {
   "cell_type": "code",
   "execution_count": 40,
   "id": "1ada9f90",
   "metadata": {},
   "outputs": [
    {
     "name": "stderr",
     "output_type": "stream",
     "text": [
      "/var/folders/zr/_f1rgf8n0w3541q9k8p3smhr0000gn/T/ipykernel_69438/253750670.py:3: SettingWithCopyWarning: \n",
      "A value is trying to be set on a copy of a slice from a DataFrame.\n",
      "Try using .loc[row_indexer,col_indexer] = value instead\n",
      "\n",
      "See the caveats in the documentation: https://pandas.pydata.org/pandas-docs/stable/user_guide/indexing.html#returning-a-view-versus-a-copy\n",
      "  rf_2_filtered_input['법령명'] = le.fit_transform(rf_2_filtered_input['법령명']) # train set에는 fit_transform\n"
     ]
    }
   ],
   "source": [
    "# '법령명' label encoding 진행\n",
    "le = LabelEncoder()\n",
    "rf_2_filtered_input['법령명'] = le.fit_transform(rf_2_filtered_input['법령명']) # train set에는 fit_transform"
   ]
  },
  {
   "cell_type": "code",
   "execution_count": 41,
   "id": "bca8bc69",
   "metadata": {},
   "outputs": [],
   "source": [
    "# rf 결과 추출\n",
    "y_pred_rf = model_2_rf.predict(rf_2_filtered_input)\n",
    "y_prob_rf = model_2_rf.predict_proba(rf_2_filtered_input)"
   ]
  },
  {
   "cell_type": "code",
   "execution_count": 42,
   "id": "9ac57434",
   "metadata": {},
   "outputs": [],
   "source": [
    "# rf 결과 데이터프레임 생성\n",
    "rf_probs = pd.DataFrame(y_prob_rf)\n",
    "rf_probs = rf_probs.set_index(first_filtered_df.index)\n",
    "\n",
    "rf_result_df = f.make_result_df(pd, rf_2_filtered_label, y_pred_rf, rf_probs[0], rf_probs[1], rf_probs[2], rf_probs[3])"
   ]
  },
  {
   "cell_type": "code",
   "execution_count": 43,
   "id": "f9ad411a",
   "metadata": {},
   "outputs": [
    {
     "name": "stdout",
     "output_type": "stream",
     "text": [
      "혼동행렬\n",
      "[[418  31  24   2]\n",
      " [167  53   1   0]\n",
      " [ 50   0  12   1]\n",
      " [ 30   2   0   7]]\n",
      "정확도: 0.6140350877192983\n",
      "Classification Report:\n",
      "              precision    recall  f1-score   support\n",
      "\n",
      "           0       0.63      0.88      0.73       475\n",
      "           1       0.62      0.24      0.35       221\n",
      "           2       0.32      0.19      0.24        63\n",
      "           3       0.70      0.18      0.29        39\n",
      "\n",
      "    accuracy                           0.61       798\n",
      "   macro avg       0.57      0.37      0.40       798\n",
      "weighted avg       0.60      0.61      0.57       798\n",
      "\n"
     ]
    },
    {
     "data": {
      "text/plain": [
       "array([[418,  31,  24,   2],\n",
       "       [167,  53,   1,   0],\n",
       "       [ 50,   0,  12,   1],\n",
       "       [ 30,   2,   0,   7]])"
      ]
     },
     "execution_count": 43,
     "metadata": {},
     "output_type": "execute_result"
    }
   ],
   "source": [
    "# rf 결과 확인\n",
    "cal_result2(rf_result_df['사무유형(대분류) 예측'], rf_result_df['사무유형(대분류)'])"
   ]
  },
  {
   "cell_type": "markdown",
   "id": "6fa76b63",
   "metadata": {},
   "source": [
    "## Ensemble"
   ]
  },
  {
   "cell_type": "code",
   "execution_count": 44,
   "id": "fc888f5f",
   "metadata": {},
   "outputs": [],
   "source": [
    "pred = [0]*len(y_prob_rf)\n",
    "e_prob0 = (rf_result_df['비사무 확률'] + encoder_result_df['비사무 확률'])/2\n",
    "e_prob1 = (rf_result_df['국가 확률'] + encoder_result_df['국가 확률'])/2\n",
    "e_prob2 = (rf_result_df['지방 확률'] + encoder_result_df['지방 확률'])/2\n",
    "e_prob3 = (rf_result_df['공동 확률'] + encoder_result_df['공동 확률'])/2\n",
    "\n",
    "ensemble_result_df_11 = f.make_result_df(pd, rf_2_filtered_label, pred, e_prob0, e_prob1, e_prob2, e_prob3)\n",
    "ensemble_result_df_11['수행주체(리스트)'] = rf_2_filtered_df['수행주체(리스트)']"
   ]
  },
  {
   "cell_type": "code",
   "execution_count": 45,
   "id": "42108fb5",
   "metadata": {},
   "outputs": [],
   "source": [
    "# 앙상블 사무유형 판단 저장\n",
    "ensemble_result_df_11 = f.make_ensemble_pred(ensemble_result_df_11)\n",
    "ensemble_result_df_11['사무유형(대분류) 예측'] = ensemble_result_df_11['사무유형(대분류) 예측'].astype(int)\n",
    "ensemble_result_df_11['rule_based'] = first_filtered_df['rule_based']"
   ]
  },
  {
   "cell_type": "code",
   "execution_count": 46,
   "id": "fd810908",
   "metadata": {},
   "outputs": [
    {
     "name": "stdout",
     "output_type": "stream",
     "text": [
      "혼동행렬\n",
      "[[437  25  12   1]\n",
      " [165  56   0   0]\n",
      " [ 51   0  11   1]\n",
      " [ 30   3   1   5]]\n",
      "정확도: 0.6378446115288221\n",
      "Classification Report:\n",
      "              precision    recall  f1-score   support\n",
      "\n",
      "           0       0.64      0.92      0.75       475\n",
      "           1       0.67      0.25      0.37       221\n",
      "           2       0.46      0.17      0.25        63\n",
      "           3       0.71      0.13      0.22        39\n",
      "\n",
      "    accuracy                           0.64       798\n",
      "   macro avg       0.62      0.37      0.40       798\n",
      "weighted avg       0.64      0.64      0.58       798\n",
      "\n"
     ]
    },
    {
     "data": {
      "text/plain": [
       "array([[437,  25,  12,   1],\n",
       "       [165,  56,   0,   0],\n",
       "       [ 51,   0,  11,   1],\n",
       "       [ 30,   3,   1,   5]])"
      ]
     },
     "execution_count": 46,
     "metadata": {},
     "output_type": "execute_result"
    }
   ],
   "source": [
    "# 앙살블 결과 확인\n",
    "cal_result2(ensemble_result_df_11['사무유형(대분류) 예측'], ensemble_result_df_11['사무유형(대분류)'])"
   ]
  },
  {
   "cell_type": "code",
   "execution_count": 47,
   "id": "5273616b",
   "metadata": {},
   "outputs": [],
   "source": [
    "# 확실/주의 나누기 [확실: need_to_check = 0 / 주의: need_to_check = 1]\n",
    "ensemble_result_df_11, good_df, bad_df = f.make_need_to_check(ensemble_result_df_11,\n",
    "                                                           rf_result_df, encoder_result_df)"
   ]
  },
  {
   "cell_type": "code",
   "execution_count": 48,
   "id": "5a7a638d",
   "metadata": {},
   "outputs": [
    {
     "data": {
      "text/html": [
       "<div>\n",
       "<style scoped>\n",
       "    .dataframe tbody tr th:only-of-type {\n",
       "        vertical-align: middle;\n",
       "    }\n",
       "\n",
       "    .dataframe tbody tr th {\n",
       "        vertical-align: top;\n",
       "    }\n",
       "\n",
       "    .dataframe thead th {\n",
       "        text-align: right;\n",
       "    }\n",
       "</style>\n",
       "<table border=\"1\" class=\"dataframe\">\n",
       "  <thead>\n",
       "    <tr style=\"text-align: right;\">\n",
       "      <th></th>\n",
       "      <th>사무유형(대분류)</th>\n",
       "      <th>사무유형(대분류) 예측</th>\n",
       "      <th>비사무 확률</th>\n",
       "      <th>국가 확률</th>\n",
       "      <th>지방 확률</th>\n",
       "      <th>공동 확률</th>\n",
       "      <th>수행주체(리스트)</th>\n",
       "      <th>rule_based</th>\n",
       "      <th>need_to_check</th>\n",
       "    </tr>\n",
       "  </thead>\n",
       "  <tbody>\n",
       "    <tr>\n",
       "      <th>0</th>\n",
       "      <td>3</td>\n",
       "      <td>0</td>\n",
       "      <td>0.62209</td>\n",
       "      <td>0.15492</td>\n",
       "      <td>0.06759</td>\n",
       "      <td>0.1554</td>\n",
       "      <td>[국가, 단체, 지방자치단체]</td>\n",
       "      <td>1</td>\n",
       "      <td>0</td>\n",
       "    </tr>\n",
       "  </tbody>\n",
       "</table>\n",
       "</div>"
      ],
      "text/plain": [
       "   사무유형(대분류)  사무유형(대분류) 예측   비사무 확률    국가 확률    지방 확률   공동 확률  \\\n",
       "0          3             0  0.62209  0.15492  0.06759  0.1554   \n",
       "\n",
       "          수행주체(리스트)  rule_based  need_to_check  \n",
       "0  [국가, 단체, 지방자치단체]           1              0  "
      ]
     },
     "execution_count": 48,
     "metadata": {},
     "output_type": "execute_result"
    }
   ],
   "source": [
    "ensemble_result_df_11.head(1)"
   ]
  },
  {
   "cell_type": "code",
   "execution_count": 49,
   "id": "bb24e0df",
   "metadata": {},
   "outputs": [
    {
     "name": "stdout",
     "output_type": "stream",
     "text": [
      "혼동행렬\n",
      "[[310   8   0   0]\n",
      " [ 91  18   0   0]\n",
      " [ 20   0   4   0]\n",
      " [  9   1   0   1]]\n",
      "정확도: 0.7207792207792207\n",
      "Classification Report:\n",
      "              precision    recall  f1-score   support\n",
      "\n",
      "           0       0.72      0.97      0.83       318\n",
      "           1       0.67      0.17      0.26       109\n",
      "           2       1.00      0.17      0.29        24\n",
      "           3       1.00      0.09      0.17        11\n",
      "\n",
      "    accuracy                           0.72       462\n",
      "   macro avg       0.85      0.35      0.39       462\n",
      "weighted avg       0.73      0.72      0.65       462\n",
      "\n"
     ]
    },
    {
     "data": {
      "text/plain": [
       "array([[310,   8,   0,   0],\n",
       "       [ 91,  18,   0,   0],\n",
       "       [ 20,   0,   4,   0],\n",
       "       [  9,   1,   0,   1]])"
      ]
     },
     "execution_count": 49,
     "metadata": {},
     "output_type": "execute_result"
    }
   ],
   "source": [
    "# 확실 결과\n",
    "cal_result2(good_df['사무유형(대분류) 예측'].tolist(), good_df['사무유형(대분류)'].tolist())"
   ]
  },
  {
   "cell_type": "code",
   "execution_count": 50,
   "id": "aed3847a",
   "metadata": {},
   "outputs": [
    {
     "name": "stdout",
     "output_type": "stream",
     "text": [
      "혼동행렬\n",
      "[[127  17  12   1]\n",
      " [ 74  38   0   0]\n",
      " [ 31   0   7   1]\n",
      " [ 21   2   1   4]]\n",
      "정확도: 0.5238095238095238\n",
      "Classification Report:\n",
      "              precision    recall  f1-score   support\n",
      "\n",
      "           0       0.50      0.81      0.62       157\n",
      "           1       0.67      0.34      0.45       112\n",
      "           2       0.35      0.18      0.24        39\n",
      "           3       0.67      0.14      0.24        28\n",
      "\n",
      "    accuracy                           0.52       336\n",
      "   macro avg       0.55      0.37      0.39       336\n",
      "weighted avg       0.55      0.52      0.49       336\n",
      "\n"
     ]
    },
    {
     "data": {
      "text/plain": [
       "array([[127,  17,  12,   1],\n",
       "       [ 74,  38,   0,   0],\n",
       "       [ 31,   0,   7,   1],\n",
       "       [ 21,   2,   1,   4]])"
      ]
     },
     "execution_count": 50,
     "metadata": {},
     "output_type": "execute_result"
    }
   ],
   "source": [
    "# 애매 결과\n",
    "cal_result2(bad_df['사무유형(대분류) 예측'].tolist(), bad_df['사무유형(대분류)'].tolist())"
   ]
  },
  {
   "cell_type": "markdown",
   "id": "2e344a8e",
   "metadata": {},
   "source": [
    "## 2차 filter 결과 저장"
   ]
  },
  {
   "cell_type": "code",
   "execution_count": 51,
   "id": "bdc953d1",
   "metadata": {},
   "outputs": [],
   "source": [
    "sencond_filtered_df = ensemble_result_df_11.copy()   # 2차 필터 결과 저장"
   ]
  },
  {
   "cell_type": "code",
   "execution_count": 52,
   "id": "767a9555",
   "metadata": {},
   "outputs": [
    {
     "name": "stdout",
     "output_type": "stream",
     "text": [
      "혼동행렬\n",
      "[[437  25  12   1]\n",
      " [165  56   0   0]\n",
      " [ 51   0  11   1]\n",
      " [ 30   3   1   5]]\n",
      "정확도: 0.6378446115288221\n",
      "Classification Report:\n",
      "              precision    recall  f1-score   support\n",
      "\n",
      "           0       0.64      0.92      0.75       475\n",
      "           1       0.67      0.25      0.37       221\n",
      "           2       0.46      0.17      0.25        63\n",
      "           3       0.71      0.13      0.22        39\n",
      "\n",
      "    accuracy                           0.64       798\n",
      "   macro avg       0.62      0.37      0.40       798\n",
      "weighted avg       0.64      0.64      0.58       798\n",
      "\n"
     ]
    },
    {
     "data": {
      "text/plain": [
       "array([[437,  25,  12,   1],\n",
       "       [165,  56,   0,   0],\n",
       "       [ 51,   0,  11,   1],\n",
       "       [ 30,   3,   1,   5]])"
      ]
     },
     "execution_count": 52,
     "metadata": {},
     "output_type": "execute_result"
    }
   ],
   "source": [
    "# 2차 filter 결과 확인\n",
    "cal_result2(sencond_filtered_df['사무유형(대분류) 예측'], sencond_filtered_df['사무유형(대분류)'])"
   ]
  },
  {
   "cell_type": "code",
   "execution_count": 53,
   "id": "72c61a97",
   "metadata": {},
   "outputs": [
    {
     "name": "stdout",
     "output_type": "stream",
     "text": [
      "주의 사무 개수: 336\n",
      "주의에서 틀린 개수: 160\n",
      "주의에서 맞은 개수: 176\n",
      "------------------\n",
      "확실 사무 개수: 462\n",
      "확실에서 틀린 개수: 129\n",
      "확실에서 맞은 개수: 333\n",
      "============\n",
      "확실 정확도: 0.7207792207792207\n",
      "애매 정확도: 0.5238095238095238\n"
     ]
    }
   ],
   "source": [
    "# 2차 filter (확실/주의)결과 확인\n",
    "h_ratio, j_ratio = f.check_result(sencond_filtered_df)"
   ]
  },
  {
   "cell_type": "code",
   "execution_count": 54,
   "id": "5dc41d8b",
   "metadata": {},
   "outputs": [
    {
     "data": {
      "text/html": [
       "<div>\n",
       "<style scoped>\n",
       "    .dataframe tbody tr th:only-of-type {\n",
       "        vertical-align: middle;\n",
       "    }\n",
       "\n",
       "    .dataframe tbody tr th {\n",
       "        vertical-align: top;\n",
       "    }\n",
       "\n",
       "    .dataframe thead th {\n",
       "        text-align: right;\n",
       "    }\n",
       "</style>\n",
       "<table border=\"1\" class=\"dataframe\">\n",
       "  <thead>\n",
       "    <tr style=\"text-align: right;\">\n",
       "      <th></th>\n",
       "      <th>사무유형(대분류)</th>\n",
       "      <th>사무유형(대분류) 예측</th>\n",
       "      <th>비사무 확률</th>\n",
       "      <th>국가 확률</th>\n",
       "      <th>지방 확률</th>\n",
       "      <th>공동 확률</th>\n",
       "      <th>수행주체(리스트)</th>\n",
       "      <th>rule_based</th>\n",
       "      <th>need_to_check</th>\n",
       "    </tr>\n",
       "  </thead>\n",
       "  <tbody>\n",
       "    <tr>\n",
       "      <th>0</th>\n",
       "      <td>3</td>\n",
       "      <td>0</td>\n",
       "      <td>0.62209</td>\n",
       "      <td>0.15492</td>\n",
       "      <td>0.06759</td>\n",
       "      <td>0.1554</td>\n",
       "      <td>[국가, 단체, 지방자치단체]</td>\n",
       "      <td>1</td>\n",
       "      <td>0</td>\n",
       "    </tr>\n",
       "  </tbody>\n",
       "</table>\n",
       "</div>"
      ],
      "text/plain": [
       "   사무유형(대분류)  사무유형(대분류) 예측   비사무 확률    국가 확률    지방 확률   공동 확률  \\\n",
       "0          3             0  0.62209  0.15492  0.06759  0.1554   \n",
       "\n",
       "          수행주체(리스트)  rule_based  need_to_check  \n",
       "0  [국가, 단체, 지방자치단체]           1              0  "
      ]
     },
     "execution_count": 54,
     "metadata": {},
     "output_type": "execute_result"
    }
   ],
   "source": [
    "sencond_filtered_df.head(1)"
   ]
  },
  {
   "cell_type": "code",
   "execution_count": 55,
   "id": "900e1ce5",
   "metadata": {},
   "outputs": [
    {
     "data": {
      "text/html": [
       "<div>\n",
       "<style scoped>\n",
       "    .dataframe tbody tr th:only-of-type {\n",
       "        vertical-align: middle;\n",
       "    }\n",
       "\n",
       "    .dataframe tbody tr th {\n",
       "        vertical-align: top;\n",
       "    }\n",
       "\n",
       "    .dataframe thead th {\n",
       "        text-align: right;\n",
       "    }\n",
       "</style>\n",
       "<table border=\"1\" class=\"dataframe\">\n",
       "  <thead>\n",
       "    <tr style=\"text-align: right;\">\n",
       "      <th></th>\n",
       "      <th>법령명</th>\n",
       "      <th>조문제목</th>\n",
       "      <th>조문</th>\n",
       "      <th>사무판단</th>\n",
       "      <th>사무유형(대분류)</th>\n",
       "      <th>rule_based</th>\n",
       "      <th>사무판단 예측</th>\n",
       "      <th>사무판단 예측확률</th>\n",
       "    </tr>\n",
       "  </thead>\n",
       "  <tbody>\n",
       "    <tr>\n",
       "      <th>0</th>\n",
       "      <td>개인정보 보호법</td>\n",
       "      <td>국가 등의 책무</td>\n",
       "      <td>③ 국가와 지방자치단체는 만 14세 미만 아동이 개인정보 처리가 미치는 영향과 ...</td>\n",
       "      <td>1</td>\n",
       "      <td>3</td>\n",
       "      <td>1</td>\n",
       "      <td>1</td>\n",
       "      <td>0.71948</td>\n",
       "    </tr>\n",
       "  </tbody>\n",
       "</table>\n",
       "</div>"
      ],
      "text/plain": [
       "        법령명      조문제목                                                 조문  \\\n",
       "0  개인정보 보호법  국가 등의 책무    ③ 국가와 지방자치단체는 만 14세 미만 아동이 개인정보 처리가 미치는 영향과 ...   \n",
       "\n",
       "   사무판단  사무유형(대분류)  rule_based  사무판단 예측  사무판단 예측확률  \n",
       "0     1          3           1        1    0.71948  "
      ]
     },
     "execution_count": 55,
     "metadata": {},
     "output_type": "execute_result"
    }
   ],
   "source": [
    "sub_df.head(1)"
   ]
  },
  {
   "cell_type": "code",
   "execution_count": 56,
   "id": "7a5095ba",
   "metadata": {},
   "outputs": [
    {
     "data": {
      "text/html": [
       "<div>\n",
       "<style scoped>\n",
       "    .dataframe tbody tr th:only-of-type {\n",
       "        vertical-align: middle;\n",
       "    }\n",
       "\n",
       "    .dataframe tbody tr th {\n",
       "        vertical-align: top;\n",
       "    }\n",
       "\n",
       "    .dataframe thead th {\n",
       "        text-align: right;\n",
       "    }\n",
       "</style>\n",
       "<table border=\"1\" class=\"dataframe\">\n",
       "  <thead>\n",
       "    <tr style=\"text-align: right;\">\n",
       "      <th></th>\n",
       "      <th>법령명</th>\n",
       "      <th>조문제목</th>\n",
       "      <th>조문</th>\n",
       "      <th>사무판단</th>\n",
       "      <th>사무유형(대분류)</th>\n",
       "      <th>rule_based</th>\n",
       "      <th>사무판단 예측</th>\n",
       "      <th>사무판단 예측확률</th>\n",
       "      <th>수행주체</th>\n",
       "      <th>사무유형(대분류) 결과</th>\n",
       "      <th>비사무 확률</th>\n",
       "      <th>국가 확률</th>\n",
       "      <th>지방 확률</th>\n",
       "      <th>공동 확률</th>\n",
       "      <th>need_to_check</th>\n",
       "    </tr>\n",
       "  </thead>\n",
       "  <tbody>\n",
       "    <tr>\n",
       "      <th>0</th>\n",
       "      <td>개인정보 보호법</td>\n",
       "      <td>국가 등의 책무</td>\n",
       "      <td>③ 국가와 지방자치단체는 만 14세 미만 아동이 개인정보 처리가 미치는 영향과 ...</td>\n",
       "      <td>1</td>\n",
       "      <td>3</td>\n",
       "      <td>1.0</td>\n",
       "      <td>1</td>\n",
       "      <td>0.71948</td>\n",
       "      <td>[국가, 단체, 지방자치단체]</td>\n",
       "      <td>0</td>\n",
       "      <td>0.62209</td>\n",
       "      <td>0.15492</td>\n",
       "      <td>0.06759</td>\n",
       "      <td>0.15540</td>\n",
       "      <td>0</td>\n",
       "    </tr>\n",
       "    <tr>\n",
       "      <th>1</th>\n",
       "      <td>개인정보 보호법</td>\n",
       "      <td>다른 법률과의 관계</td>\n",
       "      <td>② 개인정보의 처리 및 보호에 관한 다른 법률을 제정하거나 개정하는 경우에는 이...</td>\n",
       "      <td>0</td>\n",
       "      <td>0</td>\n",
       "      <td>1.0</td>\n",
       "      <td>1</td>\n",
       "      <td>0.59204</td>\n",
       "      <td>[]</td>\n",
       "      <td>0</td>\n",
       "      <td>0.76945</td>\n",
       "      <td>0.10679</td>\n",
       "      <td>0.04028</td>\n",
       "      <td>0.08348</td>\n",
       "      <td>0</td>\n",
       "    </tr>\n",
       "    <tr>\n",
       "      <th>2</th>\n",
       "      <td>개인정보 보호법</td>\n",
       "      <td>민감정보의 처리 제한</td>\n",
       "      <td>③ 개인정보처리자는 재화 또는 서비스를 제공하는 과정에서 공개되는 정보에 정보주...</td>\n",
       "      <td>0</td>\n",
       "      <td>0</td>\n",
       "      <td>1.0</td>\n",
       "      <td>1</td>\n",
       "      <td>0.80474</td>\n",
       "      <td>[]</td>\n",
       "      <td>0</td>\n",
       "      <td>0.71497</td>\n",
       "      <td>0.12068</td>\n",
       "      <td>0.06740</td>\n",
       "      <td>0.09695</td>\n",
       "      <td>0</td>\n",
       "    </tr>\n",
       "    <tr>\n",
       "      <th>3</th>\n",
       "      <td>개인정보 보호법</td>\n",
       "      <td>업무위탁에 따른 개인정보의 처리 제한</td>\n",
       "      <td>⑥ 수탁자는 위탁받은 개인정보의 처리 업무를 제3자에게 다시 위탁하려는 경우에는...</td>\n",
       "      <td>0</td>\n",
       "      <td>0</td>\n",
       "      <td>1.0</td>\n",
       "      <td>1</td>\n",
       "      <td>0.61685</td>\n",
       "      <td>[]</td>\n",
       "      <td>0</td>\n",
       "      <td>0.75394</td>\n",
       "      <td>0.12282</td>\n",
       "      <td>0.04274</td>\n",
       "      <td>0.08050</td>\n",
       "      <td>0</td>\n",
       "    </tr>\n",
       "    <tr>\n",
       "      <th>4</th>\n",
       "      <td>개인정보 보호법</td>\n",
       "      <td>가명정보에 대한 안전조치의무 등</td>\n",
       "      <td>② 개인정보처리자는 제28조의2 또는 제28조의3에 따라 가명정보를 처리하는 경...</td>\n",
       "      <td>0</td>\n",
       "      <td>0</td>\n",
       "      <td>1.0</td>\n",
       "      <td>1</td>\n",
       "      <td>0.69162</td>\n",
       "      <td>[]</td>\n",
       "      <td>0</td>\n",
       "      <td>0.76556</td>\n",
       "      <td>0.10293</td>\n",
       "      <td>0.04459</td>\n",
       "      <td>0.08692</td>\n",
       "      <td>0</td>\n",
       "    </tr>\n",
       "    <tr>\n",
       "      <th>...</th>\n",
       "      <td>...</td>\n",
       "      <td>...</td>\n",
       "      <td>...</td>\n",
       "      <td>...</td>\n",
       "      <td>...</td>\n",
       "      <td>...</td>\n",
       "      <td>...</td>\n",
       "      <td>...</td>\n",
       "      <td>...</td>\n",
       "      <td>...</td>\n",
       "      <td>...</td>\n",
       "      <td>...</td>\n",
       "      <td>...</td>\n",
       "      <td>...</td>\n",
       "      <td>...</td>\n",
       "    </tr>\n",
       "    <tr>\n",
       "      <th>951</th>\n",
       "      <td>하천법</td>\n",
       "      <td>하천의 구분 및 지정</td>\n",
       "      <td>⑧ 시ㆍ도지사는 지방하천이 제2항 각 호의 어느 하나에 해당한다고 판단하는 경우...</td>\n",
       "      <td>1</td>\n",
       "      <td>2</td>\n",
       "      <td>1.0</td>\n",
       "      <td>1</td>\n",
       "      <td>0.48119</td>\n",
       "      <td>[장관, 관리, 국가, 도지사, 위원회, 시ㆍ도, 시ㆍ도지사, 환경부]</td>\n",
       "      <td>0</td>\n",
       "      <td>0.42670</td>\n",
       "      <td>0.25820</td>\n",
       "      <td>0.14877</td>\n",
       "      <td>0.16633</td>\n",
       "      <td>1</td>\n",
       "    </tr>\n",
       "    <tr>\n",
       "      <th>952</th>\n",
       "      <td>하천법</td>\n",
       "      <td>하천관리 자료의 정보화</td>\n",
       "      <td>② 환경부장관은 제1항에 따른 하천관리 정보체계를 구축할 경우 최신의 정보통신기...</td>\n",
       "      <td>1</td>\n",
       "      <td>1</td>\n",
       "      <td>1.0</td>\n",
       "      <td>1</td>\n",
       "      <td>0.69429</td>\n",
       "      <td>[장관, 관리, 환경부]</td>\n",
       "      <td>1</td>\n",
       "      <td>0.32187</td>\n",
       "      <td>0.55562</td>\n",
       "      <td>0.07250</td>\n",
       "      <td>0.05001</td>\n",
       "      <td>1</td>\n",
       "    </tr>\n",
       "    <tr>\n",
       "      <th>953</th>\n",
       "      <td>하천법</td>\n",
       "      <td>하천관리청의 하천공사 및 유지ㆍ보수</td>\n",
       "      <td>⑤ 환경부장관은 국가하천 배수영향구간을 고시하려는 경우에는 관계 중앙행정기관의 ...</td>\n",
       "      <td>1</td>\n",
       "      <td>1</td>\n",
       "      <td>1.0</td>\n",
       "      <td>1</td>\n",
       "      <td>0.64288</td>\n",
       "      <td>[기관, 장관, 중앙행정기관, 국가, 행정기관, 환경부]</td>\n",
       "      <td>0</td>\n",
       "      <td>0.46624</td>\n",
       "      <td>0.29843</td>\n",
       "      <td>0.11030</td>\n",
       "      <td>0.12503</td>\n",
       "      <td>1</td>\n",
       "    </tr>\n",
       "    <tr>\n",
       "      <th>954</th>\n",
       "      <td>하천법</td>\n",
       "      <td>하천관리청의 하천공사 및 유지ㆍ보수</td>\n",
       "      <td>⑪ 환경부장관은 제6항에 따라 국가하천의 유지ㆍ보수를 시행하고자 하는 때에는 미...</td>\n",
       "      <td>1</td>\n",
       "      <td>1</td>\n",
       "      <td>1.0</td>\n",
       "      <td>1</td>\n",
       "      <td>0.68251</td>\n",
       "      <td>[장관, 국가, 도지사, 시ㆍ도, 시ㆍ도지사, 환경부]</td>\n",
       "      <td>0</td>\n",
       "      <td>0.46050</td>\n",
       "      <td>0.18164</td>\n",
       "      <td>0.23935</td>\n",
       "      <td>0.11851</td>\n",
       "      <td>1</td>\n",
       "    </tr>\n",
       "    <tr>\n",
       "      <th>955</th>\n",
       "      <td>하천법</td>\n",
       "      <td>비용부담의 원칙</td>\n",
       "      <td>② 제1항에도 불구하고 제27조제4항에 따른 국가하천 배수영향구간의 하천공사에 ...</td>\n",
       "      <td>0</td>\n",
       "      <td>0</td>\n",
       "      <td>1.0</td>\n",
       "      <td>1</td>\n",
       "      <td>0.63782</td>\n",
       "      <td>[공사, 국가]</td>\n",
       "      <td>0</td>\n",
       "      <td>0.76569</td>\n",
       "      <td>0.10149</td>\n",
       "      <td>0.06450</td>\n",
       "      <td>0.06832</td>\n",
       "      <td>0</td>\n",
       "    </tr>\n",
       "  </tbody>\n",
       "</table>\n",
       "<p>905 rows × 15 columns</p>\n",
       "</div>"
      ],
      "text/plain": [
       "          법령명                  조문제목  \\\n",
       "0    개인정보 보호법              국가 등의 책무   \n",
       "1    개인정보 보호법            다른 법률과의 관계   \n",
       "2    개인정보 보호법           민감정보의 처리 제한   \n",
       "3    개인정보 보호법  업무위탁에 따른 개인정보의 처리 제한   \n",
       "4    개인정보 보호법     가명정보에 대한 안전조치의무 등   \n",
       "..        ...                   ...   \n",
       "951       하천법           하천의 구분 및 지정   \n",
       "952       하천법          하천관리 자료의 정보화   \n",
       "953       하천법   하천관리청의 하천공사 및 유지ㆍ보수   \n",
       "954       하천법   하천관리청의 하천공사 및 유지ㆍ보수   \n",
       "955       하천법              비용부담의 원칙   \n",
       "\n",
       "                                                    조문  사무판단  사무유형(대분류)  \\\n",
       "0      ③ 국가와 지방자치단체는 만 14세 미만 아동이 개인정보 처리가 미치는 영향과 ...     1          3   \n",
       "1      ② 개인정보의 처리 및 보호에 관한 다른 법률을 제정하거나 개정하는 경우에는 이...     0          0   \n",
       "2      ③ 개인정보처리자는 재화 또는 서비스를 제공하는 과정에서 공개되는 정보에 정보주...     0          0   \n",
       "3      ⑥ 수탁자는 위탁받은 개인정보의 처리 업무를 제3자에게 다시 위탁하려는 경우에는...     0          0   \n",
       "4      ② 개인정보처리자는 제28조의2 또는 제28조의3에 따라 가명정보를 처리하는 경...     0          0   \n",
       "..                                                 ...   ...        ...   \n",
       "951    ⑧ 시ㆍ도지사는 지방하천이 제2항 각 호의 어느 하나에 해당한다고 판단하는 경우...     1          2   \n",
       "952    ② 환경부장관은 제1항에 따른 하천관리 정보체계를 구축할 경우 최신의 정보통신기...     1          1   \n",
       "953    ⑤ 환경부장관은 국가하천 배수영향구간을 고시하려는 경우에는 관계 중앙행정기관의 ...     1          1   \n",
       "954    ⑪ 환경부장관은 제6항에 따라 국가하천의 유지ㆍ보수를 시행하고자 하는 때에는 미...     1          1   \n",
       "955    ② 제1항에도 불구하고 제27조제4항에 따른 국가하천 배수영향구간의 하천공사에 ...     0          0   \n",
       "\n",
       "     rule_based  사무판단 예측  사무판단 예측확률                                     수행주체  \\\n",
       "0           1.0        1    0.71948                         [국가, 단체, 지방자치단체]   \n",
       "1           1.0        1    0.59204                                       []   \n",
       "2           1.0        1    0.80474                                       []   \n",
       "3           1.0        1    0.61685                                       []   \n",
       "4           1.0        1    0.69162                                       []   \n",
       "..          ...      ...        ...                                      ...   \n",
       "951         1.0        1    0.48119  [장관, 관리, 국가, 도지사, 위원회, 시ㆍ도, 시ㆍ도지사, 환경부]   \n",
       "952         1.0        1    0.69429                            [장관, 관리, 환경부]   \n",
       "953         1.0        1    0.64288          [기관, 장관, 중앙행정기관, 국가, 행정기관, 환경부]   \n",
       "954         1.0        1    0.68251           [장관, 국가, 도지사, 시ㆍ도, 시ㆍ도지사, 환경부]   \n",
       "955         1.0        1    0.63782                                 [공사, 국가]   \n",
       "\n",
       "     사무유형(대분류) 결과   비사무 확률    국가 확률    지방 확률    공동 확률  need_to_check  \n",
       "0               0  0.62209  0.15492  0.06759  0.15540              0  \n",
       "1               0  0.76945  0.10679  0.04028  0.08348              0  \n",
       "2               0  0.71497  0.12068  0.06740  0.09695              0  \n",
       "3               0  0.75394  0.12282  0.04274  0.08050              0  \n",
       "4               0  0.76556  0.10293  0.04459  0.08692              0  \n",
       "..            ...      ...      ...      ...      ...            ...  \n",
       "951             0  0.42670  0.25820  0.14877  0.16633              1  \n",
       "952             1  0.32187  0.55562  0.07250  0.05001              1  \n",
       "953             0  0.46624  0.29843  0.11030  0.12503              1  \n",
       "954             0  0.46050  0.18164  0.23935  0.11851              1  \n",
       "955             0  0.76569  0.10149  0.06450  0.06832              0  \n",
       "\n",
       "[905 rows x 15 columns]"
      ]
     },
     "execution_count": 56,
     "metadata": {},
     "output_type": "execute_result"
    }
   ],
   "source": [
    "# 최종 결과 저장\n",
    "sub_df = f.make_final_df(sub_df, sencond_filtered_df)\n",
    "sub_df"
   ]
  },
  {
   "cell_type": "code",
   "execution_count": 58,
   "id": "60d1df5b",
   "metadata": {},
   "outputs": [
    {
     "name": "stdout",
     "output_type": "stream",
     "text": [
      "혼동행렬\n",
      "[[538  25  12   1]\n",
      " [165  56   0   0]\n",
      " [ 56   0  11   1]\n",
      " [ 31   3   1   5]]\n",
      "정확도: 0.6740331491712708\n",
      "Classification Report:\n",
      "              precision    recall  f1-score   support\n",
      "\n",
      "           0       0.68      0.93      0.79       576\n",
      "           1       0.67      0.25      0.37       221\n",
      "           2       0.46      0.16      0.24        68\n",
      "           3       0.71      0.12      0.21        40\n",
      "\n",
      "    accuracy                           0.67       905\n",
      "   macro avg       0.63      0.37      0.40       905\n",
      "weighted avg       0.66      0.67      0.62       905\n",
      "\n"
     ]
    },
    {
     "data": {
      "text/plain": [
       "array([[538,  25,  12,   1],\n",
       "       [165,  56,   0,   0],\n",
       "       [ 56,   0,  11,   1],\n",
       "       [ 31,   3,   1,   5]])"
      ]
     },
     "execution_count": 58,
     "metadata": {},
     "output_type": "execute_result"
    }
   ],
   "source": [
    "cal_result2(sub_df['사무유형(대분류) 결과'], sub_df['사무유형(대분류)'])"
   ]
  },
  {
   "cell_type": "markdown",
   "id": "f6b69265",
   "metadata": {},
   "source": [
    "top2 뽑기"
   ]
  },
  {
   "cell_type": "code",
   "execution_count": 59,
   "id": "f58ce40f",
   "metadata": {},
   "outputs": [
    {
     "data": {
      "text/html": [
       "<div>\n",
       "<style scoped>\n",
       "    .dataframe tbody tr th:only-of-type {\n",
       "        vertical-align: middle;\n",
       "    }\n",
       "\n",
       "    .dataframe tbody tr th {\n",
       "        vertical-align: top;\n",
       "    }\n",
       "\n",
       "    .dataframe thead th {\n",
       "        text-align: right;\n",
       "    }\n",
       "</style>\n",
       "<table border=\"1\" class=\"dataframe\">\n",
       "  <thead>\n",
       "    <tr style=\"text-align: right;\">\n",
       "      <th></th>\n",
       "      <th>법령명</th>\n",
       "      <th>조문제목</th>\n",
       "      <th>조문</th>\n",
       "      <th>사무판단</th>\n",
       "      <th>사무유형(대분류)</th>\n",
       "      <th>rule_based</th>\n",
       "      <th>사무판단 예측</th>\n",
       "      <th>사무판단 예측확률</th>\n",
       "      <th>수행주체</th>\n",
       "      <th>사무유형(대분류) 결과</th>\n",
       "      <th>비사무 확률</th>\n",
       "      <th>국가 확률</th>\n",
       "      <th>지방 확률</th>\n",
       "      <th>공동 확률</th>\n",
       "      <th>need_to_check</th>\n",
       "    </tr>\n",
       "  </thead>\n",
       "  <tbody>\n",
       "    <tr>\n",
       "      <th>0</th>\n",
       "      <td>개인정보 보호법</td>\n",
       "      <td>국가 등의 책무</td>\n",
       "      <td>③ 국가와 지방자치단체는 만 14세 미만 아동이 개인정보 처리가 미치는 영향과 ...</td>\n",
       "      <td>1</td>\n",
       "      <td>3</td>\n",
       "      <td>1.0</td>\n",
       "      <td>1</td>\n",
       "      <td>0.71948</td>\n",
       "      <td>[국가, 단체, 지방자치단체]</td>\n",
       "      <td>0</td>\n",
       "      <td>0.62209</td>\n",
       "      <td>0.15492</td>\n",
       "      <td>0.06759</td>\n",
       "      <td>0.15540</td>\n",
       "      <td>0</td>\n",
       "    </tr>\n",
       "    <tr>\n",
       "      <th>1</th>\n",
       "      <td>개인정보 보호법</td>\n",
       "      <td>다른 법률과의 관계</td>\n",
       "      <td>② 개인정보의 처리 및 보호에 관한 다른 법률을 제정하거나 개정하는 경우에는 이...</td>\n",
       "      <td>0</td>\n",
       "      <td>0</td>\n",
       "      <td>1.0</td>\n",
       "      <td>1</td>\n",
       "      <td>0.59204</td>\n",
       "      <td>[]</td>\n",
       "      <td>0</td>\n",
       "      <td>0.76945</td>\n",
       "      <td>0.10679</td>\n",
       "      <td>0.04028</td>\n",
       "      <td>0.08348</td>\n",
       "      <td>0</td>\n",
       "    </tr>\n",
       "    <tr>\n",
       "      <th>2</th>\n",
       "      <td>개인정보 보호법</td>\n",
       "      <td>민감정보의 처리 제한</td>\n",
       "      <td>③ 개인정보처리자는 재화 또는 서비스를 제공하는 과정에서 공개되는 정보에 정보주...</td>\n",
       "      <td>0</td>\n",
       "      <td>0</td>\n",
       "      <td>1.0</td>\n",
       "      <td>1</td>\n",
       "      <td>0.80474</td>\n",
       "      <td>[]</td>\n",
       "      <td>0</td>\n",
       "      <td>0.71497</td>\n",
       "      <td>0.12068</td>\n",
       "      <td>0.06740</td>\n",
       "      <td>0.09695</td>\n",
       "      <td>0</td>\n",
       "    </tr>\n",
       "    <tr>\n",
       "      <th>3</th>\n",
       "      <td>개인정보 보호법</td>\n",
       "      <td>업무위탁에 따른 개인정보의 처리 제한</td>\n",
       "      <td>⑥ 수탁자는 위탁받은 개인정보의 처리 업무를 제3자에게 다시 위탁하려는 경우에는...</td>\n",
       "      <td>0</td>\n",
       "      <td>0</td>\n",
       "      <td>1.0</td>\n",
       "      <td>1</td>\n",
       "      <td>0.61685</td>\n",
       "      <td>[]</td>\n",
       "      <td>0</td>\n",
       "      <td>0.75394</td>\n",
       "      <td>0.12282</td>\n",
       "      <td>0.04274</td>\n",
       "      <td>0.08050</td>\n",
       "      <td>0</td>\n",
       "    </tr>\n",
       "    <tr>\n",
       "      <th>4</th>\n",
       "      <td>개인정보 보호법</td>\n",
       "      <td>가명정보에 대한 안전조치의무 등</td>\n",
       "      <td>② 개인정보처리자는 제28조의2 또는 제28조의3에 따라 가명정보를 처리하는 경...</td>\n",
       "      <td>0</td>\n",
       "      <td>0</td>\n",
       "      <td>1.0</td>\n",
       "      <td>1</td>\n",
       "      <td>0.69162</td>\n",
       "      <td>[]</td>\n",
       "      <td>0</td>\n",
       "      <td>0.76556</td>\n",
       "      <td>0.10293</td>\n",
       "      <td>0.04459</td>\n",
       "      <td>0.08692</td>\n",
       "      <td>0</td>\n",
       "    </tr>\n",
       "  </tbody>\n",
       "</table>\n",
       "</div>"
      ],
      "text/plain": [
       "        법령명                  조문제목  \\\n",
       "0  개인정보 보호법              국가 등의 책무   \n",
       "1  개인정보 보호법            다른 법률과의 관계   \n",
       "2  개인정보 보호법           민감정보의 처리 제한   \n",
       "3  개인정보 보호법  업무위탁에 따른 개인정보의 처리 제한   \n",
       "4  개인정보 보호법     가명정보에 대한 안전조치의무 등   \n",
       "\n",
       "                                                  조문  사무판단  사무유형(대분류)  \\\n",
       "0    ③ 국가와 지방자치단체는 만 14세 미만 아동이 개인정보 처리가 미치는 영향과 ...     1          3   \n",
       "1    ② 개인정보의 처리 및 보호에 관한 다른 법률을 제정하거나 개정하는 경우에는 이...     0          0   \n",
       "2    ③ 개인정보처리자는 재화 또는 서비스를 제공하는 과정에서 공개되는 정보에 정보주...     0          0   \n",
       "3    ⑥ 수탁자는 위탁받은 개인정보의 처리 업무를 제3자에게 다시 위탁하려는 경우에는...     0          0   \n",
       "4    ② 개인정보처리자는 제28조의2 또는 제28조의3에 따라 가명정보를 처리하는 경...     0          0   \n",
       "\n",
       "   rule_based  사무판단 예측  사무판단 예측확률              수행주체  사무유형(대분류) 결과   비사무 확률  \\\n",
       "0         1.0        1    0.71948  [국가, 단체, 지방자치단체]             0  0.62209   \n",
       "1         1.0        1    0.59204                []             0  0.76945   \n",
       "2         1.0        1    0.80474                []             0  0.71497   \n",
       "3         1.0        1    0.61685                []             0  0.75394   \n",
       "4         1.0        1    0.69162                []             0  0.76556   \n",
       "\n",
       "     국가 확률    지방 확률    공동 확률  need_to_check  \n",
       "0  0.15492  0.06759  0.15540              0  \n",
       "1  0.10679  0.04028  0.08348              0  \n",
       "2  0.12068  0.06740  0.09695              0  \n",
       "3  0.12282  0.04274  0.08050              0  \n",
       "4  0.10293  0.04459  0.08692              0  "
      ]
     },
     "execution_count": 59,
     "metadata": {},
     "output_type": "execute_result"
    }
   ],
   "source": [
    "ex = sub_df.copy()\n",
    "ex.head()"
   ]
  },
  {
   "cell_type": "code",
   "execution_count": 66,
   "id": "ca6eeab6",
   "metadata": {
    "scrolled": true
   },
   "outputs": [],
   "source": [
    "ex['top2 결과'] = 0\n",
    "for i in ex.index:\n",
    "    l = list(ex.loc[i, '비사무 확률':'공동 확률'])\n",
    "    #print(l)\n",
    "    s = set(l)\n",
    "    if len(s) == 1:\n",
    "        continue\n",
    "    sorted_lst = sorted(l)\n",
    "    second_largest = sorted_lst[-2]\n",
    "    second_largest_index = l.index(second_largest)\n",
    "    ex.loc[i, 'top2 결과'] = second_largest_index"
   ]
  },
  {
   "cell_type": "code",
   "execution_count": 67,
   "id": "3c85ff29",
   "metadata": {},
   "outputs": [
    {
     "name": "stdout",
     "output_type": "stream",
     "text": [
      "혼동행렬\n",
      "[[576   0   0   0]\n",
      " [ 16 205   0   0]\n",
      " [ 21   0  47   0]\n",
      " [ 25   0   0  15]]\n",
      "정확도: 0.9314917127071823\n",
      "Classification Report:\n",
      "              precision    recall  f1-score   support\n",
      "\n",
      "           0       0.90      1.00      0.95       576\n",
      "           1       1.00      0.93      0.96       221\n",
      "           2       1.00      0.69      0.82        68\n",
      "           3       1.00      0.38      0.55        40\n",
      "\n",
      "    accuracy                           0.93       905\n",
      "   macro avg       0.98      0.75      0.82       905\n",
      "weighted avg       0.94      0.93      0.92       905\n",
      "\n"
     ]
    },
    {
     "data": {
      "text/plain": [
       "array([[576,   0,   0,   0],\n",
       "       [ 16, 205,   0,   0],\n",
       "       [ 21,   0,  47,   0],\n",
       "       [ 25,   0,   0,  15]])"
      ]
     },
     "execution_count": 67,
     "metadata": {},
     "output_type": "execute_result"
    }
   ],
   "source": [
    "ex['top2 정답'] = 0\n",
    "idxs = (ex['사무유형(대분류)']==ex['사무유형(대분류) 결과'])|(ex['사무유형(대분류)']==ex['top2 결과'])\n",
    "ex.loc[idxs ,'top2 정답'] = ex.loc[idxs ,'사무유형(대분류)']\n",
    "\n",
    "cal_result2(ex['top2 정답'], ex['사무유형(대분류)'])"
   ]
  },
  {
   "cell_type": "markdown",
   "id": "c1b86e3c",
   "metadata": {},
   "source": [
    "* 정오표"
   ]
  },
  {
   "cell_type": "code",
   "execution_count": 69,
   "id": "ba940a2c",
   "metadata": {},
   "outputs": [],
   "source": [
    "# 정오표 생성\n",
    "sub_df['사무판단_정오'] = 0\n",
    "sub_df.loc[(sub_df['사무판단']==0)&(sub_df['사무판단']==ex['사무유형(대분류) 결과']), '사무판단_정오'] = 0\n",
    "sub_df.loc[(sub_df['사무판단']==0)&(sub_df['사무판단']!=ex['사무유형(대분류) 결과']), '사무판단_정오'] = 1\n",
    "sub_df.loc[(sub_df['사무판단']==1)&(sub_df['사무판단']!=ex['사무유형(대분류) 결과']), '사무판단_정오'] = 2\n",
    "sub_df.loc[(sub_df['사무판단']==1)&(sub_df['사무판단']==ex['사무유형(대분류) 결과']), '사무판단_정오'] = 3"
   ]
  },
  {
   "cell_type": "markdown",
   "id": "34f21244",
   "metadata": {},
   "source": [
    "## 최종 데이터 저장"
   ]
  },
  {
   "cell_type": "code",
   "execution_count": 81,
   "id": "db29f1f4",
   "metadata": {},
   "outputs": [],
   "source": [
    "a = test_df.loc[:, :'수탁기관']\n",
    "b = sub_df.loc[:, '사무유형(대분류)':]"
   ]
  },
  {
   "cell_type": "code",
   "execution_count": 83,
   "id": "ed50ba37",
   "metadata": {},
   "outputs": [],
   "source": [
    "result = pd.concat([a, b], axis=1)\n",
    "result.to_csv('data/final_df(test).csv', index=False)"
   ]
  }
 ],
 "metadata": {
  "kernelspec": {
   "display_name": "Python 3 (ipykernel)",
   "language": "python",
   "name": "python3"
  },
  "language_info": {
   "codemirror_mode": {
    "name": "ipython",
    "version": 3
   },
   "file_extension": ".py",
   "mimetype": "text/x-python",
   "name": "python",
   "nbconvert_exporter": "python",
   "pygments_lexer": "ipython3",
   "version": "3.10.9"
  }
 },
 "nbformat": 4,
 "nbformat_minor": 5
}
