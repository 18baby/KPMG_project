{
 "cells": [
  {
   "cell_type": "markdown",
   "metadata": {
    "id": "K8d_zCZdIgAY"
   },
   "source": [
    "# api key를 발급받아 입력하셔야 합니다."
   ]
  },
  {
   "cell_type": "code",
   "execution_count": 1,
   "metadata": {
    "colab": {
     "base_uri": "https://localhost:8080/",
     "height": 361
    },
    "id": "33icwJA6wCS3",
    "outputId": "65b5aeac-1c37-4a18-bccb-62d50223ce02"
   },
   "outputs": [
    {
     "ename": "ModuleNotFoundError",
     "errorDetails": {
      "actions": [
       {
        "action": "open_url",
        "actionText": "Open Examples",
        "url": "/notebooks/snippets/importing_libraries.ipynb"
       }
      ]
     },
     "evalue": "ignored",
     "output_type": "error",
     "traceback": [
      "\u001b[0;31m---------------------------------------------------------------------------\u001b[0m",
      "\u001b[0;31mModuleNotFoundError\u001b[0m                       Traceback (most recent call last)",
      "\u001b[0;32m<ipython-input-1-6f26423493ab>\u001b[0m in \u001b[0;36m<cell line: 1>\u001b[0;34m()\u001b[0m\n\u001b[0;32m----> 1\u001b[0;31m \u001b[0;32mimport\u001b[0m \u001b[0mopenai\u001b[0m\u001b[0;34m\u001b[0m\u001b[0;34m\u001b[0m\u001b[0m\n\u001b[0m\u001b[1;32m      2\u001b[0m \u001b[0;34m\u001b[0m\u001b[0m\n\u001b[1;32m      3\u001b[0m \u001b[0mopenai\u001b[0m\u001b[0;34m.\u001b[0m\u001b[0mapi_key\u001b[0m  \u001b[0;34m=\u001b[0m \u001b[0;34m\"api입력하시면 됩니다.\"\u001b[0m\u001b[0;34m\u001b[0m\u001b[0;34m\u001b[0m\u001b[0m\n",
      "\u001b[0;31mModuleNotFoundError\u001b[0m: No module named 'openai'",
      "",
      "\u001b[0;31m---------------------------------------------------------------------------\u001b[0;32m\nNOTE: If your import is failing due to a missing package, you can\nmanually install dependencies using either !pip or !apt.\n\nTo view examples of installing some common dependencies, click the\n\"Open Examples\" button below.\n\u001b[0;31m---------------------------------------------------------------------------\u001b[0m\n"
     ]
    }
   ],
   "source": [
    "import openai\n",
    "\n",
    "openai.api_key  = \"api입력하시면 됩니다.\""
   ]
  },
  {
   "cell_type": "code",
   "execution_count": 3,
   "metadata": {
    "id": "DF9-gS6owCS7"
   },
   "outputs": [],
   "source": [
    "import pandas as pd\n",
    "import numpy as np\n",
    "\n",
    "df = pd.read_csv('../data/gpt_api입력용.csv')"
   ]
  },
  {
   "cell_type": "code",
   "execution_count": null,
   "metadata": {
    "id": "Z_V4_6WdwCS8",
    "outputId": "8c9d4863-e744-49bd-c6a9-fcfa651ebe38"
   },
   "outputs": [
    {
     "data": {
      "text/html": [
       "<div>\n",
       "<style scoped>\n",
       "    .dataframe tbody tr th:only-of-type {\n",
       "        vertical-align: middle;\n",
       "    }\n",
       "\n",
       "    .dataframe tbody tr th {\n",
       "        vertical-align: top;\n",
       "    }\n",
       "\n",
       "    .dataframe thead th {\n",
       "        text-align: right;\n",
       "    }\n",
       "</style>\n",
       "<table border=\"1\" class=\"dataframe\">\n",
       "  <thead>\n",
       "    <tr style=\"text-align: right;\">\n",
       "      <th></th>\n",
       "      <th>Unnamed: 0</th>\n",
       "      <th>조문</th>\n",
       "      <th>조문제목</th>\n",
       "      <th>사무명</th>\n",
       "      <th>사무판단</th>\n",
       "    </tr>\n",
       "  </thead>\n",
       "  <tbody>\n",
       "    <tr>\n",
       "      <th>0</th>\n",
       "      <td>13333</td>\n",
       "      <td>기간제근로자 또는 단시간근로자는 차별적 처우를 받은 경우 「노동위원회법」 제1조의 ...</td>\n",
       "      <td>차별적 처우의 시정신청</td>\n",
       "      <td>기간제근로자등의 차별적 처우에 대한 시정 신청 접수</td>\n",
       "      <td>1</td>\n",
       "    </tr>\n",
       "    <tr>\n",
       "      <th>1</th>\n",
       "      <td>13338</td>\n",
       "      <td>노동위원회는 제9조의 규정에 따른 시정신청을 받은 때에는 지체 없이 필요한 조사와 ...</td>\n",
       "      <td>조사ㆍ심문 등</td>\n",
       "      <td>차별적 처우 조사 및 심문</td>\n",
       "      <td>1</td>\n",
       "    </tr>\n",
       "    <tr>\n",
       "      <th>2</th>\n",
       "      <td>13342</td>\n",
       "      <td>노동위원회는 차별시정사무에 관한 전문적인 조사ㆍ연구업무를 수행하기 위하여 전문위원을...</td>\n",
       "      <td>조사ㆍ심문 등</td>\n",
       "      <td>차별시정사무 전문위원 설치</td>\n",
       "      <td>1</td>\n",
       "    </tr>\n",
       "    <tr>\n",
       "      <th>3</th>\n",
       "      <td>13344</td>\n",
       "      <td>노동위원회는 제10조의 규정에 따른 심문의 과정에서 관계당사자 쌍방 또는 일방의 신...</td>\n",
       "      <td>조정ㆍ중재</td>\n",
       "      <td>관계당사자 조정절차 개시 또는 중재</td>\n",
       "      <td>1</td>\n",
       "    </tr>\n",
       "    <tr>\n",
       "      <th>4</th>\n",
       "      <td>13353</td>\n",
       "      <td>노동위원회는 제10조의 규정에 따른 조사ㆍ심문을 종료하고 차별적 처우에 해당된다고 ...</td>\n",
       "      <td>시정명령 등</td>\n",
       "      <td>차별적 처우에 대한 시정명령 또는 기각 결정</td>\n",
       "      <td>1</td>\n",
       "    </tr>\n",
       "  </tbody>\n",
       "</table>\n",
       "</div>"
      ],
      "text/plain": [
       "   Unnamed: 0                                                 조문  \\\n",
       "0       13333  기간제근로자 또는 단시간근로자는 차별적 처우를 받은 경우 「노동위원회법」 제1조의 ...   \n",
       "1       13338  노동위원회는 제9조의 규정에 따른 시정신청을 받은 때에는 지체 없이 필요한 조사와 ...   \n",
       "2       13342  노동위원회는 차별시정사무에 관한 전문적인 조사ㆍ연구업무를 수행하기 위하여 전문위원을...   \n",
       "3       13344  노동위원회는 제10조의 규정에 따른 심문의 과정에서 관계당사자 쌍방 또는 일방의 신...   \n",
       "4       13353  노동위원회는 제10조의 규정에 따른 조사ㆍ심문을 종료하고 차별적 처우에 해당된다고 ...   \n",
       "\n",
       "           조문제목                           사무명  사무판단  \n",
       "0  차별적 처우의 시정신청  기간제근로자등의 차별적 처우에 대한 시정 신청 접수     1  \n",
       "1       조사ㆍ심문 등                차별적 처우 조사 및 심문     1  \n",
       "2       조사ㆍ심문 등                차별시정사무 전문위원 설치     1  \n",
       "3         조정ㆍ중재           관계당사자 조정절차 개시 또는 중재     1  \n",
       "4        시정명령 등      차별적 처우에 대한 시정명령 또는 기각 결정     1  "
      ]
     },
     "execution_count": 6,
     "metadata": {},
     "output_type": "execute_result"
    }
   ],
   "source": [
    "df.head()"
   ]
  },
  {
   "cell_type": "code",
   "execution_count": null,
   "metadata": {
    "id": "Q0bfS-W0wCS9"
   },
   "outputs": [],
   "source": [
    "def get_completion(prompt, model=\"gpt-3.5-turbo\"):\n",
    "    messages = [{\"role\": \"user\", \"content\": prompt}]\n",
    "    response = openai.ChatCompletion.create(\n",
    "        model = model,\n",
    "        messages = messages,\n",
    "        temperature = 0,\n",
    "    )\n",
    "    response_content = response.choices[0].message[\"content\"]\n",
    "    return response_content\n",
    "\n",
    "df['gpt_사무명'] = np.nan\n",
    "for i in range(df.shape[0]):\n",
    "    # column index 변경 필요: 'AI 사무판단'\n",
    "    if df.iloc[i, 4] == 1:\n",
    "        title = df.iloc[i, 2]\n",
    "        text = df.iloc[i, 1]\n",
    "        prompt = f\"\"\"\n",
    "        조문제목과 조문을 통해 사무명을 만들어야해.\n",
    "        [예시1] 조문제목: 경과, 조문: 임용권자 또는 임용제청권자는 경찰공무원을 신규채용 할 때에 경과를 부여해야 한다.\n",
    "        => 사무명: 경찰공무원 신규채용 시 경과 부여\n",
    "\n",
    "        [예시2] 조문제목: 주민의 의견청취, 조문: 환경부장관은 제11조에 따라 상수원보호구역을 지정하거나 변경하려는 경우에는 주민의 의견을 들어야 하고, 그 의견이 타당하다고 인정하면 상수원보호구역 지정 또는 변경에 반영하여야 한다.\n",
    "        => 사무명: 상수원보호구역 지정 또는 변경시 주민의견 청취\n",
    "\n",
    "        [예시3] 조문제목: 징계위원회의 관할, 조문: 중앙징계위원회는 총경 및 경정에 대한 징계 또는 「국가공무원법」 제78조의2에 따른 징계부가금 부과(이하 \"징계등\"이라 한다) 사건을 심의ㆍ의결한다.\n",
    "        => 사무명: 중앙징계위원회 심의·의결\n",
    "\n",
    "        [예시4] 조문제목: 임상연구심의위원회의 구성 및 기능, 조문: 임상연구에 관한 주요 사항을 심의하기 위해 경찰병원에 경찰병원 임상연구심의위원회(이하 \"위원회\"라 한다)를 둔다.\n",
    "        => 사무명: 임상연구심의위원회 설치\n",
    "\n",
    "        아래의 두 정보를 이용하여 사무명을 만들고, 사무명만 반환해줘.\n",
    "        조문제목 : {title}\n",
    "        조문: {text}\n",
    "        \"\"\"\n",
    "        # column index 변경 필요: 'gpt_사무명'\n",
    "        df.iloc[i, 5] = get_completion(prompt)"
   ]
  },
  {
   "cell_type": "code",
   "execution_count": null,
   "metadata": {
    "id": "TxdfOkl7wCS9",
    "outputId": "a53e69b7-004f-4ca7-bcb2-cb270c228258"
   },
   "outputs": [
    {
     "data": {
      "text/html": [
       "<div>\n",
       "<style scoped>\n",
       "    .dataframe tbody tr th:only-of-type {\n",
       "        vertical-align: middle;\n",
       "    }\n",
       "\n",
       "    .dataframe tbody tr th {\n",
       "        vertical-align: top;\n",
       "    }\n",
       "\n",
       "    .dataframe thead th {\n",
       "        text-align: right;\n",
       "    }\n",
       "</style>\n",
       "<table border=\"1\" class=\"dataframe\">\n",
       "  <thead>\n",
       "    <tr style=\"text-align: right;\">\n",
       "      <th></th>\n",
       "      <th>Unnamed: 0</th>\n",
       "      <th>조문</th>\n",
       "      <th>조문제목</th>\n",
       "      <th>사무명</th>\n",
       "      <th>사무판단</th>\n",
       "      <th>gpt_사무명</th>\n",
       "    </tr>\n",
       "  </thead>\n",
       "  <tbody>\n",
       "    <tr>\n",
       "      <th>0</th>\n",
       "      <td>13333</td>\n",
       "      <td>기간제근로자 또는 단시간근로자는 차별적 처우를 받은 경우 「노동위원회법」 제1조의 ...</td>\n",
       "      <td>차별적 처우의 시정신청</td>\n",
       "      <td>기간제근로자등의 차별적 처우에 대한 시정 신청 접수</td>\n",
       "      <td>1</td>\n",
       "      <td>사무명: 차별적 처우 시정신청 접수</td>\n",
       "    </tr>\n",
       "    <tr>\n",
       "      <th>1</th>\n",
       "      <td>13338</td>\n",
       "      <td>노동위원회는 제9조의 규정에 따른 시정신청을 받은 때에는 지체 없이 필요한 조사와 ...</td>\n",
       "      <td>조사ㆍ심문 등</td>\n",
       "      <td>차별적 처우 조사 및 심문</td>\n",
       "      <td>1</td>\n",
       "      <td>사무명: 노동위원회의 조사 및 심문</td>\n",
       "    </tr>\n",
       "    <tr>\n",
       "      <th>2</th>\n",
       "      <td>13342</td>\n",
       "      <td>노동위원회는 차별시정사무에 관한 전문적인 조사ㆍ연구업무를 수행하기 위하여 전문위원을...</td>\n",
       "      <td>조사ㆍ심문 등</td>\n",
       "      <td>차별시정사무 전문위원 설치</td>\n",
       "      <td>1</td>\n",
       "      <td>사무명: 노동위원회 전문위원 선정</td>\n",
       "    </tr>\n",
       "    <tr>\n",
       "      <th>3</th>\n",
       "      <td>13344</td>\n",
       "      <td>노동위원회는 제10조의 규정에 따른 심문의 과정에서 관계당사자 쌍방 또는 일방의 신...</td>\n",
       "      <td>조정ㆍ중재</td>\n",
       "      <td>관계당사자 조정절차 개시 또는 중재</td>\n",
       "      <td>1</td>\n",
       "      <td>사무명: 노동위원회의 조정ㆍ중재</td>\n",
       "    </tr>\n",
       "    <tr>\n",
       "      <th>4</th>\n",
       "      <td>13353</td>\n",
       "      <td>노동위원회는 제10조의 규정에 따른 조사ㆍ심문을 종료하고 차별적 처우에 해당된다고 ...</td>\n",
       "      <td>시정명령 등</td>\n",
       "      <td>차별적 처우에 대한 시정명령 또는 기각 결정</td>\n",
       "      <td>1</td>\n",
       "      <td>사무명: 차별적 처우에 대한 시정명령 및 기각 결정</td>\n",
       "    </tr>\n",
       "  </tbody>\n",
       "</table>\n",
       "</div>"
      ],
      "text/plain": [
       "   Unnamed: 0                                                 조문  \\\n",
       "0       13333  기간제근로자 또는 단시간근로자는 차별적 처우를 받은 경우 「노동위원회법」 제1조의 ...   \n",
       "1       13338  노동위원회는 제9조의 규정에 따른 시정신청을 받은 때에는 지체 없이 필요한 조사와 ...   \n",
       "2       13342  노동위원회는 차별시정사무에 관한 전문적인 조사ㆍ연구업무를 수행하기 위하여 전문위원을...   \n",
       "3       13344  노동위원회는 제10조의 규정에 따른 심문의 과정에서 관계당사자 쌍방 또는 일방의 신...   \n",
       "4       13353  노동위원회는 제10조의 규정에 따른 조사ㆍ심문을 종료하고 차별적 처우에 해당된다고 ...   \n",
       "\n",
       "           조문제목                           사무명  사무판단  \\\n",
       "0  차별적 처우의 시정신청  기간제근로자등의 차별적 처우에 대한 시정 신청 접수     1   \n",
       "1       조사ㆍ심문 등                차별적 처우 조사 및 심문     1   \n",
       "2       조사ㆍ심문 등                차별시정사무 전문위원 설치     1   \n",
       "3         조정ㆍ중재           관계당사자 조정절차 개시 또는 중재     1   \n",
       "4        시정명령 등      차별적 처우에 대한 시정명령 또는 기각 결정     1   \n",
       "\n",
       "                        gpt_사무명  \n",
       "0           사무명: 차별적 처우 시정신청 접수  \n",
       "1           사무명: 노동위원회의 조사 및 심문  \n",
       "2            사무명: 노동위원회 전문위원 선정  \n",
       "3             사무명: 노동위원회의 조정ㆍ중재  \n",
       "4  사무명: 차별적 처우에 대한 시정명령 및 기각 결정  "
      ]
     },
     "execution_count": 9,
     "metadata": {},
     "output_type": "execute_result"
    }
   ],
   "source": [
    "df"
   ]
  }
 ],
 "metadata": {
  "colab": {
   "provenance": []
  },
  "kernelspec": {
   "display_name": "Python 3 (ipykernel)",
   "language": "python",
   "name": "python3"
  },
  "language_info": {
   "codemirror_mode": {
    "name": "ipython",
    "version": 3
   },
   "file_extension": ".py",
   "mimetype": "text/x-python",
   "name": "python",
   "nbconvert_exporter": "python",
   "pygments_lexer": "ipython3",
   "version": "3.10.9"
  }
 },
 "nbformat": 4,
 "nbformat_minor": 1
}
