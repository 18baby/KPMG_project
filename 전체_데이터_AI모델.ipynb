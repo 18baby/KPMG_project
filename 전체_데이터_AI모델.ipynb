{
 "cells": [
  {
   "cell_type": "code",
   "execution_count": 1,
   "id": "5a4aa67c",
   "metadata": {},
   "outputs": [],
   "source": [
    "import re\n",
    "import numpy as np\n",
    "import pandas as pd\n",
    "import pickle\n",
    "import joblib\n",
    "import torch\n",
    "import torch.nn as nn\n",
    "from torch.utils.data import Dataset, DataLoader\n",
    "from transformers import AutoTokenizer, AdamW, get_linear_schedule_with_warmup\n",
    "from torch.optim import AdamW\n",
    "from tqdm import tqdm\n",
    "from sklearn.utils.class_weight import compute_class_weight\n",
    "from sklearn.preprocessing import LabelEncoder\n",
    "from sklearn.metrics import accuracy_score, confusion_matrix, precision_score, recall_score, f1_score, classification_report\n",
    "\n",
    "# 사용 모델\n",
    "from sklearn.ensemble import RandomForestClassifier\n",
    "import lib.EncoderModel as mm\n",
    "\n",
    "# 함수들 불러오기\n",
    "import lib.functions as f"
   ]
  },
  {
   "cell_type": "markdown",
   "id": "c0d24d4e",
   "metadata": {},
   "source": [
    "# 평가에 이용되는 함수 정의"
   ]
  },
  {
   "cell_type": "code",
   "execution_count": 2,
   "id": "c750827c",
   "metadata": {},
   "outputs": [],
   "source": [
    "# 1차 filter용 데이터셋 정의 -> (조문 + 조문제목) [embedding vector화 + 배치화]\n",
    "class CustomDataset1(Dataset):\n",
    "    def __init__(self, dataframe, tokenizer):\n",
    "        self.data = dataframe\n",
    "        self.tokenizer = tokenizer\n",
    "\n",
    "    def __len__(self):\n",
    "        return len(self.data)\n",
    "\n",
    "    def __getitem__(self, idx):\n",
    "        # '조문'과 '법령명' 칼럼의 데이터를 안전하게 문자열로 변환하고 결합\n",
    "        text1 = str(self.data.iloc[idx]['조문'])\n",
    "        text2 = str(self.data.iloc[idx]['조문제목'])\n",
    "        text_data = text1 + \" // \" + text2\n",
    "        label = torch.tensor(self.data.iloc[idx]['사무판단'], dtype=torch.long)\n",
    "\n",
    "        # 결합된 텍스트를 토크나이징\n",
    "        tokenized_data = tokenizer([text_data], padding='max_length', max_length=512, truncation=True, return_tensors='pt')\n",
    "\n",
    "        return {\n",
    "            'input_ids': tokenized_data['input_ids'].squeeze(),\n",
    "            'attention_mask': tokenized_data['attention_mask'].squeeze(),\n",
    "            'labels': label\n",
    "        }"
   ]
  },
  {
   "cell_type": "code",
   "execution_count": 3,
   "id": "249c83e9",
   "metadata": {},
   "outputs": [],
   "source": [
    "# 2차 filter용 데이터셋 정의 -> (법령명 + 조문제목 + 수행주체) [embedding vector화 + 배치화]\n",
    "class CustomDataset2(Dataset):\n",
    "    def __init__(self, dataframe, tokenizer):\n",
    "        self.data = dataframe\n",
    "        self.tokenizer = tokenizer\n",
    "\n",
    "    def __len__(self):\n",
    "        return len(self.data)\n",
    "\n",
    "    def __getitem__(self, idx):\n",
    "        # '조문'과 '법령명' 칼럼의 데이터를 안전하게 문자열로 변환하고 결합\n",
    "        text1 = str(self.data.iloc[idx]['법령명'])\n",
    "        text2 = str(self.data.iloc[idx]['조문제목'])\n",
    "        text3 = str(self.data.iloc[idx]['수행주체(문자열)'])\n",
    "        text_data = text1 + \" // \" + text2 + \" // \" + text3\n",
    "        label = torch.tensor(self.data.iloc[idx]['사무유형(대분류)'], dtype=torch.long)\n",
    "\n",
    "        # 결합된 텍스트를 토크나이징\n",
    "        tokenized_data = tokenizer([text_data], padding='max_length', max_length=128, truncation=True, return_tensors='pt')\n",
    "\n",
    "        return {\n",
    "            'input_ids': tokenized_data['input_ids'].squeeze(),\n",
    "            'attention_mask': tokenized_data['attention_mask'].squeeze(),\n",
    "            'labels': label\n",
    "        }"
   ]
  },
  {
   "cell_type": "code",
   "execution_count": 4,
   "id": "a6dc55bc",
   "metadata": {},
   "outputs": [],
   "source": [
    "# 각 배치의 텍스트 길이를 맞추기\n",
    "def collate_fn(batch):\n",
    "    input_ids = [item['input_ids'] for item in batch]\n",
    "    attention_mask = [item['attention_mask'] for item in batch]\n",
    "    labels = [item['labels'] for item in batch]\n",
    "\n",
    "    # 패딩 적용\n",
    "    input_ids = torch.nn.utils.rnn.pad_sequence(input_ids, batch_first=True, padding_value=tokenizer.pad_token_id)\n",
    "    attention_mask = torch.nn.utils.rnn.pad_sequence(attention_mask, batch_first=True, padding_value=0)\n",
    "\n",
    "    return {'input_ids': input_ids, 'attention_mask': attention_mask, 'labels': torch.stack(labels)}\n"
   ]
  },
  {
   "cell_type": "code",
   "execution_count": 5,
   "id": "cec7ebbe",
   "metadata": {},
   "outputs": [],
   "source": [
    "# 평가 결과 확인\n",
    "def cal_result(preds, y):\n",
    "    conf_matrix = confusion_matrix(y, preds)\n",
    "    accuracy = accuracy_score(y, preds)\n",
    "    precision = precision_score(y, preds)\n",
    "    recall = recall_score(y, preds)\n",
    "    f1 = f1_score(y, preds)\n",
    "    \n",
    "    # 결과 출력\n",
    "    print(f\"Accuracy: {accuracy}\")\n",
    "    print(f\"Precision: {precision}\")\n",
    "    print(f\"Recall: {recall}\")\n",
    "    print(f\"F1-Score: {f1}\")\n",
    "    print(\"Confusion Matrix:\")\n",
    "    print(conf_matrix)"
   ]
  },
  {
   "cell_type": "code",
   "execution_count": 6,
   "id": "4c2408da",
   "metadata": {},
   "outputs": [],
   "source": [
    "def cal_result2(preds, y):\n",
    "    conf_matrix = confusion_matrix(y, preds)\n",
    "    print('혼동행렬')\n",
    "    print(conf_matrix)\n",
    "    accuracy = accuracy_score(y, preds)\n",
    "    print(f'정확도: {accuracy}')\n",
    "    class_report = classification_report(y, preds)\n",
    "    print('Classification Report:')\n",
    "    print(class_report)\n",
    "    \n",
    "    return conf_matrix"
   ]
  },
  {
   "cell_type": "markdown",
   "id": "cd4368b7",
   "metadata": {},
   "source": [
    "# 1. 데이터 입력"
   ]
  },
  {
   "cell_type": "code",
   "execution_count": 7,
   "id": "082e6feb",
   "metadata": {},
   "outputs": [
    {
     "name": "stderr",
     "output_type": "stream",
     "text": [
      "/var/folders/zr/_f1rgf8n0w3541q9k8p3smhr0000gn/T/ipykernel_70046/1265917946.py:1: DtypeWarning: Columns (4,5,18,19,24) have mixed types. Specify dtype option on import or set low_memory=False.\n",
      "  test_df = pd.read_csv('data/FinalBaseTable.csv')\n"
     ]
    },
    {
     "name": "stdout",
     "output_type": "stream",
     "text": [
      "<class 'pandas.core.frame.DataFrame'>\n",
      "RangeIndex: 848072 entries, 0 to 848071\n",
      "Data columns (total 26 columns):\n",
      " #   Column     Non-Null Count   Dtype \n",
      "---  ------     --------------   ----- \n",
      " 0   소관부처명      848072 non-null  object\n",
      " 1   법령명        848072 non-null  object\n",
      " 2   법령구분       848072 non-null  int64 \n",
      " 3   조번호        847493 non-null  object\n",
      " 4   항번호        655168 non-null  object\n",
      " 5   호번호        498265 non-null  object\n",
      " 6   조문제목       848072 non-null  object\n",
      " 7   조문         848072 non-null  object\n",
      " 8   사무판단       848072 non-null  int64 \n",
      " 9   사무판단근거     687920 non-null  object\n",
      " 10  사무명        54588 non-null   object\n",
      " 11  수행주체       54590 non-null   object\n",
      " 12  사무유형       54546 non-null   object\n",
      " 13  위임사무판단     848072 non-null  int64 \n",
      " 14  위임근거규정     3749 non-null    object\n",
      " 15  수임기관       2899 non-null    object\n",
      " 16  특행기관       848072 non-null  int64 \n",
      " 17  재위임사무판단    848072 non-null  int64 \n",
      " 18  재위임근거규정    3 non-null       object\n",
      " 19  재수임기관      2 non-null       object\n",
      " 20  위탁사무판단     848072 non-null  int64 \n",
      " 21  위탁근거규정     3004 non-null    object\n",
      " 22  수탁기관       2977 non-null    object\n",
      " 23  사무유형(소분류)  54546 non-null   object\n",
      " 24  기타         2 non-null       object\n",
      " 25  사무유형(대분류)  848072 non-null  object\n",
      "dtypes: int64(6), object(20)\n",
      "memory usage: 168.2+ MB\n"
     ]
    }
   ],
   "source": [
    "test_df = pd.read_csv('data/FinalBaseTable.csv')\n",
    "test_df.info()"
   ]
  },
  {
   "cell_type": "markdown",
   "id": "850112c6",
   "metadata": {},
   "source": [
    "# 2. 데이터 전처리"
   ]
  },
  {
   "cell_type": "code",
   "execution_count": 8,
   "id": "d0807217",
   "metadata": {},
   "outputs": [],
   "source": [
    "#test_df = f.x_null_drop(test_df)\n",
    "#test_df = f.x_wrong_drop(test_df)\n",
    "test_df = f.no_work_check(test_df)\n",
    "test_df = f.make_large_type(test_df)"
   ]
  },
  {
   "cell_type": "code",
   "execution_count": 9,
   "id": "6a4d9d31",
   "metadata": {},
   "outputs": [
    {
     "data": {
      "text/plain": [
       "(848072, 5)"
      ]
     },
     "execution_count": 9,
     "metadata": {},
     "output_type": "execute_result"
    }
   ],
   "source": [
    "# 결과 저장 데이터 프레임 생성\n",
    "check_cols = ['법령명' ,'조문제목', '조문', '사무판단', '사무유형(대분류)']\n",
    "sub_df = test_df.loc[:, check_cols].copy()\n",
    "sub_df.shape"
   ]
  },
  {
   "cell_type": "markdown",
   "id": "0eb3c763",
   "metadata": {},
   "source": [
    "# 3. Rule-Base 적용"
   ]
  },
  {
   "cell_type": "code",
   "execution_count": 10,
   "id": "b02eb96d",
   "metadata": {},
   "outputs": [],
   "source": [
    "sub_df = f.rule_based(sub_df)  # rule_base 조문 확인\n",
    "\n",
    "# rule_base로 걸러낸 조문들\n",
    "rule_base_filter_idx = sub_df.loc[sub_df['rule_based']==0, :].index"
   ]
  },
  {
   "cell_type": "markdown",
   "id": "5da44c2d",
   "metadata": {},
   "source": [
    "# 4. 1차 사무판단\n",
    "## encoder 모델"
   ]
  },
  {
   "cell_type": "markdown",
   "id": "b2168e11",
   "metadata": {},
   "source": [
    "* encoder 구조 생성"
   ]
  },
  {
   "cell_type": "code",
   "execution_count": 11,
   "id": "26a00c91",
   "metadata": {},
   "outputs": [
    {
     "data": {
      "text/plain": [
       "MyModel(\n",
       "  (encoder): MyEncoder(\n",
       "    (layers): ModuleList(\n",
       "      (0): MyEncoderLayer(\n",
       "        (self_attention): MultiheadAttention(\n",
       "          (out_proj): NonDynamicallyQuantizableLinear(in_features=512, out_features=512, bias=True)\n",
       "        )\n",
       "        (feedforward): Sequential(\n",
       "          (0): Linear(in_features=512, out_features=1024, bias=True)\n",
       "          (1): ReLU()\n",
       "          (2): Linear(in_features=1024, out_features=512, bias=True)\n",
       "        )\n",
       "        (layer_norm1): LayerNorm((512,), eps=1e-05, elementwise_affine=True)\n",
       "        (layer_norm2): LayerNorm((512,), eps=1e-05, elementwise_affine=True)\n",
       "        (dropout): Dropout(p=0.1, inplace=False)\n",
       "      )\n",
       "    )\n",
       "  )\n",
       "  (layer1): Linear(in_features=512, out_features=256, bias=True)\n",
       "  (batch_norm): BatchNorm1d(256, eps=1e-05, momentum=0.1, affine=True, track_running_stats=True)\n",
       "  (relu): ReLU()\n",
       "  (layer2): Linear(in_features=256, out_features=2, bias=True)\n",
       ")"
      ]
     },
     "execution_count": 11,
     "metadata": {},
     "output_type": "execute_result"
    }
   ],
   "source": [
    "# 모델 및 토크나이저 불러오기\n",
    "model_name = 'klue/roberta-large'\n",
    "tokenizer = AutoTokenizer.from_pretrained(model_name)\n",
    "\n",
    "# 모델 기본 구조 설정\n",
    "input_size = 512\n",
    "hidden_size = 256\n",
    "output_size = 2\n",
    "num_encoder_layers = 1\n",
    "device = torch.device('cuda' if torch.cuda.is_available() else 'cpu')\n",
    "\n",
    "model = mm.MyModel(input_size, hidden_size, output_size, num_encoder_layers)\n",
    "model.to(device)"
   ]
  },
  {
   "cell_type": "markdown",
   "id": "e2f1a0c1",
   "metadata": {},
   "source": [
    "* 학습된 encoder 불러오기"
   ]
  },
  {
   "cell_type": "code",
   "execution_count": 12,
   "id": "b0ded757",
   "metadata": {},
   "outputs": [
    {
     "data": {
      "text/plain": [
       "<All keys matched successfully>"
      ]
     },
     "execution_count": 12,
     "metadata": {},
     "output_type": "execute_result"
    }
   ],
   "source": [
    "model_path = 'pickles/encoder_model_f1_all.pth'  # Provide the correct path\n",
    "model.load_state_dict(torch.load(model_path, map_location=device))"
   ]
  },
  {
   "cell_type": "markdown",
   "id": "57b32871",
   "metadata": {},
   "source": [
    "* 모델 평가"
   ]
  },
  {
   "cell_type": "code",
   "execution_count": 13,
   "id": "6e626039",
   "metadata": {},
   "outputs": [],
   "source": [
    "# 데이터로더 생성\n",
    "batch_size = 16  # 배치크기 조절\n",
    "\n",
    "test_dataset = CustomDataset1(sub_df, tokenizer)\n",
    "test_loader = DataLoader(test_dataset, batch_size=batch_size, shuffle=False, collate_fn=collate_fn)"
   ]
  },
  {
   "cell_type": "code",
   "execution_count": 14,
   "id": "a4c6f90b",
   "metadata": {},
   "outputs": [
    {
     "name": "stderr",
     "output_type": "stream",
     "text": [
      "Validation: 100%|████████████████████████| 53005/53005 [04:32<00:00, 194.75it/s]\n"
     ]
    },
    {
     "name": "stdout",
     "output_type": "stream",
     "text": [
      "tensor(0.3663)\n"
     ]
    }
   ],
   "source": [
    "model.eval()\n",
    "\n",
    "test_loss = 0\n",
    "probs = []\n",
    "\n",
    "with torch.no_grad():\n",
    "    for batch in tqdm(test_loader, desc=f'Validation'):\n",
    "        inputs = {key: value.to(device) for key, value in batch.items() if key != 'labels'}\n",
    "        labels = batch['labels'].to(device)\n",
    "\n",
    "        # 모델에 토큰화된 입력 데이터 전달\n",
    "        outputs = model(**inputs).float()\n",
    "        test_loss += torch.nn.functional.cross_entropy(outputs, labels.long())\n",
    "        \n",
    "        # 소프트맥스를 적용하여 확률값 얻기\n",
    "        probs_batch = torch.nn.functional.softmax(outputs, dim=1)\n",
    "        probs.append(probs_batch.cpu().numpy())\n",
    "\n",
    "# 손실 계산\n",
    "avg_test_loss = test_loss / len(test_loader)\n",
    "\n",
    "# 확률값을 하나의 배열로 통합\n",
    "probs = np.concatenate(probs, axis=0)\n",
    "\n",
    "print(avg_test_loss)"
   ]
  },
  {
   "cell_type": "code",
   "execution_count": 15,
   "id": "7161f217",
   "metadata": {},
   "outputs": [],
   "source": [
    "# 결과 확률 저장\n",
    "prob_1 = probs[:, 1]\n",
    "prob_1 = [round(prob, 5) for prob in prob_1]"
   ]
  },
  {
   "cell_type": "code",
   "execution_count": 16,
   "id": "042a696b",
   "metadata": {},
   "outputs": [
    {
     "data": {
      "text/html": [
       "<div>\n",
       "<style scoped>\n",
       "    .dataframe tbody tr th:only-of-type {\n",
       "        vertical-align: middle;\n",
       "    }\n",
       "\n",
       "    .dataframe tbody tr th {\n",
       "        vertical-align: top;\n",
       "    }\n",
       "\n",
       "    .dataframe thead th {\n",
       "        text-align: right;\n",
       "    }\n",
       "</style>\n",
       "<table border=\"1\" class=\"dataframe\">\n",
       "  <thead>\n",
       "    <tr style=\"text-align: right;\">\n",
       "      <th></th>\n",
       "      <th>법령명</th>\n",
       "      <th>조문제목</th>\n",
       "      <th>조문</th>\n",
       "      <th>사무판단</th>\n",
       "      <th>사무유형(대분류)</th>\n",
       "      <th>rule_based</th>\n",
       "    </tr>\n",
       "  </thead>\n",
       "  <tbody>\n",
       "    <tr>\n",
       "      <th>0</th>\n",
       "      <td>개인정보 보호법</td>\n",
       "      <td>0</td>\n",
       "      <td>제1장 총칙</td>\n",
       "      <td>0</td>\n",
       "      <td>0</td>\n",
       "      <td>0</td>\n",
       "    </tr>\n",
       "    <tr>\n",
       "      <th>1</th>\n",
       "      <td>개인정보 보호법</td>\n",
       "      <td>목적</td>\n",
       "      <td>제1조(목적) 이 법은 개인정보의 처리 및 보호에 관한 사항을 정함으로써 개인의 자...</td>\n",
       "      <td>0</td>\n",
       "      <td>0</td>\n",
       "      <td>0</td>\n",
       "    </tr>\n",
       "    <tr>\n",
       "      <th>2</th>\n",
       "      <td>개인정보 보호법</td>\n",
       "      <td>정의</td>\n",
       "      <td>제2조(정의) 이 법에서 사용하는 용어의 뜻은 다음과 같다. &lt;개정 2014.3.2...</td>\n",
       "      <td>0</td>\n",
       "      <td>0</td>\n",
       "      <td>0</td>\n",
       "    </tr>\n",
       "    <tr>\n",
       "      <th>3</th>\n",
       "      <td>개인정보 보호법</td>\n",
       "      <td>정의</td>\n",
       "      <td>1. \"개인정보\"란 살아 있는 개인에 관한 정보로서 다음 각 목의 어느 하나에 해당...</td>\n",
       "      <td>0</td>\n",
       "      <td>0</td>\n",
       "      <td>0</td>\n",
       "    </tr>\n",
       "    <tr>\n",
       "      <th>4</th>\n",
       "      <td>개인정보 보호법</td>\n",
       "      <td>정의</td>\n",
       "      <td>1의2. \"가명처리\"란 개인정보의 일부를 삭제하거나 일부 또는 전부를 대체하는 등의...</td>\n",
       "      <td>0</td>\n",
       "      <td>0</td>\n",
       "      <td>0</td>\n",
       "    </tr>\n",
       "  </tbody>\n",
       "</table>\n",
       "</div>"
      ],
      "text/plain": [
       "        법령명 조문제목                                                 조문  사무판단  \\\n",
       "0  개인정보 보호법    0                                             제1장 총칙     0   \n",
       "1  개인정보 보호법   목적  제1조(목적) 이 법은 개인정보의 처리 및 보호에 관한 사항을 정함으로써 개인의 자...     0   \n",
       "2  개인정보 보호법   정의  제2조(정의) 이 법에서 사용하는 용어의 뜻은 다음과 같다. <개정 2014.3.2...     0   \n",
       "3  개인정보 보호법   정의  1. \"개인정보\"란 살아 있는 개인에 관한 정보로서 다음 각 목의 어느 하나에 해당...     0   \n",
       "4  개인정보 보호법   정의  1의2. \"가명처리\"란 개인정보의 일부를 삭제하거나 일부 또는 전부를 대체하는 등의...     0   \n",
       "\n",
       "   사무유형(대분류)  rule_based  \n",
       "0          0           0  \n",
       "1          0           0  \n",
       "2          0           0  \n",
       "3          0           0  \n",
       "4          0           0  "
      ]
     },
     "execution_count": 16,
     "metadata": {},
     "output_type": "execute_result"
    }
   ],
   "source": [
    "sub_df.head()"
   ]
  },
  {
   "cell_type": "markdown",
   "id": "11ca4784",
   "metadata": {},
   "source": [
    "## 1차 사무판단 진행"
   ]
  },
  {
   "cell_type": "code",
   "execution_count": 17,
   "id": "c4493e6c",
   "metadata": {},
   "outputs": [],
   "source": [
    "threshold = 0.251    # test 결과로 확인한 threshold\n",
    "\n",
    "sub_df['사무판단 예측'] = 0\n",
    "sub_df['사무판단 예측확률'] = prob_1\n",
    "\n",
    "# 1차 사무판단\n",
    "sub_df.loc[sub_df['사무판단 예측확률'] >= threshold, '사무판단 예측'] = 1\n",
    "\n",
    "sub_df.loc[rule_base_filter_idx, '사무판단 예측'] = 0   # rule-base 결과 적용"
   ]
  },
  {
   "cell_type": "code",
   "execution_count": 18,
   "id": "8d721294",
   "metadata": {},
   "outputs": [],
   "source": [
    "#sub_df.loc[(sub_df['rule_based']==0) & (sub_df['사무판단 예측']==1), :]   # rule-base로 11425 추가 걸러냄"
   ]
  },
  {
   "cell_type": "code",
   "execution_count": 19,
   "id": "ebd40751",
   "metadata": {},
   "outputs": [
    {
     "name": "stdout",
     "output_type": "stream",
     "text": [
      "Accuracy: 0.6776323236706318\n",
      "Precision: 0.16125686866341615\n",
      "Recall: 0.9549737835954973\n",
      "F1-Score: 0.2759216147426577\n",
      "Confusion Matrix:\n",
      "[[522591 270935]\n",
      " [  2456  52090]]\n"
     ]
    }
   ],
   "source": [
    "# 1차 필터링 결과\n",
    "cal_result(sub_df['사무판단 예측'], sub_df['사무판단'])"
   ]
  },
  {
   "cell_type": "markdown",
   "id": "af3fc551",
   "metadata": {},
   "source": [
    "## 1차 filtering 결과"
   ]
  },
  {
   "cell_type": "code",
   "execution_count": 20,
   "id": "b88f8cad",
   "metadata": {},
   "outputs": [
    {
     "data": {
      "text/html": [
       "<div>\n",
       "<style scoped>\n",
       "    .dataframe tbody tr th:only-of-type {\n",
       "        vertical-align: middle;\n",
       "    }\n",
       "\n",
       "    .dataframe tbody tr th {\n",
       "        vertical-align: top;\n",
       "    }\n",
       "\n",
       "    .dataframe thead th {\n",
       "        text-align: right;\n",
       "    }\n",
       "</style>\n",
       "<table border=\"1\" class=\"dataframe\">\n",
       "  <thead>\n",
       "    <tr style=\"text-align: right;\">\n",
       "      <th></th>\n",
       "      <th>법령명</th>\n",
       "      <th>조문제목</th>\n",
       "      <th>조문</th>\n",
       "      <th>사무판단</th>\n",
       "      <th>사무유형(대분류)</th>\n",
       "      <th>rule_based</th>\n",
       "      <th>사무판단 예측</th>\n",
       "      <th>사무판단 예측확률</th>\n",
       "    </tr>\n",
       "  </thead>\n",
       "  <tbody>\n",
       "    <tr>\n",
       "      <th>13</th>\n",
       "      <td>개인정보 보호법</td>\n",
       "      <td>개인정보 보호 원칙</td>\n",
       "      <td>① 개인정보처리자는 개인정보의 처리 목적을 명확하게 하여야 하고 그 목적에 필요한 ...</td>\n",
       "      <td>0</td>\n",
       "      <td>0</td>\n",
       "      <td>1</td>\n",
       "      <td>1</td>\n",
       "      <td>0.75711</td>\n",
       "    </tr>\n",
       "    <tr>\n",
       "      <th>14</th>\n",
       "      <td>개인정보 보호법</td>\n",
       "      <td>개인정보 보호 원칙</td>\n",
       "      <td>② 개인정보처리자는 개인정보의 처리 목적에 필요한 범위에서 적합하게 개인정보를 처리...</td>\n",
       "      <td>0</td>\n",
       "      <td>0</td>\n",
       "      <td>1</td>\n",
       "      <td>1</td>\n",
       "      <td>0.79265</td>\n",
       "    </tr>\n",
       "    <tr>\n",
       "      <th>15</th>\n",
       "      <td>개인정보 보호법</td>\n",
       "      <td>개인정보 보호 원칙</td>\n",
       "      <td>③ 개인정보처리자는 개인정보의 처리 목적에 필요한 범위에서 개인정보의 정확성, 완전...</td>\n",
       "      <td>0</td>\n",
       "      <td>0</td>\n",
       "      <td>1</td>\n",
       "      <td>1</td>\n",
       "      <td>0.68588</td>\n",
       "    </tr>\n",
       "    <tr>\n",
       "      <th>16</th>\n",
       "      <td>개인정보 보호법</td>\n",
       "      <td>개인정보 보호 원칙</td>\n",
       "      <td>④ 개인정보처리자는 개인정보의 처리 방법 및 종류 등에 따라 정보주체의 권리가 침해...</td>\n",
       "      <td>0</td>\n",
       "      <td>0</td>\n",
       "      <td>1</td>\n",
       "      <td>1</td>\n",
       "      <td>0.61160</td>\n",
       "    </tr>\n",
       "    <tr>\n",
       "      <th>17</th>\n",
       "      <td>개인정보 보호법</td>\n",
       "      <td>개인정보 보호 원칙</td>\n",
       "      <td>⑤ 개인정보처리자는 개인정보 처리방침 등 개인정보의 처리에 관한 사항을 공개하여야 ...</td>\n",
       "      <td>0</td>\n",
       "      <td>0</td>\n",
       "      <td>1</td>\n",
       "      <td>1</td>\n",
       "      <td>0.71247</td>\n",
       "    </tr>\n",
       "  </tbody>\n",
       "</table>\n",
       "</div>"
      ],
      "text/plain": [
       "         법령명        조문제목                                                 조문  \\\n",
       "13  개인정보 보호법  개인정보 보호 원칙  ① 개인정보처리자는 개인정보의 처리 목적을 명확하게 하여야 하고 그 목적에 필요한 ...   \n",
       "14  개인정보 보호법  개인정보 보호 원칙  ② 개인정보처리자는 개인정보의 처리 목적에 필요한 범위에서 적합하게 개인정보를 처리...   \n",
       "15  개인정보 보호법  개인정보 보호 원칙  ③ 개인정보처리자는 개인정보의 처리 목적에 필요한 범위에서 개인정보의 정확성, 완전...   \n",
       "16  개인정보 보호법  개인정보 보호 원칙  ④ 개인정보처리자는 개인정보의 처리 방법 및 종류 등에 따라 정보주체의 권리가 침해...   \n",
       "17  개인정보 보호법  개인정보 보호 원칙  ⑤ 개인정보처리자는 개인정보 처리방침 등 개인정보의 처리에 관한 사항을 공개하여야 ...   \n",
       "\n",
       "    사무판단  사무유형(대분류)  rule_based  사무판단 예측  사무판단 예측확률  \n",
       "13     0          0           1        1    0.75711  \n",
       "14     0          0           1        1    0.79265  \n",
       "15     0          0           1        1    0.68588  \n",
       "16     0          0           1        1    0.61160  \n",
       "17     0          0           1        1    0.71247  "
      ]
     },
     "execution_count": 20,
     "metadata": {},
     "output_type": "execute_result"
    }
   ],
   "source": [
    "# 1차 filter 결과\n",
    "first_filtered_df = sub_df.loc[sub_df['사무판단 예측']==1, :].copy()\n",
    "first_filtered_df.head()"
   ]
  },
  {
   "cell_type": "markdown",
   "id": "1dee57fa",
   "metadata": {},
   "source": [
    "# 4. 2차 사무판단 + 사무유형 판단\n",
    "* 사무로 판단되었을때 실행"
   ]
  },
  {
   "cell_type": "markdown",
   "id": "9727123b",
   "metadata": {},
   "source": [
    "## Encoder Model"
   ]
  },
  {
   "cell_type": "code",
   "execution_count": 21,
   "id": "72e9486e",
   "metadata": {},
   "outputs": [],
   "source": [
    "input_size = 128\n",
    "hidden_size = 64\n",
    "output_size = 4\n",
    "\n",
    "total_encoder = mm.MyModel(input_size, hidden_size, output_size)"
   ]
  },
  {
   "cell_type": "code",
   "execution_count": 22,
   "id": "129929ac",
   "metadata": {},
   "outputs": [
    {
     "data": {
      "text/plain": [
       "<All keys matched successfully>"
      ]
     },
     "execution_count": 22,
     "metadata": {},
     "output_type": "execute_result"
    }
   ],
   "source": [
    "model_path2 = 'pickles/encoder_model_f2_all.pth'  # Provide the correct path\n",
    "total_encoder.load_state_dict(torch.load(model_path2, map_location=device))"
   ]
  },
  {
   "cell_type": "markdown",
   "id": "05df11f2",
   "metadata": {},
   "source": [
    "* 수행주체 추출"
   ]
  },
  {
   "cell_type": "code",
   "execution_count": 23,
   "id": "5aaa4270",
   "metadata": {},
   "outputs": [],
   "source": [
    "# 수행주체 종류 불러오기\n",
    "with open('pickles/subject_list.pkl', 'rb') as file:\n",
    "    subject_list = pickle.load(file)"
   ]
  },
  {
   "cell_type": "code",
   "execution_count": 24,
   "id": "9d1cfc4e",
   "metadata": {},
   "outputs": [
    {
     "name": "stderr",
     "output_type": "stream",
     "text": [
      "Processing rows: 100%|████████████████| 323025/323025 [00:50<00:00, 6360.19it/s]\n"
     ]
    }
   ],
   "source": [
    "# 수행주체(문자열, 리스트 추가)\n",
    "first_filtered_df = f.new_subject_make(first_filtered_df, subject_list, tqdm)"
   ]
  },
  {
   "cell_type": "code",
   "execution_count": 25,
   "id": "fba93a5d",
   "metadata": {},
   "outputs": [
    {
     "name": "stdout",
     "output_type": "stream",
     "text": [
      "<class 'pandas.core.frame.DataFrame'>\n",
      "Int64Index: 323025 entries, 13 to 848069\n",
      "Data columns (total 10 columns):\n",
      " #   Column      Non-Null Count   Dtype  \n",
      "---  ------      --------------   -----  \n",
      " 0   법령명         323025 non-null  object \n",
      " 1   조문제목        323025 non-null  object \n",
      " 2   조문          323025 non-null  object \n",
      " 3   사무판단        323025 non-null  int64  \n",
      " 4   사무유형(대분류)   323025 non-null  int64  \n",
      " 5   rule_based  323025 non-null  int64  \n",
      " 6   사무판단 예측     323025 non-null  int64  \n",
      " 7   사무판단 예측확률   323025 non-null  float32\n",
      " 8   수행주체(리스트)   323025 non-null  object \n",
      " 9   수행주체(문자열)   323025 non-null  object \n",
      "dtypes: float32(1), int64(4), object(5)\n",
      "memory usage: 33.9+ MB\n"
     ]
    }
   ],
   "source": [
    "first_filtered_df.info()"
   ]
  },
  {
   "cell_type": "code",
   "execution_count": 26,
   "id": "503a2f7c",
   "metadata": {},
   "outputs": [
    {
     "data": {
      "text/html": [
       "<div>\n",
       "<style scoped>\n",
       "    .dataframe tbody tr th:only-of-type {\n",
       "        vertical-align: middle;\n",
       "    }\n",
       "\n",
       "    .dataframe tbody tr th {\n",
       "        vertical-align: top;\n",
       "    }\n",
       "\n",
       "    .dataframe thead th {\n",
       "        text-align: right;\n",
       "    }\n",
       "</style>\n",
       "<table border=\"1\" class=\"dataframe\">\n",
       "  <thead>\n",
       "    <tr style=\"text-align: right;\">\n",
       "      <th></th>\n",
       "      <th>법령명</th>\n",
       "      <th>조문제목</th>\n",
       "      <th>조문</th>\n",
       "      <th>사무판단</th>\n",
       "      <th>사무유형(대분류)</th>\n",
       "      <th>rule_based</th>\n",
       "      <th>사무판단 예측</th>\n",
       "      <th>사무판단 예측확률</th>\n",
       "      <th>수행주체(리스트)</th>\n",
       "      <th>수행주체(문자열)</th>\n",
       "    </tr>\n",
       "  </thead>\n",
       "  <tbody>\n",
       "    <tr>\n",
       "      <th>13</th>\n",
       "      <td>개인정보 보호법</td>\n",
       "      <td>개인정보 보호 원칙</td>\n",
       "      <td>① 개인정보처리자는 개인정보의 처리 목적을 명확하게 하여야 하고 그 목적에 필요한 ...</td>\n",
       "      <td>0</td>\n",
       "      <td>0</td>\n",
       "      <td>1</td>\n",
       "      <td>1</td>\n",
       "      <td>0.75711</td>\n",
       "      <td>[]</td>\n",
       "      <td></td>\n",
       "    </tr>\n",
       "    <tr>\n",
       "      <th>14</th>\n",
       "      <td>개인정보 보호법</td>\n",
       "      <td>개인정보 보호 원칙</td>\n",
       "      <td>② 개인정보처리자는 개인정보의 처리 목적에 필요한 범위에서 적합하게 개인정보를 처리...</td>\n",
       "      <td>0</td>\n",
       "      <td>0</td>\n",
       "      <td>1</td>\n",
       "      <td>1</td>\n",
       "      <td>0.79265</td>\n",
       "      <td>[]</td>\n",
       "      <td></td>\n",
       "    </tr>\n",
       "    <tr>\n",
       "      <th>15</th>\n",
       "      <td>개인정보 보호법</td>\n",
       "      <td>개인정보 보호 원칙</td>\n",
       "      <td>③ 개인정보처리자는 개인정보의 처리 목적에 필요한 범위에서 개인정보의 정확성, 완전...</td>\n",
       "      <td>0</td>\n",
       "      <td>0</td>\n",
       "      <td>1</td>\n",
       "      <td>1</td>\n",
       "      <td>0.68588</td>\n",
       "      <td>[]</td>\n",
       "      <td></td>\n",
       "    </tr>\n",
       "    <tr>\n",
       "      <th>16</th>\n",
       "      <td>개인정보 보호법</td>\n",
       "      <td>개인정보 보호 원칙</td>\n",
       "      <td>④ 개인정보처리자는 개인정보의 처리 방법 및 종류 등에 따라 정보주체의 권리가 침해...</td>\n",
       "      <td>0</td>\n",
       "      <td>0</td>\n",
       "      <td>1</td>\n",
       "      <td>1</td>\n",
       "      <td>0.61160</td>\n",
       "      <td>[관리]</td>\n",
       "      <td>관리</td>\n",
       "    </tr>\n",
       "    <tr>\n",
       "      <th>17</th>\n",
       "      <td>개인정보 보호법</td>\n",
       "      <td>개인정보 보호 원칙</td>\n",
       "      <td>⑤ 개인정보처리자는 개인정보 처리방침 등 개인정보의 처리에 관한 사항을 공개하여야 ...</td>\n",
       "      <td>0</td>\n",
       "      <td>0</td>\n",
       "      <td>1</td>\n",
       "      <td>1</td>\n",
       "      <td>0.71247</td>\n",
       "      <td>[]</td>\n",
       "      <td></td>\n",
       "    </tr>\n",
       "  </tbody>\n",
       "</table>\n",
       "</div>"
      ],
      "text/plain": [
       "         법령명        조문제목                                                 조문  \\\n",
       "13  개인정보 보호법  개인정보 보호 원칙  ① 개인정보처리자는 개인정보의 처리 목적을 명확하게 하여야 하고 그 목적에 필요한 ...   \n",
       "14  개인정보 보호법  개인정보 보호 원칙  ② 개인정보처리자는 개인정보의 처리 목적에 필요한 범위에서 적합하게 개인정보를 처리...   \n",
       "15  개인정보 보호법  개인정보 보호 원칙  ③ 개인정보처리자는 개인정보의 처리 목적에 필요한 범위에서 개인정보의 정확성, 완전...   \n",
       "16  개인정보 보호법  개인정보 보호 원칙  ④ 개인정보처리자는 개인정보의 처리 방법 및 종류 등에 따라 정보주체의 권리가 침해...   \n",
       "17  개인정보 보호법  개인정보 보호 원칙  ⑤ 개인정보처리자는 개인정보 처리방침 등 개인정보의 처리에 관한 사항을 공개하여야 ...   \n",
       "\n",
       "    사무판단  사무유형(대분류)  rule_based  사무판단 예측  사무판단 예측확률 수행주체(리스트) 수행주체(문자열)  \n",
       "13     0          0           1        1    0.75711        []            \n",
       "14     0          0           1        1    0.79265        []            \n",
       "15     0          0           1        1    0.68588        []            \n",
       "16     0          0           1        1    0.61160      [관리]        관리  \n",
       "17     0          0           1        1    0.71247        []            "
      ]
     },
     "execution_count": 26,
     "metadata": {},
     "output_type": "execute_result"
    }
   ],
   "source": [
    "first_filtered_df.head()"
   ]
  },
  {
   "cell_type": "code",
   "execution_count": 27,
   "id": "a0b11f0d",
   "metadata": {},
   "outputs": [],
   "source": [
    "# 데이터로더 생성\n",
    "batch_size = 16  # 배치크기 조절\n",
    "\n",
    "total_dataset = CustomDataset2(first_filtered_df, tokenizer)\n",
    "total_loader = DataLoader(total_dataset, batch_size=batch_size, shuffle=False, collate_fn=collate_fn)"
   ]
  },
  {
   "cell_type": "code",
   "execution_count": 28,
   "id": "8d4a7202",
   "metadata": {},
   "outputs": [],
   "source": [
    "# 2차 인코더 가중치 학습\n",
    "class_weights = [0.2969,  2.2733,  9.0880, 12.1487]\n",
    "class_weights = torch.tensor(class_weights, dtype=torch.float32)"
   ]
  },
  {
   "cell_type": "code",
   "execution_count": 29,
   "id": "753613fc",
   "metadata": {},
   "outputs": [
    {
     "name": "stderr",
     "output_type": "stream",
     "text": [
      "Test: 100%|██████████████████████████████| 20190/20190 [01:09<00:00, 289.14it/s]"
     ]
    },
    {
     "name": "stdout",
     "output_type": "stream",
     "text": [
      "Test Loss: 1.202365756034851\n"
     ]
    },
    {
     "name": "stderr",
     "output_type": "stream",
     "text": [
      "\n"
     ]
    }
   ],
   "source": [
    "total_encoder.eval()\n",
    "val_loss = 0.0\n",
    "y_true = []  # 실제 레이블을 저장할 리스트\n",
    "y_pred = []  # 모델의 예측 결과를 저장할 리스트\n",
    "y_probs = [] # 사무유형별 확률 저장할 리스트\n",
    "with torch.no_grad():\n",
    "    for batch in tqdm(total_loader, desc=f'Test'):\n",
    "        inputs = {key: value.to(device) for key, value in batch.items() if key != 'labels'}\n",
    "        labels = batch['labels'].to(device)\n",
    "\n",
    "        # 모델에 토큰화된 입력 데이터 전달\n",
    "        outputs = total_encoder(**inputs).float()\n",
    "        \n",
    "        probs = torch.nn.functional.softmax(outputs, dim=1)\n",
    "        y_probs.extend(probs.cpu().numpy())\n",
    "        _, predictions = torch.max(outputs, 1)\n",
    "        y_true.extend(labels.cpu().numpy())\n",
    "        y_pred.extend(predictions.cpu().numpy())\n",
    "        val_loss += torch.nn.functional.cross_entropy(outputs, labels, weight=class_weights)\n",
    "\n",
    "avg_val_loss = val_loss / len(total_loader)\n",
    "print(f'Test Loss: {avg_val_loss}')"
   ]
  },
  {
   "cell_type": "code",
   "execution_count": 30,
   "id": "924d2608",
   "metadata": {},
   "outputs": [],
   "source": [
    "probs = pd.DataFrame(y_probs)\n",
    "probs = probs.set_index(first_filtered_df.index)\n",
    "\n",
    "# 인코더 결과 저장\n",
    "encoder_result_df = f.make_result_df(pd, y_true, y_pred, probs[0], probs[1], probs[2], probs[3])"
   ]
  },
  {
   "cell_type": "code",
   "execution_count": 31,
   "id": "58e2f961",
   "metadata": {},
   "outputs": [
    {
     "data": {
      "text/html": [
       "<div>\n",
       "<style scoped>\n",
       "    .dataframe tbody tr th:only-of-type {\n",
       "        vertical-align: middle;\n",
       "    }\n",
       "\n",
       "    .dataframe tbody tr th {\n",
       "        vertical-align: top;\n",
       "    }\n",
       "\n",
       "    .dataframe thead th {\n",
       "        text-align: right;\n",
       "    }\n",
       "</style>\n",
       "<table border=\"1\" class=\"dataframe\">\n",
       "  <thead>\n",
       "    <tr style=\"text-align: right;\">\n",
       "      <th></th>\n",
       "      <th>사무유형(대분류)</th>\n",
       "      <th>사무유형(대분류) 예측</th>\n",
       "      <th>비사무 확률</th>\n",
       "      <th>국가 확률</th>\n",
       "      <th>지방 확률</th>\n",
       "      <th>공동 확률</th>\n",
       "    </tr>\n",
       "  </thead>\n",
       "  <tbody>\n",
       "    <tr>\n",
       "      <th>13</th>\n",
       "      <td>0</td>\n",
       "      <td>0</td>\n",
       "      <td>0.48308</td>\n",
       "      <td>0.24405</td>\n",
       "      <td>0.10464</td>\n",
       "      <td>0.16823</td>\n",
       "    </tr>\n",
       "    <tr>\n",
       "      <th>14</th>\n",
       "      <td>0</td>\n",
       "      <td>0</td>\n",
       "      <td>0.48308</td>\n",
       "      <td>0.24405</td>\n",
       "      <td>0.10464</td>\n",
       "      <td>0.16823</td>\n",
       "    </tr>\n",
       "    <tr>\n",
       "      <th>15</th>\n",
       "      <td>0</td>\n",
       "      <td>0</td>\n",
       "      <td>0.48308</td>\n",
       "      <td>0.24405</td>\n",
       "      <td>0.10464</td>\n",
       "      <td>0.16823</td>\n",
       "    </tr>\n",
       "    <tr>\n",
       "      <th>16</th>\n",
       "      <td>0</td>\n",
       "      <td>0</td>\n",
       "      <td>0.47572</td>\n",
       "      <td>0.24771</td>\n",
       "      <td>0.10569</td>\n",
       "      <td>0.17089</td>\n",
       "    </tr>\n",
       "    <tr>\n",
       "      <th>17</th>\n",
       "      <td>0</td>\n",
       "      <td>0</td>\n",
       "      <td>0.48308</td>\n",
       "      <td>0.24405</td>\n",
       "      <td>0.10464</td>\n",
       "      <td>0.16823</td>\n",
       "    </tr>\n",
       "    <tr>\n",
       "      <th>...</th>\n",
       "      <td>...</td>\n",
       "      <td>...</td>\n",
       "      <td>...</td>\n",
       "      <td>...</td>\n",
       "      <td>...</td>\n",
       "      <td>...</td>\n",
       "    </tr>\n",
       "    <tr>\n",
       "      <th>848059</th>\n",
       "      <td>0</td>\n",
       "      <td>1</td>\n",
       "      <td>0.21159</td>\n",
       "      <td>0.40811</td>\n",
       "      <td>0.17917</td>\n",
       "      <td>0.20113</td>\n",
       "    </tr>\n",
       "    <tr>\n",
       "      <th>848060</th>\n",
       "      <td>0</td>\n",
       "      <td>1</td>\n",
       "      <td>0.21159</td>\n",
       "      <td>0.40811</td>\n",
       "      <td>0.17917</td>\n",
       "      <td>0.20113</td>\n",
       "    </tr>\n",
       "    <tr>\n",
       "      <th>848063</th>\n",
       "      <td>0</td>\n",
       "      <td>1</td>\n",
       "      <td>0.21159</td>\n",
       "      <td>0.40811</td>\n",
       "      <td>0.17917</td>\n",
       "      <td>0.20113</td>\n",
       "    </tr>\n",
       "    <tr>\n",
       "      <th>848066</th>\n",
       "      <td>0</td>\n",
       "      <td>1</td>\n",
       "      <td>0.28751</td>\n",
       "      <td>0.33557</td>\n",
       "      <td>0.24997</td>\n",
       "      <td>0.12695</td>\n",
       "    </tr>\n",
       "    <tr>\n",
       "      <th>848069</th>\n",
       "      <td>0</td>\n",
       "      <td>0</td>\n",
       "      <td>0.59793</td>\n",
       "      <td>0.17661</td>\n",
       "      <td>0.10350</td>\n",
       "      <td>0.12195</td>\n",
       "    </tr>\n",
       "  </tbody>\n",
       "</table>\n",
       "<p>323025 rows × 6 columns</p>\n",
       "</div>"
      ],
      "text/plain": [
       "        사무유형(대분류)  사무유형(대분류) 예측   비사무 확률    국가 확률    지방 확률    공동 확률\n",
       "13              0             0  0.48308  0.24405  0.10464  0.16823\n",
       "14              0             0  0.48308  0.24405  0.10464  0.16823\n",
       "15              0             0  0.48308  0.24405  0.10464  0.16823\n",
       "16              0             0  0.47572  0.24771  0.10569  0.17089\n",
       "17              0             0  0.48308  0.24405  0.10464  0.16823\n",
       "...           ...           ...      ...      ...      ...      ...\n",
       "848059          0             1  0.21159  0.40811  0.17917  0.20113\n",
       "848060          0             1  0.21159  0.40811  0.17917  0.20113\n",
       "848063          0             1  0.21159  0.40811  0.17917  0.20113\n",
       "848066          0             1  0.28751  0.33557  0.24997  0.12695\n",
       "848069          0             0  0.59793  0.17661  0.10350  0.12195\n",
       "\n",
       "[323025 rows x 6 columns]"
      ]
     },
     "execution_count": 31,
     "metadata": {},
     "output_type": "execute_result"
    }
   ],
   "source": [
    "encoder_result_df"
   ]
  },
  {
   "cell_type": "code",
   "execution_count": 32,
   "id": "a419f967",
   "metadata": {},
   "outputs": [
    {
     "name": "stdout",
     "output_type": "stream",
     "text": [
      "혼동행렬\n",
      "[[183486  63170  20707   3572]\n",
      " [ 19352  13009   3563    644]\n",
      " [  3803   3139   1834    193]\n",
      " [  2787   2475   1065    226]]\n",
      "정확도: 0.6146737868586023\n",
      "Classification Report:\n",
      "              precision    recall  f1-score   support\n",
      "\n",
      "           0       0.88      0.68      0.76    270935\n",
      "           1       0.16      0.36      0.22     36568\n",
      "           2       0.07      0.20      0.10      8969\n",
      "           3       0.05      0.03      0.04      6553\n",
      "\n",
      "    accuracy                           0.61    323025\n",
      "   macro avg       0.29      0.32      0.28    323025\n",
      "weighted avg       0.76      0.61      0.67    323025\n",
      "\n"
     ]
    },
    {
     "data": {
      "text/plain": [
       "array([[183486,  63170,  20707,   3572],\n",
       "       [ 19352,  13009,   3563,    644],\n",
       "       [  3803,   3139,   1834,    193],\n",
       "       [  2787,   2475,   1065,    226]])"
      ]
     },
     "execution_count": 32,
     "metadata": {},
     "output_type": "execute_result"
    }
   ],
   "source": [
    "# 결과 확인\n",
    "cal_result2(encoder_result_df['사무유형(대분류) 예측'], encoder_result_df['사무유형(대분류)'])"
   ]
  },
  {
   "cell_type": "markdown",
   "id": "bfd094b4",
   "metadata": {},
   "source": [
    "## Random Forest"
   ]
  },
  {
   "cell_type": "code",
   "execution_count": 33,
   "id": "a29add8d",
   "metadata": {},
   "outputs": [],
   "source": [
    "rf_2_filtered_df = first_filtered_df.copy()"
   ]
  },
  {
   "cell_type": "code",
   "execution_count": 34,
   "id": "20dbcd71",
   "metadata": {},
   "outputs": [],
   "source": [
    "# RF 모델 불러오기\n",
    "with open('pickles/rf_model_f2_all.pkl', 'rb') as file:\n",
    "    model_2_rf = pickle.load(file)"
   ]
  },
  {
   "cell_type": "code",
   "execution_count": 35,
   "id": "5aa0afe8",
   "metadata": {},
   "outputs": [
    {
     "data": {
      "text/html": [
       "<div>\n",
       "<style scoped>\n",
       "    .dataframe tbody tr th:only-of-type {\n",
       "        vertical-align: middle;\n",
       "    }\n",
       "\n",
       "    .dataframe tbody tr th {\n",
       "        vertical-align: top;\n",
       "    }\n",
       "\n",
       "    .dataframe thead th {\n",
       "        text-align: right;\n",
       "    }\n",
       "</style>\n",
       "<table border=\"1\" class=\"dataframe\">\n",
       "  <thead>\n",
       "    <tr style=\"text-align: right;\">\n",
       "      <th></th>\n",
       "      <th>법령명</th>\n",
       "      <th>조문제목</th>\n",
       "      <th>조문</th>\n",
       "      <th>사무판단</th>\n",
       "      <th>사무유형(대분류)</th>\n",
       "      <th>rule_based</th>\n",
       "      <th>사무판단 예측</th>\n",
       "      <th>사무판단 예측확률</th>\n",
       "      <th>수행주체(리스트)</th>\n",
       "      <th>수행주체(문자열)</th>\n",
       "    </tr>\n",
       "  </thead>\n",
       "  <tbody>\n",
       "    <tr>\n",
       "      <th>13</th>\n",
       "      <td>개인정보 보호법</td>\n",
       "      <td>개인정보 보호 원칙</td>\n",
       "      <td>① 개인정보처리자는 개인정보의 처리 목적을 명확하게 하여야 하고 그 목적에 필요한 ...</td>\n",
       "      <td>0</td>\n",
       "      <td>0</td>\n",
       "      <td>1</td>\n",
       "      <td>1</td>\n",
       "      <td>0.75711</td>\n",
       "      <td>[]</td>\n",
       "      <td></td>\n",
       "    </tr>\n",
       "    <tr>\n",
       "      <th>14</th>\n",
       "      <td>개인정보 보호법</td>\n",
       "      <td>개인정보 보호 원칙</td>\n",
       "      <td>② 개인정보처리자는 개인정보의 처리 목적에 필요한 범위에서 적합하게 개인정보를 처리...</td>\n",
       "      <td>0</td>\n",
       "      <td>0</td>\n",
       "      <td>1</td>\n",
       "      <td>1</td>\n",
       "      <td>0.79265</td>\n",
       "      <td>[]</td>\n",
       "      <td></td>\n",
       "    </tr>\n",
       "    <tr>\n",
       "      <th>15</th>\n",
       "      <td>개인정보 보호법</td>\n",
       "      <td>개인정보 보호 원칙</td>\n",
       "      <td>③ 개인정보처리자는 개인정보의 처리 목적에 필요한 범위에서 개인정보의 정확성, 완전...</td>\n",
       "      <td>0</td>\n",
       "      <td>0</td>\n",
       "      <td>1</td>\n",
       "      <td>1</td>\n",
       "      <td>0.68588</td>\n",
       "      <td>[]</td>\n",
       "      <td></td>\n",
       "    </tr>\n",
       "    <tr>\n",
       "      <th>16</th>\n",
       "      <td>개인정보 보호법</td>\n",
       "      <td>개인정보 보호 원칙</td>\n",
       "      <td>④ 개인정보처리자는 개인정보의 처리 방법 및 종류 등에 따라 정보주체의 권리가 침해...</td>\n",
       "      <td>0</td>\n",
       "      <td>0</td>\n",
       "      <td>1</td>\n",
       "      <td>1</td>\n",
       "      <td>0.61160</td>\n",
       "      <td>[관리]</td>\n",
       "      <td>관리</td>\n",
       "    </tr>\n",
       "    <tr>\n",
       "      <th>17</th>\n",
       "      <td>개인정보 보호법</td>\n",
       "      <td>개인정보 보호 원칙</td>\n",
       "      <td>⑤ 개인정보처리자는 개인정보 처리방침 등 개인정보의 처리에 관한 사항을 공개하여야 ...</td>\n",
       "      <td>0</td>\n",
       "      <td>0</td>\n",
       "      <td>1</td>\n",
       "      <td>1</td>\n",
       "      <td>0.71247</td>\n",
       "      <td>[]</td>\n",
       "      <td></td>\n",
       "    </tr>\n",
       "  </tbody>\n",
       "</table>\n",
       "</div>"
      ],
      "text/plain": [
       "         법령명        조문제목                                                 조문  \\\n",
       "13  개인정보 보호법  개인정보 보호 원칙  ① 개인정보처리자는 개인정보의 처리 목적을 명확하게 하여야 하고 그 목적에 필요한 ...   \n",
       "14  개인정보 보호법  개인정보 보호 원칙  ② 개인정보처리자는 개인정보의 처리 목적에 필요한 범위에서 적합하게 개인정보를 처리...   \n",
       "15  개인정보 보호법  개인정보 보호 원칙  ③ 개인정보처리자는 개인정보의 처리 목적에 필요한 범위에서 개인정보의 정확성, 완전...   \n",
       "16  개인정보 보호법  개인정보 보호 원칙  ④ 개인정보처리자는 개인정보의 처리 방법 및 종류 등에 따라 정보주체의 권리가 침해...   \n",
       "17  개인정보 보호법  개인정보 보호 원칙  ⑤ 개인정보처리자는 개인정보 처리방침 등 개인정보의 처리에 관한 사항을 공개하여야 ...   \n",
       "\n",
       "    사무판단  사무유형(대분류)  rule_based  사무판단 예측  사무판단 예측확률 수행주체(리스트) 수행주체(문자열)  \n",
       "13     0          0           1        1    0.75711        []            \n",
       "14     0          0           1        1    0.79265        []            \n",
       "15     0          0           1        1    0.68588        []            \n",
       "16     0          0           1        1    0.61160      [관리]        관리  \n",
       "17     0          0           1        1    0.71247        []            "
      ]
     },
     "execution_count": 35,
     "metadata": {},
     "output_type": "execute_result"
    }
   ],
   "source": [
    "rf_2_filtered_df.head()"
   ]
  },
  {
   "cell_type": "code",
   "execution_count": 36,
   "id": "04f4c9ba",
   "metadata": {},
   "outputs": [],
   "source": [
    "# 법령명 통합\n",
    "rf_2_filtered_df['법령명'] = rf_2_filtered_df['법령명'].apply(lambda x: re.sub(r'\\s?시행령|\\s?시행규칙', '', x))"
   ]
  },
  {
   "cell_type": "code",
   "execution_count": 37,
   "id": "08720889",
   "metadata": {},
   "outputs": [],
   "source": [
    "# 새로운 컬럼을 이용하기 위한 수행주체 count dictionary\n",
    "with open('pickles/subject_dic_f2_all.pkl', 'rb') as file:\n",
    "    subject_dic = pickle.load(file)"
   ]
  },
  {
   "cell_type": "code",
   "execution_count": 38,
   "id": "8c8ef009",
   "metadata": {},
   "outputs": [
    {
     "name": "stderr",
     "output_type": "stream",
     "text": [
      "Processing rows: 100%|████████████████| 323025/323025 [00:53<00:00, 6032.55it/s]\n"
     ]
    }
   ],
   "source": [
    "# 수행주체 기준 새로운 열 생성\n",
    "rf_2_filtered_df = f.score_subject(rf_2_filtered_df,subject_dic,tqdm)"
   ]
  },
  {
   "cell_type": "code",
   "execution_count": 39,
   "id": "feb2b581",
   "metadata": {},
   "outputs": [],
   "source": [
    "select_column = ['법령명', 'score_subject_nan', 'score_subject_n', 'score_subject_r', 'score_subject_p']\n",
    "rf_2_filtered_label = rf_2_filtered_df['사무유형(대분류)']\n",
    "rf_2_filtered_input = rf_2_filtered_df[select_column]"
   ]
  },
  {
   "cell_type": "code",
   "execution_count": 40,
   "id": "1ada9f90",
   "metadata": {},
   "outputs": [
    {
     "name": "stderr",
     "output_type": "stream",
     "text": [
      "/var/folders/zr/_f1rgf8n0w3541q9k8p3smhr0000gn/T/ipykernel_70046/253750670.py:3: SettingWithCopyWarning: \n",
      "A value is trying to be set on a copy of a slice from a DataFrame.\n",
      "Try using .loc[row_indexer,col_indexer] = value instead\n",
      "\n",
      "See the caveats in the documentation: https://pandas.pydata.org/pandas-docs/stable/user_guide/indexing.html#returning-a-view-versus-a-copy\n",
      "  rf_2_filtered_input['법령명'] = le.fit_transform(rf_2_filtered_input['법령명']) # train set에는 fit_transform\n"
     ]
    }
   ],
   "source": [
    "# '법령명' label encoding 진행\n",
    "le = LabelEncoder()\n",
    "rf_2_filtered_input['법령명'] = le.fit_transform(rf_2_filtered_input['법령명']) # train set에는 fit_transform"
   ]
  },
  {
   "cell_type": "code",
   "execution_count": 41,
   "id": "bca8bc69",
   "metadata": {},
   "outputs": [],
   "source": [
    "# rf 결과 추출\n",
    "y_pred_rf = model_2_rf.predict(rf_2_filtered_input)\n",
    "y_prob_rf = model_2_rf.predict_proba(rf_2_filtered_input)"
   ]
  },
  {
   "cell_type": "code",
   "execution_count": 42,
   "id": "9ac57434",
   "metadata": {},
   "outputs": [],
   "source": [
    "# rf 결과 데이터프레임 생성\n",
    "rf_probs = pd.DataFrame(y_prob_rf)\n",
    "rf_probs = rf_probs.set_index(first_filtered_df.index)\n",
    "\n",
    "rf_result_df = f.make_result_df(pd, rf_2_filtered_label, y_pred_rf, rf_probs[0], rf_probs[1], rf_probs[2], rf_probs[3])"
   ]
  },
  {
   "cell_type": "code",
   "execution_count": 43,
   "id": "2cff4d74",
   "metadata": {},
   "outputs": [
    {
     "data": {
      "text/html": [
       "<div>\n",
       "<style scoped>\n",
       "    .dataframe tbody tr th:only-of-type {\n",
       "        vertical-align: middle;\n",
       "    }\n",
       "\n",
       "    .dataframe tbody tr th {\n",
       "        vertical-align: top;\n",
       "    }\n",
       "\n",
       "    .dataframe thead th {\n",
       "        text-align: right;\n",
       "    }\n",
       "</style>\n",
       "<table border=\"1\" class=\"dataframe\">\n",
       "  <thead>\n",
       "    <tr style=\"text-align: right;\">\n",
       "      <th></th>\n",
       "      <th>사무유형(대분류)</th>\n",
       "      <th>사무유형(대분류) 예측</th>\n",
       "      <th>비사무 확률</th>\n",
       "      <th>국가 확률</th>\n",
       "      <th>지방 확률</th>\n",
       "      <th>공동 확률</th>\n",
       "    </tr>\n",
       "  </thead>\n",
       "  <tbody>\n",
       "    <tr>\n",
       "      <th>13</th>\n",
       "      <td>0</td>\n",
       "      <td>0</td>\n",
       "      <td>1.00000</td>\n",
       "      <td>0.00000</td>\n",
       "      <td>0.00000</td>\n",
       "      <td>0.0</td>\n",
       "    </tr>\n",
       "    <tr>\n",
       "      <th>14</th>\n",
       "      <td>0</td>\n",
       "      <td>0</td>\n",
       "      <td>1.00000</td>\n",
       "      <td>0.00000</td>\n",
       "      <td>0.00000</td>\n",
       "      <td>0.0</td>\n",
       "    </tr>\n",
       "    <tr>\n",
       "      <th>15</th>\n",
       "      <td>0</td>\n",
       "      <td>0</td>\n",
       "      <td>1.00000</td>\n",
       "      <td>0.00000</td>\n",
       "      <td>0.00000</td>\n",
       "      <td>0.0</td>\n",
       "    </tr>\n",
       "    <tr>\n",
       "      <th>16</th>\n",
       "      <td>0</td>\n",
       "      <td>0</td>\n",
       "      <td>1.00000</td>\n",
       "      <td>0.00000</td>\n",
       "      <td>0.00000</td>\n",
       "      <td>0.0</td>\n",
       "    </tr>\n",
       "    <tr>\n",
       "      <th>17</th>\n",
       "      <td>0</td>\n",
       "      <td>0</td>\n",
       "      <td>1.00000</td>\n",
       "      <td>0.00000</td>\n",
       "      <td>0.00000</td>\n",
       "      <td>0.0</td>\n",
       "    </tr>\n",
       "    <tr>\n",
       "      <th>...</th>\n",
       "      <td>...</td>\n",
       "      <td>...</td>\n",
       "      <td>...</td>\n",
       "      <td>...</td>\n",
       "      <td>...</td>\n",
       "      <td>...</td>\n",
       "    </tr>\n",
       "    <tr>\n",
       "      <th>848059</th>\n",
       "      <td>0</td>\n",
       "      <td>0</td>\n",
       "      <td>0.87963</td>\n",
       "      <td>0.00000</td>\n",
       "      <td>0.12037</td>\n",
       "      <td>0.0</td>\n",
       "    </tr>\n",
       "    <tr>\n",
       "      <th>848060</th>\n",
       "      <td>0</td>\n",
       "      <td>0</td>\n",
       "      <td>0.87963</td>\n",
       "      <td>0.00000</td>\n",
       "      <td>0.12037</td>\n",
       "      <td>0.0</td>\n",
       "    </tr>\n",
       "    <tr>\n",
       "      <th>848063</th>\n",
       "      <td>0</td>\n",
       "      <td>0</td>\n",
       "      <td>0.87963</td>\n",
       "      <td>0.00000</td>\n",
       "      <td>0.12037</td>\n",
       "      <td>0.0</td>\n",
       "    </tr>\n",
       "    <tr>\n",
       "      <th>848066</th>\n",
       "      <td>0</td>\n",
       "      <td>0</td>\n",
       "      <td>0.90212</td>\n",
       "      <td>0.09788</td>\n",
       "      <td>0.00000</td>\n",
       "      <td>0.0</td>\n",
       "    </tr>\n",
       "    <tr>\n",
       "      <th>848069</th>\n",
       "      <td>0</td>\n",
       "      <td>0</td>\n",
       "      <td>0.99000</td>\n",
       "      <td>0.01000</td>\n",
       "      <td>0.00000</td>\n",
       "      <td>0.0</td>\n",
       "    </tr>\n",
       "  </tbody>\n",
       "</table>\n",
       "<p>323025 rows × 6 columns</p>\n",
       "</div>"
      ],
      "text/plain": [
       "        사무유형(대분류)  사무유형(대분류) 예측   비사무 확률    국가 확률    지방 확률  공동 확률\n",
       "13              0             0  1.00000  0.00000  0.00000    0.0\n",
       "14              0             0  1.00000  0.00000  0.00000    0.0\n",
       "15              0             0  1.00000  0.00000  0.00000    0.0\n",
       "16              0             0  1.00000  0.00000  0.00000    0.0\n",
       "17              0             0  1.00000  0.00000  0.00000    0.0\n",
       "...           ...           ...      ...      ...      ...    ...\n",
       "848059          0             0  0.87963  0.00000  0.12037    0.0\n",
       "848060          0             0  0.87963  0.00000  0.12037    0.0\n",
       "848063          0             0  0.87963  0.00000  0.12037    0.0\n",
       "848066          0             0  0.90212  0.09788  0.00000    0.0\n",
       "848069          0             0  0.99000  0.01000  0.00000    0.0\n",
       "\n",
       "[323025 rows x 6 columns]"
      ]
     },
     "execution_count": 43,
     "metadata": {},
     "output_type": "execute_result"
    }
   ],
   "source": [
    "rf_result_df"
   ]
  },
  {
   "cell_type": "code",
   "execution_count": 44,
   "id": "f9ad411a",
   "metadata": {},
   "outputs": [
    {
     "name": "stdout",
     "output_type": "stream",
     "text": [
      "혼동행렬\n",
      "[[244390  19777   3820   2948]\n",
      " [ 20947  15178    132    311]\n",
      " [  6036    118   2728     87]\n",
      " [  3704    190     80   2579]]\n",
      "정확도: 0.819982973454067\n",
      "Classification Report:\n",
      "              precision    recall  f1-score   support\n",
      "\n",
      "           0       0.89      0.90      0.90    270935\n",
      "           1       0.43      0.42      0.42     36568\n",
      "           2       0.40      0.30      0.35      8969\n",
      "           3       0.44      0.39      0.41      6553\n",
      "\n",
      "    accuracy                           0.82    323025\n",
      "   macro avg       0.54      0.50      0.52    323025\n",
      "weighted avg       0.81      0.82      0.82    323025\n",
      "\n"
     ]
    },
    {
     "data": {
      "text/plain": [
       "array([[244390,  19777,   3820,   2948],\n",
       "       [ 20947,  15178,    132,    311],\n",
       "       [  6036,    118,   2728,     87],\n",
       "       [  3704,    190,     80,   2579]])"
      ]
     },
     "execution_count": 44,
     "metadata": {},
     "output_type": "execute_result"
    }
   ],
   "source": [
    "# rf 결과 확인\n",
    "cal_result2(rf_result_df['사무유형(대분류) 예측'], rf_result_df['사무유형(대분류)'])"
   ]
  },
  {
   "cell_type": "markdown",
   "id": "6fa76b63",
   "metadata": {},
   "source": [
    "## Ensemble"
   ]
  },
  {
   "cell_type": "code",
   "execution_count": 45,
   "id": "fc888f5f",
   "metadata": {},
   "outputs": [],
   "source": [
    "pred = [0]*len(y_prob_rf)\n",
    "e_prob0 = (rf_result_df['비사무 확률'] + encoder_result_df['비사무 확률'])/2\n",
    "e_prob1 = (rf_result_df['국가 확률'] + encoder_result_df['국가 확률'])/2\n",
    "e_prob2 = (rf_result_df['지방 확률'] + encoder_result_df['지방 확률'])/2\n",
    "e_prob3 = (rf_result_df['공동 확률'] + encoder_result_df['공동 확률'])/2\n",
    "\n",
    "ensemble_result_df_11 = f.make_result_df(pd, rf_2_filtered_label, pred, e_prob0, e_prob1, e_prob2, e_prob3)\n",
    "ensemble_result_df_11['수행주체(리스트)'] = rf_2_filtered_df['수행주체(리스트)']"
   ]
  },
  {
   "cell_type": "code",
   "execution_count": 46,
   "id": "42108fb5",
   "metadata": {},
   "outputs": [],
   "source": [
    "# 앙상블 사무유형 판단 저장\n",
    "ensemble_result_df_11 = f.make_ensemble_pred(ensemble_result_df_11)\n",
    "ensemble_result_df_11['사무유형(대분류) 예측'] = ensemble_result_df_11['사무유형(대분류) 예측'].astype(int)\n",
    "ensemble_result_df_11['rule_based'] = first_filtered_df['rule_based']"
   ]
  },
  {
   "cell_type": "code",
   "execution_count": 47,
   "id": "fd810908",
   "metadata": {},
   "outputs": [
    {
     "name": "stdout",
     "output_type": "stream",
     "text": [
      "혼동행렬\n",
      "[[247496  17780   3260   2399]\n",
      " [ 21934  14265    100    269]\n",
      " [  6234    123   2538     74]\n",
      " [  3868    201     85   2399]]\n",
      "정확도: 0.825626499496943\n",
      "Classification Report:\n",
      "              precision    recall  f1-score   support\n",
      "\n",
      "           0       0.89      0.91      0.90    270935\n",
      "           1       0.44      0.39      0.41     36568\n",
      "           2       0.42      0.28      0.34      8969\n",
      "           3       0.47      0.37      0.41      6553\n",
      "\n",
      "    accuracy                           0.83    323025\n",
      "   macro avg       0.55      0.49      0.52    323025\n",
      "weighted avg       0.81      0.83      0.82    323025\n",
      "\n"
     ]
    },
    {
     "data": {
      "text/plain": [
       "array([[247496,  17780,   3260,   2399],\n",
       "       [ 21934,  14265,    100,    269],\n",
       "       [  6234,    123,   2538,     74],\n",
       "       [  3868,    201,     85,   2399]])"
      ]
     },
     "execution_count": 47,
     "metadata": {},
     "output_type": "execute_result"
    }
   ],
   "source": [
    "# 앙살블 결과 확인\n",
    "cal_result2(ensemble_result_df_11['사무유형(대분류) 예측'], ensemble_result_df_11['사무유형(대분류)'])"
   ]
  },
  {
   "cell_type": "code",
   "execution_count": 48,
   "id": "5273616b",
   "metadata": {},
   "outputs": [],
   "source": [
    "# 확실/주의 나누기 [확실: need_to_check = 0 / 주의: need_to_check = 1]\n",
    "ensemble_result_df_11, good_df, bad_df = f.make_need_to_check(ensemble_result_df_11,\n",
    "                                                           rf_result_df, encoder_result_df)"
   ]
  },
  {
   "cell_type": "code",
   "execution_count": 49,
   "id": "5a7a638d",
   "metadata": {},
   "outputs": [
    {
     "data": {
      "text/html": [
       "<div>\n",
       "<style scoped>\n",
       "    .dataframe tbody tr th:only-of-type {\n",
       "        vertical-align: middle;\n",
       "    }\n",
       "\n",
       "    .dataframe tbody tr th {\n",
       "        vertical-align: top;\n",
       "    }\n",
       "\n",
       "    .dataframe thead th {\n",
       "        text-align: right;\n",
       "    }\n",
       "</style>\n",
       "<table border=\"1\" class=\"dataframe\">\n",
       "  <thead>\n",
       "    <tr style=\"text-align: right;\">\n",
       "      <th></th>\n",
       "      <th>사무유형(대분류)</th>\n",
       "      <th>사무유형(대분류) 예측</th>\n",
       "      <th>비사무 확률</th>\n",
       "      <th>국가 확률</th>\n",
       "      <th>지방 확률</th>\n",
       "      <th>공동 확률</th>\n",
       "      <th>수행주체(리스트)</th>\n",
       "      <th>rule_based</th>\n",
       "      <th>need_to_check</th>\n",
       "    </tr>\n",
       "  </thead>\n",
       "  <tbody>\n",
       "    <tr>\n",
       "      <th>13</th>\n",
       "      <td>0</td>\n",
       "      <td>0</td>\n",
       "      <td>0.74154</td>\n",
       "      <td>0.12202</td>\n",
       "      <td>0.05232</td>\n",
       "      <td>0.08411</td>\n",
       "      <td>[]</td>\n",
       "      <td>1</td>\n",
       "      <td>0</td>\n",
       "    </tr>\n",
       "    <tr>\n",
       "      <th>14</th>\n",
       "      <td>0</td>\n",
       "      <td>0</td>\n",
       "      <td>0.74154</td>\n",
       "      <td>0.12202</td>\n",
       "      <td>0.05232</td>\n",
       "      <td>0.08411</td>\n",
       "      <td>[]</td>\n",
       "      <td>1</td>\n",
       "      <td>0</td>\n",
       "    </tr>\n",
       "    <tr>\n",
       "      <th>15</th>\n",
       "      <td>0</td>\n",
       "      <td>0</td>\n",
       "      <td>0.74154</td>\n",
       "      <td>0.12202</td>\n",
       "      <td>0.05232</td>\n",
       "      <td>0.08411</td>\n",
       "      <td>[]</td>\n",
       "      <td>1</td>\n",
       "      <td>0</td>\n",
       "    </tr>\n",
       "    <tr>\n",
       "      <th>16</th>\n",
       "      <td>0</td>\n",
       "      <td>0</td>\n",
       "      <td>0.73786</td>\n",
       "      <td>0.12386</td>\n",
       "      <td>0.05285</td>\n",
       "      <td>0.08545</td>\n",
       "      <td>[관리]</td>\n",
       "      <td>1</td>\n",
       "      <td>0</td>\n",
       "    </tr>\n",
       "    <tr>\n",
       "      <th>17</th>\n",
       "      <td>0</td>\n",
       "      <td>0</td>\n",
       "      <td>0.74154</td>\n",
       "      <td>0.12202</td>\n",
       "      <td>0.05232</td>\n",
       "      <td>0.08411</td>\n",
       "      <td>[]</td>\n",
       "      <td>1</td>\n",
       "      <td>0</td>\n",
       "    </tr>\n",
       "  </tbody>\n",
       "</table>\n",
       "</div>"
      ],
      "text/plain": [
       "    사무유형(대분류)  사무유형(대분류) 예측   비사무 확률    국가 확률    지방 확률    공동 확률 수행주체(리스트)  \\\n",
       "13          0             0  0.74154  0.12202  0.05232  0.08411        []   \n",
       "14          0             0  0.74154  0.12202  0.05232  0.08411        []   \n",
       "15          0             0  0.74154  0.12202  0.05232  0.08411        []   \n",
       "16          0             0  0.73786  0.12386  0.05285  0.08545      [관리]   \n",
       "17          0             0  0.74154  0.12202  0.05232  0.08411        []   \n",
       "\n",
       "    rule_based  need_to_check  \n",
       "13           1              0  \n",
       "14           1              0  \n",
       "15           1              0  \n",
       "16           1              0  \n",
       "17           1              0  "
      ]
     },
     "execution_count": 49,
     "metadata": {},
     "output_type": "execute_result"
    }
   ],
   "source": [
    "ensemble_result_df_11.head()"
   ]
  },
  {
   "cell_type": "code",
   "execution_count": 50,
   "id": "bb24e0df",
   "metadata": {},
   "outputs": [
    {
     "name": "stdout",
     "output_type": "stream",
     "text": [
      "혼동행렬\n",
      "[[168564   6528    643     88]\n",
      " [ 10940   5485     14      7]\n",
      " [  2619     34    624      1]\n",
      " [  1529     78     11     86]]\n",
      "정확도: 0.8859726946884934\n",
      "Classification Report:\n",
      "              precision    recall  f1-score   support\n",
      "\n",
      "           0       0.92      0.96      0.94    175823\n",
      "           1       0.45      0.33      0.38     16446\n",
      "           2       0.48      0.19      0.27      3278\n",
      "           3       0.47      0.05      0.09      1704\n",
      "\n",
      "    accuracy                           0.89    197251\n",
      "   macro avg       0.58      0.38      0.42    197251\n",
      "weighted avg       0.87      0.89      0.87    197251\n",
      "\n"
     ]
    },
    {
     "data": {
      "text/plain": [
       "array([[168564,   6528,    643,     88],\n",
       "       [ 10940,   5485,     14,      7],\n",
       "       [  2619,     34,    624,      1],\n",
       "       [  1529,     78,     11,     86]])"
      ]
     },
     "execution_count": 50,
     "metadata": {},
     "output_type": "execute_result"
    }
   ],
   "source": [
    "# 확실 결과\n",
    "cal_result2(good_df['사무유형(대분류) 예측'].tolist(), good_df['사무유형(대분류)'].tolist())"
   ]
  },
  {
   "cell_type": "code",
   "execution_count": 51,
   "id": "aed3847a",
   "metadata": {},
   "outputs": [
    {
     "name": "stdout",
     "output_type": "stream",
     "text": [
      "혼동행렬\n",
      "[[78932 11252  2617  2311]\n",
      " [10994  8780    86   262]\n",
      " [ 3615    89  1914    73]\n",
      " [ 2339   123    74  2313]]\n",
      "정확도: 0.7309857363207022\n",
      "Classification Report:\n",
      "              precision    recall  f1-score   support\n",
      "\n",
      "           0       0.82      0.83      0.83     95112\n",
      "           1       0.43      0.44      0.44     20122\n",
      "           2       0.41      0.34      0.37      5691\n",
      "           3       0.47      0.48      0.47      4849\n",
      "\n",
      "    accuracy                           0.73    125774\n",
      "   macro avg       0.53      0.52      0.53    125774\n",
      "weighted avg       0.73      0.73      0.73    125774\n",
      "\n"
     ]
    },
    {
     "data": {
      "text/plain": [
       "array([[78932, 11252,  2617,  2311],\n",
       "       [10994,  8780,    86,   262],\n",
       "       [ 3615,    89,  1914,    73],\n",
       "       [ 2339,   123,    74,  2313]])"
      ]
     },
     "execution_count": 51,
     "metadata": {},
     "output_type": "execute_result"
    }
   ],
   "source": [
    "# 애매 결과\n",
    "cal_result2(bad_df['사무유형(대분류) 예측'].tolist(), bad_df['사무유형(대분류)'].tolist())"
   ]
  },
  {
   "cell_type": "markdown",
   "id": "2e344a8e",
   "metadata": {},
   "source": [
    "## 2차 filter 결과 저장"
   ]
  },
  {
   "cell_type": "code",
   "execution_count": 52,
   "id": "bdc953d1",
   "metadata": {},
   "outputs": [],
   "source": [
    "sencond_filtered_df = ensemble_result_df_11.copy()   # 2차 필터 결과 저장"
   ]
  },
  {
   "cell_type": "code",
   "execution_count": 53,
   "id": "767a9555",
   "metadata": {},
   "outputs": [
    {
     "name": "stdout",
     "output_type": "stream",
     "text": [
      "혼동행렬\n",
      "[[247496  17780   3260   2399]\n",
      " [ 21934  14265    100    269]\n",
      " [  6234    123   2538     74]\n",
      " [  3868    201     85   2399]]\n",
      "정확도: 0.825626499496943\n",
      "Classification Report:\n",
      "              precision    recall  f1-score   support\n",
      "\n",
      "           0       0.89      0.91      0.90    270935\n",
      "           1       0.44      0.39      0.41     36568\n",
      "           2       0.42      0.28      0.34      8969\n",
      "           3       0.47      0.37      0.41      6553\n",
      "\n",
      "    accuracy                           0.83    323025\n",
      "   macro avg       0.55      0.49      0.52    323025\n",
      "weighted avg       0.81      0.83      0.82    323025\n",
      "\n"
     ]
    },
    {
     "data": {
      "text/plain": [
       "array([[247496,  17780,   3260,   2399],\n",
       "       [ 21934,  14265,    100,    269],\n",
       "       [  6234,    123,   2538,     74],\n",
       "       [  3868,    201,     85,   2399]])"
      ]
     },
     "execution_count": 53,
     "metadata": {},
     "output_type": "execute_result"
    }
   ],
   "source": [
    "# 2차 filter 결과 확인\n",
    "cal_result2(sencond_filtered_df['사무유형(대분류) 예측'], sencond_filtered_df['사무유형(대분류)'])"
   ]
  },
  {
   "cell_type": "code",
   "execution_count": 54,
   "id": "72c61a97",
   "metadata": {},
   "outputs": [
    {
     "name": "stdout",
     "output_type": "stream",
     "text": [
      "주의 사무 개수: 125774\n",
      "주의에서 틀린 개수: 33835\n",
      "주의에서 맞은 개수: 91939\n",
      "------------------\n",
      "확실 사무 개수: 197251\n",
      "확실에서 틀린 개수: 22492\n",
      "확실에서 맞은 개수: 174759\n",
      "============\n",
      "확실 정확도: 0.8859726946884934\n",
      "애매 정확도: 0.7309857363207022\n"
     ]
    }
   ],
   "source": [
    "# 2차 filter (확실/주의)결과 확인\n",
    "h_ratio, j_ratio = f.check_result(sencond_filtered_df)"
   ]
  },
  {
   "cell_type": "code",
   "execution_count": 55,
   "id": "5dc41d8b",
   "metadata": {},
   "outputs": [
    {
     "data": {
      "text/html": [
       "<div>\n",
       "<style scoped>\n",
       "    .dataframe tbody tr th:only-of-type {\n",
       "        vertical-align: middle;\n",
       "    }\n",
       "\n",
       "    .dataframe tbody tr th {\n",
       "        vertical-align: top;\n",
       "    }\n",
       "\n",
       "    .dataframe thead th {\n",
       "        text-align: right;\n",
       "    }\n",
       "</style>\n",
       "<table border=\"1\" class=\"dataframe\">\n",
       "  <thead>\n",
       "    <tr style=\"text-align: right;\">\n",
       "      <th></th>\n",
       "      <th>사무유형(대분류)</th>\n",
       "      <th>사무유형(대분류) 예측</th>\n",
       "      <th>비사무 확률</th>\n",
       "      <th>국가 확률</th>\n",
       "      <th>지방 확률</th>\n",
       "      <th>공동 확률</th>\n",
       "      <th>수행주체(리스트)</th>\n",
       "      <th>rule_based</th>\n",
       "      <th>need_to_check</th>\n",
       "    </tr>\n",
       "  </thead>\n",
       "  <tbody>\n",
       "    <tr>\n",
       "      <th>13</th>\n",
       "      <td>0</td>\n",
       "      <td>0</td>\n",
       "      <td>0.74154</td>\n",
       "      <td>0.12202</td>\n",
       "      <td>0.05232</td>\n",
       "      <td>0.08411</td>\n",
       "      <td>[]</td>\n",
       "      <td>1</td>\n",
       "      <td>0</td>\n",
       "    </tr>\n",
       "    <tr>\n",
       "      <th>14</th>\n",
       "      <td>0</td>\n",
       "      <td>0</td>\n",
       "      <td>0.74154</td>\n",
       "      <td>0.12202</td>\n",
       "      <td>0.05232</td>\n",
       "      <td>0.08411</td>\n",
       "      <td>[]</td>\n",
       "      <td>1</td>\n",
       "      <td>0</td>\n",
       "    </tr>\n",
       "    <tr>\n",
       "      <th>15</th>\n",
       "      <td>0</td>\n",
       "      <td>0</td>\n",
       "      <td>0.74154</td>\n",
       "      <td>0.12202</td>\n",
       "      <td>0.05232</td>\n",
       "      <td>0.08411</td>\n",
       "      <td>[]</td>\n",
       "      <td>1</td>\n",
       "      <td>0</td>\n",
       "    </tr>\n",
       "    <tr>\n",
       "      <th>16</th>\n",
       "      <td>0</td>\n",
       "      <td>0</td>\n",
       "      <td>0.73786</td>\n",
       "      <td>0.12386</td>\n",
       "      <td>0.05285</td>\n",
       "      <td>0.08545</td>\n",
       "      <td>[관리]</td>\n",
       "      <td>1</td>\n",
       "      <td>0</td>\n",
       "    </tr>\n",
       "    <tr>\n",
       "      <th>17</th>\n",
       "      <td>0</td>\n",
       "      <td>0</td>\n",
       "      <td>0.74154</td>\n",
       "      <td>0.12202</td>\n",
       "      <td>0.05232</td>\n",
       "      <td>0.08411</td>\n",
       "      <td>[]</td>\n",
       "      <td>1</td>\n",
       "      <td>0</td>\n",
       "    </tr>\n",
       "    <tr>\n",
       "      <th>...</th>\n",
       "      <td>...</td>\n",
       "      <td>...</td>\n",
       "      <td>...</td>\n",
       "      <td>...</td>\n",
       "      <td>...</td>\n",
       "      <td>...</td>\n",
       "      <td>...</td>\n",
       "      <td>...</td>\n",
       "      <td>...</td>\n",
       "    </tr>\n",
       "    <tr>\n",
       "      <th>848059</th>\n",
       "      <td>0</td>\n",
       "      <td>0</td>\n",
       "      <td>0.54561</td>\n",
       "      <td>0.20405</td>\n",
       "      <td>0.14977</td>\n",
       "      <td>0.10057</td>\n",
       "      <td>[사업자, 수도사업자, 일반수도사업자, 지방환경관서]</td>\n",
       "      <td>1</td>\n",
       "      <td>1</td>\n",
       "    </tr>\n",
       "    <tr>\n",
       "      <th>848060</th>\n",
       "      <td>0</td>\n",
       "      <td>0</td>\n",
       "      <td>0.54561</td>\n",
       "      <td>0.20405</td>\n",
       "      <td>0.14977</td>\n",
       "      <td>0.10057</td>\n",
       "      <td>[사업자, 수도사업자, 일반수도사업자, 지방환경관서]</td>\n",
       "      <td>1</td>\n",
       "      <td>1</td>\n",
       "    </tr>\n",
       "    <tr>\n",
       "      <th>848063</th>\n",
       "      <td>0</td>\n",
       "      <td>0</td>\n",
       "      <td>0.54561</td>\n",
       "      <td>0.20405</td>\n",
       "      <td>0.14977</td>\n",
       "      <td>0.10057</td>\n",
       "      <td>[사업자, 수도사업자, 일반수도사업자, 지방환경관서]</td>\n",
       "      <td>1</td>\n",
       "      <td>1</td>\n",
       "    </tr>\n",
       "    <tr>\n",
       "      <th>848066</th>\n",
       "      <td>0</td>\n",
       "      <td>0</td>\n",
       "      <td>0.59482</td>\n",
       "      <td>0.21673</td>\n",
       "      <td>0.12499</td>\n",
       "      <td>0.06347</td>\n",
       "      <td>[기관, 장관, 전문기관, 지방환경관서, 환경부]</td>\n",
       "      <td>1</td>\n",
       "      <td>1</td>\n",
       "    </tr>\n",
       "    <tr>\n",
       "      <th>848069</th>\n",
       "      <td>0</td>\n",
       "      <td>0</td>\n",
       "      <td>0.79397</td>\n",
       "      <td>0.09330</td>\n",
       "      <td>0.05175</td>\n",
       "      <td>0.06098</td>\n",
       "      <td>[장관, 환경부]</td>\n",
       "      <td>1</td>\n",
       "      <td>0</td>\n",
       "    </tr>\n",
       "  </tbody>\n",
       "</table>\n",
       "<p>323025 rows × 9 columns</p>\n",
       "</div>"
      ],
      "text/plain": [
       "        사무유형(대분류)  사무유형(대분류) 예측   비사무 확률    국가 확률    지방 확률    공동 확률  \\\n",
       "13              0             0  0.74154  0.12202  0.05232  0.08411   \n",
       "14              0             0  0.74154  0.12202  0.05232  0.08411   \n",
       "15              0             0  0.74154  0.12202  0.05232  0.08411   \n",
       "16              0             0  0.73786  0.12386  0.05285  0.08545   \n",
       "17              0             0  0.74154  0.12202  0.05232  0.08411   \n",
       "...           ...           ...      ...      ...      ...      ...   \n",
       "848059          0             0  0.54561  0.20405  0.14977  0.10057   \n",
       "848060          0             0  0.54561  0.20405  0.14977  0.10057   \n",
       "848063          0             0  0.54561  0.20405  0.14977  0.10057   \n",
       "848066          0             0  0.59482  0.21673  0.12499  0.06347   \n",
       "848069          0             0  0.79397  0.09330  0.05175  0.06098   \n",
       "\n",
       "                            수행주체(리스트)  rule_based  need_to_check  \n",
       "13                                 []           1              0  \n",
       "14                                 []           1              0  \n",
       "15                                 []           1              0  \n",
       "16                               [관리]           1              0  \n",
       "17                                 []           1              0  \n",
       "...                               ...         ...            ...  \n",
       "848059  [사업자, 수도사업자, 일반수도사업자, 지방환경관서]           1              1  \n",
       "848060  [사업자, 수도사업자, 일반수도사업자, 지방환경관서]           1              1  \n",
       "848063  [사업자, 수도사업자, 일반수도사업자, 지방환경관서]           1              1  \n",
       "848066    [기관, 장관, 전문기관, 지방환경관서, 환경부]           1              1  \n",
       "848069                      [장관, 환경부]           1              0  \n",
       "\n",
       "[323025 rows x 9 columns]"
      ]
     },
     "execution_count": 55,
     "metadata": {},
     "output_type": "execute_result"
    }
   ],
   "source": [
    "sencond_filtered_df"
   ]
  },
  {
   "cell_type": "markdown",
   "id": "48da5360",
   "metadata": {},
   "source": [
    "# 최종 결과 확인"
   ]
  },
  {
   "cell_type": "code",
   "execution_count": 56,
   "id": "900e1ce5",
   "metadata": {},
   "outputs": [
    {
     "data": {
      "text/html": [
       "<div>\n",
       "<style scoped>\n",
       "    .dataframe tbody tr th:only-of-type {\n",
       "        vertical-align: middle;\n",
       "    }\n",
       "\n",
       "    .dataframe tbody tr th {\n",
       "        vertical-align: top;\n",
       "    }\n",
       "\n",
       "    .dataframe thead th {\n",
       "        text-align: right;\n",
       "    }\n",
       "</style>\n",
       "<table border=\"1\" class=\"dataframe\">\n",
       "  <thead>\n",
       "    <tr style=\"text-align: right;\">\n",
       "      <th></th>\n",
       "      <th>법령명</th>\n",
       "      <th>조문제목</th>\n",
       "      <th>조문</th>\n",
       "      <th>사무판단</th>\n",
       "      <th>사무유형(대분류)</th>\n",
       "      <th>rule_based</th>\n",
       "      <th>사무판단 예측</th>\n",
       "      <th>사무판단 예측확률</th>\n",
       "    </tr>\n",
       "  </thead>\n",
       "  <tbody>\n",
       "    <tr>\n",
       "      <th>0</th>\n",
       "      <td>개인정보 보호법</td>\n",
       "      <td>0</td>\n",
       "      <td>제1장 총칙</td>\n",
       "      <td>0</td>\n",
       "      <td>0</td>\n",
       "      <td>0</td>\n",
       "      <td>0</td>\n",
       "      <td>0.00439</td>\n",
       "    </tr>\n",
       "    <tr>\n",
       "      <th>1</th>\n",
       "      <td>개인정보 보호법</td>\n",
       "      <td>목적</td>\n",
       "      <td>제1조(목적) 이 법은 개인정보의 처리 및 보호에 관한 사항을 정함으로써 개인의 자...</td>\n",
       "      <td>0</td>\n",
       "      <td>0</td>\n",
       "      <td>0</td>\n",
       "      <td>0</td>\n",
       "      <td>0.59747</td>\n",
       "    </tr>\n",
       "    <tr>\n",
       "      <th>2</th>\n",
       "      <td>개인정보 보호법</td>\n",
       "      <td>정의</td>\n",
       "      <td>제2조(정의) 이 법에서 사용하는 용어의 뜻은 다음과 같다. &lt;개정 2014.3.2...</td>\n",
       "      <td>0</td>\n",
       "      <td>0</td>\n",
       "      <td>0</td>\n",
       "      <td>0</td>\n",
       "      <td>0.07633</td>\n",
       "    </tr>\n",
       "    <tr>\n",
       "      <th>3</th>\n",
       "      <td>개인정보 보호법</td>\n",
       "      <td>정의</td>\n",
       "      <td>1. \"개인정보\"란 살아 있는 개인에 관한 정보로서 다음 각 목의 어느 하나에 해당...</td>\n",
       "      <td>0</td>\n",
       "      <td>0</td>\n",
       "      <td>0</td>\n",
       "      <td>0</td>\n",
       "      <td>0.02239</td>\n",
       "    </tr>\n",
       "    <tr>\n",
       "      <th>4</th>\n",
       "      <td>개인정보 보호법</td>\n",
       "      <td>정의</td>\n",
       "      <td>1의2. \"가명처리\"란 개인정보의 일부를 삭제하거나 일부 또는 전부를 대체하는 등의...</td>\n",
       "      <td>0</td>\n",
       "      <td>0</td>\n",
       "      <td>0</td>\n",
       "      <td>0</td>\n",
       "      <td>0.26156</td>\n",
       "    </tr>\n",
       "  </tbody>\n",
       "</table>\n",
       "</div>"
      ],
      "text/plain": [
       "        법령명 조문제목                                                 조문  사무판단  \\\n",
       "0  개인정보 보호법    0                                             제1장 총칙     0   \n",
       "1  개인정보 보호법   목적  제1조(목적) 이 법은 개인정보의 처리 및 보호에 관한 사항을 정함으로써 개인의 자...     0   \n",
       "2  개인정보 보호법   정의  제2조(정의) 이 법에서 사용하는 용어의 뜻은 다음과 같다. <개정 2014.3.2...     0   \n",
       "3  개인정보 보호법   정의  1. \"개인정보\"란 살아 있는 개인에 관한 정보로서 다음 각 목의 어느 하나에 해당...     0   \n",
       "4  개인정보 보호법   정의  1의2. \"가명처리\"란 개인정보의 일부를 삭제하거나 일부 또는 전부를 대체하는 등의...     0   \n",
       "\n",
       "   사무유형(대분류)  rule_based  사무판단 예측  사무판단 예측확률  \n",
       "0          0           0        0    0.00439  \n",
       "1          0           0        0    0.59747  \n",
       "2          0           0        0    0.07633  \n",
       "3          0           0        0    0.02239  \n",
       "4          0           0        0    0.26156  "
      ]
     },
     "execution_count": 56,
     "metadata": {},
     "output_type": "execute_result"
    }
   ],
   "source": [
    "sub_df.head()"
   ]
  },
  {
   "cell_type": "code",
   "execution_count": 57,
   "id": "7a5095ba",
   "metadata": {},
   "outputs": [
    {
     "data": {
      "text/html": [
       "<div>\n",
       "<style scoped>\n",
       "    .dataframe tbody tr th:only-of-type {\n",
       "        vertical-align: middle;\n",
       "    }\n",
       "\n",
       "    .dataframe tbody tr th {\n",
       "        vertical-align: top;\n",
       "    }\n",
       "\n",
       "    .dataframe thead th {\n",
       "        text-align: right;\n",
       "    }\n",
       "</style>\n",
       "<table border=\"1\" class=\"dataframe\">\n",
       "  <thead>\n",
       "    <tr style=\"text-align: right;\">\n",
       "      <th></th>\n",
       "      <th>법령명</th>\n",
       "      <th>조문제목</th>\n",
       "      <th>조문</th>\n",
       "      <th>사무판단</th>\n",
       "      <th>사무유형(대분류)</th>\n",
       "      <th>rule_based</th>\n",
       "      <th>사무판단 예측</th>\n",
       "      <th>사무판단 예측확률</th>\n",
       "      <th>수행주체</th>\n",
       "      <th>사무유형(대분류) 결과</th>\n",
       "      <th>비사무 확률</th>\n",
       "      <th>국가 확률</th>\n",
       "      <th>지방 확률</th>\n",
       "      <th>공동 확률</th>\n",
       "      <th>need_to_check</th>\n",
       "    </tr>\n",
       "  </thead>\n",
       "  <tbody>\n",
       "    <tr>\n",
       "      <th>0</th>\n",
       "      <td>개인정보 보호법</td>\n",
       "      <td>0</td>\n",
       "      <td>제1장 총칙</td>\n",
       "      <td>0</td>\n",
       "      <td>0</td>\n",
       "      <td>0.0</td>\n",
       "      <td>0</td>\n",
       "      <td>0.00439</td>\n",
       "      <td></td>\n",
       "      <td>0</td>\n",
       "      <td>0.00000</td>\n",
       "      <td>0.0000</td>\n",
       "      <td>0.00000</td>\n",
       "      <td>0.00000</td>\n",
       "      <td>0</td>\n",
       "    </tr>\n",
       "    <tr>\n",
       "      <th>1</th>\n",
       "      <td>개인정보 보호법</td>\n",
       "      <td>목적</td>\n",
       "      <td>제1조(목적) 이 법은 개인정보의 처리 및 보호에 관한 사항을 정함으로써 개인의 자...</td>\n",
       "      <td>0</td>\n",
       "      <td>0</td>\n",
       "      <td>0.0</td>\n",
       "      <td>0</td>\n",
       "      <td>0.59747</td>\n",
       "      <td></td>\n",
       "      <td>0</td>\n",
       "      <td>0.00000</td>\n",
       "      <td>0.0000</td>\n",
       "      <td>0.00000</td>\n",
       "      <td>0.00000</td>\n",
       "      <td>0</td>\n",
       "    </tr>\n",
       "    <tr>\n",
       "      <th>2</th>\n",
       "      <td>개인정보 보호법</td>\n",
       "      <td>정의</td>\n",
       "      <td>제2조(정의) 이 법에서 사용하는 용어의 뜻은 다음과 같다. &lt;개정 2014.3.2...</td>\n",
       "      <td>0</td>\n",
       "      <td>0</td>\n",
       "      <td>0.0</td>\n",
       "      <td>0</td>\n",
       "      <td>0.07633</td>\n",
       "      <td></td>\n",
       "      <td>0</td>\n",
       "      <td>0.00000</td>\n",
       "      <td>0.0000</td>\n",
       "      <td>0.00000</td>\n",
       "      <td>0.00000</td>\n",
       "      <td>0</td>\n",
       "    </tr>\n",
       "    <tr>\n",
       "      <th>3</th>\n",
       "      <td>개인정보 보호법</td>\n",
       "      <td>정의</td>\n",
       "      <td>1. \"개인정보\"란 살아 있는 개인에 관한 정보로서 다음 각 목의 어느 하나에 해당...</td>\n",
       "      <td>0</td>\n",
       "      <td>0</td>\n",
       "      <td>0.0</td>\n",
       "      <td>0</td>\n",
       "      <td>0.02239</td>\n",
       "      <td></td>\n",
       "      <td>0</td>\n",
       "      <td>0.00000</td>\n",
       "      <td>0.0000</td>\n",
       "      <td>0.00000</td>\n",
       "      <td>0.00000</td>\n",
       "      <td>0</td>\n",
       "    </tr>\n",
       "    <tr>\n",
       "      <th>4</th>\n",
       "      <td>개인정보 보호법</td>\n",
       "      <td>정의</td>\n",
       "      <td>1의2. \"가명처리\"란 개인정보의 일부를 삭제하거나 일부 또는 전부를 대체하는 등의...</td>\n",
       "      <td>0</td>\n",
       "      <td>0</td>\n",
       "      <td>0.0</td>\n",
       "      <td>0</td>\n",
       "      <td>0.26156</td>\n",
       "      <td></td>\n",
       "      <td>0</td>\n",
       "      <td>0.00000</td>\n",
       "      <td>0.0000</td>\n",
       "      <td>0.00000</td>\n",
       "      <td>0.00000</td>\n",
       "      <td>0</td>\n",
       "    </tr>\n",
       "    <tr>\n",
       "      <th>...</th>\n",
       "      <td>...</td>\n",
       "      <td>...</td>\n",
       "      <td>...</td>\n",
       "      <td>...</td>\n",
       "      <td>...</td>\n",
       "      <td>...</td>\n",
       "      <td>...</td>\n",
       "      <td>...</td>\n",
       "      <td>...</td>\n",
       "      <td>...</td>\n",
       "      <td>...</td>\n",
       "      <td>...</td>\n",
       "      <td>...</td>\n",
       "      <td>...</td>\n",
       "      <td>...</td>\n",
       "    </tr>\n",
       "    <tr>\n",
       "      <th>848067</th>\n",
       "      <td>수도법 시행규칙</td>\n",
       "      <td>기술진단 결과의 평가</td>\n",
       "      <td>1. 한국수자원공사</td>\n",
       "      <td>0</td>\n",
       "      <td>0</td>\n",
       "      <td>0.0</td>\n",
       "      <td>0</td>\n",
       "      <td>0.00781</td>\n",
       "      <td></td>\n",
       "      <td>0</td>\n",
       "      <td>0.00000</td>\n",
       "      <td>0.0000</td>\n",
       "      <td>0.00000</td>\n",
       "      <td>0.00000</td>\n",
       "      <td>0</td>\n",
       "    </tr>\n",
       "    <tr>\n",
       "      <th>848068</th>\n",
       "      <td>수도법 시행규칙</td>\n",
       "      <td>기술진단 결과의 평가</td>\n",
       "      <td>2. 법 제56조에 따른 한국상하수도협회</td>\n",
       "      <td>0</td>\n",
       "      <td>0</td>\n",
       "      <td>0.0</td>\n",
       "      <td>0</td>\n",
       "      <td>0.00247</td>\n",
       "      <td></td>\n",
       "      <td>0</td>\n",
       "      <td>0.00000</td>\n",
       "      <td>0.0000</td>\n",
       "      <td>0.00000</td>\n",
       "      <td>0.00000</td>\n",
       "      <td>0</td>\n",
       "    </tr>\n",
       "    <tr>\n",
       "      <th>848069</th>\n",
       "      <td>수도법 시행규칙</td>\n",
       "      <td>규제의 재검토</td>\n",
       "      <td>제32조(규제의 재검토) 환경부장관은 다음 각 호의 사항에 대하여 다음 각 호의 기...</td>\n",
       "      <td>0</td>\n",
       "      <td>0</td>\n",
       "      <td>1.0</td>\n",
       "      <td>1</td>\n",
       "      <td>0.61423</td>\n",
       "      <td>[장관, 환경부]</td>\n",
       "      <td>0</td>\n",
       "      <td>0.79397</td>\n",
       "      <td>0.0933</td>\n",
       "      <td>0.05175</td>\n",
       "      <td>0.06098</td>\n",
       "      <td>0</td>\n",
       "    </tr>\n",
       "    <tr>\n",
       "      <th>848070</th>\n",
       "      <td>수도법 시행규칙</td>\n",
       "      <td>규제의 재검토</td>\n",
       "      <td>1. 제23조의2제1항ㆍ제4항 및 별표 7의2에 따른 저수조청소업의 인력ㆍ시설 및 ...</td>\n",
       "      <td>0</td>\n",
       "      <td>0</td>\n",
       "      <td>0.0</td>\n",
       "      <td>0</td>\n",
       "      <td>0.02749</td>\n",
       "      <td></td>\n",
       "      <td>0</td>\n",
       "      <td>0.00000</td>\n",
       "      <td>0.0000</td>\n",
       "      <td>0.00000</td>\n",
       "      <td>0.00000</td>\n",
       "      <td>0</td>\n",
       "    </tr>\n",
       "    <tr>\n",
       "      <th>848071</th>\n",
       "      <td>수도법 시행규칙</td>\n",
       "      <td>규제의 재검토</td>\n",
       "      <td>2. 제31조 및 별표 8에 따른 기술진단 대행 기관의 장비와 기술인력: 2014년...</td>\n",
       "      <td>0</td>\n",
       "      <td>0</td>\n",
       "      <td>0.0</td>\n",
       "      <td>0</td>\n",
       "      <td>0.00429</td>\n",
       "      <td></td>\n",
       "      <td>0</td>\n",
       "      <td>0.00000</td>\n",
       "      <td>0.0000</td>\n",
       "      <td>0.00000</td>\n",
       "      <td>0.00000</td>\n",
       "      <td>0</td>\n",
       "    </tr>\n",
       "  </tbody>\n",
       "</table>\n",
       "<p>848072 rows × 15 columns</p>\n",
       "</div>"
      ],
      "text/plain": [
       "             법령명         조문제목  \\\n",
       "0       개인정보 보호법            0   \n",
       "1       개인정보 보호법           목적   \n",
       "2       개인정보 보호법           정의   \n",
       "3       개인정보 보호법           정의   \n",
       "4       개인정보 보호법           정의   \n",
       "...          ...          ...   \n",
       "848067  수도법 시행규칙  기술진단 결과의 평가   \n",
       "848068  수도법 시행규칙  기술진단 결과의 평가   \n",
       "848069  수도법 시행규칙      규제의 재검토   \n",
       "848070  수도법 시행규칙      규제의 재검토   \n",
       "848071  수도법 시행규칙      규제의 재검토   \n",
       "\n",
       "                                                       조문  사무판단  사무유형(대분류)  \\\n",
       "0                                                  제1장 총칙     0          0   \n",
       "1       제1조(목적) 이 법은 개인정보의 처리 및 보호에 관한 사항을 정함으로써 개인의 자...     0          0   \n",
       "2       제2조(정의) 이 법에서 사용하는 용어의 뜻은 다음과 같다. <개정 2014.3.2...     0          0   \n",
       "3       1. \"개인정보\"란 살아 있는 개인에 관한 정보로서 다음 각 목의 어느 하나에 해당...     0          0   \n",
       "4       1의2. \"가명처리\"란 개인정보의 일부를 삭제하거나 일부 또는 전부를 대체하는 등의...     0          0   \n",
       "...                                                   ...   ...        ...   \n",
       "848067                                         1. 한국수자원공사     0          0   \n",
       "848068                             2. 법 제56조에 따른 한국상하수도협회     0          0   \n",
       "848069  제32조(규제의 재검토) 환경부장관은 다음 각 호의 사항에 대하여 다음 각 호의 기...     0          0   \n",
       "848070  1. 제23조의2제1항ㆍ제4항 및 별표 7의2에 따른 저수조청소업의 인력ㆍ시설 및 ...     0          0   \n",
       "848071  2. 제31조 및 별표 8에 따른 기술진단 대행 기관의 장비와 기술인력: 2014년...     0          0   \n",
       "\n",
       "        rule_based  사무판단 예측  사무판단 예측확률       수행주체  사무유형(대분류) 결과   비사무 확률  \\\n",
       "0              0.0        0    0.00439                        0  0.00000   \n",
       "1              0.0        0    0.59747                        0  0.00000   \n",
       "2              0.0        0    0.07633                        0  0.00000   \n",
       "3              0.0        0    0.02239                        0  0.00000   \n",
       "4              0.0        0    0.26156                        0  0.00000   \n",
       "...            ...      ...        ...        ...           ...      ...   \n",
       "848067         0.0        0    0.00781                        0  0.00000   \n",
       "848068         0.0        0    0.00247                        0  0.00000   \n",
       "848069         1.0        1    0.61423  [장관, 환경부]             0  0.79397   \n",
       "848070         0.0        0    0.02749                        0  0.00000   \n",
       "848071         0.0        0    0.00429                        0  0.00000   \n",
       "\n",
       "         국가 확률    지방 확률    공동 확률  need_to_check  \n",
       "0       0.0000  0.00000  0.00000              0  \n",
       "1       0.0000  0.00000  0.00000              0  \n",
       "2       0.0000  0.00000  0.00000              0  \n",
       "3       0.0000  0.00000  0.00000              0  \n",
       "4       0.0000  0.00000  0.00000              0  \n",
       "...        ...      ...      ...            ...  \n",
       "848067  0.0000  0.00000  0.00000              0  \n",
       "848068  0.0000  0.00000  0.00000              0  \n",
       "848069  0.0933  0.05175  0.06098              0  \n",
       "848070  0.0000  0.00000  0.00000              0  \n",
       "848071  0.0000  0.00000  0.00000              0  \n",
       "\n",
       "[848072 rows x 15 columns]"
      ]
     },
     "execution_count": 57,
     "metadata": {},
     "output_type": "execute_result"
    }
   ],
   "source": [
    "# 최종 결과 저장\n",
    "sub_df = f.make_final_df(sub_df, sencond_filtered_df)\n",
    "sub_df"
   ]
  },
  {
   "cell_type": "markdown",
   "id": "33c3c351",
   "metadata": {},
   "source": [
    "## 사무판단 정오 추가"
   ]
  },
  {
   "cell_type": "code",
   "execution_count": 58,
   "id": "3c6a3dec",
   "metadata": {},
   "outputs": [],
   "source": [
    "ex = sub_df.copy()\n",
    "ex.loc[ex['사무유형(대분류) 결과']!=0, '사무유형(대분류) 결과'] = 1"
   ]
  },
  {
   "cell_type": "code",
   "execution_count": 59,
   "id": "c6035903",
   "metadata": {},
   "outputs": [],
   "source": [
    "# 정오표 생성\n",
    "sub_df['사무판단_정오'] = 0\n",
    "sub_df.loc[(sub_df['사무판단']==0)&(sub_df['사무판단']==ex['사무유형(대분류) 결과']), '사무판단_정오'] = 0\n",
    "sub_df.loc[(sub_df['사무판단']==0)&(sub_df['사무판단']!=ex['사무유형(대분류) 결과']), '사무판단_정오'] = 1\n",
    "sub_df.loc[(sub_df['사무판단']==1)&(sub_df['사무판단']!=ex['사무유형(대분류) 결과']), '사무판단_정오'] = 2\n",
    "sub_df.loc[(sub_df['사무판단']==1)&(sub_df['사무판단']==ex['사무유형(대분류) 결과']), '사무판단_정오'] = 3"
   ]
  },
  {
   "cell_type": "code",
   "execution_count": 60,
   "id": "ffa58733",
   "metadata": {},
   "outputs": [
    {
     "data": {
      "text/plain": [
       "0    770087\n",
       "2     34492\n",
       "1     23439\n",
       "3     20054\n",
       "Name: 사무판단_정오, dtype: int64"
      ]
     },
     "execution_count": 60,
     "metadata": {},
     "output_type": "execute_result"
    }
   ],
   "source": [
    "sub_df['사무판단_정오'].value_counts()"
   ]
  },
  {
   "cell_type": "code",
   "execution_count": 61,
   "id": "c8fa4a7a",
   "metadata": {},
   "outputs": [],
   "source": [
    "sub_df.to_csv('data/final_df(total1).csv', index=False)"
   ]
  },
  {
   "cell_type": "markdown",
   "id": "5469d452",
   "metadata": {},
   "source": [
    "## 사무유형 예측 top 2 결과 확인"
   ]
  },
  {
   "cell_type": "code",
   "execution_count": 62,
   "id": "d2dff9ee",
   "metadata": {},
   "outputs": [],
   "source": [
    "ex = sub_df.copy()\n",
    "ex['top2 결과'] = 0\n",
    "for i in range(len(ex)):\n",
    "    l = list(ex.loc[i, '비사무 확률':'공동 확률'])\n",
    "    s = set(l)\n",
    "    if len(s) == 1:\n",
    "        continue\n",
    "    sorted_lst = sorted(l)\n",
    "    second_largest = sorted_lst[-2]\n",
    "    second_largest_index = l.index(second_largest)\n",
    "    ex.loc[i, 'top2 결과'] = second_largest_index"
   ]
  },
  {
   "cell_type": "code",
   "execution_count": 63,
   "id": "1cbd7f32",
   "metadata": {},
   "outputs": [
    {
     "name": "stdout",
     "output_type": "stream",
     "text": [
      "혼동행렬\n",
      "[[793526      0      0      0]\n",
      " [  4074  34413      0      0]\n",
      " [  3135      0   6250      0]\n",
      " [  2465      0      0   4209]]\n",
      "정확도: 0.9885929496552179\n",
      "Classification Report:\n",
      "              precision    recall  f1-score   support\n",
      "\n",
      "           0       0.99      1.00      0.99    793526\n",
      "           1       1.00      0.89      0.94     38487\n",
      "           2       1.00      0.67      0.80      9385\n",
      "           3       1.00      0.63      0.77      6674\n",
      "\n",
      "    accuracy                           0.99    848072\n",
      "   macro avg       1.00      0.80      0.88    848072\n",
      "weighted avg       0.99      0.99      0.99    848072\n",
      "\n"
     ]
    },
    {
     "data": {
      "text/plain": [
       "array([[793526,      0,      0,      0],\n",
       "       [  4074,  34413,      0,      0],\n",
       "       [  3135,      0,   6250,      0],\n",
       "       [  2465,      0,      0,   4209]])"
      ]
     },
     "execution_count": 63,
     "metadata": {},
     "output_type": "execute_result"
    }
   ],
   "source": [
    "ex['top2 정답'] = 0\n",
    "idxs = (ex['사무유형(대분류)']==ex['사무유형(대분류) 결과'])|(ex['사무유형(대분류)']==ex['top2 결과'])\n",
    "ex.loc[idxs ,'top2 정답'] = ex.loc[idxs ,'사무유형(대분류)']\n",
    "\n",
    "cal_result2(ex['top2 정답'], ex['사무유형(대분류)'])"
   ]
  },
  {
   "cell_type": "code",
   "execution_count": 64,
   "id": "f73682b6",
   "metadata": {},
   "outputs": [
    {
     "data": {
      "text/html": [
       "<div>\n",
       "<style scoped>\n",
       "    .dataframe tbody tr th:only-of-type {\n",
       "        vertical-align: middle;\n",
       "    }\n",
       "\n",
       "    .dataframe tbody tr th {\n",
       "        vertical-align: top;\n",
       "    }\n",
       "\n",
       "    .dataframe thead th {\n",
       "        text-align: right;\n",
       "    }\n",
       "</style>\n",
       "<table border=\"1\" class=\"dataframe\">\n",
       "  <thead>\n",
       "    <tr style=\"text-align: right;\">\n",
       "      <th></th>\n",
       "      <th>소관부처명</th>\n",
       "      <th>법령명</th>\n",
       "      <th>법령구분</th>\n",
       "      <th>조번호</th>\n",
       "      <th>항번호</th>\n",
       "      <th>호번호</th>\n",
       "      <th>조문제목</th>\n",
       "      <th>조문</th>\n",
       "      <th>사무판단</th>\n",
       "      <th>사무판단근거</th>\n",
       "      <th>...</th>\n",
       "      <th>사무판단 예측</th>\n",
       "      <th>사무판단 예측확률</th>\n",
       "      <th>수행주체</th>\n",
       "      <th>사무유형(대분류) 결과</th>\n",
       "      <th>비사무 확률</th>\n",
       "      <th>국가 확률</th>\n",
       "      <th>지방 확률</th>\n",
       "      <th>공동 확률</th>\n",
       "      <th>need_to_check</th>\n",
       "      <th>사무판단_정오</th>\n",
       "    </tr>\n",
       "  </thead>\n",
       "  <tbody>\n",
       "    <tr>\n",
       "      <th>0</th>\n",
       "      <td>개인정보보호위원회</td>\n",
       "      <td>개인정보 보호법</td>\n",
       "      <td>1</td>\n",
       "      <td>1</td>\n",
       "      <td>0</td>\n",
       "      <td>0</td>\n",
       "      <td>0</td>\n",
       "      <td>제1장 총칙</td>\n",
       "      <td>0</td>\n",
       "      <td>NaN</td>\n",
       "      <td>...</td>\n",
       "      <td>0</td>\n",
       "      <td>0.00439</td>\n",
       "      <td></td>\n",
       "      <td>0</td>\n",
       "      <td>0.0</td>\n",
       "      <td>0.0</td>\n",
       "      <td>0.0</td>\n",
       "      <td>0.0</td>\n",
       "      <td>0</td>\n",
       "      <td>0</td>\n",
       "    </tr>\n",
       "  </tbody>\n",
       "</table>\n",
       "<p>1 rows × 37 columns</p>\n",
       "</div>"
      ],
      "text/plain": [
       "       소관부처명       법령명  법령구분 조번호 항번호 호번호 조문제목      조문  사무판단 사무판단근거  ...  \\\n",
       "0  개인정보보호위원회  개인정보 보호법     1   1   0   0    0  제1장 총칙     0    NaN  ...   \n",
       "\n",
       "  사무판단 예측 사무판단 예측확률 수행주체  사무유형(대분류) 결과 비사무 확률 국가 확률  지방 확률  공동 확률  \\\n",
       "0       0   0.00439                  0    0.0   0.0    0.0    0.0   \n",
       "\n",
       "  need_to_check 사무판단_정오  \n",
       "0             0       0  \n",
       "\n",
       "[1 rows x 37 columns]"
      ]
     },
     "execution_count": 64,
     "metadata": {},
     "output_type": "execute_result"
    }
   ],
   "source": [
    "concatenated_df = pd.concat([test_df, sub_df.iloc[:, 5:]], axis=1)\n",
    "concatenated_df.head(1)"
   ]
  },
  {
   "cell_type": "code",
   "execution_count": 66,
   "id": "b3c8f7b0",
   "metadata": {},
   "outputs": [
    {
     "name": "stdout",
     "output_type": "stream",
     "text": [
      "Accuracy: 0.9316909413351696\n",
      "Precision: 0.4610856919504288\n",
      "Recall: 0.3676529901367653\n",
      "F1-Score: 0.4091025000255001\n",
      "Confusion Matrix:\n",
      "[[770087  23439]\n",
      " [ 34492  20054]]\n"
     ]
    }
   ],
   "source": [
    "ex = sub_df.copy()\n",
    "ex.loc[ex['사무유형(대분류) 결과']!=0, '사무유형(대분류) 결과'] = 1\n",
    "\n",
    "cal_result(ex['사무유형(대분류) 결과'], ex['사무판단'])"
   ]
  },
  {
   "cell_type": "code",
   "execution_count": 67,
   "id": "4bebb64a",
   "metadata": {},
   "outputs": [
    {
     "name": "stdout",
     "output_type": "stream",
     "text": [
      "혼동행렬\n",
      "[[770087  17780   3260   2399]\n",
      " [ 23853  14265    100    269]\n",
      " [  6650    123   2538     74]\n",
      " [  3989    201     85   2399]]\n",
      "정확도: 0.930686309652954\n",
      "Classification Report:\n",
      "              precision    recall  f1-score   support\n",
      "\n",
      "           0       0.96      0.97      0.96    793526\n",
      "           1       0.44      0.37      0.40     38487\n",
      "           2       0.42      0.27      0.33      9385\n",
      "           3       0.47      0.36      0.41      6674\n",
      "\n",
      "    accuracy                           0.93    848072\n",
      "   macro avg       0.57      0.49      0.53    848072\n",
      "weighted avg       0.92      0.93      0.93    848072\n",
      "\n"
     ]
    },
    {
     "data": {
      "text/plain": [
       "array([[770087,  17780,   3260,   2399],\n",
       "       [ 23853,  14265,    100,    269],\n",
       "       [  6650,    123,   2538,     74],\n",
       "       [  3989,    201,     85,   2399]])"
      ]
     },
     "execution_count": 67,
     "metadata": {},
     "output_type": "execute_result"
    }
   ],
   "source": [
    "cal_result2(sub_df['사무유형(대분류) 결과'], sub_df['사무유형(대분류)'])"
   ]
  },
  {
   "cell_type": "code",
   "execution_count": 65,
   "id": "0f03ea3d",
   "metadata": {},
   "outputs": [],
   "source": [
    "concatenated_df.to_csv('data/final_df(total2).csv', index=False)"
   ]
  }
 ],
 "metadata": {
  "kernelspec": {
   "display_name": "Python 3 (ipykernel)",
   "language": "python",
   "name": "python3"
  },
  "language_info": {
   "codemirror_mode": {
    "name": "ipython",
    "version": 3
   },
   "file_extension": ".py",
   "mimetype": "text/x-python",
   "name": "python",
   "nbconvert_exporter": "python",
   "pygments_lexer": "ipython3",
   "version": "3.10.9"
  }
 },
 "nbformat": 4,
 "nbformat_minor": 5
}
