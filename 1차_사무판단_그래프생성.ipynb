{
 "cells": [
  {
   "cell_type": "code",
   "execution_count": 1,
   "id": "5a4aa67c",
   "metadata": {},
   "outputs": [],
   "source": [
    "import re\n",
    "import numpy as np\n",
    "import pandas as pd\n",
    "import pickle\n",
    "import joblib\n",
    "import torch\n",
    "import torch.nn as nn\n",
    "from torch.utils.data import Dataset, DataLoader\n",
    "from transformers import AutoTokenizer, AdamW, get_linear_schedule_with_warmup\n",
    "from torch.optim import AdamW\n",
    "from tqdm import tqdm\n",
    "from sklearn.utils.class_weight import compute_class_weight\n",
    "from sklearn.preprocessing import LabelEncoder\n",
    "from sklearn.metrics import accuracy_score, confusion_matrix, precision_score, recall_score, f1_score, classification_report\n",
    "\n",
    "# 사용 모델\n",
    "from sklearn.ensemble import RandomForestClassifier\n",
    "import lib.EncoderModel as mm\n",
    "\n",
    "# 함수들 불러오기\n",
    "import lib.functions as f"
   ]
  },
  {
   "cell_type": "markdown",
   "id": "c0d24d4e",
   "metadata": {},
   "source": [
    "# 평가에 이용되는 함수 정의"
   ]
  },
  {
   "cell_type": "code",
   "execution_count": 2,
   "id": "c750827c",
   "metadata": {},
   "outputs": [],
   "source": [
    "# 1차 filter용 데이터셋 정의 -> (조문 + 조문제목) [embedding vector화 + 배치화]\n",
    "class CustomDataset1(Dataset):\n",
    "    def __init__(self, dataframe, tokenizer):\n",
    "        self.data = dataframe\n",
    "        self.tokenizer = tokenizer\n",
    "\n",
    "    def __len__(self):\n",
    "        return len(self.data)\n",
    "\n",
    "    def __getitem__(self, idx):\n",
    "        # '조문'과 '법령명' 칼럼의 데이터를 안전하게 문자열로 변환하고 결합\n",
    "        text1 = str(self.data.iloc[idx]['조문'])\n",
    "        text2 = str(self.data.iloc[idx]['조문제목'])\n",
    "        text_data = text1 + \" // \" + text2\n",
    "        label = torch.tensor(self.data.iloc[idx]['사무판단'], dtype=torch.long)\n",
    "\n",
    "        # 결합된 텍스트를 토크나이징\n",
    "        tokenized_data = tokenizer([text_data], padding='max_length', max_length=512, truncation=True, return_tensors='pt')\n",
    "\n",
    "        return {\n",
    "            'input_ids': tokenized_data['input_ids'].squeeze(),\n",
    "            'attention_mask': tokenized_data['attention_mask'].squeeze(),\n",
    "            'labels': label\n",
    "        }"
   ]
  },
  {
   "cell_type": "code",
   "execution_count": 3,
   "id": "249c83e9",
   "metadata": {},
   "outputs": [],
   "source": [
    "# 2차 filter용 데이터셋 정의 -> (법령명 + 조문제목 + 수행주체) [embedding vector화 + 배치화]\n",
    "class CustomDataset2(Dataset):\n",
    "    def __init__(self, dataframe, tokenizer):\n",
    "        self.data = dataframe\n",
    "        self.tokenizer = tokenizer\n",
    "\n",
    "    def __len__(self):\n",
    "        return len(self.data)\n",
    "\n",
    "    def __getitem__(self, idx):\n",
    "        # '조문'과 '법령명' 칼럼의 데이터를 안전하게 문자열로 변환하고 결합\n",
    "        text1 = str(self.data.iloc[idx]['법령명'])\n",
    "        text2 = str(self.data.iloc[idx]['조문제목'])\n",
    "        text3 = str(self.data.iloc[idx]['수행주체(문자열)'])\n",
    "        text_data = text1 + \" // \" + text2 + \" // \" + text3\n",
    "        label = torch.tensor(self.data.iloc[idx]['사무유형(대분류)'], dtype=torch.long)\n",
    "\n",
    "        # 결합된 텍스트를 토크나이징\n",
    "        tokenized_data = tokenizer([text_data], padding='max_length', max_length=128, truncation=True, return_tensors='pt')\n",
    "\n",
    "        return {\n",
    "            'input_ids': tokenized_data['input_ids'].squeeze(),\n",
    "            'attention_mask': tokenized_data['attention_mask'].squeeze(),\n",
    "            'labels': label\n",
    "        }"
   ]
  },
  {
   "cell_type": "code",
   "execution_count": 4,
   "id": "a6dc55bc",
   "metadata": {},
   "outputs": [],
   "source": [
    "# 각 배치의 텍스트 길이를 맞추기\n",
    "def collate_fn(batch):\n",
    "    input_ids = [item['input_ids'] for item in batch]\n",
    "    attention_mask = [item['attention_mask'] for item in batch]\n",
    "    labels = [item['labels'] for item in batch]\n",
    "\n",
    "    # 패딩 적용\n",
    "    input_ids = torch.nn.utils.rnn.pad_sequence(input_ids, batch_first=True, padding_value=tokenizer.pad_token_id)\n",
    "    attention_mask = torch.nn.utils.rnn.pad_sequence(attention_mask, batch_first=True, padding_value=0)\n",
    "\n",
    "    return {'input_ids': input_ids, 'attention_mask': attention_mask, 'labels': torch.stack(labels)}\n"
   ]
  },
  {
   "cell_type": "code",
   "execution_count": 5,
   "id": "cec7ebbe",
   "metadata": {},
   "outputs": [],
   "source": [
    "# 평가 결과 확인\n",
    "def cal_result(preds, y):\n",
    "    conf_matrix = confusion_matrix(y, preds)\n",
    "    accuracy = accuracy_score(y, preds)\n",
    "    precision = precision_score(y, preds)\n",
    "    recall = recall_score(y, preds)\n",
    "    f1 = f1_score(y, preds)\n",
    "    \n",
    "    # 결과 출력\n",
    "    print(f\"Accuracy: {accuracy}\")\n",
    "    print(f\"Precision: {precision}\")\n",
    "    print(f\"Recall: {recall}\")\n",
    "    print(f\"F1-Score: {f1}\")\n",
    "    print(\"Confusion Matrix:\")\n",
    "    print(conf_matrix)"
   ]
  },
  {
   "cell_type": "code",
   "execution_count": 6,
   "id": "4c2408da",
   "metadata": {},
   "outputs": [],
   "source": [
    "def cal_result2(preds, y):\n",
    "    conf_matrix = confusion_matrix(y, preds)\n",
    "    print('혼동행렬')\n",
    "    print(conf_matrix)\n",
    "    accuracy = accuracy_score(y, preds)\n",
    "    print(f'정확도: {accuracy}')\n",
    "    class_report = classification_report(y, preds)\n",
    "    print('Classification Report:')\n",
    "    print(class_report)\n",
    "    \n",
    "    return conf_matrix"
   ]
  },
  {
   "cell_type": "markdown",
   "id": "cd4368b7",
   "metadata": {},
   "source": [
    "# 1. 데이터 입력"
   ]
  },
  {
   "cell_type": "code",
   "execution_count": 7,
   "id": "082e6feb",
   "metadata": {},
   "outputs": [
    {
     "name": "stderr",
     "output_type": "stream",
     "text": [
      "/var/folders/zr/_f1rgf8n0w3541q9k8p3smhr0000gn/T/ipykernel_63165/1265917946.py:1: DtypeWarning: Columns (4,5,18,19,24) have mixed types. Specify dtype option on import or set low_memory=False.\n",
      "  test_df = pd.read_csv('data/FinalBaseTable.csv')\n"
     ]
    },
    {
     "name": "stdout",
     "output_type": "stream",
     "text": [
      "<class 'pandas.core.frame.DataFrame'>\n",
      "RangeIndex: 848072 entries, 0 to 848071\n",
      "Data columns (total 26 columns):\n",
      " #   Column     Non-Null Count   Dtype \n",
      "---  ------     --------------   ----- \n",
      " 0   소관부처명      848072 non-null  object\n",
      " 1   법령명        848072 non-null  object\n",
      " 2   법령구분       848072 non-null  int64 \n",
      " 3   조번호        847493 non-null  object\n",
      " 4   항번호        655168 non-null  object\n",
      " 5   호번호        498265 non-null  object\n",
      " 6   조문제목       848072 non-null  object\n",
      " 7   조문         848072 non-null  object\n",
      " 8   사무판단       848072 non-null  int64 \n",
      " 9   사무판단근거     687920 non-null  object\n",
      " 10  사무명        54588 non-null   object\n",
      " 11  수행주체       54590 non-null   object\n",
      " 12  사무유형       54546 non-null   object\n",
      " 13  위임사무판단     848072 non-null  int64 \n",
      " 14  위임근거규정     3749 non-null    object\n",
      " 15  수임기관       2899 non-null    object\n",
      " 16  특행기관       848072 non-null  int64 \n",
      " 17  재위임사무판단    848072 non-null  int64 \n",
      " 18  재위임근거규정    3 non-null       object\n",
      " 19  재수임기관      2 non-null       object\n",
      " 20  위탁사무판단     848072 non-null  int64 \n",
      " 21  위탁근거규정     3004 non-null    object\n",
      " 22  수탁기관       2977 non-null    object\n",
      " 23  사무유형(소분류)  54546 non-null   object\n",
      " 24  기타         2 non-null       object\n",
      " 25  사무유형(대분류)  848072 non-null  object\n",
      "dtypes: int64(6), object(20)\n",
      "memory usage: 168.2+ MB\n"
     ]
    }
   ],
   "source": [
    "test_df = pd.read_csv('data/FinalBaseTable.csv')\n",
    "test_df.info()"
   ]
  },
  {
   "cell_type": "code",
   "execution_count": 72,
   "id": "c3f0b7f3",
   "metadata": {},
   "outputs": [],
   "source": [
    "# 전처리 단계에서의 총 조문개수, 사무 개수 저장\n",
    "t1 = len(test_df)\n",
    "s1 = len(test_df.loc[test_df['사무판단']==1, :])"
   ]
  },
  {
   "cell_type": "markdown",
   "id": "850112c6",
   "metadata": {},
   "source": [
    "# 2. 데이터 전처리"
   ]
  },
  {
   "cell_type": "code",
   "execution_count": 11,
   "id": "d0807217",
   "metadata": {},
   "outputs": [],
   "source": [
    "#test_df = f.x_null_drop(test_df)\n",
    "#test_df = f.x_wrong_drop(test_df)\n",
    "test_df = f.no_work_check(test_df)\n",
    "test_df = f.make_large_type(test_df)"
   ]
  },
  {
   "cell_type": "code",
   "execution_count": 12,
   "id": "6a4d9d31",
   "metadata": {},
   "outputs": [
    {
     "data": {
      "text/plain": [
       "(848072, 5)"
      ]
     },
     "execution_count": 12,
     "metadata": {},
     "output_type": "execute_result"
    }
   ],
   "source": [
    "# 결과 저장 데이터 프레임 생성\n",
    "check_cols = ['법령명' ,'조문제목', '조문', '사무판단', '사무유형(대분류)']\n",
    "sub_df = test_df.loc[:, check_cols].copy()\n",
    "sub_df.shape"
   ]
  },
  {
   "cell_type": "markdown",
   "id": "0eb3c763",
   "metadata": {},
   "source": [
    "# 3. Rule-Base 적용"
   ]
  },
  {
   "cell_type": "code",
   "execution_count": 17,
   "id": "b02eb96d",
   "metadata": {},
   "outputs": [],
   "source": [
    "sub_df = f.rule_based(sub_df)  # rule_base 조문 확인\n",
    "\n",
    "# rule_base로 걸러낸 조문들\n",
    "rule_base_filter_idx = sub_df.loc[sub_df['rule_based']==0, :].index"
   ]
  },
  {
   "cell_type": "code",
   "execution_count": 18,
   "id": "15afdee4",
   "metadata": {},
   "outputs": [
    {
     "data": {
      "text/html": [
       "<div>\n",
       "<style scoped>\n",
       "    .dataframe tbody tr th:only-of-type {\n",
       "        vertical-align: middle;\n",
       "    }\n",
       "\n",
       "    .dataframe tbody tr th {\n",
       "        vertical-align: top;\n",
       "    }\n",
       "\n",
       "    .dataframe thead th {\n",
       "        text-align: right;\n",
       "    }\n",
       "</style>\n",
       "<table border=\"1\" class=\"dataframe\">\n",
       "  <thead>\n",
       "    <tr style=\"text-align: right;\">\n",
       "      <th></th>\n",
       "      <th>법령명</th>\n",
       "      <th>조문제목</th>\n",
       "      <th>조문</th>\n",
       "      <th>사무판단</th>\n",
       "      <th>사무유형(대분류)</th>\n",
       "      <th>rule_based</th>\n",
       "    </tr>\n",
       "  </thead>\n",
       "  <tbody>\n",
       "    <tr>\n",
       "      <th>0</th>\n",
       "      <td>개인정보 보호법</td>\n",
       "      <td>0</td>\n",
       "      <td>제1장 총칙</td>\n",
       "      <td>0</td>\n",
       "      <td>0</td>\n",
       "      <td>0</td>\n",
       "    </tr>\n",
       "    <tr>\n",
       "      <th>1</th>\n",
       "      <td>개인정보 보호법</td>\n",
       "      <td>목적</td>\n",
       "      <td>제1조(목적) 이 법은 개인정보의 처리 및 보호에 관한 사항을 정함으로써 개인의 자...</td>\n",
       "      <td>0</td>\n",
       "      <td>0</td>\n",
       "      <td>0</td>\n",
       "    </tr>\n",
       "    <tr>\n",
       "      <th>2</th>\n",
       "      <td>개인정보 보호법</td>\n",
       "      <td>정의</td>\n",
       "      <td>제2조(정의) 이 법에서 사용하는 용어의 뜻은 다음과 같다. &lt;개정 2014.3.2...</td>\n",
       "      <td>0</td>\n",
       "      <td>0</td>\n",
       "      <td>0</td>\n",
       "    </tr>\n",
       "    <tr>\n",
       "      <th>3</th>\n",
       "      <td>개인정보 보호법</td>\n",
       "      <td>정의</td>\n",
       "      <td>1. \"개인정보\"란 살아 있는 개인에 관한 정보로서 다음 각 목의 어느 하나에 해당...</td>\n",
       "      <td>0</td>\n",
       "      <td>0</td>\n",
       "      <td>0</td>\n",
       "    </tr>\n",
       "    <tr>\n",
       "      <th>4</th>\n",
       "      <td>개인정보 보호법</td>\n",
       "      <td>정의</td>\n",
       "      <td>1의2. \"가명처리\"란 개인정보의 일부를 삭제하거나 일부 또는 전부를 대체하는 등의...</td>\n",
       "      <td>0</td>\n",
       "      <td>0</td>\n",
       "      <td>0</td>\n",
       "    </tr>\n",
       "    <tr>\n",
       "      <th>...</th>\n",
       "      <td>...</td>\n",
       "      <td>...</td>\n",
       "      <td>...</td>\n",
       "      <td>...</td>\n",
       "      <td>...</td>\n",
       "      <td>...</td>\n",
       "    </tr>\n",
       "    <tr>\n",
       "      <th>848067</th>\n",
       "      <td>수도법 시행규칙</td>\n",
       "      <td>기술진단 결과의 평가</td>\n",
       "      <td>1. 한국수자원공사</td>\n",
       "      <td>0</td>\n",
       "      <td>0</td>\n",
       "      <td>1</td>\n",
       "    </tr>\n",
       "    <tr>\n",
       "      <th>848068</th>\n",
       "      <td>수도법 시행규칙</td>\n",
       "      <td>기술진단 결과의 평가</td>\n",
       "      <td>2. 법 제56조에 따른 한국상하수도협회</td>\n",
       "      <td>0</td>\n",
       "      <td>0</td>\n",
       "      <td>1</td>\n",
       "    </tr>\n",
       "    <tr>\n",
       "      <th>848069</th>\n",
       "      <td>수도법 시행규칙</td>\n",
       "      <td>규제의 재검토</td>\n",
       "      <td>제32조(규제의 재검토) 환경부장관은 다음 각 호의 사항에 대하여 다음 각 호의 기...</td>\n",
       "      <td>0</td>\n",
       "      <td>0</td>\n",
       "      <td>1</td>\n",
       "    </tr>\n",
       "    <tr>\n",
       "      <th>848070</th>\n",
       "      <td>수도법 시행규칙</td>\n",
       "      <td>규제의 재검토</td>\n",
       "      <td>1. 제23조의2제1항ㆍ제4항 및 별표 7의2에 따른 저수조청소업의 인력ㆍ시설 및 ...</td>\n",
       "      <td>0</td>\n",
       "      <td>0</td>\n",
       "      <td>1</td>\n",
       "    </tr>\n",
       "    <tr>\n",
       "      <th>848071</th>\n",
       "      <td>수도법 시행규칙</td>\n",
       "      <td>규제의 재검토</td>\n",
       "      <td>2. 제31조 및 별표 8에 따른 기술진단 대행 기관의 장비와 기술인력: 2014년...</td>\n",
       "      <td>0</td>\n",
       "      <td>0</td>\n",
       "      <td>1</td>\n",
       "    </tr>\n",
       "  </tbody>\n",
       "</table>\n",
       "<p>848072 rows × 6 columns</p>\n",
       "</div>"
      ],
      "text/plain": [
       "             법령명         조문제목  \\\n",
       "0       개인정보 보호법            0   \n",
       "1       개인정보 보호법           목적   \n",
       "2       개인정보 보호법           정의   \n",
       "3       개인정보 보호법           정의   \n",
       "4       개인정보 보호법           정의   \n",
       "...          ...          ...   \n",
       "848067  수도법 시행규칙  기술진단 결과의 평가   \n",
       "848068  수도법 시행규칙  기술진단 결과의 평가   \n",
       "848069  수도법 시행규칙      규제의 재검토   \n",
       "848070  수도법 시행규칙      규제의 재검토   \n",
       "848071  수도법 시행규칙      규제의 재검토   \n",
       "\n",
       "                                                       조문  사무판단  사무유형(대분류)  \\\n",
       "0                                                  제1장 총칙     0          0   \n",
       "1       제1조(목적) 이 법은 개인정보의 처리 및 보호에 관한 사항을 정함으로써 개인의 자...     0          0   \n",
       "2       제2조(정의) 이 법에서 사용하는 용어의 뜻은 다음과 같다. <개정 2014.3.2...     0          0   \n",
       "3       1. \"개인정보\"란 살아 있는 개인에 관한 정보로서 다음 각 목의 어느 하나에 해당...     0          0   \n",
       "4       1의2. \"가명처리\"란 개인정보의 일부를 삭제하거나 일부 또는 전부를 대체하는 등의...     0          0   \n",
       "...                                                   ...   ...        ...   \n",
       "848067                                         1. 한국수자원공사     0          0   \n",
       "848068                             2. 법 제56조에 따른 한국상하수도협회     0          0   \n",
       "848069  제32조(규제의 재검토) 환경부장관은 다음 각 호의 사항에 대하여 다음 각 호의 기...     0          0   \n",
       "848070  1. 제23조의2제1항ㆍ제4항 및 별표 7의2에 따른 저수조청소업의 인력ㆍ시설 및 ...     0          0   \n",
       "848071  2. 제31조 및 별표 8에 따른 기술진단 대행 기관의 장비와 기술인력: 2014년...     0          0   \n",
       "\n",
       "        rule_based  \n",
       "0                0  \n",
       "1                0  \n",
       "2                0  \n",
       "3                0  \n",
       "4                0  \n",
       "...            ...  \n",
       "848067           1  \n",
       "848068           1  \n",
       "848069           1  \n",
       "848070           1  \n",
       "848071           1  \n",
       "\n",
       "[848072 rows x 6 columns]"
      ]
     },
     "execution_count": 18,
     "metadata": {},
     "output_type": "execute_result"
    }
   ],
   "source": [
    "sub_df"
   ]
  },
  {
   "cell_type": "code",
   "execution_count": 73,
   "id": "6f9cb2c1",
   "metadata": {},
   "outputs": [],
   "source": [
    "ex = sub_df.loc[(sub_df['rule_based']!=0), :]\n",
    "t2 = len(ex)\n",
    "s2 = len(ex.loc[ex['사무판단']==1, :])"
   ]
  },
  {
   "cell_type": "code",
   "execution_count": 45,
   "id": "fb218c5a",
   "metadata": {},
   "outputs": [
    {
     "data": {
      "text/html": [
       "<div>\n",
       "<style scoped>\n",
       "    .dataframe tbody tr th:only-of-type {\n",
       "        vertical-align: middle;\n",
       "    }\n",
       "\n",
       "    .dataframe tbody tr th {\n",
       "        vertical-align: top;\n",
       "    }\n",
       "\n",
       "    .dataframe thead th {\n",
       "        text-align: right;\n",
       "    }\n",
       "</style>\n",
       "<table border=\"1\" class=\"dataframe\">\n",
       "  <thead>\n",
       "    <tr style=\"text-align: right;\">\n",
       "      <th></th>\n",
       "      <th>법령명</th>\n",
       "      <th>조문제목</th>\n",
       "      <th>조문</th>\n",
       "      <th>사무판단</th>\n",
       "      <th>사무유형(대분류)</th>\n",
       "      <th>rule_based</th>\n",
       "    </tr>\n",
       "  </thead>\n",
       "  <tbody>\n",
       "    <tr>\n",
       "      <th>13</th>\n",
       "      <td>개인정보 보호법</td>\n",
       "      <td>개인정보 보호 원칙</td>\n",
       "      <td>① 개인정보처리자는 개인정보의 처리 목적을 명확하게 하여야 하고 그 목적에 필요한 ...</td>\n",
       "      <td>0</td>\n",
       "      <td>0</td>\n",
       "      <td>1</td>\n",
       "    </tr>\n",
       "    <tr>\n",
       "      <th>14</th>\n",
       "      <td>개인정보 보호법</td>\n",
       "      <td>개인정보 보호 원칙</td>\n",
       "      <td>② 개인정보처리자는 개인정보의 처리 목적에 필요한 범위에서 적합하게 개인정보를 처리...</td>\n",
       "      <td>0</td>\n",
       "      <td>0</td>\n",
       "      <td>1</td>\n",
       "    </tr>\n",
       "    <tr>\n",
       "      <th>15</th>\n",
       "      <td>개인정보 보호법</td>\n",
       "      <td>개인정보 보호 원칙</td>\n",
       "      <td>③ 개인정보처리자는 개인정보의 처리 목적에 필요한 범위에서 개인정보의 정확성, 완전...</td>\n",
       "      <td>0</td>\n",
       "      <td>0</td>\n",
       "      <td>1</td>\n",
       "    </tr>\n",
       "    <tr>\n",
       "      <th>16</th>\n",
       "      <td>개인정보 보호법</td>\n",
       "      <td>개인정보 보호 원칙</td>\n",
       "      <td>④ 개인정보처리자는 개인정보의 처리 방법 및 종류 등에 따라 정보주체의 권리가 침해...</td>\n",
       "      <td>0</td>\n",
       "      <td>0</td>\n",
       "      <td>1</td>\n",
       "    </tr>\n",
       "    <tr>\n",
       "      <th>17</th>\n",
       "      <td>개인정보 보호법</td>\n",
       "      <td>개인정보 보호 원칙</td>\n",
       "      <td>⑤ 개인정보처리자는 개인정보 처리방침 등 개인정보의 처리에 관한 사항을 공개하여야 ...</td>\n",
       "      <td>0</td>\n",
       "      <td>0</td>\n",
       "      <td>1</td>\n",
       "    </tr>\n",
       "    <tr>\n",
       "      <th>...</th>\n",
       "      <td>...</td>\n",
       "      <td>...</td>\n",
       "      <td>...</td>\n",
       "      <td>...</td>\n",
       "      <td>...</td>\n",
       "      <td>...</td>\n",
       "    </tr>\n",
       "    <tr>\n",
       "      <th>848067</th>\n",
       "      <td>수도법 시행규칙</td>\n",
       "      <td>기술진단 결과의 평가</td>\n",
       "      <td>1. 한국수자원공사</td>\n",
       "      <td>0</td>\n",
       "      <td>0</td>\n",
       "      <td>1</td>\n",
       "    </tr>\n",
       "    <tr>\n",
       "      <th>848068</th>\n",
       "      <td>수도법 시행규칙</td>\n",
       "      <td>기술진단 결과의 평가</td>\n",
       "      <td>2. 법 제56조에 따른 한국상하수도협회</td>\n",
       "      <td>0</td>\n",
       "      <td>0</td>\n",
       "      <td>1</td>\n",
       "    </tr>\n",
       "    <tr>\n",
       "      <th>848069</th>\n",
       "      <td>수도법 시행규칙</td>\n",
       "      <td>규제의 재검토</td>\n",
       "      <td>제32조(규제의 재검토) 환경부장관은 다음 각 호의 사항에 대하여 다음 각 호의 기...</td>\n",
       "      <td>0</td>\n",
       "      <td>0</td>\n",
       "      <td>1</td>\n",
       "    </tr>\n",
       "    <tr>\n",
       "      <th>848070</th>\n",
       "      <td>수도법 시행규칙</td>\n",
       "      <td>규제의 재검토</td>\n",
       "      <td>1. 제23조의2제1항ㆍ제4항 및 별표 7의2에 따른 저수조청소업의 인력ㆍ시설 및 ...</td>\n",
       "      <td>0</td>\n",
       "      <td>0</td>\n",
       "      <td>1</td>\n",
       "    </tr>\n",
       "    <tr>\n",
       "      <th>848071</th>\n",
       "      <td>수도법 시행규칙</td>\n",
       "      <td>규제의 재검토</td>\n",
       "      <td>2. 제31조 및 별표 8에 따른 기술진단 대행 기관의 장비와 기술인력: 2014년...</td>\n",
       "      <td>0</td>\n",
       "      <td>0</td>\n",
       "      <td>1</td>\n",
       "    </tr>\n",
       "  </tbody>\n",
       "</table>\n",
       "<p>688125 rows × 6 columns</p>\n",
       "</div>"
      ],
      "text/plain": [
       "             법령명         조문제목  \\\n",
       "13      개인정보 보호법   개인정보 보호 원칙   \n",
       "14      개인정보 보호법   개인정보 보호 원칙   \n",
       "15      개인정보 보호법   개인정보 보호 원칙   \n",
       "16      개인정보 보호법   개인정보 보호 원칙   \n",
       "17      개인정보 보호법   개인정보 보호 원칙   \n",
       "...          ...          ...   \n",
       "848067  수도법 시행규칙  기술진단 결과의 평가   \n",
       "848068  수도법 시행규칙  기술진단 결과의 평가   \n",
       "848069  수도법 시행규칙      규제의 재검토   \n",
       "848070  수도법 시행규칙      규제의 재검토   \n",
       "848071  수도법 시행규칙      규제의 재검토   \n",
       "\n",
       "                                                       조문  사무판단  사무유형(대분류)  \\\n",
       "13      ① 개인정보처리자는 개인정보의 처리 목적을 명확하게 하여야 하고 그 목적에 필요한 ...     0          0   \n",
       "14      ② 개인정보처리자는 개인정보의 처리 목적에 필요한 범위에서 적합하게 개인정보를 처리...     0          0   \n",
       "15      ③ 개인정보처리자는 개인정보의 처리 목적에 필요한 범위에서 개인정보의 정확성, 완전...     0          0   \n",
       "16      ④ 개인정보처리자는 개인정보의 처리 방법 및 종류 등에 따라 정보주체의 권리가 침해...     0          0   \n",
       "17      ⑤ 개인정보처리자는 개인정보 처리방침 등 개인정보의 처리에 관한 사항을 공개하여야 ...     0          0   \n",
       "...                                                   ...   ...        ...   \n",
       "848067                                         1. 한국수자원공사     0          0   \n",
       "848068                             2. 법 제56조에 따른 한국상하수도협회     0          0   \n",
       "848069  제32조(규제의 재검토) 환경부장관은 다음 각 호의 사항에 대하여 다음 각 호의 기...     0          0   \n",
       "848070  1. 제23조의2제1항ㆍ제4항 및 별표 7의2에 따른 저수조청소업의 인력ㆍ시설 및 ...     0          0   \n",
       "848071  2. 제31조 및 별표 8에 따른 기술진단 대행 기관의 장비와 기술인력: 2014년...     0          0   \n",
       "\n",
       "        rule_based  \n",
       "13               1  \n",
       "14               1  \n",
       "15               1  \n",
       "16               1  \n",
       "17               1  \n",
       "...            ...  \n",
       "848067           1  \n",
       "848068           1  \n",
       "848069           1  \n",
       "848070           1  \n",
       "848071           1  \n",
       "\n",
       "[688125 rows x 6 columns]"
      ]
     },
     "execution_count": 45,
     "metadata": {},
     "output_type": "execute_result"
    }
   ],
   "source": [
    "ex"
   ]
  },
  {
   "cell_type": "markdown",
   "id": "5da44c2d",
   "metadata": {},
   "source": [
    "# 4. 1차 사무판단\n",
    "## encoder 모델"
   ]
  },
  {
   "cell_type": "markdown",
   "id": "b2168e11",
   "metadata": {},
   "source": [
    "* encoder 구조 생성"
   ]
  },
  {
   "cell_type": "code",
   "execution_count": 39,
   "id": "26a00c91",
   "metadata": {},
   "outputs": [
    {
     "data": {
      "text/plain": [
       "MyModel(\n",
       "  (encoder): MyEncoder(\n",
       "    (layers): ModuleList(\n",
       "      (0): MyEncoderLayer(\n",
       "        (self_attention): MultiheadAttention(\n",
       "          (out_proj): NonDynamicallyQuantizableLinear(in_features=512, out_features=512, bias=True)\n",
       "        )\n",
       "        (feedforward): Sequential(\n",
       "          (0): Linear(in_features=512, out_features=1024, bias=True)\n",
       "          (1): ReLU()\n",
       "          (2): Linear(in_features=1024, out_features=512, bias=True)\n",
       "        )\n",
       "        (layer_norm1): LayerNorm((512,), eps=1e-05, elementwise_affine=True)\n",
       "        (layer_norm2): LayerNorm((512,), eps=1e-05, elementwise_affine=True)\n",
       "        (dropout): Dropout(p=0.1, inplace=False)\n",
       "      )\n",
       "    )\n",
       "  )\n",
       "  (layer1): Linear(in_features=512, out_features=256, bias=True)\n",
       "  (batch_norm): BatchNorm1d(256, eps=1e-05, momentum=0.1, affine=True, track_running_stats=True)\n",
       "  (relu): ReLU()\n",
       "  (layer2): Linear(in_features=256, out_features=2, bias=True)\n",
       ")"
      ]
     },
     "execution_count": 39,
     "metadata": {},
     "output_type": "execute_result"
    }
   ],
   "source": [
    "# 모델 및 토크나이저 불러오기\n",
    "model_name = 'klue/roberta-large'\n",
    "tokenizer = AutoTokenizer.from_pretrained(model_name)\n",
    "\n",
    "# 모델 기본 구조 설정\n",
    "input_size = 512\n",
    "hidden_size = 256\n",
    "output_size = 2\n",
    "num_encoder_layers = 1\n",
    "device = torch.device('cuda' if torch.cuda.is_available() else 'cpu')\n",
    "\n",
    "model = mm.MyModel(input_size, hidden_size, output_size, num_encoder_layers)\n",
    "model.to(device)"
   ]
  },
  {
   "cell_type": "markdown",
   "id": "e2f1a0c1",
   "metadata": {},
   "source": [
    "* 학습된 encoder 불러오기"
   ]
  },
  {
   "cell_type": "code",
   "execution_count": 40,
   "id": "b0ded757",
   "metadata": {},
   "outputs": [
    {
     "data": {
      "text/plain": [
       "<All keys matched successfully>"
      ]
     },
     "execution_count": 40,
     "metadata": {},
     "output_type": "execute_result"
    }
   ],
   "source": [
    "model_path = 'pickles/encoder_model_f1_all.pth'  # Provide the correct path\n",
    "model.load_state_dict(torch.load(model_path, map_location=device))"
   ]
  },
  {
   "cell_type": "markdown",
   "id": "57b32871",
   "metadata": {},
   "source": [
    "* 모델 평가"
   ]
  },
  {
   "cell_type": "code",
   "execution_count": 41,
   "id": "6e626039",
   "metadata": {},
   "outputs": [],
   "source": [
    "# 데이터로더 생성\n",
    "batch_size = 16  # 배치크기 조절\n",
    "\n",
    "test_dataset = CustomDataset1(ex, tokenizer)\n",
    "test_loader = DataLoader(test_dataset, batch_size=batch_size, shuffle=False, collate_fn=collate_fn)"
   ]
  },
  {
   "cell_type": "code",
   "execution_count": 42,
   "id": "a4c6f90b",
   "metadata": {},
   "outputs": [
    {
     "name": "stderr",
     "output_type": "stream",
     "text": [
      "Validation: 100%|████████████████████████| 43008/43008 [03:38<00:00, 197.07it/s]\n"
     ]
    },
    {
     "name": "stdout",
     "output_type": "stream",
     "text": [
      "tensor(0.4287)\n"
     ]
    }
   ],
   "source": [
    "model.eval()\n",
    "\n",
    "test_loss = 0\n",
    "probs = []\n",
    "\n",
    "with torch.no_grad():\n",
    "    for batch in tqdm(test_loader, desc=f'Validation'):\n",
    "        inputs = {key: value.to(device) for key, value in batch.items() if key != 'labels'}\n",
    "        labels = batch['labels'].to(device)\n",
    "\n",
    "        # 모델에 토큰화된 입력 데이터 전달\n",
    "        outputs = model(**inputs).float()\n",
    "        test_loss += torch.nn.functional.cross_entropy(outputs, labels.long())\n",
    "        \n",
    "        # 소프트맥스를 적용하여 확률값 얻기\n",
    "        probs_batch = torch.nn.functional.softmax(outputs, dim=1)\n",
    "        probs.append(probs_batch.cpu().numpy())\n",
    "\n",
    "# 손실 계산\n",
    "avg_test_loss = test_loss / len(test_loader)\n",
    "\n",
    "# 확률값을 하나의 배열로 통합\n",
    "probs = np.concatenate(probs, axis=0)\n",
    "\n",
    "print(avg_test_loss)"
   ]
  },
  {
   "cell_type": "code",
   "execution_count": 74,
   "id": "7161f217",
   "metadata": {},
   "outputs": [],
   "source": [
    "# 결과 확률 저장\n",
    "prob_1 = probs[:, 1]\n",
    "prob_1 = [round(prob, 5) for prob in prob_1]"
   ]
  },
  {
   "cell_type": "code",
   "execution_count": 75,
   "id": "042a696b",
   "metadata": {},
   "outputs": [
    {
     "data": {
      "text/html": [
       "<div>\n",
       "<style scoped>\n",
       "    .dataframe tbody tr th:only-of-type {\n",
       "        vertical-align: middle;\n",
       "    }\n",
       "\n",
       "    .dataframe tbody tr th {\n",
       "        vertical-align: top;\n",
       "    }\n",
       "\n",
       "    .dataframe thead th {\n",
       "        text-align: right;\n",
       "    }\n",
       "</style>\n",
       "<table border=\"1\" class=\"dataframe\">\n",
       "  <thead>\n",
       "    <tr style=\"text-align: right;\">\n",
       "      <th></th>\n",
       "      <th>법령명</th>\n",
       "      <th>조문제목</th>\n",
       "      <th>조문</th>\n",
       "      <th>사무판단</th>\n",
       "      <th>사무유형(대분류)</th>\n",
       "      <th>rule_based</th>\n",
       "    </tr>\n",
       "  </thead>\n",
       "  <tbody>\n",
       "    <tr>\n",
       "      <th>0</th>\n",
       "      <td>개인정보 보호법</td>\n",
       "      <td>0</td>\n",
       "      <td>제1장 총칙</td>\n",
       "      <td>0</td>\n",
       "      <td>0</td>\n",
       "      <td>0</td>\n",
       "    </tr>\n",
       "  </tbody>\n",
       "</table>\n",
       "</div>"
      ],
      "text/plain": [
       "        법령명 조문제목      조문  사무판단  사무유형(대분류)  rule_based\n",
       "0  개인정보 보호법    0  제1장 총칙     0          0           0"
      ]
     },
     "execution_count": 75,
     "metadata": {},
     "output_type": "execute_result"
    }
   ],
   "source": [
    "sub_df.head(1)"
   ]
  },
  {
   "cell_type": "markdown",
   "id": "11ca4784",
   "metadata": {},
   "source": [
    "## 1차 사무판단 진행"
   ]
  },
  {
   "cell_type": "code",
   "execution_count": 76,
   "id": "c4493e6c",
   "metadata": {},
   "outputs": [
    {
     "name": "stderr",
     "output_type": "stream",
     "text": [
      "/var/folders/zr/_f1rgf8n0w3541q9k8p3smhr0000gn/T/ipykernel_63165/773814121.py:3: SettingWithCopyWarning: \n",
      "A value is trying to be set on a copy of a slice from a DataFrame.\n",
      "Try using .loc[row_indexer,col_indexer] = value instead\n",
      "\n",
      "See the caveats in the documentation: https://pandas.pydata.org/pandas-docs/stable/user_guide/indexing.html#returning-a-view-versus-a-copy\n",
      "  ex['사무판단 예측'] = 0\n",
      "/var/folders/zr/_f1rgf8n0w3541q9k8p3smhr0000gn/T/ipykernel_63165/773814121.py:4: SettingWithCopyWarning: \n",
      "A value is trying to be set on a copy of a slice from a DataFrame.\n",
      "Try using .loc[row_indexer,col_indexer] = value instead\n",
      "\n",
      "See the caveats in the documentation: https://pandas.pydata.org/pandas-docs/stable/user_guide/indexing.html#returning-a-view-versus-a-copy\n",
      "  ex['사무판단 예측확률'] = prob_1\n"
     ]
    }
   ],
   "source": [
    "threshold = 0.251    # test 결과로 확인한 threshold\n",
    "\n",
    "ex['사무판단 예측'] = 0\n",
    "ex['사무판단 예측확률'] = prob_1\n",
    "\n",
    "# 1차 사무판단\n",
    "ex.loc[ex['사무판단 예측확률'] >= threshold, '사무판단 예측'] = 1"
   ]
  },
  {
   "cell_type": "code",
   "execution_count": 77,
   "id": "d5aba506",
   "metadata": {},
   "outputs": [
    {
     "data": {
      "text/html": [
       "<div>\n",
       "<style scoped>\n",
       "    .dataframe tbody tr th:only-of-type {\n",
       "        vertical-align: middle;\n",
       "    }\n",
       "\n",
       "    .dataframe tbody tr th {\n",
       "        vertical-align: top;\n",
       "    }\n",
       "\n",
       "    .dataframe thead th {\n",
       "        text-align: right;\n",
       "    }\n",
       "</style>\n",
       "<table border=\"1\" class=\"dataframe\">\n",
       "  <thead>\n",
       "    <tr style=\"text-align: right;\">\n",
       "      <th></th>\n",
       "      <th>법령명</th>\n",
       "      <th>조문제목</th>\n",
       "      <th>조문</th>\n",
       "      <th>사무판단</th>\n",
       "      <th>사무유형(대분류)</th>\n",
       "      <th>rule_based</th>\n",
       "      <th>사무판단 예측</th>\n",
       "      <th>사무판단 예측확률</th>\n",
       "    </tr>\n",
       "  </thead>\n",
       "  <tbody>\n",
       "    <tr>\n",
       "      <th>13</th>\n",
       "      <td>개인정보 보호법</td>\n",
       "      <td>개인정보 보호 원칙</td>\n",
       "      <td>① 개인정보처리자는 개인정보의 처리 목적을 명확하게 하여야 하고 그 목적에 필요한 ...</td>\n",
       "      <td>0</td>\n",
       "      <td>0</td>\n",
       "      <td>1</td>\n",
       "      <td>1</td>\n",
       "      <td>0.72994</td>\n",
       "    </tr>\n",
       "    <tr>\n",
       "      <th>14</th>\n",
       "      <td>개인정보 보호법</td>\n",
       "      <td>개인정보 보호 원칙</td>\n",
       "      <td>② 개인정보처리자는 개인정보의 처리 목적에 필요한 범위에서 적합하게 개인정보를 처리...</td>\n",
       "      <td>0</td>\n",
       "      <td>0</td>\n",
       "      <td>1</td>\n",
       "      <td>1</td>\n",
       "      <td>0.77519</td>\n",
       "    </tr>\n",
       "    <tr>\n",
       "      <th>15</th>\n",
       "      <td>개인정보 보호법</td>\n",
       "      <td>개인정보 보호 원칙</td>\n",
       "      <td>③ 개인정보처리자는 개인정보의 처리 목적에 필요한 범위에서 개인정보의 정확성, 완전...</td>\n",
       "      <td>0</td>\n",
       "      <td>0</td>\n",
       "      <td>1</td>\n",
       "      <td>1</td>\n",
       "      <td>0.67727</td>\n",
       "    </tr>\n",
       "    <tr>\n",
       "      <th>16</th>\n",
       "      <td>개인정보 보호법</td>\n",
       "      <td>개인정보 보호 원칙</td>\n",
       "      <td>④ 개인정보처리자는 개인정보의 처리 방법 및 종류 등에 따라 정보주체의 권리가 침해...</td>\n",
       "      <td>0</td>\n",
       "      <td>0</td>\n",
       "      <td>1</td>\n",
       "      <td>1</td>\n",
       "      <td>0.62545</td>\n",
       "    </tr>\n",
       "    <tr>\n",
       "      <th>17</th>\n",
       "      <td>개인정보 보호법</td>\n",
       "      <td>개인정보 보호 원칙</td>\n",
       "      <td>⑤ 개인정보처리자는 개인정보 처리방침 등 개인정보의 처리에 관한 사항을 공개하여야 ...</td>\n",
       "      <td>0</td>\n",
       "      <td>0</td>\n",
       "      <td>1</td>\n",
       "      <td>1</td>\n",
       "      <td>0.72825</td>\n",
       "    </tr>\n",
       "    <tr>\n",
       "      <th>...</th>\n",
       "      <td>...</td>\n",
       "      <td>...</td>\n",
       "      <td>...</td>\n",
       "      <td>...</td>\n",
       "      <td>...</td>\n",
       "      <td>...</td>\n",
       "      <td>...</td>\n",
       "      <td>...</td>\n",
       "    </tr>\n",
       "    <tr>\n",
       "      <th>848067</th>\n",
       "      <td>수도법 시행규칙</td>\n",
       "      <td>기술진단 결과의 평가</td>\n",
       "      <td>1. 한국수자원공사</td>\n",
       "      <td>0</td>\n",
       "      <td>0</td>\n",
       "      <td>1</td>\n",
       "      <td>0</td>\n",
       "      <td>0.00549</td>\n",
       "    </tr>\n",
       "    <tr>\n",
       "      <th>848068</th>\n",
       "      <td>수도법 시행규칙</td>\n",
       "      <td>기술진단 결과의 평가</td>\n",
       "      <td>2. 법 제56조에 따른 한국상하수도협회</td>\n",
       "      <td>0</td>\n",
       "      <td>0</td>\n",
       "      <td>1</td>\n",
       "      <td>0</td>\n",
       "      <td>0.00258</td>\n",
       "    </tr>\n",
       "    <tr>\n",
       "      <th>848069</th>\n",
       "      <td>수도법 시행규칙</td>\n",
       "      <td>규제의 재검토</td>\n",
       "      <td>제32조(규제의 재검토) 환경부장관은 다음 각 호의 사항에 대하여 다음 각 호의 기...</td>\n",
       "      <td>0</td>\n",
       "      <td>0</td>\n",
       "      <td>1</td>\n",
       "      <td>1</td>\n",
       "      <td>0.64245</td>\n",
       "    </tr>\n",
       "    <tr>\n",
       "      <th>848070</th>\n",
       "      <td>수도법 시행규칙</td>\n",
       "      <td>규제의 재검토</td>\n",
       "      <td>1. 제23조의2제1항ㆍ제4항 및 별표 7의2에 따른 저수조청소업의 인력ㆍ시설 및 ...</td>\n",
       "      <td>0</td>\n",
       "      <td>0</td>\n",
       "      <td>1</td>\n",
       "      <td>0</td>\n",
       "      <td>0.03126</td>\n",
       "    </tr>\n",
       "    <tr>\n",
       "      <th>848071</th>\n",
       "      <td>수도법 시행규칙</td>\n",
       "      <td>규제의 재검토</td>\n",
       "      <td>2. 제31조 및 별표 8에 따른 기술진단 대행 기관의 장비와 기술인력: 2014년...</td>\n",
       "      <td>0</td>\n",
       "      <td>0</td>\n",
       "      <td>1</td>\n",
       "      <td>0</td>\n",
       "      <td>0.00619</td>\n",
       "    </tr>\n",
       "  </tbody>\n",
       "</table>\n",
       "<p>688125 rows × 8 columns</p>\n",
       "</div>"
      ],
      "text/plain": [
       "             법령명         조문제목  \\\n",
       "13      개인정보 보호법   개인정보 보호 원칙   \n",
       "14      개인정보 보호법   개인정보 보호 원칙   \n",
       "15      개인정보 보호법   개인정보 보호 원칙   \n",
       "16      개인정보 보호법   개인정보 보호 원칙   \n",
       "17      개인정보 보호법   개인정보 보호 원칙   \n",
       "...          ...          ...   \n",
       "848067  수도법 시행규칙  기술진단 결과의 평가   \n",
       "848068  수도법 시행규칙  기술진단 결과의 평가   \n",
       "848069  수도법 시행규칙      규제의 재검토   \n",
       "848070  수도법 시행규칙      규제의 재검토   \n",
       "848071  수도법 시행규칙      규제의 재검토   \n",
       "\n",
       "                                                       조문  사무판단  사무유형(대분류)  \\\n",
       "13      ① 개인정보처리자는 개인정보의 처리 목적을 명확하게 하여야 하고 그 목적에 필요한 ...     0          0   \n",
       "14      ② 개인정보처리자는 개인정보의 처리 목적에 필요한 범위에서 적합하게 개인정보를 처리...     0          0   \n",
       "15      ③ 개인정보처리자는 개인정보의 처리 목적에 필요한 범위에서 개인정보의 정확성, 완전...     0          0   \n",
       "16      ④ 개인정보처리자는 개인정보의 처리 방법 및 종류 등에 따라 정보주체의 권리가 침해...     0          0   \n",
       "17      ⑤ 개인정보처리자는 개인정보 처리방침 등 개인정보의 처리에 관한 사항을 공개하여야 ...     0          0   \n",
       "...                                                   ...   ...        ...   \n",
       "848067                                         1. 한국수자원공사     0          0   \n",
       "848068                             2. 법 제56조에 따른 한국상하수도협회     0          0   \n",
       "848069  제32조(규제의 재검토) 환경부장관은 다음 각 호의 사항에 대하여 다음 각 호의 기...     0          0   \n",
       "848070  1. 제23조의2제1항ㆍ제4항 및 별표 7의2에 따른 저수조청소업의 인력ㆍ시설 및 ...     0          0   \n",
       "848071  2. 제31조 및 별표 8에 따른 기술진단 대행 기관의 장비와 기술인력: 2014년...     0          0   \n",
       "\n",
       "        rule_based  사무판단 예측  사무판단 예측확률  \n",
       "13               1        1    0.72994  \n",
       "14               1        1    0.77519  \n",
       "15               1        1    0.67727  \n",
       "16               1        1    0.62545  \n",
       "17               1        1    0.72825  \n",
       "...            ...      ...        ...  \n",
       "848067           1        0    0.00549  \n",
       "848068           1        0    0.00258  \n",
       "848069           1        1    0.64245  \n",
       "848070           1        0    0.03126  \n",
       "848071           1        0    0.00619  \n",
       "\n",
       "[688125 rows x 8 columns]"
      ]
     },
     "execution_count": 77,
     "metadata": {},
     "output_type": "execute_result"
    }
   ],
   "source": [
    "ex"
   ]
  },
  {
   "cell_type": "code",
   "execution_count": 25,
   "id": "8d721294",
   "metadata": {},
   "outputs": [],
   "source": [
    "#sub_df.loc[(sub_df['사무예측 결과']==0)&(sub_df['사무판단']!=0), :]    # 모델 예측 결과 틀린 부분"
   ]
  },
  {
   "cell_type": "code",
   "execution_count": 96,
   "id": "46c22374",
   "metadata": {},
   "outputs": [
    {
     "name": "stdout",
     "output_type": "stream",
     "text": [
      "[848072, 688125, 321249]\n",
      "[54546, 54532, 52014]\n"
     ]
    },
    {
     "data": {
      "text/plain": [
       "37.87992057278156"
      ]
     },
     "execution_count": 96,
     "metadata": {},
     "output_type": "execute_result"
    }
   ],
   "source": [
    "t3 = len(ex.loc[ex['사무판단 예측']==1, :])\n",
    "s3 = len(ex.loc[(ex['사무판단 예측']==1)&(ex['사무판단']==1), '사무판단'])\n",
    "\n",
    "ts = [t1, t2, t3]\n",
    "ss = [s1, s2, s3]\n",
    "\n",
    "print(ts)\n",
    "print(ss)\n",
    "\n",
    "t3/t1*100"
   ]
  },
  {
   "cell_type": "code",
   "execution_count": 82,
   "id": "7022401e",
   "metadata": {},
   "outputs": [
    {
     "data": {
      "image/png": "[encoded data removed]",
      "text/plain": [
       "<Figure size 640x480 with 1 Axes>"
      ]
     },
     "metadata": {},
     "output_type": "display_data"
    }
   ],
   "source": [
    "import matplotlib.pyplot as plt\n",
    "\n",
    "final = []\n",
    "for i in range(3):\n",
    "    final.append(ts[i]/ss[i])\n",
    "\n",
    "x_labels = ['base', 'rule_base', 'first_filter']\n",
    "\n",
    "# 선 그래프 그리기\n",
    "plt.plot(x_labels, final, marker='o', linestyle='-', color='b', label='Line Plot')\n",
    "\n",
    "# 그래프에 레이블 추가\n",
    "plt.title('Model Effect')\n",
    "plt.xlabel('Preprocessing Steps')\n",
    "plt.ylabel('Number of Clauses to be Verified by the Office')\n",
    "plt.legend()\n",
    "\n",
    "# 각 데이터 포인트의 좌표를 표시\n",
    "for i, (x, y, ratio) in enumerate(zip(x_labels, final, ratios)):\n",
    "    plt.text(x, y, f'({x}, {y:.2f})', ha='left', va='bottom')\n",
    "\n",
    "# 그래프 출력\n",
    "plt.show()"
   ]
  },
  {
   "cell_type": "code",
   "execution_count": 48,
   "id": "ebd40751",
   "metadata": {},
   "outputs": [
    {
     "name": "stdout",
     "output_type": "stream",
     "text": [
      "Accuracy: 0.6050819255222525\n",
      "Precision: 0.16191178805225853\n",
      "Recall: 0.9538252769016358\n",
      "F1-Score: 0.27683145236188106\n",
      "Confusion Matrix:\n",
      "[[364358 269235]\n",
      " [  2518  52014]]\n"
     ]
    }
   ],
   "source": [
    "# 1차 필터링 결과\n",
    "cal_result(ex['사무판단 예측'], ex['사무판단'])"
   ]
  },
  {
   "cell_type": "code",
   "execution_count": 95,
   "id": "69e90c17",
   "metadata": {},
   "outputs": [
    {
     "data": {
      "image/png": "[encoded data removed]",
      "text/plain": [
       "<Figure size 640x480 with 1 Axes>"
      ]
     },
     "metadata": {},
     "output_type": "display_data"
    }
   ],
   "source": [
    "import matplotlib.pyplot as plt\n",
    "import numpy as np\n",
    "\n",
    "# 주어진 데이터\n",
    "x_values = np.array([1, 2, 3])\n",
    "x_labels = ['base', 'rule_base', 'first_filter']\n",
    "ts = [848072, 688125, 321249]\n",
    "ss = [54546, 54532, 52014]\n",
    "decreases = [100 * ((t - t_prev) / t_prev) if i > 0 else 0 for i, (t, t_prev) in enumerate(zip(ts, [0] + ts[:-1]))]\n",
    "\n",
    "# 막대 그래프 그리기\n",
    "bar_width = 0.35  # 막대의 너비\n",
    "bar_positions1 = x_values - bar_width/2\n",
    "bar_positions2 = x_values + bar_width/2\n",
    "\n",
    "fig, ax = plt.subplots()\n",
    "\n",
    "bars1 = ax.bar(bar_positions1, ts, width=bar_width, label='total law count')\n",
    "bars2 = ax.bar(bar_positions2, ss, width=bar_width, label='work law count')\n",
    "\n",
    "# 그래프에 레이블 추가\n",
    "plt.title('Model Effect')\n",
    "plt.xlabel('Preprocessing Steps')\n",
    "plt.ylabel('law count')\n",
    "plt.legend()\n",
    "plt.xticks(x_values, x_labels)  # X 축 레이블 설정\n",
    "\n",
    "# 범례 추가\n",
    "plt.legend()\n",
    "\n",
    "# decrease 값을 막대 위에 표시\n",
    "for bar, decrease in zip(bars1, decreases):\n",
    "    height = bar.get_height()\n",
    "    ax.text(bar.get_x() + bar.get_width()/2, height, f'{decrease:.2f}%', ha='center', va='bottom')\n",
    "\n",
    "# 그래프 표시\n",
    "plt.show()\n"
   ]
  },
  {
   "cell_type": "code",
   "execution_count": 101,
   "id": "2b15439d",
   "metadata": {},
   "outputs": [
    {
     "data": {
      "image/png": "[encoded data removed]",
      "text/plain": [
       "<Figure size 640x480 with 1 Axes>"
      ]
     },
     "metadata": {},
     "output_type": "display_data"
    }
   ],
   "source": [
    "import matplotlib.pyplot as plt\n",
    "import numpy as np\n",
    "\n",
    "# 주어진 데이터\n",
    "x_values = np.array([1, 2, 3])\n",
    "x_labels = ['base', 'rule_base', 'first_filter']\n",
    "ts = [848072, 688125, 321249]\n",
    "ss = [54546, 54532, 52014]\n",
    "decreases2 = [0, -18.86, -62.12]\n",
    "# 막대 그래프 그리기\n",
    "bar_width = 0.35  # 막대의 너비\n",
    "bar_positions1 = x_values - bar_width/2\n",
    "bar_positions2 = x_values + bar_width/2\n",
    "\n",
    "fig, ax = plt.subplots()\n",
    "\n",
    "bars1 = ax.bar(bar_positions1, ts, width=bar_width, label='total law count')\n",
    "bars2 = ax.bar(bar_positions2, ss, width=bar_width, label='work law count')\n",
    "\n",
    "# 그래프에 레이블 추가\n",
    "plt.title('Model Effect')\n",
    "plt.xlabel('Preprocessing Steps')\n",
    "plt.ylabel('law count')\n",
    "plt.legend()\n",
    "plt.xticks(x_values, x_labels)  # X 축 레이블 설정\n",
    "\n",
    "# 범례 추가\n",
    "plt.legend()\n",
    "\n",
    "# decrease 값을 막대 위에 표시\n",
    "for bar, decrease in zip(bars1, decreases2):\n",
    "    height = bar.get_height()\n",
    "    ax.text(bar.get_x() + bar.get_width()/2, height, f'{decrease:.2f}%', ha='center', va='bottom')\n",
    "\n",
    "# 그래프 표시\n",
    "plt.show()\n"
   ]
  },
  {
   "cell_type": "code",
   "execution_count": null,
   "id": "d633567f",
   "metadata": {},
   "outputs": [],
   "source": []
  }
 ],
 "metadata": {
  "kernelspec": {
   "display_name": "Python 3 (ipykernel)",
   "language": "python",
   "name": "python3"
  },
  "language_info": {
   "codemirror_mode": {
    "name": "ipython",
    "version": 3
   },
   "file_extension": ".py",
   "mimetype": "text/x-python",
   "name": "python",
   "nbconvert_exporter": "python",
   "pygments_lexer": "ipython3",
   "version": "3.10.9"
  }
 },
 "nbformat": 4,
 "nbformat_minor": 5
}
