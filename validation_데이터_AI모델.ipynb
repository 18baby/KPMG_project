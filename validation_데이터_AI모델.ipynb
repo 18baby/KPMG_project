{
 "cells": [
  {
   "cell_type": "code",
   "execution_count": 1,
   "id": "5a4aa67c",
   "metadata": {},
   "outputs": [],
   "source": [
    "import re\n",
    "import numpy as np\n",
    "import pandas as pd\n",
    "import pickle\n",
    "import joblib\n",
    "import torch\n",
    "import torch.nn as nn\n",
    "from torch.utils.data import Dataset, DataLoader\n",
    "from transformers import AutoTokenizer, AdamW, get_linear_schedule_with_warmup\n",
    "from torch.optim import AdamW\n",
    "from tqdm import tqdm\n",
    "from sklearn.utils.class_weight import compute_class_weight\n",
    "from sklearn.preprocessing import LabelEncoder\n",
    "from sklearn.metrics import accuracy_score, confusion_matrix, precision_score, recall_score, f1_score, classification_report\n",
    "\n",
    "# 사용 모델\n",
    "from sklearn.ensemble import RandomForestClassifier\n",
    "import lib.EncoderModel as mm\n",
    "\n",
    "# 함수들 불러오기\n",
    "import lib.functions as f"
   ]
  },
  {
   "cell_type": "markdown",
   "id": "c0d24d4e",
   "metadata": {},
   "source": [
    "# 평가에 이용되는 함수 정의"
   ]
  },
  {
   "cell_type": "code",
   "execution_count": 2,
   "id": "c750827c",
   "metadata": {},
   "outputs": [],
   "source": [
    "# 1차 filter용 데이터셋 정의 -> (조문 + 조문제목) [embedding vector화 + 배치화]\n",
    "class CustomDataset1(Dataset):\n",
    "    def __init__(self, dataframe, tokenizer):\n",
    "        self.data = dataframe\n",
    "        self.tokenizer = tokenizer\n",
    "\n",
    "    def __len__(self):\n",
    "        return len(self.data)\n",
    "\n",
    "    def __getitem__(self, idx):\n",
    "        # '조문'과 '법령명' 칼럼의 데이터를 안전하게 문자열로 변환하고 결합\n",
    "        text1 = str(self.data.iloc[idx]['조문'])\n",
    "        text2 = str(self.data.iloc[idx]['조문제목'])\n",
    "        text_data = text1 + \" // \" + text2\n",
    "        label = torch.tensor(self.data.iloc[idx]['사무판단'], dtype=torch.long)\n",
    "\n",
    "        # 결합된 텍스트를 토크나이징\n",
    "        tokenized_data = tokenizer([text_data], padding='max_length', max_length=512, truncation=True, return_tensors='pt')\n",
    "\n",
    "        return {\n",
    "            'input_ids': tokenized_data['input_ids'].squeeze(),\n",
    "            'attention_mask': tokenized_data['attention_mask'].squeeze(),\n",
    "            'labels': label\n",
    "        }"
   ]
  },
  {
   "cell_type": "code",
   "execution_count": 3,
   "id": "249c83e9",
   "metadata": {},
   "outputs": [],
   "source": [
    "# 2차 filter용 데이터셋 정의 -> (법령명 + 조문제목 + 수행주체) [embedding vector화 + 배치화]\n",
    "class CustomDataset2(Dataset):\n",
    "    def __init__(self, dataframe, tokenizer):\n",
    "        self.data = dataframe\n",
    "        self.tokenizer = tokenizer\n",
    "\n",
    "    def __len__(self):\n",
    "        return len(self.data)\n",
    "\n",
    "    def __getitem__(self, idx):\n",
    "        # '조문'과 '법령명' 칼럼의 데이터를 안전하게 문자열로 변환하고 결합\n",
    "        text1 = str(self.data.iloc[idx]['법령명'])\n",
    "        text2 = str(self.data.iloc[idx]['조문제목'])\n",
    "        text3 = str(self.data.iloc[idx]['수행주체(문자열)'])\n",
    "        text_data = text1 + \" // \" + text2 + \" // \" + text3\n",
    "        label = torch.tensor(self.data.iloc[idx]['사무유형(대분류)'], dtype=torch.long)\n",
    "\n",
    "        # 결합된 텍스트를 토크나이징\n",
    "        tokenized_data = tokenizer([text_data], padding='max_length', max_length=128, truncation=True, return_tensors='pt')\n",
    "\n",
    "        return {\n",
    "            'input_ids': tokenized_data['input_ids'].squeeze(),\n",
    "            'attention_mask': tokenized_data['attention_mask'].squeeze(),\n",
    "            'labels': label\n",
    "        }"
   ]
  },
  {
   "cell_type": "code",
   "execution_count": 4,
   "id": "a6dc55bc",
   "metadata": {},
   "outputs": [],
   "source": [
    "# 각 배치의 텍스트 길이를 맞추기\n",
    "def collate_fn(batch):\n",
    "    input_ids = [item['input_ids'] for item in batch]\n",
    "    attention_mask = [item['attention_mask'] for item in batch]\n",
    "    labels = [item['labels'] for item in batch]\n",
    "\n",
    "    # 패딩 적용\n",
    "    input_ids = torch.nn.utils.rnn.pad_sequence(input_ids, batch_first=True, padding_value=tokenizer.pad_token_id)\n",
    "    attention_mask = torch.nn.utils.rnn.pad_sequence(attention_mask, batch_first=True, padding_value=0)\n",
    "\n",
    "    return {'input_ids': input_ids, 'attention_mask': attention_mask, 'labels': torch.stack(labels)}\n"
   ]
  },
  {
   "cell_type": "code",
   "execution_count": 5,
   "id": "cec7ebbe",
   "metadata": {},
   "outputs": [],
   "source": [
    "# 평가 결과 확인\n",
    "def cal_result(preds, y):\n",
    "    conf_matrix = confusion_matrix(y, preds)\n",
    "    accuracy = accuracy_score(y, preds)\n",
    "    precision = precision_score(y, preds)\n",
    "    recall = recall_score(y, preds)\n",
    "    f1 = f1_score(y, preds)\n",
    "    \n",
    "    # 결과 출력\n",
    "    print(f\"Accuracy: {accuracy}\")\n",
    "    print(f\"Precision: {precision}\")\n",
    "    print(f\"Recall: {recall}\")\n",
    "    print(f\"F1-Score: {f1}\")\n",
    "    print(\"Confusion Matrix:\")\n",
    "    print(conf_matrix)"
   ]
  },
  {
   "cell_type": "code",
   "execution_count": 6,
   "id": "4c2408da",
   "metadata": {},
   "outputs": [],
   "source": [
    "def cal_result2(preds, y):\n",
    "    conf_matrix = confusion_matrix(y, preds)\n",
    "    print('혼동행렬')\n",
    "    print(conf_matrix)\n",
    "    accuracy = accuracy_score(y, preds)\n",
    "    print(f'정확도: {accuracy}')\n",
    "    class_report = classification_report(y, preds)\n",
    "    print('Classification Report:')\n",
    "    print(class_report)\n",
    "    \n",
    "    return conf_matrix"
   ]
  },
  {
   "cell_type": "markdown",
   "id": "cd4368b7",
   "metadata": {},
   "source": [
    "# 1. 데이터 입력"
   ]
  },
  {
   "cell_type": "code",
   "execution_count": 7,
   "id": "082e6feb",
   "metadata": {},
   "outputs": [
    {
     "name": "stderr",
     "output_type": "stream",
     "text": [
      "/var/folders/zr/_f1rgf8n0w3541q9k8p3smhr0000gn/T/ipykernel_65694/2526232339.py:1: DtypeWarning: Columns (24) have mixed types. Specify dtype option on import or set low_memory=False.\n",
      "  test_df = pd.read_csv('data/val_df.csv')\n"
     ]
    },
    {
     "name": "stdout",
     "output_type": "stream",
     "text": [
      "<class 'pandas.core.frame.DataFrame'>\n",
      "RangeIndex: 169615 entries, 0 to 169614\n",
      "Data columns (total 26 columns):\n",
      " #   Column     Non-Null Count   Dtype  \n",
      "---  ------     --------------   -----  \n",
      " 0   소관부처명      169615 non-null  object \n",
      " 1   법령명        169615 non-null  object \n",
      " 2   법령구분       169615 non-null  int64  \n",
      " 3   조번호        169502 non-null  object \n",
      " 4   항번호        130938 non-null  object \n",
      " 5   호번호        99764 non-null   object \n",
      " 6   조문제목       169615 non-null  object \n",
      " 7   조문         169615 non-null  object \n",
      " 8   사무판단       169615 non-null  int64  \n",
      " 9   사무판단근거     137581 non-null  object \n",
      " 10  사무명        10920 non-null   object \n",
      " 11  수행주체       10911 non-null   object \n",
      " 12  사무유형       10909 non-null   object \n",
      " 13  위임사무판단     169615 non-null  int64  \n",
      " 14  위임근거규정     711 non-null     object \n",
      " 15  수임기관       550 non-null     object \n",
      " 16  특행기관       169615 non-null  int64  \n",
      " 17  재위임사무판단    169615 non-null  int64  \n",
      " 18  재위임근거규정    0 non-null       float64\n",
      " 19  재수임기관      0 non-null       float64\n",
      " 20  위탁사무판단     169615 non-null  int64  \n",
      " 21  위탁근거규정     605 non-null     object \n",
      " 22  수탁기관       600 non-null     object \n",
      " 23  사무유형(소분류)  10909 non-null   object \n",
      " 24  기타         1 non-null       object \n",
      " 25  사무유형(대분류)  169615 non-null  object \n",
      "dtypes: float64(2), int64(6), object(18)\n",
      "memory usage: 33.6+ MB\n"
     ]
    }
   ],
   "source": [
    "test_df = pd.read_csv('data/val_df.csv')\n",
    "test_df.info()"
   ]
  },
  {
   "cell_type": "markdown",
   "id": "850112c6",
   "metadata": {},
   "source": [
    "# 2. 데이터 전처리"
   ]
  },
  {
   "cell_type": "code",
   "execution_count": 8,
   "id": "d0807217",
   "metadata": {},
   "outputs": [],
   "source": [
    "#test_df = f.x_null_drop(test_df)\n",
    "#test_df = f.x_wrong_drop(test_df)\n",
    "test_df = f.no_work_check(test_df)\n",
    "test_df = f.make_large_type(test_df)"
   ]
  },
  {
   "cell_type": "code",
   "execution_count": 9,
   "id": "6a4d9d31",
   "metadata": {},
   "outputs": [
    {
     "data": {
      "text/plain": [
       "(169615, 5)"
      ]
     },
     "execution_count": 9,
     "metadata": {},
     "output_type": "execute_result"
    }
   ],
   "source": [
    "# 결과 저장 데이터 프레임 생성\n",
    "check_cols = ['법령명' ,'조문제목', '조문', '사무판단', '사무유형(대분류)']\n",
    "sub_df = test_df.loc[:, check_cols].copy()\n",
    "sub_df.shape"
   ]
  },
  {
   "cell_type": "markdown",
   "id": "0eb3c763",
   "metadata": {},
   "source": [
    "# 3. Rule-Base 적용"
   ]
  },
  {
   "cell_type": "code",
   "execution_count": 10,
   "id": "b02eb96d",
   "metadata": {},
   "outputs": [],
   "source": [
    "sub_df = f.rule_based(sub_df)  # rule_base 조문 확인\n",
    "\n",
    "# rule_base로 걸러낸 조문들\n",
    "rule_base_filter_idx = sub_df.loc[sub_df['rule_based']==0, :].index"
   ]
  },
  {
   "cell_type": "markdown",
   "id": "5da44c2d",
   "metadata": {},
   "source": [
    "# 4. 1차 사무판단\n",
    "## encoder 모델"
   ]
  },
  {
   "cell_type": "markdown",
   "id": "b2168e11",
   "metadata": {},
   "source": [
    "* encoder 구조 생성"
   ]
  },
  {
   "cell_type": "code",
   "execution_count": 11,
   "id": "26a00c91",
   "metadata": {},
   "outputs": [
    {
     "data": {
      "text/plain": [
       "MyModel(\n",
       "  (encoder): MyEncoder(\n",
       "    (layers): ModuleList(\n",
       "      (0): MyEncoderLayer(\n",
       "        (self_attention): MultiheadAttention(\n",
       "          (out_proj): NonDynamicallyQuantizableLinear(in_features=512, out_features=512, bias=True)\n",
       "        )\n",
       "        (feedforward): Sequential(\n",
       "          (0): Linear(in_features=512, out_features=1024, bias=True)\n",
       "          (1): ReLU()\n",
       "          (2): Linear(in_features=1024, out_features=512, bias=True)\n",
       "        )\n",
       "        (layer_norm1): LayerNorm((512,), eps=1e-05, elementwise_affine=True)\n",
       "        (layer_norm2): LayerNorm((512,), eps=1e-05, elementwise_affine=True)\n",
       "        (dropout): Dropout(p=0.1, inplace=False)\n",
       "      )\n",
       "    )\n",
       "  )\n",
       "  (layer1): Linear(in_features=512, out_features=256, bias=True)\n",
       "  (batch_norm): BatchNorm1d(256, eps=1e-05, momentum=0.1, affine=True, track_running_stats=True)\n",
       "  (relu): ReLU()\n",
       "  (layer2): Linear(in_features=256, out_features=2, bias=True)\n",
       ")"
      ]
     },
     "execution_count": 11,
     "metadata": {},
     "output_type": "execute_result"
    }
   ],
   "source": [
    "# 모델 및 토크나이저 불러오기\n",
    "model_name = 'klue/roberta-large'\n",
    "tokenizer = AutoTokenizer.from_pretrained(model_name)\n",
    "\n",
    "# 모델 기본 구조 설정\n",
    "input_size = 512\n",
    "hidden_size = 256\n",
    "output_size = 2\n",
    "num_encoder_layers = 1\n",
    "device = torch.device('cuda' if torch.cuda.is_available() else 'cpu')\n",
    "\n",
    "model = mm.MyModel(input_size, hidden_size, output_size, num_encoder_layers)\n",
    "model.to(device)"
   ]
  },
  {
   "cell_type": "markdown",
   "id": "09c00852",
   "metadata": {},
   "source": [
    "* 학습된 encoder 불러오기"
   ]
  },
  {
   "cell_type": "code",
   "execution_count": 12,
   "id": "b0ded757",
   "metadata": {},
   "outputs": [
    {
     "data": {
      "text/plain": [
       "<All keys matched successfully>"
      ]
     },
     "execution_count": 12,
     "metadata": {},
     "output_type": "execute_result"
    }
   ],
   "source": [
    "model_path = 'pickles/encoder_model_f1_80.pth'  # Provide the correct path\n",
    "model.load_state_dict(torch.load(model_path, map_location=device))"
   ]
  },
  {
   "cell_type": "markdown",
   "id": "57b32871",
   "metadata": {},
   "source": [
    "* 모델 평가"
   ]
  },
  {
   "cell_type": "code",
   "execution_count": 13,
   "id": "6e626039",
   "metadata": {},
   "outputs": [],
   "source": [
    "# 데이터로더 생성\n",
    "batch_size = 16  # 배치크기 조절\n",
    "\n",
    "test_dataset = CustomDataset1(sub_df, tokenizer)\n",
    "test_loader = DataLoader(test_dataset, batch_size=batch_size, shuffle=False, collate_fn=collate_fn)"
   ]
  },
  {
   "cell_type": "code",
   "execution_count": 14,
   "id": "a4c6f90b",
   "metadata": {},
   "outputs": [
    {
     "name": "stderr",
     "output_type": "stream",
     "text": [
      "Validation: 100%|████████████████████████| 10601/10601 [01:02<00:00, 170.26it/s]"
     ]
    },
    {
     "name": "stdout",
     "output_type": "stream",
     "text": [
      "tensor(0.3816)\n"
     ]
    },
    {
     "name": "stderr",
     "output_type": "stream",
     "text": [
      "\n"
     ]
    }
   ],
   "source": [
    "model.eval()\n",
    "\n",
    "test_loss = 0\n",
    "probs = []\n",
    "\n",
    "with torch.no_grad():\n",
    "    for batch in tqdm(test_loader, desc=f'Validation'):\n",
    "        inputs = {key: value.to(device) for key, value in batch.items() if key != 'labels'}\n",
    "        labels = batch['labels'].to(device)\n",
    "\n",
    "        # 모델에 토큰화된 입력 데이터 전달\n",
    "        outputs = model(**inputs).float()\n",
    "        test_loss += torch.nn.functional.cross_entropy(outputs, labels.long())\n",
    "        \n",
    "        # 소프트맥스를 적용하여 확률값 얻기\n",
    "        probs_batch = torch.nn.functional.softmax(outputs, dim=1)\n",
    "        probs.append(probs_batch.cpu().numpy())\n",
    "\n",
    "# 손실 계산\n",
    "avg_test_loss = test_loss / len(test_loader)\n",
    "\n",
    "# 확률값을 하나의 배열로 통합\n",
    "probs = np.concatenate(probs, axis=0)\n",
    "\n",
    "print(avg_test_loss)"
   ]
  },
  {
   "cell_type": "code",
   "execution_count": 15,
   "id": "7161f217",
   "metadata": {},
   "outputs": [],
   "source": [
    "# 결과 확률 저장\n",
    "prob_1 = probs[:, 1]\n",
    "prob_1 = [round(prob, 5) for prob in prob_1]"
   ]
  },
  {
   "cell_type": "code",
   "execution_count": 16,
   "id": "042a696b",
   "metadata": {},
   "outputs": [
    {
     "data": {
      "text/html": [
       "<div>\n",
       "<style scoped>\n",
       "    .dataframe tbody tr th:only-of-type {\n",
       "        vertical-align: middle;\n",
       "    }\n",
       "\n",
       "    .dataframe tbody tr th {\n",
       "        vertical-align: top;\n",
       "    }\n",
       "\n",
       "    .dataframe thead th {\n",
       "        text-align: right;\n",
       "    }\n",
       "</style>\n",
       "<table border=\"1\" class=\"dataframe\">\n",
       "  <thead>\n",
       "    <tr style=\"text-align: right;\">\n",
       "      <th></th>\n",
       "      <th>법령명</th>\n",
       "      <th>조문제목</th>\n",
       "      <th>조문</th>\n",
       "      <th>사무판단</th>\n",
       "      <th>사무유형(대분류)</th>\n",
       "      <th>rule_based</th>\n",
       "    </tr>\n",
       "  </thead>\n",
       "  <tbody>\n",
       "    <tr>\n",
       "      <th>0</th>\n",
       "      <td>환경영향평가법 시행규칙</td>\n",
       "      <td>규제의 재검토</td>\n",
       "      <td>② 환경부장관은 다음 각 호의 사항에 대하여 해당 호에 해당하는 날을 기준으로 2년...</td>\n",
       "      <td>0</td>\n",
       "      <td>0</td>\n",
       "      <td>1</td>\n",
       "    </tr>\n",
       "  </tbody>\n",
       "</table>\n",
       "</div>"
      ],
      "text/plain": [
       "            법령명     조문제목                                                 조문  \\\n",
       "0  환경영향평가법 시행규칙  규제의 재검토  ② 환경부장관은 다음 각 호의 사항에 대하여 해당 호에 해당하는 날을 기준으로 2년...   \n",
       "\n",
       "   사무판단  사무유형(대분류)  rule_based  \n",
       "0     0          0           1  "
      ]
     },
     "execution_count": 16,
     "metadata": {},
     "output_type": "execute_result"
    }
   ],
   "source": [
    "sub_df.head(1)"
   ]
  },
  {
   "cell_type": "markdown",
   "id": "11ca4784",
   "metadata": {},
   "source": [
    "## 1차 사무판단 진행"
   ]
  },
  {
   "cell_type": "code",
   "execution_count": 17,
   "id": "c4493e6c",
   "metadata": {},
   "outputs": [],
   "source": [
    "threshold = 0.251    # test 결과로 확인한 threshold\n",
    "\n",
    "sub_df['사무판단 예측'] = 0\n",
    "sub_df['사무판단 예측확률'] = prob_1\n",
    "\n",
    "# 1차 사무판단\n",
    "sub_df.loc[sub_df['사무판단 예측확률'] >= threshold, '사무판단 예측'] = 1\n",
    "\n",
    "sub_df.loc[rule_base_filter_idx, '사무판단 예측'] = 0   # rule-base 결과 적용"
   ]
  },
  {
   "cell_type": "code",
   "execution_count": 18,
   "id": "8d721294",
   "metadata": {},
   "outputs": [],
   "source": [
    "#sub_df.loc[(sub_df['사무예측 결과']==0)&(sub_df['사무판단']!=0), :]    # 모델 예측 결과 틀린 부분"
   ]
  },
  {
   "cell_type": "code",
   "execution_count": 19,
   "id": "ebd40751",
   "metadata": {},
   "outputs": [
    {
     "name": "stdout",
     "output_type": "stream",
     "text": [
      "Accuracy: 0.6715679627391445\n",
      "Precision: 0.15806185692913627\n",
      "Recall: 0.9491245760381336\n",
      "F1-Score: 0.2709939148073023\n",
      "Confusion Matrix:\n",
      "[[103554  55152]\n",
      " [   555  10354]]\n"
     ]
    }
   ],
   "source": [
    "# 1차 필터링 결과\n",
    "cal_result(sub_df['사무판단 예측'], sub_df['사무판단'])"
   ]
  },
  {
   "cell_type": "markdown",
   "id": "af3fc551",
   "metadata": {},
   "source": [
    "## 1차 filtering 결과"
   ]
  },
  {
   "cell_type": "code",
   "execution_count": 20,
   "id": "b88f8cad",
   "metadata": {},
   "outputs": [
    {
     "data": {
      "text/html": [
       "<div>\n",
       "<style scoped>\n",
       "    .dataframe tbody tr th:only-of-type {\n",
       "        vertical-align: middle;\n",
       "    }\n",
       "\n",
       "    .dataframe tbody tr th {\n",
       "        vertical-align: top;\n",
       "    }\n",
       "\n",
       "    .dataframe thead th {\n",
       "        text-align: right;\n",
       "    }\n",
       "</style>\n",
       "<table border=\"1\" class=\"dataframe\">\n",
       "  <thead>\n",
       "    <tr style=\"text-align: right;\">\n",
       "      <th></th>\n",
       "      <th>법령명</th>\n",
       "      <th>조문제목</th>\n",
       "      <th>조문</th>\n",
       "      <th>사무판단</th>\n",
       "      <th>사무유형(대분류)</th>\n",
       "      <th>rule_based</th>\n",
       "      <th>사무판단 예측</th>\n",
       "      <th>사무판단 예측확률</th>\n",
       "    </tr>\n",
       "  </thead>\n",
       "  <tbody>\n",
       "    <tr>\n",
       "      <th>0</th>\n",
       "      <td>환경영향평가법 시행규칙</td>\n",
       "      <td>규제의 재검토</td>\n",
       "      <td>② 환경부장관은 다음 각 호의 사항에 대하여 해당 호에 해당하는 날을 기준으로 2년...</td>\n",
       "      <td>0</td>\n",
       "      <td>0</td>\n",
       "      <td>1</td>\n",
       "      <td>1</td>\n",
       "      <td>0.70103</td>\n",
       "    </tr>\n",
       "  </tbody>\n",
       "</table>\n",
       "</div>"
      ],
      "text/plain": [
       "            법령명     조문제목                                                 조문  \\\n",
       "0  환경영향평가법 시행규칙  규제의 재검토  ② 환경부장관은 다음 각 호의 사항에 대하여 해당 호에 해당하는 날을 기준으로 2년...   \n",
       "\n",
       "   사무판단  사무유형(대분류)  rule_based  사무판단 예측  사무판단 예측확률  \n",
       "0     0          0           1        1    0.70103  "
      ]
     },
     "execution_count": 20,
     "metadata": {},
     "output_type": "execute_result"
    }
   ],
   "source": [
    "# 1차 filter 결과\n",
    "first_filtered_df = sub_df.loc[sub_df['사무판단 예측']==1, :].copy()\n",
    "first_filtered_df.head(1)"
   ]
  },
  {
   "cell_type": "markdown",
   "id": "1dee57fa",
   "metadata": {},
   "source": [
    "# 4. 2차 사무판단 + 사무유형 판단\n",
    "* 사무로 판단되었을때 실행"
   ]
  },
  {
   "cell_type": "markdown",
   "id": "9727123b",
   "metadata": {},
   "source": [
    "## Encoder Model"
   ]
  },
  {
   "cell_type": "code",
   "execution_count": 21,
   "id": "72e9486e",
   "metadata": {},
   "outputs": [],
   "source": [
    "input_size = 128\n",
    "hidden_size = 64\n",
    "output_size = 4\n",
    "\n",
    "total_encoder = mm.MyModel(input_size, hidden_size, output_size)"
   ]
  },
  {
   "cell_type": "code",
   "execution_count": 22,
   "id": "129929ac",
   "metadata": {},
   "outputs": [
    {
     "data": {
      "text/plain": [
       "<All keys matched successfully>"
      ]
     },
     "execution_count": 22,
     "metadata": {},
     "output_type": "execute_result"
    }
   ],
   "source": [
    "model_path2 = 'pickles/encoder_model_f2_80.pth'  # Provide the correct path\n",
    "total_encoder.load_state_dict(torch.load(model_path2, map_location=device))"
   ]
  },
  {
   "cell_type": "markdown",
   "id": "05df11f2",
   "metadata": {},
   "source": [
    "* 수행주체 추출"
   ]
  },
  {
   "cell_type": "code",
   "execution_count": 23,
   "id": "5aaa4270",
   "metadata": {},
   "outputs": [],
   "source": [
    "# 수행주체 종류 불러오기\n",
    "with open('pickles/subject_list.pkl', 'rb') as file:\n",
    "    subject_list = pickle.load(file)"
   ]
  },
  {
   "cell_type": "code",
   "execution_count": 24,
   "id": "9d1cfc4e",
   "metadata": {},
   "outputs": [
    {
     "name": "stderr",
     "output_type": "stream",
     "text": [
      "Processing rows: 100%|██████████████████| 65506/65506 [00:10<00:00, 6088.59it/s]\n"
     ]
    }
   ],
   "source": [
    "# 수행주체(문자열, 리스트 추가)\n",
    "first_filtered_df = f.new_subject_make(first_filtered_df, subject_list, tqdm)"
   ]
  },
  {
   "cell_type": "code",
   "execution_count": 25,
   "id": "fba93a5d",
   "metadata": {},
   "outputs": [
    {
     "name": "stdout",
     "output_type": "stream",
     "text": [
      "<class 'pandas.core.frame.DataFrame'>\n",
      "Int64Index: 65506 entries, 0 to 169612\n",
      "Data columns (total 10 columns):\n",
      " #   Column      Non-Null Count  Dtype  \n",
      "---  ------      --------------  -----  \n",
      " 0   법령명         65506 non-null  object \n",
      " 1   조문제목        65506 non-null  object \n",
      " 2   조문          65506 non-null  object \n",
      " 3   사무판단        65506 non-null  int64  \n",
      " 4   사무유형(대분류)   65506 non-null  int64  \n",
      " 5   rule_based  65506 non-null  int64  \n",
      " 6   사무판단 예측     65506 non-null  int64  \n",
      " 7   사무판단 예측확률   65506 non-null  float32\n",
      " 8   수행주체(리스트)   65506 non-null  object \n",
      " 9   수행주체(문자열)   65506 non-null  object \n",
      "dtypes: float32(1), int64(4), object(5)\n",
      "memory usage: 7.3+ MB\n"
     ]
    }
   ],
   "source": [
    "first_filtered_df.info()"
   ]
  },
  {
   "cell_type": "code",
   "execution_count": 26,
   "id": "a0b11f0d",
   "metadata": {},
   "outputs": [],
   "source": [
    "# 데이터로더 생성\n",
    "batch_size = 16  # 배치크기 조절\n",
    "\n",
    "total_dataset = CustomDataset2(first_filtered_df, tokenizer)\n",
    "total_loader = DataLoader(total_dataset, batch_size=batch_size, shuffle=False, collate_fn=collate_fn)"
   ]
  },
  {
   "cell_type": "code",
   "execution_count": 27,
   "id": "8d4a7202",
   "metadata": {},
   "outputs": [],
   "source": [
    "# 2차 인코더 가중치 학습\n",
    "class_weights = [0.2969,  2.2733,  9.0880, 12.1487]\n",
    "class_weights = torch.tensor(class_weights, dtype=torch.float32)"
   ]
  },
  {
   "cell_type": "code",
   "execution_count": 28,
   "id": "753613fc",
   "metadata": {},
   "outputs": [
    {
     "name": "stderr",
     "output_type": "stream",
     "text": [
      "Test: 100%|████████████████████████████████| 4095/4095 [00:15<00:00, 256.46it/s]"
     ]
    },
    {
     "name": "stdout",
     "output_type": "stream",
     "text": [
      "Test Loss: 1.280299425125122\n"
     ]
    },
    {
     "name": "stderr",
     "output_type": "stream",
     "text": [
      "\n"
     ]
    }
   ],
   "source": [
    "total_encoder.eval()\n",
    "val_loss = 0.0\n",
    "y_true = []  # 실제 레이블을 저장할 리스트\n",
    "y_pred = []  # 모델의 예측 결과를 저장할 리스트\n",
    "y_probs = [] # 사무유형별 확률 저장할 리스트\n",
    "with torch.no_grad():\n",
    "    for batch in tqdm(total_loader, desc=f'Test'):\n",
    "        inputs = {key: value.to(device) for key, value in batch.items() if key != 'labels'}\n",
    "        labels = batch['labels'].to(device)\n",
    "\n",
    "        # 모델에 토큰화된 입력 데이터 전달\n",
    "        outputs = total_encoder(**inputs).float()\n",
    "        \n",
    "        probs = torch.nn.functional.softmax(outputs, dim=1)\n",
    "        y_probs.extend(probs.cpu().numpy())\n",
    "        _, predictions = torch.max(outputs, 1)\n",
    "        y_true.extend(labels.cpu().numpy())\n",
    "        y_pred.extend(predictions.cpu().numpy())\n",
    "        val_loss += torch.nn.functional.cross_entropy(outputs, labels, weight=class_weights)\n",
    "\n",
    "avg_val_loss = val_loss / len(total_loader)\n",
    "print(f'Test Loss: {avg_val_loss}')"
   ]
  },
  {
   "cell_type": "code",
   "execution_count": 29,
   "id": "924d2608",
   "metadata": {},
   "outputs": [],
   "source": [
    "probs = pd.DataFrame(y_probs)\n",
    "probs = probs.set_index(first_filtered_df.index)\n",
    "\n",
    "# 인코더 결과 저장\n",
    "encoder_result_df = f.make_result_df(pd, y_true, y_pred, probs[0], probs[1], probs[2], probs[3])"
   ]
  },
  {
   "cell_type": "code",
   "execution_count": 30,
   "id": "58e2f961",
   "metadata": {},
   "outputs": [
    {
     "data": {
      "text/html": [
       "<div>\n",
       "<style scoped>\n",
       "    .dataframe tbody tr th:only-of-type {\n",
       "        vertical-align: middle;\n",
       "    }\n",
       "\n",
       "    .dataframe tbody tr th {\n",
       "        vertical-align: top;\n",
       "    }\n",
       "\n",
       "    .dataframe thead th {\n",
       "        text-align: right;\n",
       "    }\n",
       "</style>\n",
       "<table border=\"1\" class=\"dataframe\">\n",
       "  <thead>\n",
       "    <tr style=\"text-align: right;\">\n",
       "      <th></th>\n",
       "      <th>사무유형(대분류)</th>\n",
       "      <th>사무유형(대분류) 예측</th>\n",
       "      <th>비사무 확률</th>\n",
       "      <th>국가 확률</th>\n",
       "      <th>지방 확률</th>\n",
       "      <th>공동 확률</th>\n",
       "    </tr>\n",
       "  </thead>\n",
       "  <tbody>\n",
       "    <tr>\n",
       "      <th>0</th>\n",
       "      <td>0</td>\n",
       "      <td>0</td>\n",
       "      <td>0.63346</td>\n",
       "      <td>0.15598</td>\n",
       "      <td>0.10317</td>\n",
       "      <td>0.10739</td>\n",
       "    </tr>\n",
       "    <tr>\n",
       "      <th>2</th>\n",
       "      <td>0</td>\n",
       "      <td>0</td>\n",
       "      <td>0.48013</td>\n",
       "      <td>0.20462</td>\n",
       "      <td>0.15528</td>\n",
       "      <td>0.15997</td>\n",
       "    </tr>\n",
       "    <tr>\n",
       "      <th>5</th>\n",
       "      <td>0</td>\n",
       "      <td>2</td>\n",
       "      <td>0.26985</td>\n",
       "      <td>0.17593</td>\n",
       "      <td>0.36356</td>\n",
       "      <td>0.19066</td>\n",
       "    </tr>\n",
       "    <tr>\n",
       "      <th>6</th>\n",
       "      <td>0</td>\n",
       "      <td>0</td>\n",
       "      <td>0.50363</td>\n",
       "      <td>0.19602</td>\n",
       "      <td>0.12904</td>\n",
       "      <td>0.17131</td>\n",
       "    </tr>\n",
       "    <tr>\n",
       "      <th>7</th>\n",
       "      <td>0</td>\n",
       "      <td>0</td>\n",
       "      <td>0.69282</td>\n",
       "      <td>0.16199</td>\n",
       "      <td>0.07278</td>\n",
       "      <td>0.07241</td>\n",
       "    </tr>\n",
       "    <tr>\n",
       "      <th>...</th>\n",
       "      <td>...</td>\n",
       "      <td>...</td>\n",
       "      <td>...</td>\n",
       "      <td>...</td>\n",
       "      <td>...</td>\n",
       "      <td>...</td>\n",
       "    </tr>\n",
       "    <tr>\n",
       "      <th>169604</th>\n",
       "      <td>0</td>\n",
       "      <td>1</td>\n",
       "      <td>0.28120</td>\n",
       "      <td>0.33264</td>\n",
       "      <td>0.13306</td>\n",
       "      <td>0.25310</td>\n",
       "    </tr>\n",
       "    <tr>\n",
       "      <th>169608</th>\n",
       "      <td>0</td>\n",
       "      <td>0</td>\n",
       "      <td>0.68230</td>\n",
       "      <td>0.15938</td>\n",
       "      <td>0.05950</td>\n",
       "      <td>0.09883</td>\n",
       "    </tr>\n",
       "    <tr>\n",
       "      <th>169609</th>\n",
       "      <td>0</td>\n",
       "      <td>0</td>\n",
       "      <td>0.32767</td>\n",
       "      <td>0.28323</td>\n",
       "      <td>0.20375</td>\n",
       "      <td>0.18534</td>\n",
       "    </tr>\n",
       "    <tr>\n",
       "      <th>169611</th>\n",
       "      <td>0</td>\n",
       "      <td>0</td>\n",
       "      <td>0.35931</td>\n",
       "      <td>0.29082</td>\n",
       "      <td>0.15507</td>\n",
       "      <td>0.19480</td>\n",
       "    </tr>\n",
       "    <tr>\n",
       "      <th>169612</th>\n",
       "      <td>0</td>\n",
       "      <td>0</td>\n",
       "      <td>0.65266</td>\n",
       "      <td>0.19232</td>\n",
       "      <td>0.04441</td>\n",
       "      <td>0.11061</td>\n",
       "    </tr>\n",
       "  </tbody>\n",
       "</table>\n",
       "<p>65506 rows × 6 columns</p>\n",
       "</div>"
      ],
      "text/plain": [
       "        사무유형(대분류)  사무유형(대분류) 예측   비사무 확률    국가 확률    지방 확률    공동 확률\n",
       "0               0             0  0.63346  0.15598  0.10317  0.10739\n",
       "2               0             0  0.48013  0.20462  0.15528  0.15997\n",
       "5               0             2  0.26985  0.17593  0.36356  0.19066\n",
       "6               0             0  0.50363  0.19602  0.12904  0.17131\n",
       "7               0             0  0.69282  0.16199  0.07278  0.07241\n",
       "...           ...           ...      ...      ...      ...      ...\n",
       "169604          0             1  0.28120  0.33264  0.13306  0.25310\n",
       "169608          0             0  0.68230  0.15938  0.05950  0.09883\n",
       "169609          0             0  0.32767  0.28323  0.20375  0.18534\n",
       "169611          0             0  0.35931  0.29082  0.15507  0.19480\n",
       "169612          0             0  0.65266  0.19232  0.04441  0.11061\n",
       "\n",
       "[65506 rows x 6 columns]"
      ]
     },
     "execution_count": 30,
     "metadata": {},
     "output_type": "execute_result"
    }
   ],
   "source": [
    "encoder_result_df"
   ]
  },
  {
   "cell_type": "code",
   "execution_count": 31,
   "id": "a419f967",
   "metadata": {},
   "outputs": [
    {
     "name": "stdout",
     "output_type": "stream",
     "text": [
      "혼동행렬\n",
      "[[38621 11633  4153   745]\n",
      " [ 3980  2402   706   116]\n",
      " [  756   594   409    43]\n",
      " [  646   436   220    46]]\n",
      "정확도: 0.6331939059017495\n",
      "Classification Report:\n",
      "              precision    recall  f1-score   support\n",
      "\n",
      "           0       0.88      0.70      0.78     55152\n",
      "           1       0.16      0.33      0.22      7204\n",
      "           2       0.07      0.23      0.11      1802\n",
      "           3       0.05      0.03      0.04      1348\n",
      "\n",
      "    accuracy                           0.63     65506\n",
      "   macro avg       0.29      0.32      0.29     65506\n",
      "weighted avg       0.76      0.63      0.68     65506\n",
      "\n"
     ]
    },
    {
     "data": {
      "text/plain": [
       "array([[38621, 11633,  4153,   745],\n",
       "       [ 3980,  2402,   706,   116],\n",
       "       [  756,   594,   409,    43],\n",
       "       [  646,   436,   220,    46]])"
      ]
     },
     "execution_count": 31,
     "metadata": {},
     "output_type": "execute_result"
    }
   ],
   "source": [
    "# 결과 확인\n",
    "cal_result2(encoder_result_df['사무유형(대분류) 예측'], encoder_result_df['사무유형(대분류)'])"
   ]
  },
  {
   "cell_type": "markdown",
   "id": "bfd094b4",
   "metadata": {},
   "source": [
    "## Random Forest"
   ]
  },
  {
   "cell_type": "code",
   "execution_count": 32,
   "id": "a29add8d",
   "metadata": {},
   "outputs": [],
   "source": [
    "rf_2_filtered_df = first_filtered_df.copy()"
   ]
  },
  {
   "cell_type": "code",
   "execution_count": 33,
   "id": "20dbcd71",
   "metadata": {},
   "outputs": [],
   "source": [
    "# RF 모델 불러오기\n",
    "with open('pickles/rf_model_f2_80.pkl', 'rb') as file:\n",
    "    model_2_rf = pickle.load(file)"
   ]
  },
  {
   "cell_type": "code",
   "execution_count": 34,
   "id": "5aa0afe8",
   "metadata": {},
   "outputs": [
    {
     "data": {
      "text/html": [
       "<div>\n",
       "<style scoped>\n",
       "    .dataframe tbody tr th:only-of-type {\n",
       "        vertical-align: middle;\n",
       "    }\n",
       "\n",
       "    .dataframe tbody tr th {\n",
       "        vertical-align: top;\n",
       "    }\n",
       "\n",
       "    .dataframe thead th {\n",
       "        text-align: right;\n",
       "    }\n",
       "</style>\n",
       "<table border=\"1\" class=\"dataframe\">\n",
       "  <thead>\n",
       "    <tr style=\"text-align: right;\">\n",
       "      <th></th>\n",
       "      <th>법령명</th>\n",
       "      <th>조문제목</th>\n",
       "      <th>조문</th>\n",
       "      <th>사무판단</th>\n",
       "      <th>사무유형(대분류)</th>\n",
       "      <th>rule_based</th>\n",
       "      <th>사무판단 예측</th>\n",
       "      <th>사무판단 예측확률</th>\n",
       "      <th>수행주체(리스트)</th>\n",
       "      <th>수행주체(문자열)</th>\n",
       "    </tr>\n",
       "  </thead>\n",
       "  <tbody>\n",
       "    <tr>\n",
       "      <th>0</th>\n",
       "      <td>환경영향평가법 시행규칙</td>\n",
       "      <td>규제의 재검토</td>\n",
       "      <td>② 환경부장관은 다음 각 호의 사항에 대하여 해당 호에 해당하는 날을 기준으로 2년...</td>\n",
       "      <td>0</td>\n",
       "      <td>0</td>\n",
       "      <td>1</td>\n",
       "      <td>1</td>\n",
       "      <td>0.70103</td>\n",
       "      <td>[장관, 환경부]</td>\n",
       "      <td>장관 환경부</td>\n",
       "    </tr>\n",
       "  </tbody>\n",
       "</table>\n",
       "</div>"
      ],
      "text/plain": [
       "            법령명     조문제목                                                 조문  \\\n",
       "0  환경영향평가법 시행규칙  규제의 재검토  ② 환경부장관은 다음 각 호의 사항에 대하여 해당 호에 해당하는 날을 기준으로 2년...   \n",
       "\n",
       "   사무판단  사무유형(대분류)  rule_based  사무판단 예측  사무판단 예측확률  수행주체(리스트) 수행주체(문자열)  \n",
       "0     0          0           1        1    0.70103  [장관, 환경부]    장관 환경부  "
      ]
     },
     "execution_count": 34,
     "metadata": {},
     "output_type": "execute_result"
    }
   ],
   "source": [
    "rf_2_filtered_df.head(1)"
   ]
  },
  {
   "cell_type": "code",
   "execution_count": 35,
   "id": "04f4c9ba",
   "metadata": {},
   "outputs": [],
   "source": [
    "# 법령명 통합\n",
    "rf_2_filtered_df['법령명'] = rf_2_filtered_df['법령명'].apply(lambda x: re.sub(r'\\s?시행령|\\s?시행규칙', '', x))"
   ]
  },
  {
   "cell_type": "code",
   "execution_count": 36,
   "id": "08720889",
   "metadata": {},
   "outputs": [],
   "source": [
    "# 새로운 컬럼을 이용하기 위한 수행주체 count dictionary\n",
    "with open('pickles/subject_dic_f2_80.pkl', 'rb') as file:\n",
    "    subject_dic = pickle.load(file)"
   ]
  },
  {
   "cell_type": "code",
   "execution_count": 37,
   "id": "8c8ef009",
   "metadata": {},
   "outputs": [
    {
     "name": "stderr",
     "output_type": "stream",
     "text": [
      "Processing rows: 100%|██████████████████| 65506/65506 [00:11<00:00, 5702.20it/s]\n"
     ]
    }
   ],
   "source": [
    "# 수행주체 기준 새로운 열 생성\n",
    "rf_2_filtered_df = f.score_subject(rf_2_filtered_df,subject_dic,tqdm)"
   ]
  },
  {
   "cell_type": "code",
   "execution_count": 38,
   "id": "feb2b581",
   "metadata": {},
   "outputs": [],
   "source": [
    "select_column = ['법령명', 'score_subject_nan', 'score_subject_n', 'score_subject_r', 'score_subject_p']\n",
    "rf_2_filtered_label = rf_2_filtered_df['사무유형(대분류)']\n",
    "rf_2_filtered_input = rf_2_filtered_df[select_column]"
   ]
  },
  {
   "cell_type": "code",
   "execution_count": 39,
   "id": "1ada9f90",
   "metadata": {},
   "outputs": [
    {
     "name": "stderr",
     "output_type": "stream",
     "text": [
      "/var/folders/zr/_f1rgf8n0w3541q9k8p3smhr0000gn/T/ipykernel_65694/253750670.py:3: SettingWithCopyWarning: \n",
      "A value is trying to be set on a copy of a slice from a DataFrame.\n",
      "Try using .loc[row_indexer,col_indexer] = value instead\n",
      "\n",
      "See the caveats in the documentation: https://pandas.pydata.org/pandas-docs/stable/user_guide/indexing.html#returning-a-view-versus-a-copy\n",
      "  rf_2_filtered_input['법령명'] = le.fit_transform(rf_2_filtered_input['법령명']) # train set에는 fit_transform\n"
     ]
    }
   ],
   "source": [
    "# '법령명' label encoding 진행\n",
    "le = LabelEncoder()\n",
    "rf_2_filtered_input['법령명'] = le.fit_transform(rf_2_filtered_input['법령명']) # train set에는 fit_transform"
   ]
  },
  {
   "cell_type": "code",
   "execution_count": 40,
   "id": "bca8bc69",
   "metadata": {},
   "outputs": [],
   "source": [
    "# rf 결과 추출\n",
    "y_pred_rf = model_2_rf.predict(rf_2_filtered_input)\n",
    "y_prob_rf = model_2_rf.predict_proba(rf_2_filtered_input)"
   ]
  },
  {
   "cell_type": "code",
   "execution_count": 41,
   "id": "9ac57434",
   "metadata": {},
   "outputs": [],
   "source": [
    "# rf 결과 데이터프레임 생성\n",
    "rf_probs = pd.DataFrame(y_prob_rf)\n",
    "rf_probs = rf_probs.set_index(first_filtered_df.index)\n",
    "\n",
    "rf_result_df = f.make_result_df(pd, rf_2_filtered_label, y_pred_rf, rf_probs[0], rf_probs[1], rf_probs[2], rf_probs[3])"
   ]
  },
  {
   "cell_type": "code",
   "execution_count": 42,
   "id": "f9ad411a",
   "metadata": {},
   "outputs": [
    {
     "name": "stdout",
     "output_type": "stream",
     "text": [
      "혼동행렬\n",
      "[[50505  3373   749   525]\n",
      " [ 1978  5167    16    43]\n",
      " [  555    16  1222     9]\n",
      " [  390    20     4   934]]\n",
      "정확도: 0.8827893628064605\n",
      "Classification Report:\n",
      "              precision    recall  f1-score   support\n",
      "\n",
      "           0       0.95      0.92      0.93     55152\n",
      "           1       0.60      0.72      0.65      7204\n",
      "           2       0.61      0.68      0.64      1802\n",
      "           3       0.62      0.69      0.65      1348\n",
      "\n",
      "    accuracy                           0.88     65506\n",
      "   macro avg       0.69      0.75      0.72     65506\n",
      "weighted avg       0.89      0.88      0.89     65506\n",
      "\n"
     ]
    },
    {
     "data": {
      "text/plain": [
       "array([[50505,  3373,   749,   525],\n",
       "       [ 1978,  5167,    16,    43],\n",
       "       [  555,    16,  1222,     9],\n",
       "       [  390,    20,     4,   934]])"
      ]
     },
     "execution_count": 42,
     "metadata": {},
     "output_type": "execute_result"
    }
   ],
   "source": [
    "# rf 결과 확인\n",
    "cal_result2(rf_result_df['사무유형(대분류) 예측'], rf_result_df['사무유형(대분류)'])"
   ]
  },
  {
   "cell_type": "markdown",
   "id": "6fa76b63",
   "metadata": {},
   "source": [
    "## Ensemble"
   ]
  },
  {
   "cell_type": "code",
   "execution_count": 43,
   "id": "fc888f5f",
   "metadata": {},
   "outputs": [],
   "source": [
    "pred = [0]*len(y_prob_rf)\n",
    "e_prob0 = (rf_result_df['비사무 확률'] + encoder_result_df['비사무 확률'])/2\n",
    "e_prob1 = (rf_result_df['국가 확률'] + encoder_result_df['국가 확률'])/2\n",
    "e_prob2 = (rf_result_df['지방 확률'] + encoder_result_df['지방 확률'])/2\n",
    "e_prob3 = (rf_result_df['공동 확률'] + encoder_result_df['공동 확률'])/2\n",
    "\n",
    "ensemble_result_df_11 = f.make_result_df(pd, rf_2_filtered_label, pred, e_prob0, e_prob1, e_prob2, e_prob3)\n",
    "ensemble_result_df_11['수행주체(리스트)'] = rf_2_filtered_df['수행주체(리스트)']"
   ]
  },
  {
   "cell_type": "code",
   "execution_count": 44,
   "id": "42108fb5",
   "metadata": {},
   "outputs": [],
   "source": [
    "# 앙상블 사무유형 판단 저장\n",
    "ensemble_result_df_11 = f.make_ensemble_pred(ensemble_result_df_11)\n",
    "ensemble_result_df_11['사무유형(대분류) 예측'] = ensemble_result_df_11['사무유형(대분류) 예측'].astype(int)\n",
    "ensemble_result_df_11['rule_based'] = first_filtered_df['rule_based']"
   ]
  },
  {
   "cell_type": "code",
   "execution_count": 45,
   "id": "fd810908",
   "metadata": {},
   "outputs": [
    {
     "name": "stdout",
     "output_type": "stream",
     "text": [
      "혼동행렬\n",
      "[[51375  2845   536   396]\n",
      " [ 2342  4816    10    36]\n",
      " [  673    14  1105    10]\n",
      " [  470    20     4   854]]\n",
      "정확도: 0.8877049430586511\n",
      "Classification Report:\n",
      "              precision    recall  f1-score   support\n",
      "\n",
      "           0       0.94      0.93      0.93     55152\n",
      "           1       0.63      0.67      0.65      7204\n",
      "           2       0.67      0.61      0.64      1802\n",
      "           3       0.66      0.63      0.65      1348\n",
      "\n",
      "    accuracy                           0.89     65506\n",
      "   macro avg       0.72      0.71      0.72     65506\n",
      "weighted avg       0.89      0.89      0.89     65506\n",
      "\n"
     ]
    },
    {
     "data": {
      "text/plain": [
       "array([[51375,  2845,   536,   396],\n",
       "       [ 2342,  4816,    10,    36],\n",
       "       [  673,    14,  1105,    10],\n",
       "       [  470,    20,     4,   854]])"
      ]
     },
     "execution_count": 45,
     "metadata": {},
     "output_type": "execute_result"
    }
   ],
   "source": [
    "# 앙살블 결과 확인\n",
    "cal_result2(ensemble_result_df_11['사무유형(대분류) 예측'], ensemble_result_df_11['사무유형(대분류)'])"
   ]
  },
  {
   "cell_type": "code",
   "execution_count": 46,
   "id": "5273616b",
   "metadata": {},
   "outputs": [],
   "source": [
    "# 확실/주의 나누기 [확실: need_to_check = 0 / 주의: need_to_check = 1]\n",
    "ensemble_result_df_11, good_df, bad_df = f.make_need_to_check(ensemble_result_df_11,\n",
    "                                                           rf_result_df, encoder_result_df)"
   ]
  },
  {
   "cell_type": "code",
   "execution_count": 47,
   "id": "5a7a638d",
   "metadata": {},
   "outputs": [
    {
     "data": {
      "text/html": [
       "<div>\n",
       "<style scoped>\n",
       "    .dataframe tbody tr th:only-of-type {\n",
       "        vertical-align: middle;\n",
       "    }\n",
       "\n",
       "    .dataframe tbody tr th {\n",
       "        vertical-align: top;\n",
       "    }\n",
       "\n",
       "    .dataframe thead th {\n",
       "        text-align: right;\n",
       "    }\n",
       "</style>\n",
       "<table border=\"1\" class=\"dataframe\">\n",
       "  <thead>\n",
       "    <tr style=\"text-align: right;\">\n",
       "      <th></th>\n",
       "      <th>사무유형(대분류)</th>\n",
       "      <th>사무유형(대분류) 예측</th>\n",
       "      <th>비사무 확률</th>\n",
       "      <th>국가 확률</th>\n",
       "      <th>지방 확률</th>\n",
       "      <th>공동 확률</th>\n",
       "      <th>수행주체(리스트)</th>\n",
       "      <th>rule_based</th>\n",
       "      <th>need_to_check</th>\n",
       "    </tr>\n",
       "  </thead>\n",
       "  <tbody>\n",
       "    <tr>\n",
       "      <th>0</th>\n",
       "      <td>0</td>\n",
       "      <td>0</td>\n",
       "      <td>0.58967</td>\n",
       "      <td>0.30005</td>\n",
       "      <td>0.05159</td>\n",
       "      <td>0.0587</td>\n",
       "      <td>[장관, 환경부]</td>\n",
       "      <td>1</td>\n",
       "      <td>0</td>\n",
       "    </tr>\n",
       "  </tbody>\n",
       "</table>\n",
       "</div>"
      ],
      "text/plain": [
       "   사무유형(대분류)  사무유형(대분류) 예측   비사무 확률    국가 확률    지방 확률   공동 확률  수행주체(리스트)  \\\n",
       "0          0             0  0.58967  0.30005  0.05159  0.0587  [장관, 환경부]   \n",
       "\n",
       "   rule_based  need_to_check  \n",
       "0           1              0  "
      ]
     },
     "execution_count": 47,
     "metadata": {},
     "output_type": "execute_result"
    }
   ],
   "source": [
    "ensemble_result_df_11.head(1)"
   ]
  },
  {
   "cell_type": "code",
   "execution_count": 48,
   "id": "bb24e0df",
   "metadata": {},
   "outputs": [
    {
     "name": "stdout",
     "output_type": "stream",
     "text": [
      "혼동행렬\n",
      "[[35634   933    75    15]\n",
      " [ 1202  1816     0     0]\n",
      " [  271     5   304     0]\n",
      " [  210     6     0    37]]\n",
      "정확도: 0.9329268292682927\n",
      "Classification Report:\n",
      "              precision    recall  f1-score   support\n",
      "\n",
      "           0       0.95      0.97      0.96     36657\n",
      "           1       0.66      0.60      0.63      3018\n",
      "           2       0.80      0.52      0.63       580\n",
      "           3       0.71      0.15      0.24       253\n",
      "\n",
      "    accuracy                           0.93     40508\n",
      "   macro avg       0.78      0.56      0.62     40508\n",
      "weighted avg       0.93      0.93      0.93     40508\n",
      "\n"
     ]
    },
    {
     "data": {
      "text/plain": [
       "array([[35634,   933,    75,    15],\n",
       "       [ 1202,  1816,     0,     0],\n",
       "       [  271,     5,   304,     0],\n",
       "       [  210,     6,     0,    37]])"
      ]
     },
     "execution_count": 48,
     "metadata": {},
     "output_type": "execute_result"
    }
   ],
   "source": [
    "# 확실 결과\n",
    "cal_result2(good_df['사무유형(대분류) 예측'].tolist(), good_df['사무유형(대분류)'].tolist())"
   ]
  },
  {
   "cell_type": "code",
   "execution_count": 49,
   "id": "aed3847a",
   "metadata": {},
   "outputs": [
    {
     "name": "stdout",
     "output_type": "stream",
     "text": [
      "혼동행렬\n",
      "[[15741  1912   461   381]\n",
      " [ 1140  3000    10    36]\n",
      " [  402     9   801    10]\n",
      " [  260    14     4   817]]\n",
      "정확도: 0.814425154012321\n",
      "Classification Report:\n",
      "              precision    recall  f1-score   support\n",
      "\n",
      "           0       0.90      0.85      0.87     18495\n",
      "           1       0.61      0.72      0.66      4186\n",
      "           2       0.63      0.66      0.64      1222\n",
      "           3       0.66      0.75      0.70      1095\n",
      "\n",
      "    accuracy                           0.81     24998\n",
      "   macro avg       0.70      0.74      0.72     24998\n",
      "weighted avg       0.83      0.81      0.82     24998\n",
      "\n"
     ]
    },
    {
     "data": {
      "text/plain": [
       "array([[15741,  1912,   461,   381],\n",
       "       [ 1140,  3000,    10,    36],\n",
       "       [  402,     9,   801,    10],\n",
       "       [  260,    14,     4,   817]])"
      ]
     },
     "execution_count": 49,
     "metadata": {},
     "output_type": "execute_result"
    }
   ],
   "source": [
    "# 애매 결과\n",
    "cal_result2(bad_df['사무유형(대분류) 예측'].tolist(), bad_df['사무유형(대분류)'].tolist())"
   ]
  },
  {
   "cell_type": "markdown",
   "id": "2e344a8e",
   "metadata": {},
   "source": [
    "## 2차 filter 결과 저장"
   ]
  },
  {
   "cell_type": "code",
   "execution_count": 50,
   "id": "bdc953d1",
   "metadata": {},
   "outputs": [],
   "source": [
    "sencond_filtered_df = ensemble_result_df_11.copy()   # 2차 필터 결과 저장"
   ]
  },
  {
   "cell_type": "code",
   "execution_count": 51,
   "id": "767a9555",
   "metadata": {},
   "outputs": [
    {
     "name": "stdout",
     "output_type": "stream",
     "text": [
      "혼동행렬\n",
      "[[51375  2845   536   396]\n",
      " [ 2342  4816    10    36]\n",
      " [  673    14  1105    10]\n",
      " [  470    20     4   854]]\n",
      "정확도: 0.8877049430586511\n",
      "Classification Report:\n",
      "              precision    recall  f1-score   support\n",
      "\n",
      "           0       0.94      0.93      0.93     55152\n",
      "           1       0.63      0.67      0.65      7204\n",
      "           2       0.67      0.61      0.64      1802\n",
      "           3       0.66      0.63      0.65      1348\n",
      "\n",
      "    accuracy                           0.89     65506\n",
      "   macro avg       0.72      0.71      0.72     65506\n",
      "weighted avg       0.89      0.89      0.89     65506\n",
      "\n"
     ]
    },
    {
     "data": {
      "text/plain": [
       "array([[51375,  2845,   536,   396],\n",
       "       [ 2342,  4816,    10,    36],\n",
       "       [  673,    14,  1105,    10],\n",
       "       [  470,    20,     4,   854]])"
      ]
     },
     "execution_count": 51,
     "metadata": {},
     "output_type": "execute_result"
    }
   ],
   "source": [
    "# 2차 filter 결과 확인\n",
    "cal_result2(sencond_filtered_df['사무유형(대분류) 예측'], sencond_filtered_df['사무유형(대분류)'])"
   ]
  },
  {
   "cell_type": "code",
   "execution_count": 52,
   "id": "72c61a97",
   "metadata": {},
   "outputs": [
    {
     "name": "stdout",
     "output_type": "stream",
     "text": [
      "주의 사무 개수: 24998\n",
      "주의에서 틀린 개수: 4639\n",
      "주의에서 맞은 개수: 20359\n",
      "------------------\n",
      "확실 사무 개수: 40508\n",
      "확실에서 틀린 개수: 2717\n",
      "확실에서 맞은 개수: 37791\n",
      "============\n",
      "확실 정확도: 0.9329268292682927\n",
      "애매 정확도: 0.814425154012321\n"
     ]
    }
   ],
   "source": [
    "# 2차 filter (확실/주의)결과 확인\n",
    "h_ratio, j_ratio = f.check_result(sencond_filtered_df)"
   ]
  },
  {
   "cell_type": "code",
   "execution_count": 53,
   "id": "5dc41d8b",
   "metadata": {},
   "outputs": [
    {
     "data": {
      "text/html": [
       "<div>\n",
       "<style scoped>\n",
       "    .dataframe tbody tr th:only-of-type {\n",
       "        vertical-align: middle;\n",
       "    }\n",
       "\n",
       "    .dataframe tbody tr th {\n",
       "        vertical-align: top;\n",
       "    }\n",
       "\n",
       "    .dataframe thead th {\n",
       "        text-align: right;\n",
       "    }\n",
       "</style>\n",
       "<table border=\"1\" class=\"dataframe\">\n",
       "  <thead>\n",
       "    <tr style=\"text-align: right;\">\n",
       "      <th></th>\n",
       "      <th>사무유형(대분류)</th>\n",
       "      <th>사무유형(대분류) 예측</th>\n",
       "      <th>비사무 확률</th>\n",
       "      <th>국가 확률</th>\n",
       "      <th>지방 확률</th>\n",
       "      <th>공동 확률</th>\n",
       "      <th>수행주체(리스트)</th>\n",
       "      <th>rule_based</th>\n",
       "      <th>need_to_check</th>\n",
       "    </tr>\n",
       "  </thead>\n",
       "  <tbody>\n",
       "    <tr>\n",
       "      <th>0</th>\n",
       "      <td>0</td>\n",
       "      <td>0</td>\n",
       "      <td>0.58967</td>\n",
       "      <td>0.30005</td>\n",
       "      <td>0.05159</td>\n",
       "      <td>0.0587</td>\n",
       "      <td>[장관, 환경부]</td>\n",
       "      <td>1</td>\n",
       "      <td>0</td>\n",
       "    </tr>\n",
       "  </tbody>\n",
       "</table>\n",
       "</div>"
      ],
      "text/plain": [
       "   사무유형(대분류)  사무유형(대분류) 예측   비사무 확률    국가 확률    지방 확률   공동 확률  수행주체(리스트)  \\\n",
       "0          0             0  0.58967  0.30005  0.05159  0.0587  [장관, 환경부]   \n",
       "\n",
       "   rule_based  need_to_check  \n",
       "0           1              0  "
      ]
     },
     "execution_count": 53,
     "metadata": {},
     "output_type": "execute_result"
    }
   ],
   "source": [
    "sencond_filtered_df.head(1)"
   ]
  },
  {
   "cell_type": "code",
   "execution_count": 54,
   "id": "900e1ce5",
   "metadata": {},
   "outputs": [
    {
     "data": {
      "text/html": [
       "<div>\n",
       "<style scoped>\n",
       "    .dataframe tbody tr th:only-of-type {\n",
       "        vertical-align: middle;\n",
       "    }\n",
       "\n",
       "    .dataframe tbody tr th {\n",
       "        vertical-align: top;\n",
       "    }\n",
       "\n",
       "    .dataframe thead th {\n",
       "        text-align: right;\n",
       "    }\n",
       "</style>\n",
       "<table border=\"1\" class=\"dataframe\">\n",
       "  <thead>\n",
       "    <tr style=\"text-align: right;\">\n",
       "      <th></th>\n",
       "      <th>법령명</th>\n",
       "      <th>조문제목</th>\n",
       "      <th>조문</th>\n",
       "      <th>사무판단</th>\n",
       "      <th>사무유형(대분류)</th>\n",
       "      <th>rule_based</th>\n",
       "      <th>사무판단 예측</th>\n",
       "      <th>사무판단 예측확률</th>\n",
       "    </tr>\n",
       "  </thead>\n",
       "  <tbody>\n",
       "    <tr>\n",
       "      <th>0</th>\n",
       "      <td>환경영향평가법 시행규칙</td>\n",
       "      <td>규제의 재검토</td>\n",
       "      <td>② 환경부장관은 다음 각 호의 사항에 대하여 해당 호에 해당하는 날을 기준으로 2년...</td>\n",
       "      <td>0</td>\n",
       "      <td>0</td>\n",
       "      <td>1</td>\n",
       "      <td>1</td>\n",
       "      <td>0.70103</td>\n",
       "    </tr>\n",
       "  </tbody>\n",
       "</table>\n",
       "</div>"
      ],
      "text/plain": [
       "            법령명     조문제목                                                 조문  \\\n",
       "0  환경영향평가법 시행규칙  규제의 재검토  ② 환경부장관은 다음 각 호의 사항에 대하여 해당 호에 해당하는 날을 기준으로 2년...   \n",
       "\n",
       "   사무판단  사무유형(대분류)  rule_based  사무판단 예측  사무판단 예측확률  \n",
       "0     0          0           1        1    0.70103  "
      ]
     },
     "execution_count": 54,
     "metadata": {},
     "output_type": "execute_result"
    }
   ],
   "source": [
    "sub_df.head(1)"
   ]
  },
  {
   "cell_type": "code",
   "execution_count": 55,
   "id": "7a5095ba",
   "metadata": {},
   "outputs": [
    {
     "data": {
      "text/html": [
       "<div>\n",
       "<style scoped>\n",
       "    .dataframe tbody tr th:only-of-type {\n",
       "        vertical-align: middle;\n",
       "    }\n",
       "\n",
       "    .dataframe tbody tr th {\n",
       "        vertical-align: top;\n",
       "    }\n",
       "\n",
       "    .dataframe thead th {\n",
       "        text-align: right;\n",
       "    }\n",
       "</style>\n",
       "<table border=\"1\" class=\"dataframe\">\n",
       "  <thead>\n",
       "    <tr style=\"text-align: right;\">\n",
       "      <th></th>\n",
       "      <th>법령명</th>\n",
       "      <th>조문제목</th>\n",
       "      <th>조문</th>\n",
       "      <th>사무판단</th>\n",
       "      <th>사무유형(대분류)</th>\n",
       "      <th>rule_based</th>\n",
       "      <th>사무판단 예측</th>\n",
       "      <th>사무판단 예측확률</th>\n",
       "      <th>수행주체</th>\n",
       "      <th>사무유형(대분류) 결과</th>\n",
       "      <th>비사무 확률</th>\n",
       "      <th>국가 확률</th>\n",
       "      <th>지방 확률</th>\n",
       "      <th>공동 확률</th>\n",
       "      <th>need_to_check</th>\n",
       "    </tr>\n",
       "  </thead>\n",
       "  <tbody>\n",
       "    <tr>\n",
       "      <th>0</th>\n",
       "      <td>환경영향평가법 시행규칙</td>\n",
       "      <td>규제의 재검토</td>\n",
       "      <td>② 환경부장관은 다음 각 호의 사항에 대하여 해당 호에 해당하는 날을 기준으로 2년...</td>\n",
       "      <td>0</td>\n",
       "      <td>0</td>\n",
       "      <td>1.0</td>\n",
       "      <td>1</td>\n",
       "      <td>0.70103</td>\n",
       "      <td>[장관, 환경부]</td>\n",
       "      <td>0</td>\n",
       "      <td>0.58967</td>\n",
       "      <td>0.30005</td>\n",
       "      <td>0.05159</td>\n",
       "      <td>0.05870</td>\n",
       "      <td>0</td>\n",
       "    </tr>\n",
       "    <tr>\n",
       "      <th>1</th>\n",
       "      <td>도서관법</td>\n",
       "      <td>자격취소</td>\n",
       "      <td>2. 제6조제3항에 따라 발급받은 자격증을 다른 사람에게 대여한 경우</td>\n",
       "      <td>0</td>\n",
       "      <td>0</td>\n",
       "      <td>0.0</td>\n",
       "      <td>0</td>\n",
       "      <td>0.01952</td>\n",
       "      <td></td>\n",
       "      <td>0</td>\n",
       "      <td>0.00000</td>\n",
       "      <td>0.00000</td>\n",
       "      <td>0.00000</td>\n",
       "      <td>0.00000</td>\n",
       "      <td>0</td>\n",
       "    </tr>\n",
       "    <tr>\n",
       "      <th>2</th>\n",
       "      <td>장애인복지법 시행규칙</td>\n",
       "      <td>장애인자립생활지원센터의 운영기준</td>\n",
       "      <td>자립생활센터는 조직 운영, 사업 수행, 재정 확보, 운용 등에 대해 객관적으로 평가...</td>\n",
       "      <td>0</td>\n",
       "      <td>0</td>\n",
       "      <td>1.0</td>\n",
       "      <td>1</td>\n",
       "      <td>0.58506</td>\n",
       "      <td>[관리, 센터]</td>\n",
       "      <td>0</td>\n",
       "      <td>0.73506</td>\n",
       "      <td>0.10731</td>\n",
       "      <td>0.07764</td>\n",
       "      <td>0.07999</td>\n",
       "      <td>0</td>\n",
       "    </tr>\n",
       "    <tr>\n",
       "      <th>3</th>\n",
       "      <td>건설기술 진흥법</td>\n",
       "      <td>건설공사 지원 통합정보체계의 구축</td>\n",
       "      <td>5. 건설공사 지원 통합정보체계를 이용한 정보의 공동활용 촉진</td>\n",
       "      <td>0</td>\n",
       "      <td>0</td>\n",
       "      <td>0.0</td>\n",
       "      <td>0</td>\n",
       "      <td>0.04686</td>\n",
       "      <td></td>\n",
       "      <td>0</td>\n",
       "      <td>0.00000</td>\n",
       "      <td>0.00000</td>\n",
       "      <td>0.00000</td>\n",
       "      <td>0.00000</td>\n",
       "      <td>0</td>\n",
       "    </tr>\n",
       "    <tr>\n",
       "      <th>4</th>\n",
       "      <td>농수산물 유통 및 가격안정에 관한 법률 시행령</td>\n",
       "      <td>도매시장법인의 겸영사업의 제한</td>\n",
       "      <td>2. 제2차 위반: 1개월 금지</td>\n",
       "      <td>0</td>\n",
       "      <td>0</td>\n",
       "      <td>0.0</td>\n",
       "      <td>0</td>\n",
       "      <td>0.01003</td>\n",
       "      <td></td>\n",
       "      <td>0</td>\n",
       "      <td>0.00000</td>\n",
       "      <td>0.00000</td>\n",
       "      <td>0.00000</td>\n",
       "      <td>0.00000</td>\n",
       "      <td>0</td>\n",
       "    </tr>\n",
       "    <tr>\n",
       "      <th>...</th>\n",
       "      <td>...</td>\n",
       "      <td>...</td>\n",
       "      <td>...</td>\n",
       "      <td>...</td>\n",
       "      <td>...</td>\n",
       "      <td>...</td>\n",
       "      <td>...</td>\n",
       "      <td>...</td>\n",
       "      <td>...</td>\n",
       "      <td>...</td>\n",
       "      <td>...</td>\n",
       "      <td>...</td>\n",
       "      <td>...</td>\n",
       "      <td>...</td>\n",
       "      <td>...</td>\n",
       "    </tr>\n",
       "    <tr>\n",
       "      <th>169610</th>\n",
       "      <td>언론중재 및 피해구제 등에 관한 법률</td>\n",
       "      <td>사망자의 인격권 보호</td>\n",
       "      <td>① 제5조제1항의 타인에는 사망한 사람을 포함한다.</td>\n",
       "      <td>0</td>\n",
       "      <td>0</td>\n",
       "      <td>0.0</td>\n",
       "      <td>0</td>\n",
       "      <td>0.09550</td>\n",
       "      <td></td>\n",
       "      <td>0</td>\n",
       "      <td>0.00000</td>\n",
       "      <td>0.00000</td>\n",
       "      <td>0.00000</td>\n",
       "      <td>0.00000</td>\n",
       "      <td>0</td>\n",
       "    </tr>\n",
       "    <tr>\n",
       "      <th>169611</th>\n",
       "      <td>장애인복지법 시행규칙</td>\n",
       "      <td>시설운영의 중단ㆍ재개ㆍ폐지 신고 등</td>\n",
       "      <td>장애인복지시설을 설치ㆍ운영하는 자는 법 제60조제2항에 따라 시설 운영을 일시중단또...</td>\n",
       "      <td>0</td>\n",
       "      <td>0</td>\n",
       "      <td>1.0</td>\n",
       "      <td>1</td>\n",
       "      <td>0.56394</td>\n",
       "      <td>[구청, 군수, 구청장, 시장, 청장]</td>\n",
       "      <td>0</td>\n",
       "      <td>0.66301</td>\n",
       "      <td>0.14541</td>\n",
       "      <td>0.09419</td>\n",
       "      <td>0.09740</td>\n",
       "      <td>0</td>\n",
       "    </tr>\n",
       "    <tr>\n",
       "      <th>169612</th>\n",
       "      <td>한부모가족지원법</td>\n",
       "      <td>금융정보등의 제공</td>\n",
       "      <td>⑤ 제1항부터 제3항까지의 규정에 따른 금융정보등의 제공 요청과 제공은 「정보통신망...</td>\n",
       "      <td>0</td>\n",
       "      <td>0</td>\n",
       "      <td>1.0</td>\n",
       "      <td>1</td>\n",
       "      <td>0.51660</td>\n",
       "      <td>[]</td>\n",
       "      <td>0</td>\n",
       "      <td>0.82633</td>\n",
       "      <td>0.09616</td>\n",
       "      <td>0.02221</td>\n",
       "      <td>0.05531</td>\n",
       "      <td>0</td>\n",
       "    </tr>\n",
       "    <tr>\n",
       "      <th>169613</th>\n",
       "      <td>육군종합행정학교령</td>\n",
       "      <td>설치와 임무</td>\n",
       "      <td>①육군에 육군종합행정학교를 둔다. &lt;개정 1999.2.26&gt;</td>\n",
       "      <td>0</td>\n",
       "      <td>0</td>\n",
       "      <td>0.0</td>\n",
       "      <td>0</td>\n",
       "      <td>0.11048</td>\n",
       "      <td></td>\n",
       "      <td>0</td>\n",
       "      <td>0.00000</td>\n",
       "      <td>0.00000</td>\n",
       "      <td>0.00000</td>\n",
       "      <td>0.00000</td>\n",
       "      <td>0</td>\n",
       "    </tr>\n",
       "    <tr>\n",
       "      <th>169614</th>\n",
       "      <td>자본시장과 금융투자업에 관한 법률</td>\n",
       "      <td>검사 및 조치</td>\n",
       "      <td>1. 제51조제9항에 따른 등록요건 유지의무를 위반한 경우</td>\n",
       "      <td>0</td>\n",
       "      <td>0</td>\n",
       "      <td>0.0</td>\n",
       "      <td>0</td>\n",
       "      <td>0.00361</td>\n",
       "      <td></td>\n",
       "      <td>0</td>\n",
       "      <td>0.00000</td>\n",
       "      <td>0.00000</td>\n",
       "      <td>0.00000</td>\n",
       "      <td>0.00000</td>\n",
       "      <td>0</td>\n",
       "    </tr>\n",
       "  </tbody>\n",
       "</table>\n",
       "<p>169615 rows × 15 columns</p>\n",
       "</div>"
      ],
      "text/plain": [
       "                              법령명                 조문제목  \\\n",
       "0                    환경영향평가법 시행규칙              규제의 재검토   \n",
       "1                            도서관법                 자격취소   \n",
       "2                     장애인복지법 시행규칙    장애인자립생활지원센터의 운영기준   \n",
       "3                        건설기술 진흥법   건설공사 지원 통합정보체계의 구축   \n",
       "4       농수산물 유통 및 가격안정에 관한 법률 시행령     도매시장법인의 겸영사업의 제한   \n",
       "...                           ...                  ...   \n",
       "169610       언론중재 및 피해구제 등에 관한 법률          사망자의 인격권 보호   \n",
       "169611                장애인복지법 시행규칙  시설운영의 중단ㆍ재개ㆍ폐지 신고 등   \n",
       "169612                   한부모가족지원법            금융정보등의 제공   \n",
       "169613                  육군종합행정학교령               설치와 임무   \n",
       "169614         자본시장과 금융투자업에 관한 법률              검사 및 조치   \n",
       "\n",
       "                                                       조문  사무판단  사무유형(대분류)  \\\n",
       "0       ② 환경부장관은 다음 각 호의 사항에 대하여 해당 호에 해당하는 날을 기준으로 2년...     0          0   \n",
       "1                  2. 제6조제3항에 따라 발급받은 자격증을 다른 사람에게 대여한 경우     0          0   \n",
       "2       자립생활센터는 조직 운영, 사업 수행, 재정 확보, 운용 등에 대해 객관적으로 평가...     0          0   \n",
       "3                      5. 건설공사 지원 통합정보체계를 이용한 정보의 공동활용 촉진     0          0   \n",
       "4                                       2. 제2차 위반: 1개월 금지     0          0   \n",
       "...                                                   ...   ...        ...   \n",
       "169610                       ① 제5조제1항의 타인에는 사망한 사람을 포함한다.     0          0   \n",
       "169611  장애인복지시설을 설치ㆍ운영하는 자는 법 제60조제2항에 따라 시설 운영을 일시중단또...     0          0   \n",
       "169612  ⑤ 제1항부터 제3항까지의 규정에 따른 금융정보등의 제공 요청과 제공은 「정보통신망...     0          0   \n",
       "169613                  ①육군에 육군종합행정학교를 둔다. <개정 1999.2.26>     0          0   \n",
       "169614                   1. 제51조제9항에 따른 등록요건 유지의무를 위반한 경우     0          0   \n",
       "\n",
       "        rule_based  사무판단 예측  사무판단 예측확률                   수행주체  사무유형(대분류) 결과  \\\n",
       "0              1.0        1    0.70103              [장관, 환경부]             0   \n",
       "1              0.0        0    0.01952                                    0   \n",
       "2              1.0        1    0.58506               [관리, 센터]             0   \n",
       "3              0.0        0    0.04686                                    0   \n",
       "4              0.0        0    0.01003                                    0   \n",
       "...            ...      ...        ...                    ...           ...   \n",
       "169610         0.0        0    0.09550                                    0   \n",
       "169611         1.0        1    0.56394  [구청, 군수, 구청장, 시장, 청장]             0   \n",
       "169612         1.0        1    0.51660                     []             0   \n",
       "169613         0.0        0    0.11048                                    0   \n",
       "169614         0.0        0    0.00361                                    0   \n",
       "\n",
       "         비사무 확률    국가 확률    지방 확률    공동 확률  need_to_check  \n",
       "0       0.58967  0.30005  0.05159  0.05870              0  \n",
       "1       0.00000  0.00000  0.00000  0.00000              0  \n",
       "2       0.73506  0.10731  0.07764  0.07999              0  \n",
       "3       0.00000  0.00000  0.00000  0.00000              0  \n",
       "4       0.00000  0.00000  0.00000  0.00000              0  \n",
       "...         ...      ...      ...      ...            ...  \n",
       "169610  0.00000  0.00000  0.00000  0.00000              0  \n",
       "169611  0.66301  0.14541  0.09419  0.09740              0  \n",
       "169612  0.82633  0.09616  0.02221  0.05531              0  \n",
       "169613  0.00000  0.00000  0.00000  0.00000              0  \n",
       "169614  0.00000  0.00000  0.00000  0.00000              0  \n",
       "\n",
       "[169615 rows x 15 columns]"
      ]
     },
     "execution_count": 55,
     "metadata": {},
     "output_type": "execute_result"
    }
   ],
   "source": [
    "# 최종 결과 저장\n",
    "sub_df = f.make_final_df(sub_df, sencond_filtered_df)\n",
    "sub_df"
   ]
  },
  {
   "cell_type": "code",
   "execution_count": 56,
   "id": "c8fa4a7a",
   "metadata": {},
   "outputs": [],
   "source": [
    "sub_df.to_csv('data/final_df(val).csv', index=False)"
   ]
  }
 ],
 "metadata": {
  "kernelspec": {
   "display_name": "Python 3 (ipykernel)",
   "language": "python",
   "name": "python3"
  },
  "language_info": {
   "codemirror_mode": {
    "name": "ipython",
    "version": 3
   },
   "file_extension": ".py",
   "mimetype": "text/x-python",
   "name": "python",
   "nbconvert_exporter": "python",
   "pygments_lexer": "ipython3",
   "version": "3.10.9"
  }
 },
 "nbformat": 4,
 "nbformat_minor": 5
}
