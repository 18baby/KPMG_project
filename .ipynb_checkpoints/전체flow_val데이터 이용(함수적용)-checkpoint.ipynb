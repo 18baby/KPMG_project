{
 "cells": [
  {
   "cell_type": "code",
   "execution_count": 1,
   "id": "5a4aa67c",
   "metadata": {},
   "outputs": [],
   "source": [
    "import re\n",
    "import numpy as np\n",
    "import pandas as pd\n",
    "import pickle\n",
    "import joblib\n",
    "import torch\n",
    "import torch.nn as nn\n",
    "from torch.utils.data import Dataset, DataLoader\n",
    "from transformers import AutoTokenizer, AdamW, get_linear_schedule_with_warmup\n",
    "from torch.optim import AdamW\n",
    "from tqdm import tqdm\n",
    "from sklearn.utils.class_weight import compute_class_weight\n",
    "from sklearn.preprocessing import LabelEncoder\n",
    "from sklearn.metrics import accuracy_score, confusion_matrix, precision_score, recall_score, f1_score\n",
    "\n",
    "# 사용 모델\n",
    "from sklearn.ensemble import RandomForestClassifier\n",
    "import EncoderModel as mm\n",
    "\n",
    "# 함수들 불러오기\n",
    "import functions as f"
   ]
  },
  {
   "cell_type": "markdown",
   "id": "2d867f3c",
   "metadata": {},
   "source": [
    "# 평가에 이용되는 함수 정의"
   ]
  },
  {
   "cell_type": "code",
   "execution_count": 2,
   "id": "b96a063b",
   "metadata": {},
   "outputs": [],
   "source": [
    "# 1차 filter용 데이터셋 정의 -> (조문 + 조문제목) [embedding vector화 + 배치화]\n",
    "class CustomDataset1(Dataset):\n",
    "    def __init__(self, dataframe, tokenizer):\n",
    "        self.data = dataframe\n",
    "        self.tokenizer = tokenizer\n",
    "\n",
    "    def __len__(self):\n",
    "        return len(self.data)\n",
    "\n",
    "    def __getitem__(self, idx):\n",
    "        # '조문'과 '법령명' 칼럼의 데이터를 안전하게 문자열로 변환하고 결합\n",
    "        text1 = str(self.data.iloc[idx]['조문'])\n",
    "        text2 = str(self.data.iloc[idx]['조문제목'])\n",
    "        text_data = text1 + \" // \" + text2\n",
    "        label = torch.tensor(self.data.iloc[idx]['사무판단'], dtype=torch.long)\n",
    "\n",
    "        # 결합된 텍스트를 토크나이징\n",
    "        tokenized_data = tokenizer([text_data], padding='max_length', max_length=512, truncation=True, return_tensors='pt')\n",
    "\n",
    "        return {\n",
    "            'input_ids': tokenized_data['input_ids'].squeeze(),\n",
    "            'attention_mask': tokenized_data['attention_mask'].squeeze(),\n",
    "            'labels': label\n",
    "        }"
   ]
  },
  {
   "cell_type": "code",
   "execution_count": 3,
   "id": "878a0084",
   "metadata": {},
   "outputs": [],
   "source": [
    "# 2차 filter용 데이터셋 정의 -> (법령명 + 조문제목 + 수행주체) [embedding vector화 + 배치화]\n",
    "class CustomDataset2(Dataset):\n",
    "    def __init__(self, dataframe, tokenizer):\n",
    "        self.data = dataframe\n",
    "        self.tokenizer = tokenizer\n",
    "\n",
    "    def __len__(self):\n",
    "        return len(self.data)\n",
    "\n",
    "    def __getitem__(self, idx):\n",
    "        # '조문'과 '법령명' 칼럼의 데이터를 안전하게 문자열로 변환하고 결합\n",
    "        text1 = str(self.data.iloc[idx]['법령명'])\n",
    "        text2 = str(self.data.iloc[idx]['조문제목'])\n",
    "        text3 = str(self.data.iloc[idx]['수행주체'])\n",
    "        text_data = text1 + \" // \" + text2 + \" // \" + text3\n",
    "        label = torch.tensor(self.data.iloc[idx]['사무유형(대분류)'], dtype=torch.long)\n",
    "\n",
    "        # 결합된 텍스트를 토크나이징\n",
    "        tokenized_data = tokenizer([text_data], padding='max_length', max_length=128, truncation=True, return_tensors='pt')\n",
    "\n",
    "        return {\n",
    "            'input_ids': tokenized_data['input_ids'].squeeze(),\n",
    "            'attention_mask': tokenized_data['attention_mask'].squeeze(),\n",
    "            'labels': label\n",
    "        }"
   ]
  },
  {
   "cell_type": "code",
   "execution_count": 4,
   "id": "4f87bde9",
   "metadata": {},
   "outputs": [],
   "source": [
    "# 각 배치의 텍스트 길이를 맞추기\n",
    "def collate_fn(batch):\n",
    "    input_ids = [item['input_ids'] for item in batch]\n",
    "    attention_mask = [item['attention_mask'] for item in batch]\n",
    "    labels = [item['labels'] for item in batch]\n",
    "\n",
    "    # 패딩 적용\n",
    "    input_ids = torch.nn.utils.rnn.pad_sequence(input_ids, batch_first=True, padding_value=tokenizer.pad_token_id)\n",
    "    attention_mask = torch.nn.utils.rnn.pad_sequence(attention_mask, batch_first=True, padding_value=0)\n",
    "\n",
    "    return {'input_ids': input_ids, 'attention_mask': attention_mask, 'labels': torch.stack(labels)}\n"
   ]
  },
  {
   "cell_type": "code",
   "execution_count": 5,
   "id": "a0cba377",
   "metadata": {},
   "outputs": [],
   "source": [
    "# 평가 결과 확인\n",
    "def cal_result(preds, y):\n",
    "    conf_matrix = confusion_matrix(y, preds)\n",
    "    accuracy = accuracy_score(y, preds)\n",
    "    precision = precision_score(y, preds)\n",
    "    recall = recall_score(y, preds)\n",
    "    f1 = f1_score(y, preds)\n",
    "    \n",
    "    # 결과 출력\n",
    "    print(f\"Accuracy: {accuracy}\")\n",
    "    print(f\"Precision: {precision}\")\n",
    "    print(f\"Recall: {recall}\")\n",
    "    print(f\"F1-Score: {f1}\")\n",
    "    print(\"Confusion Matrix:\")\n",
    "    print(conf_matrix)"
   ]
  },
  {
   "cell_type": "markdown",
   "id": "cd4368b7",
   "metadata": {},
   "source": [
    "# 1. 데이터 입력"
   ]
  },
  {
   "cell_type": "code",
   "execution_count": 6,
   "id": "082e6feb",
   "metadata": {},
   "outputs": [
    {
     "name": "stderr",
     "output_type": "stream",
     "text": [
      "/var/folders/zr/_f1rgf8n0w3541q9k8p3smhr0000gn/T/ipykernel_59332/3395390884.py:1: DtypeWarning: Columns (24) have mixed types. Specify dtype option on import or set low_memory=False.\n",
      "  test_df = pd.read_csv('val_df.csv')\n"
     ]
    },
    {
     "name": "stdout",
     "output_type": "stream",
     "text": [
      "<class 'pandas.core.frame.DataFrame'>\n",
      "RangeIndex: 169615 entries, 0 to 169614\n",
      "Data columns (total 26 columns):\n",
      " #   Column     Non-Null Count   Dtype  \n",
      "---  ------     --------------   -----  \n",
      " 0   소관부처명      169615 non-null  object \n",
      " 1   법령명        169615 non-null  object \n",
      " 2   법령구분       169615 non-null  int64  \n",
      " 3   조번호        169502 non-null  object \n",
      " 4   항번호        130938 non-null  object \n",
      " 5   호번호        99764 non-null   object \n",
      " 6   조문제목       169615 non-null  object \n",
      " 7   조문         169615 non-null  object \n",
      " 8   사무판단       169615 non-null  int64  \n",
      " 9   사무판단근거     137581 non-null  object \n",
      " 10  사무명        10920 non-null   object \n",
      " 11  수행주체       10911 non-null   object \n",
      " 12  사무유형       10909 non-null   object \n",
      " 13  위임사무판단     169615 non-null  int64  \n",
      " 14  위임근거규정     711 non-null     object \n",
      " 15  수임기관       550 non-null     object \n",
      " 16  특행기관       169615 non-null  int64  \n",
      " 17  재위임사무판단    169615 non-null  int64  \n",
      " 18  재위임근거규정    0 non-null       float64\n",
      " 19  재수임기관      0 non-null       float64\n",
      " 20  위탁사무판단     169615 non-null  int64  \n",
      " 21  위탁근거규정     605 non-null     object \n",
      " 22  수탁기관       600 non-null     object \n",
      " 23  사무유형(소분류)  10909 non-null   object \n",
      " 24  기타         1 non-null       object \n",
      " 25  사무유형(대분류)  169615 non-null  object \n",
      "dtypes: float64(2), int64(6), object(18)\n",
      "memory usage: 33.6+ MB\n"
     ]
    }
   ],
   "source": [
    "test_df = pd.read_csv('val_df.csv')\n",
    "test_df.info()"
   ]
  },
  {
   "cell_type": "markdown",
   "id": "850112c6",
   "metadata": {},
   "source": [
    "# 2. 데이터 전처리"
   ]
  },
  {
   "cell_type": "code",
   "execution_count": 7,
   "id": "d0807217",
   "metadata": {},
   "outputs": [],
   "source": [
    "#test_df = f.x_null_drop(test_df)\n",
    "#test_df = f.x_wrong_drop(test_df)\n",
    "test_df = f.no_work_check(test_df)\n",
    "test_df = f.make_large_type(test_df)"
   ]
  },
  {
   "cell_type": "code",
   "execution_count": 8,
   "id": "6a4d9d31",
   "metadata": {},
   "outputs": [
    {
     "data": {
      "text/plain": [
       "(169615, 5)"
      ]
     },
     "execution_count": 8,
     "metadata": {},
     "output_type": "execute_result"
    }
   ],
   "source": [
    "# 결과 저장 데이터 프레임 생성\n",
    "check_cols = ['법령명' ,'조문제목', '조문', '사무판단', '사무유형(대분류)']\n",
    "sub_df = test_df.loc[:, check_cols].copy()\n",
    "sub_df.shape"
   ]
  },
  {
   "cell_type": "markdown",
   "id": "0eb3c763",
   "metadata": {},
   "source": [
    "# 3. Rule-Base 적용"
   ]
  },
  {
   "cell_type": "code",
   "execution_count": 9,
   "id": "b02eb96d",
   "metadata": {},
   "outputs": [],
   "source": [
    "sub_df = f.rule_based(sub_df)  # rule_base 조문 확인\n",
    "\n",
    "# rule_base로 걸러낸 조문들\n",
    "rule_base_filter_idx = sub_df.loc[sub_df['rule_based']==0, :].index"
   ]
  },
  {
   "cell_type": "markdown",
   "id": "5da44c2d",
   "metadata": {},
   "source": [
    "# 4. 1차 사무판단\n",
    "## encoder 모델"
   ]
  },
  {
   "cell_type": "markdown",
   "id": "b2168e11",
   "metadata": {},
   "source": [
    "* 모델 불러오기"
   ]
  },
  {
   "cell_type": "code",
   "execution_count": 10,
   "id": "26a00c91",
   "metadata": {},
   "outputs": [
    {
     "data": {
      "text/plain": [
       "MyModel(\n",
       "  (encoder): MyEncoder(\n",
       "    (layers): ModuleList(\n",
       "      (0): MyEncoderLayer(\n",
       "        (self_attention): MultiheadAttention(\n",
       "          (out_proj): NonDynamicallyQuantizableLinear(in_features=512, out_features=512, bias=True)\n",
       "        )\n",
       "        (feedforward): Sequential(\n",
       "          (0): Linear(in_features=512, out_features=1024, bias=True)\n",
       "          (1): ReLU()\n",
       "          (2): Linear(in_features=1024, out_features=512, bias=True)\n",
       "        )\n",
       "        (layer_norm1): LayerNorm((512,), eps=1e-05, elementwise_affine=True)\n",
       "        (layer_norm2): LayerNorm((512,), eps=1e-05, elementwise_affine=True)\n",
       "        (dropout): Dropout(p=0.1, inplace=False)\n",
       "      )\n",
       "    )\n",
       "  )\n",
       "  (layer1): Linear(in_features=512, out_features=256, bias=True)\n",
       "  (batch_norm): BatchNorm1d(256, eps=1e-05, momentum=0.1, affine=True, track_running_stats=True)\n",
       "  (relu): ReLU()\n",
       "  (layer2): Linear(in_features=256, out_features=2, bias=True)\n",
       ")"
      ]
     },
     "execution_count": 10,
     "metadata": {},
     "output_type": "execute_result"
    }
   ],
   "source": [
    "# 모델 및 토크나이저 불러오기\n",
    "model_name = 'klue/roberta-large'\n",
    "tokenizer = AutoTokenizer.from_pretrained(model_name)\n",
    "\n",
    "# 모델 기본 구조 설정\n",
    "input_size = 512\n",
    "hidden_size = 256\n",
    "output_size = 2\n",
    "num_encoder_layers = 1\n",
    "device = torch.device('cuda' if torch.cuda.is_available() else 'cpu')\n",
    "\n",
    "model = mm.MyModel(input_size, hidden_size, output_size, num_encoder_layers)\n",
    "model.to(device)"
   ]
  },
  {
   "cell_type": "code",
   "execution_count": 11,
   "id": "b0ded757",
   "metadata": {},
   "outputs": [
    {
     "data": {
      "text/plain": [
       "<All keys matched successfully>"
      ]
     },
     "execution_count": 11,
     "metadata": {},
     "output_type": "execute_result"
    }
   ],
   "source": [
    "model_path = 'encoder_model_type3.pth'  # Provide the correct path\n",
    "model.load_state_dict(torch.load(model_path, map_location=device))"
   ]
  },
  {
   "cell_type": "markdown",
   "id": "57b32871",
   "metadata": {},
   "source": [
    "* 모델 평가"
   ]
  },
  {
   "cell_type": "code",
   "execution_count": 12,
   "id": "6e626039",
   "metadata": {},
   "outputs": [],
   "source": [
    "# 데이터로더 생성\n",
    "batch_size = 16  # 배치크기 조절\n",
    "\n",
    "test_dataset = CustomDataset1(sub_df, tokenizer)\n",
    "test_loader = DataLoader(test_dataset, batch_size=batch_size, shuffle=False, collate_fn=collate_fn)"
   ]
  },
  {
   "cell_type": "code",
   "execution_count": 13,
   "id": "a4c6f90b",
   "metadata": {},
   "outputs": [
    {
     "name": "stderr",
     "output_type": "stream",
     "text": [
      "Validation: 100%|████████████████████████| 10601/10601 [00:54<00:00, 196.08it/s]"
     ]
    },
    {
     "name": "stdout",
     "output_type": "stream",
     "text": [
      "tensor(0.3599)\n"
     ]
    },
    {
     "name": "stderr",
     "output_type": "stream",
     "text": [
      "\n"
     ]
    }
   ],
   "source": [
    "model.eval()\n",
    "\n",
    "test_loss = 0\n",
    "probs = []\n",
    "\n",
    "with torch.no_grad():\n",
    "    for batch in tqdm(test_loader, desc=f'Validation'):\n",
    "        inputs = {key: value.to(device) for key, value in batch.items() if key != 'labels'}\n",
    "        labels = batch['labels'].to(device)\n",
    "\n",
    "        # 모델에 토큰화된 입력 데이터 전달\n",
    "        outputs = model(**inputs).float()\n",
    "        test_loss += torch.nn.functional.cross_entropy(outputs, labels.long())\n",
    "        \n",
    "        # 소프트맥스를 적용하여 확률값 얻기\n",
    "        probs_batch = torch.nn.functional.softmax(outputs, dim=1)\n",
    "        probs.append(probs_batch.cpu().numpy())\n",
    "\n",
    "# 손실 계산\n",
    "avg_test_loss = test_loss / len(test_loader)\n",
    "\n",
    "# 확률값을 하나의 배열로 통합\n",
    "probs = np.concatenate(probs, axis=0)\n",
    "\n",
    "print(avg_test_loss)"
   ]
  },
  {
   "cell_type": "code",
   "execution_count": 14,
   "id": "7161f217",
   "metadata": {},
   "outputs": [],
   "source": [
    "prob_1 = probs[:, 1]\n",
    "prob_1 = [round(prob, 5) for prob in prob_1]\n",
    "#prob_1"
   ]
  },
  {
   "cell_type": "code",
   "execution_count": 15,
   "id": "042a696b",
   "metadata": {},
   "outputs": [
    {
     "data": {
      "text/html": [
       "<div>\n",
       "<style scoped>\n",
       "    .dataframe tbody tr th:only-of-type {\n",
       "        vertical-align: middle;\n",
       "    }\n",
       "\n",
       "    .dataframe tbody tr th {\n",
       "        vertical-align: top;\n",
       "    }\n",
       "\n",
       "    .dataframe thead th {\n",
       "        text-align: right;\n",
       "    }\n",
       "</style>\n",
       "<table border=\"1\" class=\"dataframe\">\n",
       "  <thead>\n",
       "    <tr style=\"text-align: right;\">\n",
       "      <th></th>\n",
       "      <th>법령명</th>\n",
       "      <th>조문제목</th>\n",
       "      <th>조문</th>\n",
       "      <th>사무판단</th>\n",
       "      <th>사무유형(대분류)</th>\n",
       "      <th>rule_based</th>\n",
       "    </tr>\n",
       "  </thead>\n",
       "  <tbody>\n",
       "    <tr>\n",
       "      <th>0</th>\n",
       "      <td>환경영향평가법 시행규칙</td>\n",
       "      <td>규제의 재검토</td>\n",
       "      <td>② 환경부장관은 다음 각 호의 사항에 대하여 해당 호에 해당하는 날을 기준으로 2년...</td>\n",
       "      <td>0</td>\n",
       "      <td>0</td>\n",
       "      <td>1</td>\n",
       "    </tr>\n",
       "  </tbody>\n",
       "</table>\n",
       "</div>"
      ],
      "text/plain": [
       "            법령명     조문제목                                                 조문  \\\n",
       "0  환경영향평가법 시행규칙  규제의 재검토  ② 환경부장관은 다음 각 호의 사항에 대하여 해당 호에 해당하는 날을 기준으로 2년...   \n",
       "\n",
       "   사무판단  사무유형(대분류)  rule_based  \n",
       "0     0          0           1  "
      ]
     },
     "execution_count": 15,
     "metadata": {},
     "output_type": "execute_result"
    }
   ],
   "source": [
    "sub_df.head(1)"
   ]
  },
  {
   "cell_type": "markdown",
   "id": "d5ffc712",
   "metadata": {},
   "source": [
    "## 1차 사무판단 진행"
   ]
  },
  {
   "cell_type": "code",
   "execution_count": 16,
   "id": "c4493e6c",
   "metadata": {},
   "outputs": [],
   "source": [
    "threshold = 0.251    # test 결과로 확인한 threshold\n",
    "\n",
    "sub_df['사무예측 결과'] = 0\n",
    "sub_df['사무예측 확률'] = prob_1\n",
    "\n",
    "# 1차 사무판단\n",
    "sub_df.loc[sub_df['사무예측 확률'] >= threshold, '사무예측 결과'] = 1\n",
    "\n",
    "sub_df.loc[rule_base_filter_idx, '사무예측 결과'] = 0   # rule-base 결과 적용"
   ]
  },
  {
   "cell_type": "code",
   "execution_count": 17,
   "id": "8d721294",
   "metadata": {},
   "outputs": [],
   "source": [
    "#sub_df.loc[(sub_df['사무예측 결과']==0)&(sub_df['사무판단']!=0), :]    # 모델 예측 결과 틀린 부분"
   ]
  },
  {
   "cell_type": "code",
   "execution_count": 18,
   "id": "ebd40751",
   "metadata": {},
   "outputs": [
    {
     "name": "stdout",
     "output_type": "stream",
     "text": [
      "Accuracy: 0.6807357839813696\n",
      "Precision: 0.16231707507535648\n",
      "Recall: 0.9526996058300485\n",
      "F1-Score: 0.27737596413034776\n",
      "Confusion Matrix:\n",
      "[[105070  53636]\n",
      " [   516  10393]]\n"
     ]
    }
   ],
   "source": [
    "# 1차 필터링 결과\n",
    "cal_result(sub_df['사무예측 결과'], sub_df['사무판단'])"
   ]
  },
  {
   "cell_type": "markdown",
   "id": "af3fc551",
   "metadata": {},
   "source": [
    "## 1차 filtering 결과"
   ]
  },
  {
   "cell_type": "code",
   "execution_count": 19,
   "id": "b88f8cad",
   "metadata": {},
   "outputs": [
    {
     "data": {
      "text/html": [
       "<div>\n",
       "<style scoped>\n",
       "    .dataframe tbody tr th:only-of-type {\n",
       "        vertical-align: middle;\n",
       "    }\n",
       "\n",
       "    .dataframe tbody tr th {\n",
       "        vertical-align: top;\n",
       "    }\n",
       "\n",
       "    .dataframe thead th {\n",
       "        text-align: right;\n",
       "    }\n",
       "</style>\n",
       "<table border=\"1\" class=\"dataframe\">\n",
       "  <thead>\n",
       "    <tr style=\"text-align: right;\">\n",
       "      <th></th>\n",
       "      <th>법령명</th>\n",
       "      <th>조문제목</th>\n",
       "      <th>조문</th>\n",
       "      <th>사무판단</th>\n",
       "      <th>사무유형(대분류)</th>\n",
       "      <th>rule_based</th>\n",
       "      <th>사무예측 결과</th>\n",
       "      <th>사무예측 확률</th>\n",
       "    </tr>\n",
       "  </thead>\n",
       "  <tbody>\n",
       "    <tr>\n",
       "      <th>0</th>\n",
       "      <td>환경영향평가법 시행규칙</td>\n",
       "      <td>규제의 재검토</td>\n",
       "      <td>② 환경부장관은 다음 각 호의 사항에 대하여 해당 호에 해당하는 날을 기준으로 2년...</td>\n",
       "      <td>0</td>\n",
       "      <td>0</td>\n",
       "      <td>1</td>\n",
       "      <td>1</td>\n",
       "      <td>0.71157</td>\n",
       "    </tr>\n",
       "  </tbody>\n",
       "</table>\n",
       "</div>"
      ],
      "text/plain": [
       "            법령명     조문제목                                                 조문  \\\n",
       "0  환경영향평가법 시행규칙  규제의 재검토  ② 환경부장관은 다음 각 호의 사항에 대하여 해당 호에 해당하는 날을 기준으로 2년...   \n",
       "\n",
       "   사무판단  사무유형(대분류)  rule_based  사무예측 결과  사무예측 확률  \n",
       "0     0          0           1        1  0.71157  "
      ]
     },
     "execution_count": 19,
     "metadata": {},
     "output_type": "execute_result"
    }
   ],
   "source": [
    "# 1차 filter 결과\n",
    "first_filtered_df = sub_df.loc[sub_df['사무예측 결과']==1, :].copy()\n",
    "first_filtered_df.head(1)"
   ]
  },
  {
   "cell_type": "markdown",
   "id": "1dee57fa",
   "metadata": {},
   "source": [
    "# 4. 2차 사무판단 + 사무유형 판단\n",
    "* 사무로 판단되었을때 실행"
   ]
  },
  {
   "cell_type": "markdown",
   "id": "9727123b",
   "metadata": {},
   "source": [
    "## Encoder Model"
   ]
  },
  {
   "cell_type": "code",
   "execution_count": 20,
   "id": "72e9486e",
   "metadata": {},
   "outputs": [],
   "source": [
    "input_size = 128\n",
    "hidden_size = 64\n",
    "output_size = 4\n",
    "\n",
    "total_encoder = mm.MyModel(input_size, hidden_size, output_size)"
   ]
  },
  {
   "cell_type": "code",
   "execution_count": 21,
   "id": "129929ac",
   "metadata": {},
   "outputs": [
    {
     "data": {
      "text/plain": [
       "<All keys matched successfully>"
      ]
     },
     "execution_count": 21,
     "metadata": {},
     "output_type": "execute_result"
    }
   ],
   "source": [
    "model_path2 = 'encoder_model2_type3.pth'  # Provide the correct path\n",
    "total_encoder.load_state_dict(torch.load(model_path2, map_location=device))"
   ]
  },
  {
   "cell_type": "markdown",
   "id": "05df11f2",
   "metadata": {},
   "source": [
    "* 수행주체 추출"
   ]
  },
  {
   "cell_type": "code",
   "execution_count": 22,
   "id": "5aaa4270",
   "metadata": {},
   "outputs": [],
   "source": [
    "# 수행주체 종류 불러오기\n",
    "with open('subject_list.pkl', 'rb') as file:\n",
    "    subject_list = pickle.load(file)"
   ]
  },
  {
   "cell_type": "code",
   "execution_count": 23,
   "id": "5beb8dfb",
   "metadata": {},
   "outputs": [
    {
     "name": "stderr",
     "output_type": "stream",
     "text": [
      "Processing rows: 100%|██████████████████| 64029/64029 [00:09<00:00, 6494.43it/s]\n"
     ]
    }
   ],
   "source": [
    "# 수행주체(문자열 추가)\n",
    "first_filtered_df = f.new_subject_make1(first_filtered_df, subject_list, tqdm)"
   ]
  },
  {
   "cell_type": "code",
   "execution_count": 24,
   "id": "1b6a8ba9",
   "metadata": {},
   "outputs": [
    {
     "name": "stdout",
     "output_type": "stream",
     "text": [
      "<class 'pandas.core.frame.DataFrame'>\n",
      "Int64Index: 64029 entries, 0 to 169612\n",
      "Data columns (total 9 columns):\n",
      " #   Column      Non-Null Count  Dtype  \n",
      "---  ------      --------------  -----  \n",
      " 0   법령명         64029 non-null  object \n",
      " 1   조문제목        64029 non-null  object \n",
      " 2   조문          64029 non-null  object \n",
      " 3   사무판단        64029 non-null  int64  \n",
      " 4   사무유형(대분류)   64029 non-null  int64  \n",
      " 5   rule_based  64029 non-null  int64  \n",
      " 6   사무예측 결과     64029 non-null  int64  \n",
      " 7   사무예측 확률     64029 non-null  float32\n",
      " 8   수행주체        64029 non-null  object \n",
      "dtypes: float32(1), int64(4), object(4)\n",
      "memory usage: 6.7+ MB\n"
     ]
    }
   ],
   "source": [
    "first_filtered_df.info()"
   ]
  },
  {
   "cell_type": "code",
   "execution_count": 25,
   "id": "a0b11f0d",
   "metadata": {},
   "outputs": [],
   "source": [
    "# 데이터로더 생성\n",
    "batch_size = 16  # 배치크기 조절\n",
    "\n",
    "total_dataset = CustomDataset2(first_filtered_df, tokenizer)\n",
    "total_loader = DataLoader(total_dataset, batch_size=batch_size, shuffle=False, collate_fn=collate_fn)"
   ]
  },
  {
   "cell_type": "code",
   "execution_count": 26,
   "id": "8d4a7202",
   "metadata": {},
   "outputs": [],
   "source": [
    "# 2차 인코더 가중치 학습\n",
    "class_weights = [0.2969,  2.2733,  9.0880, 12.1487]\n",
    "class_weights = torch.tensor(class_weights, dtype=torch.float32)"
   ]
  },
  {
   "cell_type": "code",
   "execution_count": 27,
   "id": "753613fc",
   "metadata": {},
   "outputs": [
    {
     "name": "stderr",
     "output_type": "stream",
     "text": [
      "Test: 100%|████████████████████████████████| 4002/4002 [00:13<00:00, 291.87it/s]"
     ]
    },
    {
     "name": "stdout",
     "output_type": "stream",
     "text": [
      "Test Loss: 1.2843151092529297\n"
     ]
    },
    {
     "name": "stderr",
     "output_type": "stream",
     "text": [
      "\n"
     ]
    }
   ],
   "source": [
    "total_encoder.eval()\n",
    "val_loss = 0.0\n",
    "y_true = []  # 실제 레이블을 저장할 리스트\n",
    "y_pred = []  # 모델의 예측 결과를 저장할 리스트\n",
    "y_probs = [] # 사무유형별 확률 저장할 리스트\n",
    "with torch.no_grad():\n",
    "    for batch in tqdm(total_loader, desc=f'Test'):\n",
    "        inputs = {key: value.to(device) for key, value in batch.items() if key != 'labels'}\n",
    "        labels = batch['labels'].to(device)\n",
    "\n",
    "        # 모델에 토큰화된 입력 데이터 전달\n",
    "        outputs = total_encoder(**inputs).float()\n",
    "        \n",
    "        probs = torch.nn.functional.softmax(outputs, dim=1)\n",
    "        y_probs.extend(probs.cpu().numpy())\n",
    "        _, predictions = torch.max(outputs, 1)\n",
    "        y_true.extend(labels.cpu().numpy())\n",
    "        y_pred.extend(predictions.cpu().numpy())\n",
    "        val_loss += torch.nn.functional.cross_entropy(outputs, labels, weight=class_weights)\n",
    "\n",
    "avg_val_loss = val_loss / len(total_loader)\n",
    "print(f'Test Loss: {avg_val_loss}')"
   ]
  },
  {
   "cell_type": "code",
   "execution_count": 28,
   "id": "924d2608",
   "metadata": {},
   "outputs": [],
   "source": [
    "probs = pd.DataFrame(y_probs)\n",
    "probs = probs.set_index(first_filtered_df.index)\n",
    "\n",
    "# 인코더 결과 저장\n",
    "encoder_result_df = f.make_result_df(pd, y_true, y_pred, probs[0], probs[1], probs[2], probs[3])"
   ]
  },
  {
   "cell_type": "code",
   "execution_count": 29,
   "id": "58e2f961",
   "metadata": {},
   "outputs": [
    {
     "data": {
      "text/html": [
       "<div>\n",
       "<style scoped>\n",
       "    .dataframe tbody tr th:only-of-type {\n",
       "        vertical-align: middle;\n",
       "    }\n",
       "\n",
       "    .dataframe tbody tr th {\n",
       "        vertical-align: top;\n",
       "    }\n",
       "\n",
       "    .dataframe thead th {\n",
       "        text-align: right;\n",
       "    }\n",
       "</style>\n",
       "<table border=\"1\" class=\"dataframe\">\n",
       "  <thead>\n",
       "    <tr style=\"text-align: right;\">\n",
       "      <th></th>\n",
       "      <th>사무유형(대분류)</th>\n",
       "      <th>사무유형(대분류) 예측</th>\n",
       "      <th>비사무 확률</th>\n",
       "      <th>국가 확률</th>\n",
       "      <th>지방 확률</th>\n",
       "      <th>공동 확률</th>\n",
       "    </tr>\n",
       "  </thead>\n",
       "  <tbody>\n",
       "    <tr>\n",
       "      <th>0</th>\n",
       "      <td>0</td>\n",
       "      <td>0</td>\n",
       "      <td>0.63346</td>\n",
       "      <td>0.15598</td>\n",
       "      <td>0.10317</td>\n",
       "      <td>0.10739</td>\n",
       "    </tr>\n",
       "    <tr>\n",
       "      <th>2</th>\n",
       "      <td>0</td>\n",
       "      <td>0</td>\n",
       "      <td>0.48013</td>\n",
       "      <td>0.20462</td>\n",
       "      <td>0.15528</td>\n",
       "      <td>0.15997</td>\n",
       "    </tr>\n",
       "    <tr>\n",
       "      <th>5</th>\n",
       "      <td>0</td>\n",
       "      <td>2</td>\n",
       "      <td>0.26985</td>\n",
       "      <td>0.17593</td>\n",
       "      <td>0.36356</td>\n",
       "      <td>0.19066</td>\n",
       "    </tr>\n",
       "    <tr>\n",
       "      <th>6</th>\n",
       "      <td>0</td>\n",
       "      <td>0</td>\n",
       "      <td>0.50363</td>\n",
       "      <td>0.19602</td>\n",
       "      <td>0.12904</td>\n",
       "      <td>0.17131</td>\n",
       "    </tr>\n",
       "    <tr>\n",
       "      <th>8</th>\n",
       "      <td>0</td>\n",
       "      <td>0</td>\n",
       "      <td>0.59654</td>\n",
       "      <td>0.16972</td>\n",
       "      <td>0.09734</td>\n",
       "      <td>0.13640</td>\n",
       "    </tr>\n",
       "    <tr>\n",
       "      <th>...</th>\n",
       "      <td>...</td>\n",
       "      <td>...</td>\n",
       "      <td>...</td>\n",
       "      <td>...</td>\n",
       "      <td>...</td>\n",
       "      <td>...</td>\n",
       "    </tr>\n",
       "    <tr>\n",
       "      <th>169604</th>\n",
       "      <td>0</td>\n",
       "      <td>1</td>\n",
       "      <td>0.24744</td>\n",
       "      <td>0.35215</td>\n",
       "      <td>0.13735</td>\n",
       "      <td>0.26306</td>\n",
       "    </tr>\n",
       "    <tr>\n",
       "      <th>169608</th>\n",
       "      <td>0</td>\n",
       "      <td>0</td>\n",
       "      <td>0.65957</td>\n",
       "      <td>0.16122</td>\n",
       "      <td>0.05424</td>\n",
       "      <td>0.12496</td>\n",
       "    </tr>\n",
       "    <tr>\n",
       "      <th>169609</th>\n",
       "      <td>0</td>\n",
       "      <td>0</td>\n",
       "      <td>0.36134</td>\n",
       "      <td>0.28676</td>\n",
       "      <td>0.19878</td>\n",
       "      <td>0.15313</td>\n",
       "    </tr>\n",
       "    <tr>\n",
       "      <th>169611</th>\n",
       "      <td>0</td>\n",
       "      <td>0</td>\n",
       "      <td>0.37884</td>\n",
       "      <td>0.27776</td>\n",
       "      <td>0.13332</td>\n",
       "      <td>0.21008</td>\n",
       "    </tr>\n",
       "    <tr>\n",
       "      <th>169612</th>\n",
       "      <td>0</td>\n",
       "      <td>0</td>\n",
       "      <td>0.73382</td>\n",
       "      <td>0.14019</td>\n",
       "      <td>0.04657</td>\n",
       "      <td>0.07942</td>\n",
       "    </tr>\n",
       "  </tbody>\n",
       "</table>\n",
       "<p>64029 rows × 6 columns</p>\n",
       "</div>"
      ],
      "text/plain": [
       "        사무유형(대분류)  사무유형(대분류) 예측   비사무 확률    국가 확률    지방 확률    공동 확률\n",
       "0               0             0  0.63346  0.15598  0.10317  0.10739\n",
       "2               0             0  0.48013  0.20462  0.15528  0.15997\n",
       "5               0             2  0.26985  0.17593  0.36356  0.19066\n",
       "6               0             0  0.50363  0.19602  0.12904  0.17131\n",
       "8               0             0  0.59654  0.16972  0.09734  0.13640\n",
       "...           ...           ...      ...      ...      ...      ...\n",
       "169604          0             1  0.24744  0.35215  0.13735  0.26306\n",
       "169608          0             0  0.65957  0.16122  0.05424  0.12496\n",
       "169609          0             0  0.36134  0.28676  0.19878  0.15313\n",
       "169611          0             0  0.37884  0.27776  0.13332  0.21008\n",
       "169612          0             0  0.73382  0.14019  0.04657  0.07942\n",
       "\n",
       "[64029 rows x 6 columns]"
      ]
     },
     "execution_count": 29,
     "metadata": {},
     "output_type": "execute_result"
    }
   ],
   "source": [
    "encoder_result_df"
   ]
  },
  {
   "cell_type": "markdown",
   "id": "bfd094b4",
   "metadata": {},
   "source": [
    "## Random Forest"
   ]
  },
  {
   "cell_type": "code",
   "execution_count": 31,
   "id": "a29add8d",
   "metadata": {},
   "outputs": [],
   "source": [
    "rf_2_filtered_df = first_filtered_df.copy()"
   ]
  },
  {
   "cell_type": "code",
   "execution_count": 32,
   "id": "20dbcd71",
   "metadata": {},
   "outputs": [],
   "source": [
    "# RF 모델 불러오기\n",
    "with open('RF.pkl', 'rb') as file:\n",
    "    model_2_rf = pickle.load(file)"
   ]
  },
  {
   "cell_type": "code",
   "execution_count": 33,
   "id": "d9a80b57",
   "metadata": {},
   "outputs": [
    {
     "name": "stderr",
     "output_type": "stream",
     "text": [
      "Processing rows: 100%|██████████████████| 64029/64029 [00:08<00:00, 7287.86it/s]\n"
     ]
    }
   ],
   "source": [
    "# 수행주체 추가(리스트)\n",
    "rf_2_filtered_df = f.new_subject_make2(rf_2_filtered_df, subject_list, tqdm)"
   ]
  },
  {
   "cell_type": "code",
   "execution_count": 35,
   "id": "5aa0afe8",
   "metadata": {},
   "outputs": [
    {
     "data": {
      "text/html": [
       "<div>\n",
       "<style scoped>\n",
       "    .dataframe tbody tr th:only-of-type {\n",
       "        vertical-align: middle;\n",
       "    }\n",
       "\n",
       "    .dataframe tbody tr th {\n",
       "        vertical-align: top;\n",
       "    }\n",
       "\n",
       "    .dataframe thead th {\n",
       "        text-align: right;\n",
       "    }\n",
       "</style>\n",
       "<table border=\"1\" class=\"dataframe\">\n",
       "  <thead>\n",
       "    <tr style=\"text-align: right;\">\n",
       "      <th></th>\n",
       "      <th>법령명</th>\n",
       "      <th>조문제목</th>\n",
       "      <th>조문</th>\n",
       "      <th>사무판단</th>\n",
       "      <th>사무유형(대분류)</th>\n",
       "      <th>rule_based</th>\n",
       "      <th>사무예측 결과</th>\n",
       "      <th>사무예측 확률</th>\n",
       "      <th>수행주체</th>\n",
       "    </tr>\n",
       "  </thead>\n",
       "  <tbody>\n",
       "    <tr>\n",
       "      <th>0</th>\n",
       "      <td>환경영향평가법 시행규칙</td>\n",
       "      <td>규제의 재검토</td>\n",
       "      <td>② 환경부장관은 다음 각 호의 사항에 대하여 해당 호에 해당하는 날을 기준으로 2년...</td>\n",
       "      <td>0</td>\n",
       "      <td>0</td>\n",
       "      <td>1</td>\n",
       "      <td>1</td>\n",
       "      <td>0.71157</td>\n",
       "      <td>[장관, 환경부]</td>\n",
       "    </tr>\n",
       "  </tbody>\n",
       "</table>\n",
       "</div>"
      ],
      "text/plain": [
       "            법령명     조문제목                                                 조문  \\\n",
       "0  환경영향평가법 시행규칙  규제의 재검토  ② 환경부장관은 다음 각 호의 사항에 대하여 해당 호에 해당하는 날을 기준으로 2년...   \n",
       "\n",
       "   사무판단  사무유형(대분류)  rule_based  사무예측 결과  사무예측 확률       수행주체  \n",
       "0     0          0           1        1  0.71157  [장관, 환경부]  "
      ]
     },
     "execution_count": 35,
     "metadata": {},
     "output_type": "execute_result"
    }
   ],
   "source": [
    "rf_2_filtered_df.head(1)"
   ]
  },
  {
   "cell_type": "code",
   "execution_count": 36,
   "id": "04f4c9ba",
   "metadata": {},
   "outputs": [],
   "source": [
    "# 법령명 통합\n",
    "rf_2_filtered_df['법령명'] = rf_2_filtered_df['법령명'].apply(lambda x: re.sub(r'\\s?시행령|\\s?시행규칙', '', x))"
   ]
  },
  {
   "cell_type": "code",
   "execution_count": 37,
   "id": "08720889",
   "metadata": {},
   "outputs": [],
   "source": [
    "# 새로운 컬럼을 이용하기 위한 수행주체 count dictionary\n",
    "with open('subject_dic.pkl', 'rb') as file:\n",
    "    subject_dic = pickle.load(file)"
   ]
  },
  {
   "cell_type": "code",
   "execution_count": 38,
   "id": "8c8ef009",
   "metadata": {},
   "outputs": [],
   "source": [
    "# 수행주체 기준 새로운 열 생성\n",
    "rf_2_filtered_df = f.score_subject(rf_2_filtered_df,subject_dic)"
   ]
  },
  {
   "cell_type": "code",
   "execution_count": 39,
   "id": "feb2b581",
   "metadata": {},
   "outputs": [],
   "source": [
    "select_column = ['법령명', 'score_subject_nan', 'score_subject_n', 'score_subject_r', 'score_subject_p']\n",
    "rf_2_filtered_label = rf_2_filtered_df['사무유형(대분류)']\n",
    "rf_2_filtered_input = rf_2_filtered_df[select_column]"
   ]
  },
  {
   "cell_type": "code",
   "execution_count": 40,
   "id": "1ada9f90",
   "metadata": {},
   "outputs": [
    {
     "name": "stderr",
     "output_type": "stream",
     "text": [
      "/var/folders/zr/_f1rgf8n0w3541q9k8p3smhr0000gn/T/ipykernel_59332/253750670.py:3: SettingWithCopyWarning: \n",
      "A value is trying to be set on a copy of a slice from a DataFrame.\n",
      "Try using .loc[row_indexer,col_indexer] = value instead\n",
      "\n",
      "See the caveats in the documentation: https://pandas.pydata.org/pandas-docs/stable/user_guide/indexing.html#returning-a-view-versus-a-copy\n",
      "  rf_2_filtered_input['법령명'] = le.fit_transform(rf_2_filtered_input['법령명']) # train set에는 fit_transform\n"
     ]
    }
   ],
   "source": [
    "# '법령명' label encoding 진행\n",
    "le = LabelEncoder()\n",
    "rf_2_filtered_input['법령명'] = le.fit_transform(rf_2_filtered_input['법령명']) # train set에는 fit_transform"
   ]
  },
  {
   "cell_type": "code",
   "execution_count": 43,
   "id": "bca8bc69",
   "metadata": {},
   "outputs": [],
   "source": [
    "# rf 결과 추출\n",
    "y_pred_rf = model_2_rf.predict(rf_2_filtered_input)\n",
    "y_prob_rf = model_2_rf.predict_proba(rf_2_filtered_input)"
   ]
  },
  {
   "cell_type": "code",
   "execution_count": 70,
   "id": "709347dd",
   "metadata": {},
   "outputs": [],
   "source": [
    "# rf 결과 데이터프레임 생성\n",
    "rf_probs = pd.DataFrame(y_prob_rf)\n",
    "rf_probs = rf_probs.set_index(first_filtered_df.index)\n",
    "\n",
    "rf_result_df = f.make_result_df(pd, rf_2_filtered_label, y_pred_rf, rf_probs[0], rf_probs[1], rf_probs[2], rf_probs[3])"
   ]
  },
  {
   "cell_type": "markdown",
   "id": "6fa76b63",
   "metadata": {},
   "source": [
    "## Ensemble"
   ]
  },
  {
   "cell_type": "code",
   "execution_count": 77,
   "id": "fc888f5f",
   "metadata": {},
   "outputs": [],
   "source": [
    "pred = [0]*len(y_prob_rf)\n",
    "e_prob0 = (rf_result_df['비사무 확률'] + encoder_result_df['비사무 확률'])/2\n",
    "e_prob1 = (rf_result_df['국가 확률'] + encoder_result_df['국가 확률'])/2\n",
    "e_prob2 = (rf_result_df['지방 확률'] + encoder_result_df['지방 확률'])/2\n",
    "e_prob3 = (rf_result_df['공동 확률'] + encoder_result_df['공동 확률'])/2\n",
    "\n",
    "ensemble_result_df_11 = f.make_result_df(pd, rf_2_filtered_label, pred, e_prob0, e_prob1, e_prob2, e_prob3)"
   ]
  },
  {
   "cell_type": "code",
   "execution_count": 82,
   "id": "95eca33e",
   "metadata": {},
   "outputs": [
    {
     "ename": "TypeError",
     "evalue": "unhashable type: 'Series'",
     "output_type": "error",
     "traceback": [
      "\u001b[0;31m---------------------------------------------------------------------------\u001b[0m",
      "\u001b[0;31mTypeError\u001b[0m                                 Traceback (most recent call last)",
      "Cell \u001b[0;32mIn[82], line 1\u001b[0m\n\u001b[0;32m----> 1\u001b[0m ensemble_result_df_11 \u001b[38;5;241m=\u001b[39m \u001b[43mf\u001b[49m\u001b[38;5;241;43m.\u001b[39;49m\u001b[43mmake_ensemble_pred\u001b[49m\u001b[43m(\u001b[49m\u001b[43mensemble_result_df_11\u001b[49m\u001b[43m)\u001b[49m\n",
      "File \u001b[0;32m~/Documents/KPMG/law_project실행파일 2/functions.py:156\u001b[0m, in \u001b[0;36mmake_ensemble_pred\u001b[0;34m(df)\u001b[0m\n\u001b[1;32m    154\u001b[0m df[\u001b[38;5;124m'\u001b[39m\u001b[38;5;124m사무유형(대분류) 예측\u001b[39m\u001b[38;5;124m'\u001b[39m] \u001b[38;5;241m=\u001b[39m df[cols]\u001b[38;5;241m.\u001b[39midxmax(axis\u001b[38;5;241m=\u001b[39m\u001b[38;5;241m1\u001b[39m)\n\u001b[1;32m    155\u001b[0m \u001b[38;5;28;01mfor\u001b[39;00m i \u001b[38;5;129;01min\u001b[39;00m \u001b[38;5;28mrange\u001b[39m(\u001b[38;5;28mlen\u001b[39m(cols)):\n\u001b[0;32m--> 156\u001b[0m     df[df[\u001b[38;5;124m'\u001b[39m\u001b[38;5;124m사무유형(대분류) 예측\u001b[39m\u001b[38;5;124m'\u001b[39m]\u001b[38;5;241m==\u001b[39mcols[i], \u001b[38;5;124m'\u001b[39m\u001b[38;5;124m사무유형(대분류) 예측\u001b[39m\u001b[38;5;124m'\u001b[39m] \u001b[38;5;241m=\u001b[39m i\n\u001b[1;32m    158\u001b[0m \u001b[38;5;28;01mreturn\u001b[39;00m df\n",
      "File \u001b[0;32m~/anaconda3/lib/python3.10/site-packages/pandas/core/frame.py:3980\u001b[0m, in \u001b[0;36mDataFrame.__setitem__\u001b[0;34m(self, key, value)\u001b[0m\n\u001b[1;32m   3977\u001b[0m     \u001b[38;5;28mself\u001b[39m\u001b[38;5;241m.\u001b[39m_setitem_array([key], value)\n\u001b[1;32m   3978\u001b[0m \u001b[38;5;28;01melse\u001b[39;00m:\n\u001b[1;32m   3979\u001b[0m     \u001b[38;5;66;03m# set column\u001b[39;00m\n\u001b[0;32m-> 3980\u001b[0m     \u001b[38;5;28;43mself\u001b[39;49m\u001b[38;5;241;43m.\u001b[39;49m\u001b[43m_set_item\u001b[49m\u001b[43m(\u001b[49m\u001b[43mkey\u001b[49m\u001b[43m,\u001b[49m\u001b[43m \u001b[49m\u001b[43mvalue\u001b[49m\u001b[43m)\u001b[49m\n",
      "File \u001b[0;32m~/anaconda3/lib/python3.10/site-packages/pandas/core/frame.py:4177\u001b[0m, in \u001b[0;36mDataFrame._set_item\u001b[0;34m(self, key, value)\u001b[0m\n\u001b[1;32m   4165\u001b[0m \u001b[38;5;250m\u001b[39m\u001b[38;5;124;03m\"\"\"\u001b[39;00m\n\u001b[1;32m   4166\u001b[0m \u001b[38;5;124;03mAdd series to DataFrame in specified column.\u001b[39;00m\n\u001b[1;32m   4167\u001b[0m \n\u001b[0;32m   (...)\u001b[0m\n\u001b[1;32m   4172\u001b[0m \u001b[38;5;124;03mensure homogeneity.\u001b[39;00m\n\u001b[1;32m   4173\u001b[0m \u001b[38;5;124;03m\"\"\"\u001b[39;00m\n\u001b[1;32m   4174\u001b[0m value \u001b[38;5;241m=\u001b[39m \u001b[38;5;28mself\u001b[39m\u001b[38;5;241m.\u001b[39m_sanitize_column(value)\n\u001b[1;32m   4176\u001b[0m \u001b[38;5;28;01mif\u001b[39;00m (\n\u001b[0;32m-> 4177\u001b[0m     \u001b[43mkey\u001b[49m\u001b[43m \u001b[49m\u001b[38;5;129;43;01min\u001b[39;49;00m\u001b[43m \u001b[49m\u001b[38;5;28;43mself\u001b[39;49m\u001b[38;5;241;43m.\u001b[39;49m\u001b[43mcolumns\u001b[49m\n\u001b[1;32m   4178\u001b[0m     \u001b[38;5;129;01mand\u001b[39;00m value\u001b[38;5;241m.\u001b[39mndim \u001b[38;5;241m==\u001b[39m \u001b[38;5;241m1\u001b[39m\n\u001b[1;32m   4179\u001b[0m     \u001b[38;5;129;01mand\u001b[39;00m \u001b[38;5;129;01mnot\u001b[39;00m is_extension_array_dtype(value)\n\u001b[1;32m   4180\u001b[0m ):\n\u001b[1;32m   4181\u001b[0m     \u001b[38;5;66;03m# broadcast across multiple columns if necessary\u001b[39;00m\n\u001b[1;32m   4182\u001b[0m     \u001b[38;5;28;01mif\u001b[39;00m \u001b[38;5;129;01mnot\u001b[39;00m \u001b[38;5;28mself\u001b[39m\u001b[38;5;241m.\u001b[39mcolumns\u001b[38;5;241m.\u001b[39mis_unique \u001b[38;5;129;01mor\u001b[39;00m \u001b[38;5;28misinstance\u001b[39m(\u001b[38;5;28mself\u001b[39m\u001b[38;5;241m.\u001b[39mcolumns, MultiIndex):\n\u001b[1;32m   4183\u001b[0m         existing_piece \u001b[38;5;241m=\u001b[39m \u001b[38;5;28mself\u001b[39m[key]\n",
      "File \u001b[0;32m~/anaconda3/lib/python3.10/site-packages/pandas/core/indexes/base.py:5289\u001b[0m, in \u001b[0;36mIndex.__contains__\u001b[0;34m(self, key)\u001b[0m\n\u001b[1;32m   5254\u001b[0m \u001b[38;5;28;01mdef\u001b[39;00m \u001b[38;5;21m__contains__\u001b[39m(\u001b[38;5;28mself\u001b[39m, key: Any) \u001b[38;5;241m-\u001b[39m\u001b[38;5;241m>\u001b[39m \u001b[38;5;28mbool\u001b[39m:\n\u001b[1;32m   5255\u001b[0m \u001b[38;5;250m    \u001b[39m\u001b[38;5;124;03m\"\"\"\u001b[39;00m\n\u001b[1;32m   5256\u001b[0m \u001b[38;5;124;03m    Return a boolean indicating whether the provided key is in the index.\u001b[39;00m\n\u001b[1;32m   5257\u001b[0m \n\u001b[0;32m   (...)\u001b[0m\n\u001b[1;32m   5287\u001b[0m \u001b[38;5;124;03m    False\u001b[39;00m\n\u001b[1;32m   5288\u001b[0m \u001b[38;5;124;03m    \"\"\"\u001b[39;00m\n\u001b[0;32m-> 5289\u001b[0m     \u001b[38;5;28;43mhash\u001b[39;49m\u001b[43m(\u001b[49m\u001b[43mkey\u001b[49m\u001b[43m)\u001b[49m\n\u001b[1;32m   5290\u001b[0m     \u001b[38;5;28;01mtry\u001b[39;00m:\n\u001b[1;32m   5291\u001b[0m         \u001b[38;5;28;01mreturn\u001b[39;00m key \u001b[38;5;129;01min\u001b[39;00m \u001b[38;5;28mself\u001b[39m\u001b[38;5;241m.\u001b[39m_engine\n",
      "\u001b[0;31mTypeError\u001b[0m: unhashable type: 'Series'"
     ]
    }
   ],
   "source": [
    "# 앙상블 사무유형 판단 저장\n",
    "ensemble_result_df_11 = f.make_ensemble_pred(ensemble_result_df_11)\n",
    "ensemble_result_df_11['사무유형(대분류) 예측'] = ensemble_result_df_11['사무유형(대분류) 예측'].astype(int)"
   ]
  },
  {
   "cell_type": "code",
   "execution_count": null,
   "id": "fd810908",
   "metadata": {},
   "outputs": [],
   "source": [
    "# 앙살블 결과 확인\n",
    "cal_result(ensemble_result_df_11['사무유형(대분류) 예측'], ensemble_result_df_11['사무유형(대분류)'])"
   ]
  },
  {
   "cell_type": "code",
   "execution_count": null,
   "id": "5273616b",
   "metadata": {},
   "outputs": [],
   "source": [
    "# 확실/주의 나누기 [확실: need_to_check = 0 / 주의: need_to_check = 1]\n",
    "ensemble_result_df_11, good_df, bad_df = make_need_to_check(ensemble_result_df_11,\n",
    "                                                           rf_result_df, encoder_result_df)"
   ]
  },
  {
   "cell_type": "code",
   "execution_count": null,
   "id": "5a7a638d",
   "metadata": {},
   "outputs": [],
   "source": [
    "ensemble_result_df_11"
   ]
  },
  {
   "cell_type": "code",
   "execution_count": null,
   "id": "bb24e0df",
   "metadata": {},
   "outputs": [],
   "source": [
    "# 확실 결과\n",
    "cal_result(good_df['사무유형(대분류) 예측'].tolist(), good_df['사무유형(대분류)'].tolist())"
   ]
  },
  {
   "cell_type": "code",
   "execution_count": null,
   "id": "aed3847a",
   "metadata": {},
   "outputs": [],
   "source": [
    "# 애매 결과\n",
    "cal_result(bad_df['사무유형(대분류) 예측'].tolist(), bad_df['사무유형(대분류)'].tolist())"
   ]
  },
  {
   "cell_type": "markdown",
   "id": "2e344a8e",
   "metadata": {},
   "source": [
    "## 2차 filter 결과 저장"
   ]
  },
  {
   "cell_type": "code",
   "execution_count": null,
   "id": "bdc953d1",
   "metadata": {},
   "outputs": [],
   "source": [
    "sencond_filtered_df = ensemble_result_df_11.copy()   # 2차 필터 결과 저장"
   ]
  },
  {
   "cell_type": "code",
   "execution_count": null,
   "id": "767a9555",
   "metadata": {},
   "outputs": [],
   "source": [
    "# 2차 filter 결과 확인\n",
    "cal_result(sencond_filtered_df['사무유형(대분류) 결과'], sencond_filtered_df['사무유형(대분류)'])"
   ]
  },
  {
   "cell_type": "code",
   "execution_count": null,
   "id": "72c61a97",
   "metadata": {},
   "outputs": [],
   "source": [
    "# 2차 filter (확실/주의)결과 확인\n",
    "h_ratio, j_ratio = f.check_result(sencond_filtered_df)"
   ]
  },
  {
   "cell_type": "code",
   "execution_count": null,
   "id": "900e1ce5",
   "metadata": {},
   "outputs": [],
   "source": [
    "sub_df"
   ]
  },
  {
   "cell_type": "code",
   "execution_count": null,
   "id": "7a5095ba",
   "metadata": {},
   "outputs": [],
   "source": [
    "# 최종 결과 저장\n",
    "sub_df = make_final_df(sub_df, sencond_filtered_df)\n",
    "sub_df"
   ]
  },
  {
   "cell_type": "code",
   "execution_count": null,
   "id": "c8fa4a7a",
   "metadata": {},
   "outputs": [],
   "source": [
    "sub_df.to_csv('final_df(val).csv', index=False)"
   ]
  },
  {
   "cell_type": "code",
   "execution_count": null,
   "id": "f19fc27e",
   "metadata": {},
   "outputs": [],
   "source": []
  }
 ],
 "metadata": {
  "kernelspec": {
   "display_name": "Python 3 (ipykernel)",
   "language": "python",
   "name": "python3"
  },
  "language_info": {
   "codemirror_mode": {
    "name": "ipython",
    "version": 3
   },
   "file_extension": ".py",
   "mimetype": "text/x-python",
   "name": "python",
   "nbconvert_exporter": "python",
   "pygments_lexer": "ipython3",
   "version": "3.10.9"
  }
 },
 "nbformat": 4,
 "nbformat_minor": 5
}
